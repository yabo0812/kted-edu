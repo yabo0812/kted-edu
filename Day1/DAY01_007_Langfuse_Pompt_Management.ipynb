{
 "cells": [
  {
   "cell_type": "markdown",
   "metadata": {},
   "source": [
    "## 환경 설정 및 준비\n"
   ]
  },
  {
   "cell_type": "markdown",
   "metadata": {},
   "source": [
    "`(1) Env 환경변수`\n"
   ]
  },
  {
   "cell_type": "code",
   "execution_count": null,
   "metadata": {},
   "outputs": [],
   "source": [
    "from dotenv import load_dotenv\n",
    "\n",
    "load_dotenv()"
   ]
  },
  {
   "cell_type": "markdown",
   "metadata": {},
   "source": [
    "`(2) 기본 라이브러리`\n"
   ]
  },
  {
   "cell_type": "code",
   "execution_count": null,
   "metadata": {},
   "outputs": [],
   "source": [
    "import os\n",
    "from glob import glob\n",
    "\n",
    "from pprint import pprint\n",
    "import json\n",
    "\n",
    "import warnings\n",
    "\n",
    "warnings.filterwarnings(\"ignore\")"
   ]
  },
  {
   "cell_type": "markdown",
   "metadata": {},
   "source": [
    "`(3) langfuase handler 설정`\n"
   ]
  },
  {
   "cell_type": "code",
   "execution_count": null,
   "metadata": {},
   "outputs": [],
   "source": [
    "from langfuse.langchain import CallbackHandler\n",
    "\n",
    "# LangChain 콜백 핸들러 생성\n",
    "langfuse_handler = CallbackHandler()"
   ]
  },
  {
   "cell_type": "markdown",
   "metadata": {},
   "source": [
    "`(4) Langfuse 클라이언트 설정`\n"
   ]
  },
  {
   "cell_type": "code",
   "execution_count": null,
   "metadata": {},
   "outputs": [],
   "source": [
    "from langfuse import get_client\n",
    "\n",
    "# Langfuse 클라이언트 초기화\n",
    "langfuse = get_client()\n",
    "\n",
    "# 연결 테스트\n",
    "assert langfuse.auth_check()"
   ]
  },
  {
   "cell_type": "markdown",
   "metadata": {},
   "source": [
    "---\n",
    "\n",
    "## **프롬프트 관리**\n",
    "\n",
    "- Langfuse는 **프롬프트 CMS** 기능 제공\n",
    "\n",
    "- **버전 관리** 기능으로 롤백과 성능 비교 가능\n"
   ]
  },
  {
   "cell_type": "markdown",
   "metadata": {},
   "source": [
    "### 1. **프롬프트 생성**\n"
   ]
  },
  {
   "cell_type": "code",
   "execution_count": null,
   "metadata": {},
   "outputs": [],
   "source": [
    "# 텍스트 프롬프트 생성\n",
    "langfuse.create_prompt(\n",
    "    name=\"movie-critic\",  # 프롬프트 이름\n",
    "    type=\"text\",\n",
    "    prompt=\"{{criticLevel}} 영화 평론가로서, {{movie}}를 어떻게 생각하시나요?\",\n",
    "    labels=[\"staging\"],  # 프로덕션 레이블\n",
    "    tags=[\"movie\", \"qa\", \"text\"],  # 태그\n",
    "    config={\"model\": \"gpt-4.1-mini\", \"temperature\": 0.7},\n",
    ")"
   ]
  },
  {
   "cell_type": "code",
   "execution_count": null,
   "metadata": {},
   "outputs": [],
   "source": [
    "# 챗 프롬프트 생성\n",
    "langfuse.create_prompt(\n",
    "    name=\"movie-critic-chat\",  # 프롬프트 이름\n",
    "    type=\"chat\",\n",
    "    prompt=[\n",
    "        {\"role\": \"system\", \"content\": \"당신은 {{criticLevel}} 영화 평론가입니다.\"},\n",
    "        {\n",
    "            \"role\": \"user\",\n",
    "            \"content\": \"영화 평론가로서, {{movie}}를 어떻게 생각하시나요?\",\n",
    "        },\n",
    "    ],  # type: ignore\n",
    "    labels=[\"production\"],  # 프로덕션 레이블\n",
    "    tags=[\"movie\", \"qa\", \"chat\"],  # 태그\n",
    "    config={\"model\": \"gpt-4.1-mini\", \"temperature\": 0.7},\n",
    ")"
   ]
  },
  {
   "cell_type": "markdown",
   "metadata": {},
   "source": [
    "### **[실습]**\n",
    "\n",
    "- text 기반 프롬프트와 chat 기반 프롬프트를 각각 구현하고, Langfuse UI에서 확인하세요.\n"
   ]
  },
  {
   "cell_type": "code",
   "execution_count": null,
   "metadata": {},
   "outputs": [],
   "source": [
    "# 텍스트 프롬프트 생성"
   ]
  },
  {
   "cell_type": "code",
   "execution_count": null,
   "metadata": {},
   "outputs": [],
   "source": [
    "# 챗 프롬프트 생성"
   ]
  },
  {
   "cell_type": "markdown",
   "metadata": {},
   "source": [
    "### 2. **프롬프트 활용**\n"
   ]
  },
  {
   "cell_type": "code",
   "execution_count": null,
   "metadata": {},
   "outputs": [],
   "source": [
    "# 프로덕션 버전 가져오기\n",
    "prompt = langfuse.get_prompt(\"movie-critic\")\n",
    "\n",
    "# 프롬프트 출력\n",
    "print(f\"모델: {prompt.config['model']}\")\n",
    "print(f\"온도: {prompt.config['temperature']}\")\n",
    "print(f\"라벨: {prompt.labels}\")\n",
    "print(f\"태그: {prompt.tags}\")\n",
    "print(f\"프롬프트: {prompt.prompt}\")\n",
    "print(\"-\" * 100)\n",
    "\n",
    "# 랭체인 프롬프트 출력\n",
    "print(f\"프롬프트: {prompt.get_langchain_prompt()}\")"
   ]
  },
  {
   "cell_type": "markdown",
   "metadata": {},
   "source": [
    "### **[실습]**\n",
    "\n",
    "- \"movie-critic-chat\" 프롬프트를 Langfuse에서 가져와서 내용을 출력합니다.\n"
   ]
  },
  {
   "cell_type": "code",
   "execution_count": null,
   "metadata": {},
   "outputs": [],
   "source": [
    "# chat 프롬프트 가져오기\n",
    "prompt_v2 = langfuse.get_prompt(\"movie-critic-chat\")"
   ]
  },
  {
   "cell_type": "code",
   "execution_count": null,
   "metadata": {},
   "outputs": [],
   "source": [
    "# 새로운 버전 생성\n",
    "langfuse.create_prompt(\n",
    "    name=\"movie-critic\",  # 같은 이름 사용\n",
    "    type=\"text\",\n",
    "    prompt=\"당신은 {{criticLevel}} 영화 평론가입니다.\\n\\n영화 {{movie}}를 어떻게 생각하시나요?\",\n",
    "    labels=[\"production\"],  # 프로덕션 레이블\n",
    "    tags=[\"movie\", \"qa\"],  # 태그\n",
    "    config={\"model\": \"gpt-4.1-mini\", \"temperature\": 0.7},\n",
    ")"
   ]
  },
  {
   "cell_type": "code",
   "execution_count": null,
   "metadata": {},
   "outputs": [],
   "source": [
    "# 특정 버전 가져오기\n",
    "prompt_v1 = langfuse.get_prompt(\"movie-critic\", version=1)  # label=\"staging\"\n",
    "\n",
    "# 프롬프트 출력\n",
    "print(f\"모델: {prompt_v1.config['model']}\")\n",
    "print(f\"온도: {prompt_v1.config['temperature']}\")\n",
    "print(f\"라벨: {prompt_v1.labels}\")\n",
    "print(f\"프롬프트: {prompt_v1.prompt}\")"
   ]
  },
  {
   "cell_type": "markdown",
   "metadata": {},
   "source": [
    "### **[실습]**\n",
    "\n",
    "- \"movie-critic-chat\" 프롬프트를 수정하고, labels 속성은 \"staging\"으로 커스텀 지정하세요.\n",
    "- Langfuse에서 \"staging\" 버전을 가져와서 내용을 출력합니다.\n"
   ]
  },
  {
   "cell_type": "code",
   "execution_count": null,
   "metadata": {},
   "outputs": [],
   "source": [
    "# staging 버전 생성"
   ]
  },
  {
   "cell_type": "code",
   "execution_count": null,
   "metadata": {},
   "outputs": [],
   "source": [
    "# staging 버전 가져오기"
   ]
  },
  {
   "cell_type": "code",
   "execution_count": null,
   "metadata": {},
   "outputs": [],
   "source": [
    "from langchain_core.prompts import PromptTemplate\n",
    "\n",
    "# Langchain과 통합 - 'text' 프롬프트\n",
    "langchain_prompt = PromptTemplate.from_template(\n",
    "    prompt_v1.get_langchain_prompt(),\n",
    "    metadata={\"langfuse_prompt\": prompt_v1},\n",
    ")\n",
    "\n",
    "print(langchain_prompt.format(criticLevel=\"비평가\", movie=\"인셉션\"))"
   ]
  },
  {
   "cell_type": "code",
   "execution_count": null,
   "metadata": {},
   "outputs": [],
   "source": [
    "from langchain_openai import ChatOpenAI\n",
    "\n",
    "# ChatOpenAI 모델 초기화 (프롬프트 설정에서 가져온 값 사용)\n",
    "model = ChatOpenAI(\n",
    "    model=prompt_v1.config.get(\"model\", \"gpt-4.1-mini\"),\n",
    "    temperature=prompt_v1.config.get(\"temperature\", 0.7),\n",
    ")\n",
    "\n",
    "# 체인 생성 및 실행\n",
    "chain = langchain_prompt | model\n",
    "response = chain.invoke(\n",
    "    input={\"criticLevel\": \"전문가\", \"movie\": \"인셉션\"},\n",
    "    config={\"callbacks\": [langfuse_handler]},  # 콜백 핸들러 추가\n",
    ")\n",
    "\n",
    "# 응답 출력\n",
    "print(response.content)"
   ]
  },
  {
   "cell_type": "markdown",
   "metadata": {},
   "source": [
    "### **[실습]**\n",
    "\n",
    "- 앞에서 직접 정의한 text 기반 프롬프트를 가져와서, LangChain과 통합하여 Tracing 추적을 실행합니다.\n",
    "- 실행 결과를 Langfuse UI에서 확인하세요.\n"
   ]
  },
  {
   "cell_type": "code",
   "execution_count": null,
   "metadata": {},
   "outputs": [],
   "source": [
    "# 여기에 코드를 추가하세요."
   ]
  },
  {
   "cell_type": "code",
   "execution_count": null,
   "metadata": {},
   "outputs": [],
   "source": [
    "# 특정 라벨 가져오기\n",
    "prompt_staging = langfuse.get_prompt(\n",
    "    \"movie-critic-chat\", label=\"latest\"\n",
    ")  # production, latest\n",
    "\n",
    "# 프롬프트 출력\n",
    "print(f\"모델: {prompt_staging.config['model']}\")\n",
    "print(f\"온도: {prompt_staging.config['temperature']}\")\n",
    "print(f\"라벨: {prompt_staging.labels}\")\n",
    "print(f\"프롬프트: {prompt_staging.prompt}\")"
   ]
  },
  {
   "cell_type": "code",
   "execution_count": null,
   "metadata": {},
   "outputs": [],
   "source": [
    "prompt_staging.get_langchain_prompt(type=\"chat\")"
   ]
  },
  {
   "cell_type": "code",
   "execution_count": null,
   "metadata": {},
   "outputs": [],
   "source": [
    "from langchain_core.prompts import ChatPromptTemplate\n",
    "\n",
    "# Langchain과 통합 - 'chat' 프롬프트\n",
    "langchain_prompt = ChatPromptTemplate.from_messages(\n",
    "    prompt_staging.get_langchain_prompt(type=\"chat\"),\n",
    ")\n",
    "langchain_prompt.metadata = {\"langfuse_prompt\": prompt_staging}\n",
    "\n",
    "print(langchain_prompt.format(criticLevel=\"비평가\", movie=\"인셉션\"))"
   ]
  },
  {
   "cell_type": "code",
   "execution_count": null,
   "metadata": {},
   "outputs": [],
   "source": [
    "from langchain_openai import ChatOpenAI\n",
    "\n",
    "# ChatOpenAI 모델 초기화 (프롬프트 설정에서 가져온 값 사용)\n",
    "model = ChatOpenAI(\n",
    "    model=prompt.config.get(\"model\", \"gpt-4.1-mini\"),\n",
    "    temperature=prompt.config.get(\"temperature\", 0.7),\n",
    ")\n",
    "\n",
    "# 체인 생성 및 실행\n",
    "chain = langchain_prompt | model\n",
    "response = chain.invoke(\n",
    "    input={\"criticLevel\": \"전문가\", \"movie\": \"인셉션\"},\n",
    "    config={\"callbacks\": [langfuse_handler]},  # 콜백 핸들러 추가\n",
    ")\n",
    "\n",
    "# 응답 출력\n",
    "print(response.content)"
   ]
  },
  {
   "cell_type": "markdown",
   "metadata": {},
   "source": [
    "### **[실습]**\n",
    "\n",
    "- 앞에서 직접 정의한 chat 기반 프롬프트를 가져와서, LangChain과 통합하여 Tracing 추적을 실행합니다.\n",
    "- 실행 결과를 Langfuse UI에서 확인하세요.\n"
   ]
  },
  {
   "cell_type": "code",
   "execution_count": null,
   "metadata": {},
   "outputs": [],
   "source": [
    "# 여기에 코드를 추가하세요."
   ]
  }
 ],
 "metadata": {
  "kernelspec": {
   "display_name": ".venv",
   "language": "python",
   "name": "python3"
  },
  "language_info": {
   "codemirror_mode": {
    "name": "ipython",
    "version": 3
   },
   "file_extension": ".py",
   "mimetype": "text/x-python",
   "name": "python",
   "nbconvert_exporter": "python",
   "pygments_lexer": "ipython3",
   "version": "3.12.11"
  }
 },
 "nbformat": 4,
 "nbformat_minor": 2
}
