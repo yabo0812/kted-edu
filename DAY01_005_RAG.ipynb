{
 "cells": [
  {
   "cell_type": "markdown",
   "id": "f191d1cf",
   "metadata": {},
   "source": [
    "# RAG 체인 구성\n",
    "\n",
    "---\n"
   ]
  },
  {
   "cell_type": "markdown",
   "id": "2641ec21",
   "metadata": {},
   "source": [
    "# 환경 설정 및 준비\n"
   ]
  },
  {
   "cell_type": "markdown",
   "id": "e4be5eb8",
   "metadata": {},
   "source": [
    "`(1) Env 환경변수`\n"
   ]
  },
  {
   "cell_type": "code",
   "execution_count": null,
   "id": "829d8712",
   "metadata": {},
   "outputs": [
    {
     "data": {
      "text/plain": [
       "True"
      ]
     },
     "execution_count": 2,
     "metadata": {},
     "output_type": "execute_result"
    }
   ],
   "source": [
    "from dotenv import load_dotenv\n",
    "\n",
    "load_dotenv()"
   ]
  },
  {
   "cell_type": "markdown",
   "id": "b5989430",
   "metadata": {},
   "source": [
    "`(2) 기본 라이브러리`\n"
   ]
  },
  {
   "cell_type": "code",
   "execution_count": 3,
   "id": "fa02fc31",
   "metadata": {},
   "outputs": [],
   "source": [
    "import os\n",
    "from glob import glob\n",
    "\n",
    "from pprint import pprint\n",
    "import json"
   ]
  },
  {
   "cell_type": "markdown",
   "id": "e69732dd",
   "metadata": {},
   "source": [
    "# 다양한 문서 형식 처리하기\n",
    "\n",
    "- 역할: Document Loader는 다양한 소스에서 문서를 로드\n",
    "- 구현:\n",
    "  - Document Loader는 BaseLoader 인터페이스를 통해서 구현\n",
    "  - `.load()` 또는 `.lazy_load()` 메서드를 통해 동일한 방식으로 호출\n",
    "  - 대용량 데이터셋의 경우 메모리 효율을 위해 `.lazy_load()`를 사용하는 것을 권장\n",
    "- 종류:\n",
    "  - PDF 파일 로더\n",
    "  - 웹 페이지 로더\n",
    "  - CSV 데이터 로더\n",
    "  - 디렉토리 로더\n",
    "  - HTML 데이터 로더\n",
    "  - JSON 데이터 로더\n",
    "  - Markdown 데이터 로더\n",
    "  - Microsoft Office 데이터 로더\n"
   ]
  },
  {
   "cell_type": "markdown",
   "id": "87ca1af2",
   "metadata": {},
   "source": [
    "### 1. **웹 문서 로더**\n",
    "\n",
    "- uv add bs4 langchain_community\n"
   ]
  },
  {
   "cell_type": "code",
   "execution_count": null,
   "id": "1e50f24b",
   "metadata": {},
   "outputs": [
    {
     "data": {
      "text/plain": [
       "2"
      ]
     },
     "execution_count": 4,
     "metadata": {},
     "output_type": "execute_result"
    }
   ],
   "source": [
    "from langchain_community.document_loaders import WebBaseLoader\n",
    "\n",
    "# 기본적인 텍스트 추출\n",
    "web_loader = WebBaseLoader(\n",
    "    web_paths=[\n",
    "        \"https://python.langchain.com/\",\n",
    "        \"https://js.langchain.com/\",\n",
    "    ],\n",
    ")\n",
    "\n",
    "# 동기 로딩\n",
    "web_docs = web_loader.load()\n",
    "\n",
    "len(web_docs)"
   ]
  },
  {
   "cell_type": "code",
   "execution_count": 5,
   "id": "26f173ff",
   "metadata": {},
   "outputs": [
    {
     "data": {
      "text/plain": [
       "{'source': 'https://python.langchain.com/',\n",
       " 'title': 'Introduction | 🦜️🔗 LangChain',\n",
       " 'description': 'LangChain is a framework for developing applications powered by large language models (LLMs).',\n",
       " 'language': 'en'}"
      ]
     },
     "execution_count": 5,
     "metadata": {},
     "output_type": "execute_result"
    }
   ],
   "source": [
    "web_docs[0].metadata"
   ]
  },
  {
   "cell_type": "code",
   "execution_count": 6,
   "id": "13cdeb62",
   "metadata": {},
   "outputs": [
    {
     "name": "stdout",
     "output_type": "stream",
     "text": [
      "\n",
      "\n",
      "\n",
      "\n",
      "\n",
      "Introduction | 🦜️🔗 LangChain\n",
      "\n",
      "\n",
      "\n",
      "\n",
      "\n",
      "\n",
      "Skip to main contentWe are growing and hiring for multiple roles for LangChain, LangGraph and LangSmith.  Join our team!IntegrationsAPI ReferenceMoreContributingPeopleError referenceLangSmithLangGraphLangChain HubLangChain JS/TSv0.3v0.3v0.2v0.1💬SearchIntroductionTutorialsBuild a Question Answering application over a Graph DatabaseTutorialsBuild a simple LLM application with chat models and prompt templatesBuild a ChatbotBuild a Retrieval Augmented Generation (RAG) App: Part 2Build an Extraction ChainBuild an AgentTaggingBuild a Retrieval Augmented Generation (RAG) App: Part 1Build a semantic search engineBuild a Question/Answering system over SQL dataSummarize TextHow-to guidesHow-to guidesHow to use tools in a chainHow to use a vectorstore as a retrieverHow to add memory to chatbotsHow to use example selectorsHow to add a semantic layer over graph databaseHow to invoke runnables in parallelHow to stream chat model responsesHow to add default invocation args to a RunnableHow to add retrieval to chatbotsHow to use few shot examples in chat modelsHow to do tool/function callingHow to install LangChain packagesHow to add examples to the prompt for query analysisHow to use few shot examplesHow to run custom functionsHow to use output parsers to parse an LLM response into structured formatHow to handle cases where no queries are generatedHow to route between sub-chainsHow to return structured data from a modelHow to summarize text through parallelizationHow to summarize text through iterative refinementHow to summarize text in a single LLM callHow to use toolkitsHow to add ad-hoc tool calling capability to LLMs and Chat ModelsBuild an Agent with AgentExecutor (Legacy)How to construct knowledge graphsHow to partially format prompt templatesHow to handle multiple queries when doing query analysisHow to use built-in tools and toolkitsHow to pass through arguments from one step to the nextHow to compose prompts togetherHow to handle multiple retrievers when doing query analysisHow to add values to a chain's stateHow to construct filters for query analysisHow to configure runtime chain internalsHow deal with high cardinality categoricals when doing query analysisCustom Document LoaderHow to use the MultiQueryRetrieverHow to add scores to retriever resultsCachingHow to use callbacks in async environmentsHow to attach callbacks to a runnableHow to propagate callbacks  constructorHow to dispatch custom callback eventsHow to pass callbacks in at runtimeHow to split by characterHow to cache chat model responsesHow to handle rate limitsHow to init any model in one lineHow to track token usage in ChatModelsHow to add tools to chatbotsHow to split codeHow to do retrieval with contextual compressionHow to convert Runnables to ToolsHow to create custom callback handlersHow to create a custom chat model classCustom EmbeddingsHow to create a custom LLM classCustom RetrieverHow to create toolsHow to debug your LLM appsHow to load CSVsHow to load documents from a directoryHow to load HTMLHow to load JSONHow to load MarkdownHow to load Microsoft Office filesHow to load PDFsHow to load web pagesHow to create a dynamic (self-constructing) chainText embedding modelsHow to combine results from multiple retrieversHow to select examples from a LangSmith datasetHow to select examples by lengthHow to select examples by maximal marginal relevance (MMR)How to select examples by n-gram overlapHow to select examples by similarityHow to use reference examples when doing extractionHow to handle long text when doing extractionHow to use prompting alone (no tool calling) to do extractionHow to add fallbacks to a runnableHow to filter messagesHybrid SearchHow to use the LangChain indexing APIHow to inspect runnablesLangChain Expression Language CheatsheetHow to cache LLM responsesHow to track token usage for LLMsRun models locallyHow to get log probabilitiesHow to reorder retrieved results to mitigate the \"lost in the middle\" effectHow to split Markdown by HeadersHow to merge consecutive messages of the same typeHow to add message historyHow to migrate from legacy LangChain agents to LangGraphHow to retrieve using multiple vectors per documentHow to pass multimodal data to modelsHow to use multimodal promptsHow to create a custom Output ParserHow to use the output-fixing parserHow to parse JSON outputHow to retry when a parsing error occursHow to parse text from message objectsHow to parse XML outputHow to parse YAML outputHow to use the Parent Document RetrieverHow to use LangChain with different Pydantic versionsHow to add chat historyHow to get a RAG application to add citationsHow to do per-user retrievalHow to get your RAG application to return sourcesHow to stream results from your RAG applicationHow to split JSON dataHow to recursively split text by charactersResponse metadataHow to pass runtime secrets to runnablesHow to do \"self-querying\" retrievalHow to split text based on semantic similarityHow to chain runnablesHow to save and load LangChain objectsHow to split text by tokensHow to split HTMLHow to do question answering over CSVsHow to deal with large databases when doing SQL question-answeringHow to better prompt when doing SQL question-answeringHow to do query validation as part of SQL question-answeringHow to stream runnablesHow to stream responses from an LLMHow to use a time-weighted vector store retrieverHow to return artifacts from a toolHow to use chat models to call toolsHow to disable parallel tool callingHow to force models to call a toolHow to access the RunnableConfig from a toolHow to pass tool outputs to chat modelsHow to pass run time values to toolsHow to stream events from a toolHow to stream tool callsHow to convert tools to OpenAI FunctionsHow to handle tool errorsHow to use few-shot prompting with tool callingHow to add a human-in-the-loop for toolsHow to bind model-specific toolsHow to trim messagesHow to create and query vector storesConceptual guideAgentsArchitectureAsync programming with langchainCallbacksChat historyChat modelsDocument loadersEmbedding modelsEvaluationExample selectorsFew-shot promptingConceptual guideKey-value storesLangChain Expression Language (LCEL)MessagesMultimodalityOutput parsersPrompt TemplatesRetrieval augmented generation (RAG)RetrievalRetrieversRunnable interfaceStreamingStructured outputsTestingString-in, string-out llmsText splittersTokensTool callingToolsTracingVector storesWhy LangChain?Ecosystem🦜🛠️ LangSmith🦜🕸️ LangGraphVersionsv0.3v0.2Pydantic compatibilityMigrating from v0.0 chainsHow to migrate from v0.0 chainsMigrating from ConstitutionalChainMigrating from ConversationalChainMigrating from ConversationalRetrievalChainMigrating from LLMChainMigrating from LLMMathChainMigrating from LLMRouterChainMigrating from MapReduceDocumentsChainMigrating from MapRerankDocumentsChainMigrating from MultiPromptChainMigrating from RefineDocumentsChainMigrating from RetrievalQAMigrating from StuffDocumentsChainUpgrading to LangGraph memoryHow to migrate to LangGraph memoryHow to use BaseChatMessageHistory with LangGraphMigrating off ConversationBufferMemory or ConversationStringBufferMemoryMigrating off ConversationBufferWindowMemory or ConversationTokenBufferMemoryMigrating off ConversationSummaryMemory or ConversationSummaryBufferMemoryA Long-Term Memory AgentRelease policySecurity PolicyIntroductionOn this pageIntroduction\n",
      "LangChain is a framework for developing applications powered by large language models (LLMs).\n",
      "LangChain simplifies every stage of the LLM application lifecycle:\n",
      "\n",
      "Development: Build your applications using LangChain's open-source components and third-party integrations.\n",
      "Use LangGraph to build stateful agents with first-class streaming and human-in-the-loop support.\n",
      "Productionization: Use LangSmith to inspect, monitor and evaluate your applications, so that you can continuously optimize and deploy with confidence.\n",
      "Deployment: Turn your LangGraph applications into production-ready APIs and Assistants with LangGraph Platform.\n",
      "\n",
      "\n",
      "\n",
      "LangChain implements a standard interface for large language models and related\n",
      "technologies, such as embedding models and vector stores, and integrates with\n",
      "hundreds of providers. See the integrations page for\n",
      "more.\n",
      "\n",
      "Select chat model:Google Gemini▾OpenAIAnthropicAzureGoogle GeminiGoogle VertexAWSGroqCohereNVIDIAFireworks AIMistral AITogether AIIBM watsonxDatabricksxAIPerplexitypip install -qU \"langchain[google-genai]\"import getpassimport osif not os.environ.get(\"GOOGLE_API_KEY\"):  os.environ[\"GOOGLE_API_KEY\"] = getpass.getpass(\"Enter API key for Google Gemini: \")from langchain.chat_models import init_chat_modelmodel = init_chat_model(\"gemini-2.0-flash\", model_provider=\"google_genai\")\n",
      "model.invoke(\"Hello, world!\")\n",
      "noteThese docs focus on the Python LangChain library. Head here for docs on the JavaScript LangChain library.\n",
      "Architecture​\n",
      "The LangChain framework consists of multiple open-source libraries. Read more in the\n",
      "Architecture page.\n",
      "\n",
      "langchain-core: Base abstractions for chat models and other components.\n",
      "Integration packages (e.g. langchain-openai, langchain-anthropic, etc.): Important integrations have been split into lightweight packages that are co-maintained by the LangChain team and the integration developers.\n",
      "langchain: Chains, agents, and retrieval strategies that make up an application's cognitive architecture.\n",
      "langchain-community: Third-party integrations that are community maintained.\n",
      "langgraph: Orchestration framework for combining LangChain components into production-ready applications with persistence, streaming, and other key features. See LangGraph documentation.\n",
      "\n",
      "Guides​\n",
      "Tutorials​\n",
      "If you're looking to build something specific or are more of a hands-on learner, check out our tutorials section.\n",
      "This is the best place to get started.\n",
      "These are the best ones to get started with:\n",
      "\n",
      "Build a Simple LLM Application\n",
      "Build a Chatbot\n",
      "Build an Agent\n",
      "Introduction to LangGraph\n",
      "\n",
      "Explore the full list of LangChain tutorials here, and check out other LangGraph tutorials here. To learn more about LangGraph, check out our first LangChain Academy course, Introduction to LangGraph, available here.\n",
      "How-to guides​\n",
      "Here you’ll find short answers to “How do I….?” types of questions.\n",
      "These how-to guides don’t cover topics in depth – you’ll find that material in the Tutorials and the API Reference.\n",
      "However, these guides will help you quickly accomplish common tasks using chat models,\n",
      "vector stores, and other common LangChain components.\n",
      "Check out LangGraph-specific how-tos here.\n",
      "Conceptual guide​\n",
      "Introductions to all the key parts of LangChain you’ll need to know! Here you'll find high level explanations of all LangChain concepts.\n",
      "For a deeper dive into LangGraph concepts, check out this page.\n",
      "Integrations​\n",
      "LangChain is part of a rich ecosystem of tools that integrate with our framework and build on top of it.\n",
      "If you're looking to get up and running quickly with chat models, vector stores,\n",
      "or other LangChain components from a specific provider, check out our growing list of integrations.\n",
      "API reference​\n",
      "Head to the reference section for full documentation of all classes and methods in the LangChain Python packages.\n",
      "Ecosystem​\n",
      "🦜🛠️ LangSmith​\n",
      "Trace and evaluate your language model applications and intelligent agents to help you move from prototype to production.\n",
      "🦜🕸️ LangGraph​\n",
      "Build stateful, multi-actor applications with LLMs. Integrates smoothly with LangChain, but can be used without it. LangGraph powers production-grade agents, trusted by Linkedin, Uber, Klarna, GitLab, and many more.\n",
      "Additional resources​\n",
      "Versions​\n",
      "See what changed in v0.3, learn how to migrate legacy code, read up on our versioning policies, and more.\n",
      "Security​\n",
      "Read up on security best practices to make sure you're developing safely with LangChain.\n",
      "Contributing​\n",
      "Check out the developer's guide for guidelines on contributing and help getting your dev environment set up.Edit this pageWas this page helpful?NextTutorialsArchitectureGuidesTutorialsHow-to guidesConceptual guideIntegrationsAPI referenceEcosystem🦜🛠️ LangSmith🦜🕸️ LangGraphAdditional resourcesVersionsSecurityContributingCommunityTwitterGitHubOrganizationPythonJS/TSMoreHomepageBlogYouTubeCopyright © 2025 LangChain, Inc.\n",
      "\n",
      "\n"
     ]
    }
   ],
   "source": [
    "print(web_docs[0].page_content)"
   ]
  },
  {
   "cell_type": "markdown",
   "id": "645da45b",
   "metadata": {},
   "source": [
    "### 2. **CSV 파일 로더**\n"
   ]
  },
  {
   "cell_type": "code",
   "execution_count": null,
   "id": "75179f1b",
   "metadata": {},
   "outputs": [
    {
     "name": "stdout",
     "output_type": "stream",
     "text": [
      "문서의 수: 10\n",
      "--------------------------------------------------\n",
      "처음 문서의 메타데이터: \n",
      " {'source': './data/kbo_teams_2023.csv', 'row': 0}\n",
      "--------------------------------------------------\n",
      "처음 문서의 내용: \n",
      " Team: KIA 타이거즈\n",
      "City: 광주\n",
      "Founded: 1982\n",
      "Home Stadium: 광주-기아 챔피언스 필드\n",
      "Championships: 11\n",
      "Introduction: KBO 리그의 전통 강호로, 역대 최다 우승 기록을 보유하고 있다. '타이거즈 스피릿'으로 유명하며, 양현종, 안치홍 등 스타 선수들을 배출했다. 광주를 연고로 하는 유일한 프로야구팀으로 지역 사랑이 강하다.\n"
     ]
    }
   ],
   "source": [
    "from langchain_community.document_loaders.csv_loader import CSVLoader\n",
    "\n",
    "# 기본 파일 로드\n",
    "csv_loader = CSVLoader(\"./data/kbo_teams_2023.csv\", encoding=\"utf8\")\n",
    "csv_docs = csv_loader.load()\n",
    "\n",
    "print(\"문서의 수:\", len(csv_docs))\n",
    "print(\"-\" * 50)\n",
    "print(\"처음 문서의 메타데이터: \\n\", csv_docs[0].metadata)\n",
    "print(\"-\" * 50)\n",
    "print(\"처음 문서의 내용: \\n\", csv_docs[0].page_content)"
   ]
  },
  {
   "cell_type": "code",
   "execution_count": null,
   "id": "2a5e089f",
   "metadata": {},
   "outputs": [
    {
     "name": "stdout",
     "output_type": "stream",
     "text": [
      "문서의 수: 10\n",
      "--------------------------------------------------\n",
      "처음 문서의 메타데이터: \n",
      " {'source': 'KIA 타이거즈', 'row': 0}\n",
      "--------------------------------------------------\n",
      "처음 문서의 내용: \n",
      " Team: KIA 타이거즈\n",
      "City: 광주\n",
      "Founded: 1982\n",
      "Home Stadium: 광주-기아 챔피언스 필드\n",
      "Championships: 11\n",
      "Introduction: KBO 리그의 전통 강호로, 역대 최다 우승 기록을 보유하고 있다. '타이거즈 스피릿'으로 유명하며, 양현종, 안치홍 등 스타 선수들을 배출했다. 광주를 연고로 하는 유일한 프로야구팀으로 지역 사랑이 강하다.\n"
     ]
    }
   ],
   "source": [
    "## 소스 컬럼 지정\n",
    "\n",
    "csv_loader = CSVLoader(\n",
    "    file_path=\"./data/kbo_teams_2023.csv\",\n",
    "    encoding=\"utf8\",\n",
    "    source_column=\"Team\",  # 이 컬럼의 값이 메타데이터의 source로 사용됨\n",
    ")\n",
    "\n",
    "csv_docs = csv_loader.load()\n",
    "\n",
    "print(\"문서의 수:\", len(csv_docs))\n",
    "print(\"-\" * 50)\n",
    "print(\"처음 문서의 메타데이터: \\n\", csv_docs[0].metadata)\n",
    "print(\"-\" * 50)\n",
    "print(\"처음 문서의 내용: \\n\", csv_docs[0].page_content)"
   ]
  },
  {
   "cell_type": "markdown",
   "id": "807d28ef",
   "metadata": {},
   "source": [
    "### 3. **PDF 파일 로더**\n",
    "\n",
    "- uv add langchain_community pypdf\n"
   ]
  },
  {
   "cell_type": "code",
   "execution_count": 7,
   "id": "90aa754e",
   "metadata": {},
   "outputs": [
    {
     "name": "stdout",
     "output_type": "stream",
     "text": [
      "PDF 문서 개수: 20\n"
     ]
    }
   ],
   "source": [
    "from langchain_community.document_loaders import PyPDFLoader\n",
    "\n",
    "# PDF 로더 초기화 (근로기준법 문서)\n",
    "pdf_loader = PyPDFLoader(\"./data/labor_law.pdf\")\n",
    "\n",
    "# 동기 로딩\n",
    "pdf_docs = pdf_loader.load()\n",
    "print(f\"PDF 문서 개수: {len(pdf_docs)}\")"
   ]
  },
  {
   "cell_type": "markdown",
   "id": "ebb33946",
   "metadata": {},
   "source": [
    "# 텍스트 분할(Text Splitting)\n",
    "\n",
    "- 대규모 텍스트 문서를 처리할 때 매우 중요한 전처리 단계\n",
    "- 고려사항:\n",
    "  1. 문서의 구조와 형식\n",
    "  2. 원하는 청크 크기\n",
    "  3. 문맥 보존의 중요도\n",
    "  4. 처리 속도\n"
   ]
  },
  {
   "cell_type": "code",
   "execution_count": 8,
   "id": "a007e618",
   "metadata": {},
   "outputs": [
    {
     "name": "stdout",
     "output_type": "stream",
     "text": [
      "첫 번째 문서: page_content='법제처                                                            1                                                       국가법령정보센터\n",
      "근로기준법\n",
      " \n",
      "근로기준법\n",
      "[시행 2021. 11. 19.] [법률 제18176호, 2021. 5. 18., 일부개정]\n",
      "고용노동부 (근로기준정책과 - 해고, 취업규칙, 기타) 044-202-7534\n",
      "고용노동부 (근로기준정책과 - 소년) 044-202-7535\n",
      "고용노동부 (근로기준정책과 - 임금) 044-202-7548\n",
      "고용노동부 (여성고용정책과 - 여성) 044-202-7475\n",
      "고용노동부 (임금근로시간정책과 - 근로시간, 휴게) 044-202-7545\n",
      "고용노동부 (임금근로시간정책과 - 휴일, 연차휴가) 044-202-7973\n",
      "고용노동부 (임금근로시간정책과 - 제63조 적용제외, 특례업종) 044-202-7530\n",
      "고용노동부 (임금근로시간정책과 - 유연근로시간제) 044-202-7549\n",
      "       제1장 총칙\n",
      " \n",
      "제1조(목적) 이 법은 헌법에 따라 근로조건의 기준을 정함으로써 근로자의 기본적 생활을 보장, 향상시키며 균형 있는\n",
      "국민경제의 발전을 꾀하는 것을 목적으로 한다.\n",
      " \n",
      "제2조(정의) ① 이 법에서 사용하는 용어의 뜻은 다음과 같다. <개정 2018. 3. 20., 2019. 1. 15., 2020. 5. 26.>\n",
      "1. “근로자”란 직업의 종류와 관계없이 임금을 목적으로 사업이나 사업장에 근로를 제공하는 사람을 말한다.\n",
      "2. “사용자”란 사업주 또는 사업 경영 담당자, 그 밖에 근로자에 관한 사항에 대하여 사업주를 위하여 행위하는 자를\n",
      "말한다.\n",
      "3. “근로”란 정신노동과 육체노동을 말한다.\n",
      "4. “근로계약”이란 근로자가 사용자에게 근로를 제공하고 사용자는 이에 대하여 임금을 지급하는 것을 목적으로 체\n",
      "결된 계약을 말한다.\n",
      "5. “임금”이란 사용자가 근로의 대가로 근로자에게 임금, 봉급, 그 밖에 어떠한 명칭으로든지 지급하는 모든 금품을\n",
      "말한다.\n",
      "6. “평균임금”이란 이를 산정하여야 할 사유가 발생한 날 이전 3개월 동안에 그 근로자에게 지급된 임금의 총액을\n",
      "그 기간의 총일수로 나눈 금액을 말한다. 근로자가 취업한 후 3개월 미만인 경우도 이에 준한다.\n",
      "7. “1주”란 휴일을 포함한 7일을 말한다.\n",
      "8. “소정(所定)근로시간”이란 제50조, 제69조 본문 또는 「산업안전보건법」 제139조제1항에 따른 근로시간의 범위에\n",
      "서 근로자와 사용자 사이에 정한 근로시간을 말한다.\n",
      "9. “단시간근로자”란 1주 동안의 소정근로시간이 그 사업장에서 같은 종류의 업무에 종사하는 통상 근로자의 1주\n",
      "동안의 소정근로시간에 비하여 짧은 근로자를 말한다.\n",
      "② 제1항제6호에 따라 산출된 금액이 그 근로자의 통상임금보다 적으면 그 통상임금액을 평균임금으로 한다.\n",
      " \n",
      "제3조(근로조건의 기준) 이 법에서 정하는 근로조건은 최저기준이므로 근로 관계 당사자는 이 기준을 이유로 근로조건\n",
      "을 낮출 수 없다.\n",
      " \n",
      "제4조(근로조건의 결정) 근로조건은 근로자와 사용자가 동등한 지위에서 자유의사에 따라 결정하여야 한다.\n",
      " \n",
      "제5조(근로조건의 준수) 근로자와 사용자는 각자가 단체협약, 취업규칙과 근로계약을 지키고 성실하게 이행할 의무가\n",
      "있다.\n",
      " \n",
      "제6조(균등한 처우) 사용자는 근로자에 대하여 남녀의 성(性)을 이유로 차별적 대우를 하지 못하고, 국적ㆍ신앙 또는 사\n",
      "회적 신분을 이유로 근로조건에 대한 차별적 처우를 하지 못한다.\n",
      " \n",
      "제7조(강제 근로의 금지) 사용자는 폭행, 협박, 감금, 그 밖에 정신상 또는 신체상의 자유를 부당하게 구속하는 수단으로\n",
      "써 근로자의 자유의사에 어긋나는 근로를 강요하지 못한다.' metadata={'producer': 'iText 2.1.7 by 1T3XT', 'creator': 'PyPDF', 'creationdate': '2024-10-15T14:45:34+09:00', 'moddate': '2024-10-15T14:45:34+09:00', 'source': './data/labor_law.pdf', 'total_pages': 20, 'page': 0, 'page_label': '1'}\n"
     ]
    }
   ],
   "source": [
    "print(f\"첫 번째 문서: {pdf_docs[0]}\")"
   ]
  },
  {
   "cell_type": "code",
   "execution_count": 9,
   "id": "742f6597",
   "metadata": {},
   "outputs": [
    {
     "name": "stdout",
     "output_type": "stream",
     "text": [
      "첫 번째 문서의 텍스트 길이: 1811\n"
     ]
    }
   ],
   "source": [
    "long_text = pdf_docs[0].page_content\n",
    "print(f\"첫 번째 문서의 텍스트 길이: {len(long_text)}\")"
   ]
  },
  {
   "cell_type": "markdown",
   "id": "95a5ec79",
   "metadata": {},
   "source": [
    "### 1. **CharacterTextSplitter**\n",
    "\n",
    "- 가장 기본적인 분할 방식\n",
    "- 문자 수를 기준으로 텍스트를 분할\n",
    "- 단순하지만 문맥을 고려하지 않는다는 단점이 있음\n",
    "\n",
    "- 설치: pip install langchain_text_splitters 또는 uv add langchain_text_splitters\n"
   ]
  },
  {
   "cell_type": "code",
   "execution_count": 10,
   "id": "8821e97e",
   "metadata": {},
   "outputs": [
    {
     "name": "stdout",
     "output_type": "stream",
     "text": [
      "분할된 텍스트 개수: 1\n",
      "첫 번째 분할된 텍스트: 법제처                                                            1                                                       국가법령정보센터\n",
      "근로기준법\n",
      " \n",
      "근로기준법\n",
      "[시행 2021. 11. 19.] [법률 제18176호, 2021. 5. 18., 일부개정]\n",
      "고용노동부 (근로기준정책과 - 해고, 취업규칙, 기타) 044-202-7534\n",
      "고용노동부 (근로기준정책과 - 소년) 044-202-7535\n",
      "고용노동부 (근로기준정책과 - 임금) 044-202-7548\n",
      "고용노동부 (여성고용정책과 - 여성) 044-202-7475\n",
      "고용노동부 (임금근로시간정책과 - 근로시간, 휴게) 044-202-7545\n",
      "고용노동부 (임금근로시간정책과 - 휴일, 연차휴가) 044-202-7973\n",
      "고용노동부 (임금근로시간정책과 - 제63조 적용제외, 특례업종) 044-202-7530\n",
      "고용노동부 (임금근로시간정책과 - 유연근로시간제) 044-202-7549\n",
      "       제1장 총칙\n",
      " \n",
      "제1조(목적) 이 법은 헌법에 따라 근로조건의 기준을 정함으로써 근로자의 기본적 생활을 보장, 향상시키며 균형 있는\n",
      "국민경제의 발전을 꾀하는 것을 목적으로 한다.\n",
      " \n",
      "제2조(정의) ① 이 법에서 사용하는 용어의 뜻은 다음과 같다. <개정 2018. 3. 20., 2019. 1. 15., 2020. 5. 26.>\n",
      "1. “근로자”란 직업의 종류와 관계없이 임금을 목적으로 사업이나 사업장에 근로를 제공하는 사람을 말한다.\n",
      "2. “사용자”란 사업주 또는 사업 경영 담당자, 그 밖에 근로자에 관한 사항에 대하여 사업주를 위하여 행위하는 자를\n",
      "말한다.\n",
      "3. “근로”란 정신노동과 육체노동을 말한다.\n",
      "4. “근로계약”이란 근로자가 사용자에게 근로를 제공하고 사용자는 이에 대하여 임금을 지급하는 것을 목적으로 체\n",
      "결된 계약을 말한다.\n",
      "5. “임금”이란 사용자가 근로의 대가로 근로자에게 임금, 봉급, 그 밖에 어떠한 명칭으로든지 지급하는 모든 금품을\n",
      "말한다.\n",
      "6. “평균임금”이란 이를 산정하여야 할 사유가 발생한 날 이전 3개월 동안에 그 근로자에게 지급된 임금의 총액을\n",
      "그 기간의 총일수로 나눈 금액을 말한다. 근로자가 취업한 후 3개월 미만인 경우도 이에 준한다.\n",
      "7. “1주”란 휴일을 포함한 7일을 말한다.\n",
      "8. “소정(所定)근로시간”이란 제50조, 제69조 본문 또는 「산업안전보건법」 제139조제1항에 따른 근로시간의 범위에\n",
      "서 근로자와 사용자 사이에 정한 근로시간을 말한다.\n",
      "9. “단시간근로자”란 1주 동안의 소정근로시간이 그 사업장에서 같은 종류의 업무에 종사하는 통상 근로자의 1주\n",
      "동안의 소정근로시간에 비하여 짧은 근로자를 말한다.\n",
      "② 제1항제6호에 따라 산출된 금액이 그 근로자의 통상임금보다 적으면 그 통상임금액을 평균임금으로 한다.\n",
      " \n",
      "제3조(근로조건의 기준) 이 법에서 정하는 근로조건은 최저기준이므로 근로 관계 당사자는 이 기준을 이유로 근로조건\n",
      "을 낮출 수 없다.\n",
      " \n",
      "제4조(근로조건의 결정) 근로조건은 근로자와 사용자가 동등한 지위에서 자유의사에 따라 결정하여야 한다.\n",
      " \n",
      "제5조(근로조건의 준수) 근로자와 사용자는 각자가 단체협약, 취업규칙과 근로계약을 지키고 성실하게 이행할 의무가\n",
      "있다.\n",
      " \n",
      "제6조(균등한 처우) 사용자는 근로자에 대하여 남녀의 성(性)을 이유로 차별적 대우를 하지 못하고, 국적ㆍ신앙 또는 사\n",
      "회적 신분을 이유로 근로조건에 대한 차별적 처우를 하지 못한다.\n",
      " \n",
      "제7조(강제 근로의 금지) 사용자는 폭행, 협박, 감금, 그 밖에 정신상 또는 신체상의 자유를 부당하게 구속하는 수단으로\n",
      "써 근로자의 자유의사에 어긋나는 근로를 강요하지 못한다.\n"
     ]
    }
   ],
   "source": [
    "from langchain_text_splitters import CharacterTextSplitter\n",
    "\n",
    "# 텍스트 분할기 초기화 (기본 설정값 적용 )\n",
    "text_splitter = CharacterTextSplitter(\n",
    "    # CharacterTextSplitter의 기본 설정값\n",
    "    separator=\"\\n\\n\",  # 청크 구분자: 두 개의 개행문자\n",
    "    is_separator_regex=False,  # 구분자가 정규식인지 여부\n",
    "    # TextSplitter의 기본 설정값\n",
    "    chunk_size=1000,  # 청크 길이\n",
    "    chunk_overlap=200,  # 청크 중첩\n",
    "    length_function=len,  # 길이 함수 (문자열 길이)\n",
    "    keep_separator=False,  # 구분자 유지 여부\n",
    "    add_start_index=False,  # 시작 인덱스 추가 여부\n",
    "    strip_whitespace=True,  # 공백 제거 여부\n",
    ")\n",
    "\n",
    "# 텍스트 분할 - split_text() 메서드 사용\n",
    "texts = text_splitter.split_text(long_text)\n",
    "\n",
    "# 분할된 텍스트 개수 출력\n",
    "print(f\"분할된 텍스트 개수: {len(texts)}\")\n",
    "\n",
    "# 첫 번째 분할된 텍스트 출력\n",
    "print(f\"첫 번째 분할된 텍스트: {texts[0]}\")"
   ]
  },
  {
   "cell_type": "code",
   "execution_count": 11,
   "id": "5febd9bf",
   "metadata": {},
   "outputs": [
    {
     "name": "stdout",
     "output_type": "stream",
     "text": [
      "분할된 텍스트 개수: 3\n",
      "청크 1의 텍스트 길이: 936\n",
      "청크 2의 텍스트 길이: 944\n",
      "청크 3의 텍스트 길이: 273\n",
      "첫 번째 청크의 텍스트: 법제처                                                            1                                                       국가법령정보센터\n",
      "근로기준법\n",
      " \n",
      "근로기준법\n",
      "[시행 2021. 11. 19.] [법률 제18176호, 2021. 5. 18., 일부개정]\n",
      "고용노동부 (근로기준정책과 - 해고, 취업규칙, 기타) 044-202-7534\n",
      "고용노동부 (근로기준정책과 - 소년) 044-202-7535\n",
      "고용노동부 (근로기준정책과 - 임금) 044-202-7548\n",
      "고용노동부 (여성고용정책과 - 여성) 044-202-7475\n",
      "고용노동부 (임금근로시간정책과 - 근로시간, 휴게) 044-202-7545\n",
      "고용노동부 (임금근로시간정책과 - 휴일, 연차휴가) 044-202-7973\n",
      "고용노동부 (임금근로시간정책과 - 제63조 적용제외, 특례업종) 044-202-7530\n",
      "고용노동부 (임금근로시간정책과 - 유연근로시간제) 044-202-7549\n",
      "       제1장 총칙\n",
      " \n",
      "제1조(목적) 이 법은 헌법에 따라 근로조건의 기준을 정함으로써 근로자의 기본적 생활을 보장, 향상시키며 균형 있는\n",
      "국민경제의 발전을 꾀하는 것을 목적으로 한다.\n",
      " \n",
      "제2조(정의) ① 이 법에서 사용하는 용어의 뜻은 다음과 같다. <개정 2018. 3. 20., 2019. 1. 15., 2020. 5. 26.>\n",
      "1. “근로자”란 직업의 종류와 관계없이 임금을 목적으로 사업이나 사업장에 근로를 제공하는 사람을 말한다.\n",
      "2. “사용자”란 사업주 또는 사업 경영 담당자, 그 밖에 근로자에 관한 사항에 대하여 사업주를 위하여 행위하는 자를\n",
      "말한다.\n",
      "3. “근로”란 정신노동과 육체노동을 말한다.\n",
      "4. “근로계약”이란 근로자가 사용자에게 근로를 제공하고 사용자는 이에 대하여 임금을 지급하는 것을 목적으로 체\n",
      "결된 계약을 말한다.\n"
     ]
    }
   ],
   "source": [
    "from langchain_text_splitters import CharacterTextSplitter\n",
    "\n",
    "# 문장 구분자를 개행문자로 설정\n",
    "text_splitter = CharacterTextSplitter(\n",
    "    separator=\"\\n\",  # 청크 구분자: 개행문자\n",
    "    chunk_size=1000,  # 청크 길이\n",
    "    chunk_overlap=200,  # 청크 중첩\n",
    ")\n",
    "\n",
    "# split_documents() 메서드 사용 : Document 객체를 여러 개의 작은 청크 문서로 분할\n",
    "chunks = text_splitter.split_documents([pdf_docs[0]])  # 첫 번째 문서만 분할\n",
    "\n",
    "# 분할된 텍스트 개수 출력\n",
    "print(f\"분할된 텍스트 개수: {len(chunks)}\")\n",
    "\n",
    "# 각 청크의 텍스트 길이 출력\n",
    "for i, chunk in enumerate(chunks):\n",
    "    print(f\"청크 {i+1}의 텍스트 길이: {len(chunk.page_content)}\")\n",
    "\n",
    "# 첫 번째 청크의 텍스트 출력\n",
    "print(f\"첫 번째 청크의 텍스트: {chunks[0].page_content}\")"
   ]
  },
  {
   "cell_type": "markdown",
   "id": "ba7466eb",
   "metadata": {},
   "source": [
    "### 2. **RecursiveCharacterTextSplitter**\n",
    "\n",
    "- 재귀적으로 텍스트를 분할\n",
    "- 구분자를 순차적으로 적용하여 큰 청크에서 시작하여 점진적으로 더 작은 단위로 분할\n",
    "- 문맥을 더 잘 보존할 수 있음\n"
   ]
  },
  {
   "cell_type": "code",
   "execution_count": 12,
   "id": "2f67f7c0",
   "metadata": {},
   "outputs": [
    {
     "name": "stdout",
     "output_type": "stream",
     "text": [
      "생성된 텍스트 청크 수: 56\n",
      "각 청크의 길이: [936, 944, 273, 941, 942, 941, 963, 637, 971, 991, 420, 946, 985, 563, 953, 980, 341, 961, 997, 661, 996, 957, 336, 951, 987, 367, 966, 959, 697, 981, 967, 950, 959, 842, 990, 975, 440, 966, 970, 448, 947, 967, 413, 939, 997, 393, 952, 958, 255, 987, 687, 997, 975, 377, 978, 888]\n",
      "\n",
      "법제처                                                            1                                                       국가법령정보센터\n",
      "근로기준법\n",
      " \n",
      "근로기준법\n",
      "[시행 2021. 11. 19.] [법률 제18176호, 2021. 5. 18., 일부개정]\n",
      "고용노동부 \n",
      "----------------------------------------------------------------------------------------------------\n",
      " 사업이나 사업장에 근로를 제공하는 사람을 말한다.\n",
      "2. “사용자”란 사업주 또는 사업 경영 담당자, 그 밖에 근로자에 관한 사항에 대하여 사업주를 위하여 행위하는 자를\n",
      "말한다.\n",
      "3. “근로”란 정신노동과 육체노동을 말한다.\n",
      "4. “근로계약”이란 근로자가 사용자에게 근로를 제공하고 사용자는 이에 대하여 임금을 지급하는 것을 목적으로 체\n",
      "결된 계약을 말한다.\n",
      "====================================================================================================\n",
      "\n",
      "2. “사용자”란 사업주 또는 사업 경영 담당자, 그 밖에 근로자에 관한 사항에 대하여 사업주를 위하여 행위하는 자를\n",
      "말한다.\n",
      "3. “근로”란 정신노동과 육체노동을 말한다.\n",
      "4. “근로계약”이란 근로자가 사용자에게 근로를 제공하고 사용자는 이에 대하여 임금을 지급하는 것을 목적으로 체\n",
      "결된 계약을 말한다.\n",
      "5. “임금”이란 사용자가 근로의 대가로 근로자에게\n",
      "----------------------------------------------------------------------------------------------------\n",
      "등한 지위에서 자유의사에 따라 결정하여야 한다.\n",
      " \n",
      "제5조(근로조건의 준수) 근로자와 사용자는 각자가 단체협약, 취업규칙과 근로계약을 지키고 성실하게 이행할 의무가\n",
      "있다.\n",
      " \n",
      "제6조(균등한 처우) 사용자는 근로자에 대하여 남녀의 성(性)을 이유로 차별적 대우를 하지 못하고, 국적ㆍ신앙 또는 사\n",
      "회적 신분을 이유로 근로조건에 대한 차별적 처우를 하지 못한다.\n",
      "====================================================================================================\n",
      "\n",
      "제5조(근로조건의 준수) 근로자와 사용자는 각자가 단체협약, 취업규칙과 근로계약을 지키고 성실하게 이행할 의무가\n",
      "있다.\n",
      " \n",
      "제6조(균등한 처우) 사용자는 근로자에 대하여 남녀의 성(性)을 이유로 차별적 대우를 하지 못하고, 국적ㆍ신앙 또는 사\n",
      "회적 신분을 이유로 근로조건에 대한 차별적 처우를 하지 못한다.\n",
      " \n",
      "제7조(강제 근로의 금지) 사용자는 폭행, 협박\n",
      "----------------------------------------------------------------------------------------------------\n",
      "균등한 처우) 사용자는 근로자에 대하여 남녀의 성(性)을 이유로 차별적 대우를 하지 못하고, 국적ㆍ신앙 또는 사\n",
      "회적 신분을 이유로 근로조건에 대한 차별적 처우를 하지 못한다.\n",
      " \n",
      "제7조(강제 근로의 금지) 사용자는 폭행, 협박, 감금, 그 밖에 정신상 또는 신체상의 자유를 부당하게 구속하는 수단으로\n",
      "써 근로자의 자유의사에 어긋나는 근로를 강요하지 못한다.\n",
      "====================================================================================================\n",
      "\n",
      "법제처                                                            2                                                       국가법령정보센터\n",
      "근로기준법\n",
      "제8조(폭행의 금지) 사용자는 사고의 발생이나 그 밖의 어떠한 이유로도 근로자에게 폭행을 하지 못한다.\n",
      " \n",
      "제9조(중간\n",
      "----------------------------------------------------------------------------------------------------\n",
      "ㆍ도, 시ㆍ군ㆍ구, 읍ㆍ면ㆍ동, 그 밖에 이에\n",
      "준하는 것에 대하여도 적용된다.\n",
      " \n",
      "제13조(보고, 출석의 의무) 사용자 또는 근로자는 이 법의 시행에 관하여 고용노동부장관ㆍ「노동위원회법」에 따른 노\n",
      "동위원회(이하 “노동위원회”라 한다) 또는 근로감독관의 요구가 있으면 지체 없이 필요한 사항에 대하여 보고하거나\n",
      "출석하여야 한다. <개정 2010. 6. 4.>\n",
      "====================================================================================================\n",
      "\n",
      "준하는 것에 대하여도 적용된다.\n",
      " \n",
      "제13조(보고, 출석의 의무) 사용자 또는 근로자는 이 법의 시행에 관하여 고용노동부장관ㆍ「노동위원회법」에 따른 노\n",
      "동위원회(이하 “노동위원회”라 한다) 또는 근로감독관의 요구가 있으면 지체 없이 필요한 사항에 대하여 보고하거나\n",
      "출석하여야 한다. <개정 2010. 6. 4.>\n",
      " \n",
      "제14조(법령 주요 내용 등의 게시) ① \n",
      "----------------------------------------------------------------------------------------------------\n",
      "함]\n",
      " \n",
      "제17조(근로조건의 명시) ① 사용자는 근로계약을 체결할 때에 근로자에게 다음 각 호의 사항을 명시하여야 한다. 근로\n",
      "계약 체결 후 다음 각 호의 사항을 변경하는 경우에도 또한 같다. <개정 2010. 5. 25.>\n",
      "1. 임금\n",
      "2. 소정근로시간\n",
      "3. 제55조에 따른 휴일\n",
      "4. 제60조에 따른 연차 유급휴가\n",
      "5. 그 밖에 대통령령으로 정하는 근로조건\n",
      "====================================================================================================\n",
      "\n"
     ]
    }
   ],
   "source": [
    "from langchain_text_splitters import RecursiveCharacterTextSplitter\n",
    "\n",
    "# 재귀적 텍스트 분할기 초기화\n",
    "text_splitter = RecursiveCharacterTextSplitter(\n",
    "    chunk_size=1000,  # 청크 크기\n",
    "    chunk_overlap=200,  # 청크 중 중복되는 부분 크기\n",
    "    length_function=len,  # 글자 수를 기준으로 분할\n",
    "    separators=[\"\\n\\n\", \"\\n\", \" \", \"\"],  # 구분자 - 재귀적으로 순차적으로 적용\n",
    ")\n",
    "\n",
    "# split_documents() 메서드 사용 : Document 객체를 여러 개의 작은 청크 문서로 분할\n",
    "chunks = text_splitter.split_documents(pdf_docs)\n",
    "print(f\"생성된 텍스트 청크 수: {len(chunks)}\")\n",
    "print(f\"각 청크의 길이: {list(len(chunk.page_content) for chunk in chunks)}\")\n",
    "print()\n",
    "\n",
    "# 각 청크의 시작 부분과 끝 부분 확인 - 5개 청크만 출력\n",
    "for chunk in chunks[:5]:\n",
    "    print(chunk.page_content[:200])\n",
    "    print(\"-\" * 100)\n",
    "    print(chunk.page_content[-200:])\n",
    "    print(\"=\" * 100)\n",
    "    print()"
   ]
  },
  {
   "cell_type": "markdown",
   "id": "ef0ecd1d",
   "metadata": {},
   "source": [
    "### 3. **정규표현식 사용**\n"
   ]
  },
  {
   "cell_type": "code",
   "execution_count": 13,
   "id": "9134516a",
   "metadata": {},
   "outputs": [
    {
     "name": "stdout",
     "output_type": "stream",
     "text": [
      "생성된 텍스트 청크 수: 55\n",
      "각 청크의 길이: [939, 944, 273, 937, 922, 941, 986, 561, 971, 973, 387, 946, 751, 764, 935, 957, 401, 826, 890, 830, 996, 998, 951, 985, 274, 961, 889, 776, 947, 926, 999, 996, 479, 929, 890, 594, 961, 963, 409, 947, 998, 329, 866, 954, 464, 955, 989, 255, 999, 670, 923, 912, 291, 981, 880]\n",
      "\n",
      "법제처                                                            1                                                       국가법령정보센터\n",
      "근로기준법\n",
      " \n",
      "근로기준법\n",
      "[시행 2021. 11. 19.] [법률 제18176호, 2021. 5. 18., 일부개정]\n",
      "고용노동부 \n",
      "...\n",
      "이나 사업장에 근로를 제공하는 사람을 말한다.\n",
      "2. “사용자”란 사업주 또는 사업 경영 담당자, 그 밖에 근로자에 관한 사항에 대하여 사업주를 위하여 행위하는 자를\n",
      "말한다.\n",
      "3. “근로”란 정신노동과 육체노동을 말한다.\n",
      "4. “근로계약”이란 근로자가 사용자에게 근로를 제공하고 사용자는 이에 대하여 임금을 지급하는 것을 목적으로 체\n",
      "결된 계약을 말한다.\n",
      "5.\n",
      "====================================================================================================\n",
      "\n",
      "2. “사용자”란 사업주 또는 사업 경영 담당자, 그 밖에 근로자에 관한 사항에 대하여 사업주를 위하여 행위하는 자를\n",
      "말한다.\n",
      "3. “근로”란 정신노동과 육체노동을 말한다.\n",
      "4. “근로계약”이란 근로자가 사용자에게 근로를 제공하고 사용자는 이에 대하여 임금을 지급하는 것을 목적으로 체\n",
      "결된 계약을 말한다.\n",
      "5. “임금”이란 사용자가 근로의 대가로 근로자에게\n",
      "...\n",
      "등한 지위에서 자유의사에 따라 결정하여야 한다.\n",
      " \n",
      "제5조(근로조건의 준수) 근로자와 사용자는 각자가 단체협약, 취업규칙과 근로계약을 지키고 성실하게 이행할 의무가\n",
      "있다.\n",
      " \n",
      "제6조(균등한 처우) 사용자는 근로자에 대하여 남녀의 성(性)을 이유로 차별적 대우를 하지 못하고, 국적ㆍ신앙 또는 사\n",
      "회적 신분을 이유로 근로조건에 대한 차별적 처우를 하지 못한다.\n",
      "====================================================================================================\n",
      "\n",
      "제5조(근로조건의 준수) 근로자와 사용자는 각자가 단체협약, 취업규칙과 근로계약을 지키고 성실하게 이행할 의무가\n",
      "있다.\n",
      " \n",
      "제6조(균등한 처우) 사용자는 근로자에 대하여 남녀의 성(性)을 이유로 차별적 대우를 하지 못하고, 국적ㆍ신앙 또는 사\n",
      "회적 신분을 이유로 근로조건에 대한 차별적 처우를 하지 못한다.\n",
      " \n",
      "제7조(강제 근로의 금지) 사용자는 폭행, 협박\n",
      "...\n",
      "균등한 처우) 사용자는 근로자에 대하여 남녀의 성(性)을 이유로 차별적 대우를 하지 못하고, 국적ㆍ신앙 또는 사\n",
      "회적 신분을 이유로 근로조건에 대한 차별적 처우를 하지 못한다.\n",
      " \n",
      "제7조(강제 근로의 금지) 사용자는 폭행, 협박, 감금, 그 밖에 정신상 또는 신체상의 자유를 부당하게 구속하는 수단으로\n",
      "써 근로자의 자유의사에 어긋나는 근로를 강요하지 못한다.\n",
      "====================================================================================================\n",
      "\n",
      "법제처                                                            2                                                       국가법령정보센터\n",
      "근로기준법\n",
      "제8조(폭행의 금지) 사용자는 사고의 발생이나 그 밖의 어떠한 이유로도 근로자에게 폭행을 하지 못한다.\n",
      " \n",
      "제9조(중간\n",
      "...\n",
      "ㆍ광역시ㆍ도, 시ㆍ군ㆍ구, 읍ㆍ면ㆍ동, 그 밖에 이에\n",
      "준하는 것에 대하여도 적용된다.\n",
      " \n",
      "제13조(보고, 출석의 의무) 사용자 또는 근로자는 이 법의 시행에 관하여 고용노동부장관ㆍ「노동위원회법」에 따른 노\n",
      "동위원회(이하 “노동위원회”라 한다) 또는 근로감독관의 요구가 있으면 지체 없이 필요한 사항에 대하여 보고하거나\n",
      "출석하여야 한다. <개정 2010. 6.\n",
      "====================================================================================================\n",
      "\n",
      "제13조(보고, 출석의 의무) 사용자 또는 근로자는 이 법의 시행에 관하여 고용노동부장관ㆍ「노동위원회법」에 따른 노\n",
      "동위원회(이하 “노동위원회”라 한다) 또는 근로감독관의 요구가 있으면 지체 없이 필요한 사항에 대하여 보고하거나\n",
      "출석하여야 한다. <개정 2010. 6. 4.>\n",
      " \n",
      "제14조(법령 주요 내용 등의 게시) ① 사용자는 이 법과 이 법에 따른 대통\n",
      "...\n",
      "함]\n",
      " \n",
      "제17조(근로조건의 명시) ① 사용자는 근로계약을 체결할 때에 근로자에게 다음 각 호의 사항을 명시하여야 한다. 근로\n",
      "계약 체결 후 다음 각 호의 사항을 변경하는 경우에도 또한 같다. <개정 2010. 5. 25.>\n",
      "1. 임금\n",
      "2. 소정근로시간\n",
      "3. 제55조에 따른 휴일\n",
      "4. 제60조에 따른 연차 유급휴가\n",
      "5. 그 밖에 대통령령으로 정하는 근로조건\n",
      "====================================================================================================\n",
      "\n"
     ]
    }
   ],
   "source": [
    "from langchain_text_splitters import CharacterTextSplitter\n",
    "\n",
    "# 문장을 구분하여 분할 - 정규표현식 사용 (문장 구분자: 마침표, 느낌표, 물음표 다음에 공백이 오는 경우)\n",
    "text_splitter = CharacterTextSplitter(\n",
    "    separator=r\"(?<=[.!?])\\s+\",  # 각 Document 객체의 page_content 속성을 문장으로 분할\n",
    "    chunk_size=1000,\n",
    "    chunk_overlap=200,\n",
    "    is_separator_regex=True,  # 구분자가 정규식인지 여부: True\n",
    "    keep_separator=True,  # 구분자 유지 여부: True\n",
    ")\n",
    "\n",
    "# split_documents() 메서드 사용 : Document 객체를 여러 개의 작은 청크 문서로 분할\n",
    "chunks = text_splitter.split_documents(pdf_docs)  # 모든 문서를 분할\n",
    "print(f\"생성된 텍스트 청크 수: {len(chunks)}\")\n",
    "print(f\"각 청크의 길이: {list(len(chunk.page_content) for chunk in chunks)}\")\n",
    "print()\n",
    "\n",
    "# 각 청크의 시작 부분과 끝 부분 확인 - 5개 청크만 출력\n",
    "for chunk in chunks[:5]:\n",
    "    print(chunk.page_content[:200])\n",
    "    print(\"...\")\n",
    "    print(chunk.page_content[-200:])\n",
    "    print(\"=\" * 100)\n",
    "    print()"
   ]
  },
  {
   "cell_type": "markdown",
   "id": "9ac17b61",
   "metadata": {},
   "source": [
    "`(4) 유사도 기반 검색`\n"
   ]
  },
  {
   "cell_type": "markdown",
   "id": "1e4764ba",
   "metadata": {},
   "source": [
    "### 4. **토큰 수를 기반으로 분할**\n"
   ]
  },
  {
   "cell_type": "markdown",
   "id": "26c2721f",
   "metadata": {},
   "source": [
    "`(1) tiktoken`\n",
    "\n",
    "- OpenAI에서 만든 BPE Tokenizer\n"
   ]
  },
  {
   "cell_type": "code",
   "execution_count": 14,
   "id": "df3a3f9f",
   "metadata": {},
   "outputs": [
    {
     "data": {
      "text/plain": [
       "1811"
      ]
     },
     "execution_count": 14,
     "metadata": {},
     "output_type": "execute_result"
    }
   ],
   "source": [
    "# 첫번째 문서 객체의 텍스트 길이\n",
    "len(pdf_docs[0].page_content)"
   ]
  },
  {
   "cell_type": "code",
   "execution_count": 15,
   "id": "58081f4f",
   "metadata": {},
   "outputs": [
    {
     "name": "stdout",
     "output_type": "stream",
     "text": [
      "생성된 청크 수: 6\n",
      "각 청크의 길이: [423, 280, 301, 240, 287, 273]\n",
      "법제처                                               \n",
      "--------------------------------------------------\n",
      "202-7545\n",
      "고용노동부 (임금근로시간정책과 - 휴일, 연차휴가) 044-202-7973\n",
      "==================================================\n",
      "\n",
      "고용노동부 (임금근로시간정책과 - 제63조 적용제외, 특례업종) 044-202-7530\n",
      "고\n",
      "--------------------------------------------------\n",
      " 같다. <개정 2018. 3. 20., 2019. 1. 15., 2020. 5. 26.>\n",
      "==================================================\n",
      "\n",
      "1. “근로자”란 직업의 종류와 관계없이 임금을 목적으로 사업이나 사업장에 근로를 제공하는\n",
      "--------------------------------------------------\n",
      "대가로 근로자에게 임금, 봉급, 그 밖에 어떠한 명칭으로든지 지급하는 모든 금품을\n",
      "말한다.\n",
      "==================================================\n",
      "\n",
      "6. “평균임금”이란 이를 산정하여야 할 사유가 발생한 날 이전 3개월 동안에 그 근로자에\n",
      "--------------------------------------------------\n",
      "139조제1항에 따른 근로시간의 범위에\n",
      "서 근로자와 사용자 사이에 정한 근로시간을 말한다.\n",
      "==================================================\n",
      "\n",
      "9. “단시간근로자”란 1주 동안의 소정근로시간이 그 사업장에서 같은 종류의 업무에 종사하\n",
      "--------------------------------------------------\n",
      "건의 결정) 근로조건은 근로자와 사용자가 동등한 지위에서 자유의사에 따라 결정하여야 한다.\n",
      "==================================================\n",
      "\n"
     ]
    }
   ],
   "source": [
    "from langchain_text_splitters import RecursiveCharacterTextSplitter\n",
    "\n",
    "# TikToken 인코더를 사용하여 재귀적 텍스트 분할기 초기화\n",
    "text_splitter = RecursiveCharacterTextSplitter.from_tiktoken_encoder(\n",
    "    encoding_name=\"cl100k_base\",\n",
    "    # model_name=\"gpt-4.1-mini\",\n",
    "    chunk_size=300,\n",
    "    chunk_overlap=0,\n",
    ")\n",
    "\n",
    "# split_documents() 메서드 사용 : Document 객체를 여러 개의 작은 청크 문서로 분할\n",
    "chunks = text_splitter.split_documents([pdf_docs[0]])  # 첫 번째 문서만 분할\n",
    "\n",
    "print(f\"생성된 청크 수: {len(chunks)}\")\n",
    "print(f\"각 청크의 길이: {list(len(chunk.page_content) for chunk in chunks)}\")\n",
    "\n",
    "# 각 청크의 시작 부분과 끝 부분 확인\n",
    "for chunk in chunks[:5]:\n",
    "    print(chunk.page_content[:50])\n",
    "    print(\"-\" * 50)\n",
    "    print(chunk.page_content[-50:])\n",
    "    print(\"=\" * 50)\n",
    "    print()"
   ]
  },
  {
   "cell_type": "code",
   "execution_count": 16,
   "id": "cd7bff50",
   "metadata": {},
   "outputs": [
    {
     "name": "stdout",
     "output_type": "stream",
     "text": [
      "297\n",
      "[28617, 243, 38187, 36155, 246, 12216, 220, 16, 26857, 8790]\n",
      "['�', '�', '제', '�', '�', '                                                           ', ' ', '1', '                                                      ', ' �']\n",
      "==================================================\n",
      "\n",
      "259\n",
      "[35495, 27797, 75265, 116, 58189, 64189, 320, 94801, 18202, 230]\n",
      "['고', '용', '�', '�', '동', '부', ' (', '임', '�', '�']\n",
      "==================================================\n",
      "\n",
      "290\n",
      "[16, 13, 1054, 90161, 120, 17835, 26799, 863, 39519, 222]\n",
      "['1', '.', ' “', '�', '�', '로', '자', '”', '�', '�']\n",
      "==================================================\n",
      "\n",
      "239\n",
      "[21, 13, 1054, 169, 237, 231, 90161, 254, 94801, 18202]\n",
      "['6', '.', ' “', '�', '�', '�', '�', '�', '임', '�']\n",
      "==================================================\n",
      "\n",
      "286\n",
      "[24, 13, 1054, 9019, 101, 30426, 63375, 90161, 120, 17835]\n",
      "['9', '.', ' “', '�', '�', '시', '간', '�', '�', '로']\n",
      "==================================================\n",
      "\n"
     ]
    }
   ],
   "source": [
    "import tiktoken\n",
    "\n",
    "tokenizer = tiktoken.get_encoding(\"cl100k_base\")\n",
    "# tokenizer = tiktoken.encoding_for_model(\"gpt-4.1-mini\")\n",
    "\n",
    "for chunk in chunks[:5]:\n",
    "\n",
    "    # 각 청크를 토큰화\n",
    "    tokens = tokenizer.encode(chunk.page_content)\n",
    "    # 각 청크의 단어 수 확인\n",
    "    print(len(tokens))\n",
    "    # 각 청크의 토큰화 결과 확인 (첫 10개 토큰만 출력)\n",
    "    print(tokens[:10])\n",
    "    # 토큰 ID를 실제 토큰(문자열)로 변환해서 출력\n",
    "    token_strings = [tokenizer.decode([token]) for token in tokens[:10]]\n",
    "    print(token_strings)\n",
    "\n",
    "    print(\"=\" * 50)\n",
    "    print()"
   ]
  },
  {
   "cell_type": "markdown",
   "id": "5956daaa",
   "metadata": {},
   "source": [
    "`(2) Hugging Face 토크나이저`\n",
    "\n",
    "- Hugging Face tokenizer 모델의 토큰 수를 기준으로 분할\n",
    "- uv add langchain_huggingface sentence_transformers\n"
   ]
  },
  {
   "cell_type": "code",
   "execution_count": 17,
   "id": "7d51cdaf",
   "metadata": {},
   "outputs": [
    {
     "name": "stderr",
     "output_type": "stream",
     "text": [
      "c:\\Users\\User\\Documents\\GitHub\\kted-edu-1day\\.venv\\Lib\\site-packages\\tqdm\\auto.py:21: TqdmWarning: IProgress not found. Please update jupyter and ipywidgets. See https://ipywidgets.readthedocs.io/en/stable/user_install.html\n",
      "  from .autonotebook import tqdm as notebook_tqdm\n"
     ]
    },
    {
     "data": {
      "text/plain": [
       "XLMRobertaTokenizerFast(name_or_path='BAAI/bge-m3', vocab_size=250002, model_max_length=8192, is_fast=True, padding_side='right', truncation_side='right', special_tokens={'bos_token': '<s>', 'eos_token': '</s>', 'unk_token': '<unk>', 'sep_token': '</s>', 'pad_token': '<pad>', 'cls_token': '<s>', 'mask_token': '<mask>'}, clean_up_tokenization_spaces=True, added_tokens_decoder={\n",
       "\t0: AddedToken(\"<s>\", rstrip=False, lstrip=False, single_word=False, normalized=False, special=True),\n",
       "\t1: AddedToken(\"<pad>\", rstrip=False, lstrip=False, single_word=False, normalized=False, special=True),\n",
       "\t2: AddedToken(\"</s>\", rstrip=False, lstrip=False, single_word=False, normalized=False, special=True),\n",
       "\t3: AddedToken(\"<unk>\", rstrip=False, lstrip=False, single_word=False, normalized=False, special=True),\n",
       "\t250001: AddedToken(\"<mask>\", rstrip=False, lstrip=True, single_word=False, normalized=False, special=True),\n",
       "}\n",
       ")"
      ]
     },
     "execution_count": 17,
     "metadata": {},
     "output_type": "execute_result"
    }
   ],
   "source": [
    "from transformers import AutoTokenizer\n",
    "\n",
    "tokenizer = AutoTokenizer.from_pretrained(\"BAAI/bge-m3\")\n",
    "\n",
    "tokenizer"
   ]
  },
  {
   "cell_type": "code",
   "execution_count": 18,
   "id": "c5abee28",
   "metadata": {},
   "outputs": [
    {
     "name": "stdout",
     "output_type": "stream",
     "text": [
      "[0, 107687, 5, 20451, 54272, 16367, 5, 2]\n"
     ]
    }
   ],
   "source": [
    "# 토크나이저 인코딩 - 문장을 토큰(ID)으로 변환\n",
    "tokens = tokenizer.encode(\"안녕하세요. 반갑습니다.\")\n",
    "print(tokens)"
   ]
  },
  {
   "cell_type": "code",
   "execution_count": 19,
   "id": "c6a76e60",
   "metadata": {},
   "outputs": [
    {
     "name": "stdout",
     "output_type": "stream",
     "text": [
      "['<s>', '▁안녕하세요', '.', '▁반', '갑', '습니다', '.', '</s>']\n"
     ]
    }
   ],
   "source": [
    "# 토큰을 출력 (토큰 ID를 실제 토큰(문자열)로 변환)\n",
    "print(tokenizer.convert_ids_to_tokens(tokens))"
   ]
  },
  {
   "cell_type": "code",
   "execution_count": 20,
   "id": "6cfbaec9",
   "metadata": {},
   "outputs": [
    {
     "name": "stdout",
     "output_type": "stream",
     "text": [
      "안녕하세요. 반갑습니다.\n"
     ]
    }
   ],
   "source": [
    "# 디코딩 - 토큰을 문자열로 변환\n",
    "print(tokenizer.decode(tokens, skip_special_tokens=True))"
   ]
  },
  {
   "cell_type": "code",
   "execution_count": 21,
   "id": "4c468edc",
   "metadata": {},
   "outputs": [
    {
     "name": "stdout",
     "output_type": "stream",
     "text": [
      "생성된 청크 수: 4\n",
      "각 청크의 길이: [620, 527, 453, 204]\n",
      "\n",
      "284\n",
      "[0, 37668, 4654, 24247, 106, 40343, 10629, 25547, 26444, 24740]\n",
      "['<s>', '▁법', '제', '처', '▁1', '▁국가', '법', '령', '정보', '센터']\n",
      "==================================================\n",
      "\n",
      "264\n",
      "[0, 6600, 304, 6740, 132, 2905, 367, 16, 106, 1504]\n",
      "['<s>', '▁제', '2', '조', '(', '정', '의', ')', '▁1', '▁이']\n",
      "==================================================\n",
      "\n",
      "267\n",
      "[0, 3217, 52, 3999, 2905, 132, 1493, 3779, 16, 23147]\n",
      "['<s>', '▁8.', '▁“', '소', '정', '(', '所', '定', ')', '근']\n",
      "==================================================\n",
      "\n",
      "124\n",
      "[0, 6600, 910, 6740, 132, 83654, 19123, 993, 101840, 6775]\n",
      "['<s>', '▁제', '6', '조', '(', '균', '등', '한', '▁처', '우']\n",
      "==================================================\n",
      "\n"
     ]
    }
   ],
   "source": [
    "from langchain_text_splitters import RecursiveCharacterTextSplitter\n",
    "\n",
    "# Huggingface 토크나이저를 사용하여 재귀적 텍스트 분할기 초기화\n",
    "text_splitter = RecursiveCharacterTextSplitter.from_huggingface_tokenizer(\n",
    "    tokenizer=tokenizer,\n",
    "    chunk_size=300,\n",
    "    chunk_overlap=0,\n",
    ")\n",
    "\n",
    "# split_documents() 메서드 사용 : Document 객체를 여러 개의 작은 청크 문서로 분할\n",
    "chunks = text_splitter.split_documents([pdf_docs[0]])  # 첫 번째 문서만 분할\n",
    "\n",
    "print(f\"생성된 청크 수: {len(chunks)}\")\n",
    "print(f\"각 청크의 길이: {list(len(chunk.page_content) for chunk in chunks)}\")\n",
    "print()\n",
    "\n",
    "for chunk in chunks[:5]:\n",
    "\n",
    "    # 각 청크를 토큰화\n",
    "    tokens = tokenizer.encode(chunk.page_content)\n",
    "    # 각 청크의 단어 수 확인\n",
    "    print(len(tokens))\n",
    "    # 각 청크의 토큰화 결과 확인 (첫 10개 토큰만 출력)\n",
    "    print(tokens[:10])\n",
    "    # 토큰 ID를 실제 토큰(문자열)로 변환해서 출력\n",
    "    token_strings = tokenizer.convert_ids_to_tokens(tokens[:10])\n",
    "    print(token_strings)\n",
    "\n",
    "    print(\"=\" * 50)\n",
    "    print()"
   ]
  },
  {
   "cell_type": "markdown",
   "id": "7f0bbc2e",
   "metadata": {},
   "source": [
    "### 5. **Semantic Chunking**\n",
    "\n",
    "- **SemanticChunker**는 텍스트를 의미 단위로 **분할**하는 특수한 텍스트 분할도구\n",
    "\n",
    "- 단순 길이 기반이 아닌 **의미 기반**으로 텍스트를 청크화하는데 효과적\n",
    "\n",
    "- **breakpoint_threshold_type**: Text Splitting의 다양한 임계값(Threshold) 설정 방식 (통계적 기법)\n",
    "\n",
    "  - **Gradient** 방식: 임베딩 벡터 간의 **기울기 변화**를 기준으로 텍스트를 분할\n",
    "  - **Percentile** 방식: 임베딩 거리의 **백분위수**를 기준으로 분할 지점을 결정\n",
    "  - **Standard Deviation** 방식: 임베딩 거리의 **표준편차**를 활용하여 유의미한 변화점을 찾아서 분할\n",
    "  - **Interquartile** 방식: 임베딩 거리의 **사분위수 범위**를 기준으로 이상치를 감지하여 분할\n",
    "\n",
    "- 설치: pip install langchain_experimental 또는 uv add langchain_experimental\n"
   ]
  },
  {
   "cell_type": "code",
   "execution_count": 22,
   "id": "1b01cfc5",
   "metadata": {},
   "outputs": [],
   "source": [
    "from langchain_experimental.text_splitter import SemanticChunker\n",
    "from langchain_openai.embeddings import OpenAIEmbeddings\n",
    "\n",
    "# 임베딩 모델을 사용하여 SemanticChunker를 초기화\n",
    "text_splitter = SemanticChunker(\n",
    "    embeddings=OpenAIEmbeddings(model=\"text-embedding-3-small\"),  # OpenAI 임베딩 사용\n",
    "    breakpoint_threshold_type=\"gradient\",  # 임계값 타입 설정 (gradient, percentile, standard_deviation, interquartile)\n",
    ")"
   ]
  },
  {
   "cell_type": "code",
   "execution_count": 23,
   "id": "956587ae",
   "metadata": {},
   "outputs": [
    {
     "name": "stdout",
     "output_type": "stream",
     "text": [
      "생성된 청크 수: 3\n",
      "각 청크의 길이: [151, 542, 1104]\n",
      "\n",
      "49\n",
      "법제처                                                            1                                    \n",
      "==================================================\n",
      "\n",
      "499\n",
      "11. 19.] [법률 제18176호, 2021. 5. 18., 일부개정]\n",
      "고용노동부 (근로기준정책과 - 해고, 취업규칙, 기타) 044-202-7534\n",
      "고용노동부 (근로기준정책과\n",
      "==================================================\n",
      "\n",
      "1109\n",
      "5. 26.>\n",
      "1. “근로자”란 직업의 종류와 관계없이 임금을 목적으로 사업이나 사업장에 근로를 제공하는 사람을 말한다. 2. “사용자”란 사업주 또는 사업 경영 담당자, 그 밖에\n",
      "==================================================\n",
      "\n"
     ]
    }
   ],
   "source": [
    "chunks = text_splitter.split_documents([pdf_docs[0]])\n",
    "\n",
    "print(f\"생성된 청크 수: {len(chunks)}\")\n",
    "print(f\"각 청크의 길이: {list(len(chunk.page_content) for chunk in chunks)}\")\n",
    "print()\n",
    "\n",
    "tokenizer = tiktoken.get_encoding(\"cl100k_base\")\n",
    "\n",
    "for chunk in chunks[:5]:\n",
    "\n",
    "    # 각 청크를 토큰화\n",
    "    tokens = tokenizer.encode(chunk.page_content)\n",
    "    # 각 청크의 단어 수 확인\n",
    "    print(len(tokens))\n",
    "    # 각 청크의 내용을 확인\n",
    "    print(chunk.page_content[:100])\n",
    "    print(\"=\" * 50)\n",
    "    print()"
   ]
  },
  {
   "cell_type": "markdown",
   "id": "8943d4bb",
   "metadata": {},
   "source": [
    "# 문서 임베딩(Document Embedding)\n",
    "\n",
    "- 개념:\n",
    "\n",
    "  - 텍스트를 벡터(숫자 배열)로 변환하는 과정\n",
    "  - 문서의 의미적 특성을 수치화하여 컴퓨터가 이해하고 처리할 수 있는 형태로 변환\n",
    "\n",
    "- 목적:\n",
    "\n",
    "  - 텍스트 간 유사도 계산 가능\n",
    "  - 벡터 데이터베이스 저장 및 검색\n",
    "  - 의미 기반 문서 검색 구현\n",
    "\n",
    "- LangChain의 임베딩 모델 종류:\n",
    "  - OpenAI 임베딩\n",
    "  - HuggingFace 임베딩\n"
   ]
  },
  {
   "cell_type": "markdown",
   "id": "1028fb3c",
   "metadata": {},
   "source": [
    "### 1. **OpenAI**\n",
    "\n",
    "- LangChain에서 가장 널리 사용되는 임베딩 모델 중 하나\n",
    "\n",
    "- 주요 특징:\n",
    "\n",
    "  1. 고품질의 임베딩 생성\n",
    "  2. 다양한 언어 지원 (다국어 지원)\n",
    "  3. 일관된 성능\n",
    "  4. 손쉬운 통합\n",
    "\n",
    "- 사용시 주의사항:\n",
    "\n",
    "  1. API 키 설정이 필요 (환경 변수 OPENAI_API_KEY)\n",
    "  2. API 사용량에 따른 비용 발생\n",
    "  3. 긴 텍스트는 자동으로 분할되지 않으므로 필요시 TextSplitter를 사용\n",
    "\n",
    "- 모델별 특징\n",
    "\n",
    "  ```\n",
    "  모델                    페이지/달러    MTEB 성능     최대입력\n",
    "  text-embedding-3-small  62,500       62.3%       8191\n",
    "  text-embedding-3-large   9,615       64.6%       8191\n",
    "  text-embedding-ada-002  12,500       61.0%       8191\n",
    "  ```\n",
    "\n",
    "- 임베딩 벡터 특성\n",
    "  1. small: 1536 차원\n",
    "  1. large: 3072 차원\n",
    "  1. dimensions 파라미터로 차원 축소 가능\n"
   ]
  },
  {
   "cell_type": "markdown",
   "id": "19d24267",
   "metadata": {},
   "source": [
    "`(1) embedding 모델`\n"
   ]
  },
  {
   "cell_type": "code",
   "execution_count": 24,
   "id": "6e021e2e",
   "metadata": {},
   "outputs": [
    {
     "data": {
      "text/plain": [
       "OpenAIEmbeddings(client=<openai.resources.embeddings.Embeddings object at 0x000001DED24400B0>, async_client=<openai.resources.embeddings.AsyncEmbeddings object at 0x000001DEF265E8D0>, model='text-embedding-3-large', dimensions=None, deployment='text-embedding-ada-002', openai_api_version=None, openai_api_base=None, openai_api_type=None, openai_proxy=None, embedding_ctx_length=8191, openai_api_key=SecretStr('**********'), openai_organization=None, allowed_special=None, disallowed_special=None, chunk_size=1000, max_retries=2, request_timeout=None, headers=None, tiktoken_enabled=True, tiktoken_model_name=None, show_progress_bar=False, model_kwargs={}, skip_empty=False, default_headers=None, default_query=None, retry_min_seconds=4, retry_max_seconds=20, http_client=None, http_async_client=None, check_embedding_ctx_length=True)"
      ]
     },
     "execution_count": 24,
     "metadata": {},
     "output_type": "execute_result"
    }
   ],
   "source": [
    "from langchain_openai import OpenAIEmbeddings\n",
    "\n",
    "# OpenAIEmbeddings 모델 생성\n",
    "embeddings_model = OpenAIEmbeddings(\n",
    "    model=\"text-embedding-3-large\",  # 사용할 모델 이름\n",
    "    dimensions=None,  # 원하는 임베딩 차원 수를 지정 가능 (기본값: None)\n",
    ")\n",
    "\n",
    "# 임베딩 객체 출력\n",
    "embeddings_model"
   ]
  },
  {
   "cell_type": "code",
   "execution_count": 25,
   "id": "d1296c74",
   "metadata": {},
   "outputs": [
    {
     "data": {
      "text/plain": [
       "8191"
      ]
     },
     "execution_count": 25,
     "metadata": {},
     "output_type": "execute_result"
    }
   ],
   "source": [
    "# 임베딩 모델의 컨텍스트 길이 확인\n",
    "embeddings_model.embedding_ctx_length"
   ]
  },
  {
   "cell_type": "code",
   "execution_count": 26,
   "id": "9e3cf77c",
   "metadata": {},
   "outputs": [
    {
     "data": {
      "text/plain": [
       "1024"
      ]
     },
     "execution_count": 26,
     "metadata": {},
     "output_type": "execute_result"
    }
   ],
   "source": [
    "from langchain_openai import OpenAIEmbeddings\n",
    "\n",
    "# OpenAIEmbeddings 모델 생성할 때 임베딩 차원을 지정하는 예시\n",
    "embeddings_openai = OpenAIEmbeddings(\n",
    "    model=\"text-embedding-3-small\",  # 사용할 모델 이름\n",
    "    dimensions=1024,  # 원하는 임베딩 차원 수를 지정 가능 (기본값: None)\n",
    ")\n",
    "\n",
    "# 임베딩 모델의 임베딩 차원 확인\n",
    "embeddings_openai.dimensions"
   ]
  },
  {
   "cell_type": "markdown",
   "id": "f1ed077e",
   "metadata": {},
   "source": [
    "`(2) embed_documents 사용`\n"
   ]
  },
  {
   "cell_type": "code",
   "execution_count": 27,
   "id": "979cefee",
   "metadata": {},
   "outputs": [
    {
     "name": "stdout",
     "output_type": "stream",
     "text": [
      "임베딩 벡터의 개수: 5\n",
      "임베딩 벡터의 차원: 1024\n",
      "[-0.002797367749735713, 0.014082763344049454, -0.0028569966088980436, 0.017141979187726974, 0.021207107231020927, -0.05251481011509895, -0.0036840219981968403, 0.054091084748506546, -0.020968591794371605, -0.03658614680171013, 0.007886555045843124, 0.008078403770923615, -0.021341919898986816, -0.031193632632493973, 0.0056776972487568855, -0.01819974184036255, -0.0477445088326931, 0.01155242882668972, 0.05931767821311951, -0.05280517786741257, -0.016768651083111763, -0.03183658421039581, -0.02163228578865528, -0.025967039167881012, 0.005234370473772287, -0.045919351279735565, 0.05790732800960541, 0.020398229360580444, 0.00026168610202148557, -0.027024801820516586, 0.05624809116125107, -0.017650119960308075, -0.03453284502029419, -0.07093232870101929, 0.02341596409678459, 0.040754977613687515, 0.0029529212042689323, -0.007865814492106438, -0.005900657270103693, 0.02860107645392418, 0.008617655374109745, 0.03160843998193741, -0.0028932923451066017, 0.030032167211174965, -0.020636744797229767, 0.006196208298206329, -0.029721060767769814, 0.0042440141551196575, 0.008659136481583118, 0.06516648083925247, -0.02878773957490921, 0.03455358371138573, 0.009105056524276733, -0.040174245834350586, -0.002322930144146085, 0.10975844413042068, 0.015721259638667107, 0.03376544639468193, 0.00421549566090107, 0.03511357679963112, 0.01761901006102562, 0.017401235178112984, 0.0042129033245146275, 0.02405891753733158, -0.05960804596543312, -0.028165526688098907, 0.04181274026632309, 0.030094388872385025, -0.023001154884696007, -0.03343360126018524, 0.010448000393807888, -0.022544866427779198, -0.0519755594432354, 0.024598170071840286, -0.0007887851097621024, -0.014310908503830433, -0.07479005306959152, 0.029451435431838036, 0.01480867899954319, 0.028103305026888847, -0.004936226177960634, 0.0005933712236583233, 0.05533551052212715, -0.06898272782564163, -0.010432444512844086, -0.026278145611286163, -0.0011588725028559566, -0.06628646701574326, -0.06110135838389397, -0.005330294836312532, -0.034947652369737625, 0.05628957226872444, 0.004938818980008364, 0.004770302679389715, -0.06101839616894722, 0.03729132190346718, 0.07026863098144531, -0.0601058155298233, 0.004161051940172911, 0.03191954642534256, -0.05927619710564613, -0.006673238705843687, 0.03646170720458031, 0.06300947815179825, 0.0020805259700864553, -0.024971498176455498, -0.008182106539607048, 0.023021895438432693, -0.02501297928392887, 0.009426533244550228, -0.011790944263339043, -0.005682882387191057, -0.08710987865924835, 0.04658304527401924, -0.06682571768760681, -0.02246190421283245, 0.032977309077978134, -0.026838138699531555, -0.02675517648458481, -0.008425806649029255, -0.02687961980700493, 0.03388988971710205, 0.03969721496105194, -0.005104742478579283, -0.02055378258228302, -0.028435152024030685, 0.017027907073497772, -0.0376439094543457, -0.02891218289732933, -0.005293998867273331, -0.005631031468510628, -0.030799563974142075, -0.013833877630531788, 0.032272133976221085, 0.048034876585006714, -0.01902936026453972, 0.006299910601228476, 0.028932923451066017, -0.0017227533971890807, -0.06139172241091728, 0.02208857610821724, -0.02260708622634411, 0.020387860015034676, 0.014715347439050674, -0.03337137773633003, -0.060354702174663544, -0.014933121390640736, 0.020657485350966454, 0.04562898352742195, 0.04782747104763985, -0.05392516031861305, -0.02169450744986534, -0.08126106858253479, -0.04517269507050514, -0.05819769576191902, 0.027750717476010323, 0.0005512422067113221, 0.03776835277676582, -0.013605733402073383, -0.0327906459569931, 0.009359126910567284, -0.009281350299715996, -0.038266126066446304, 0.011282803490757942, -0.03005290776491165, 0.04683192819356918, -0.0255937110632658, 0.053966641426086426, -0.02144562266767025, 0.0026936654467135668, -0.03200250864028931, -0.012008719146251678, -0.028124045580625534, -0.02439076639711857, 0.0065902769565582275, 0.016934575513005257, 0.024556688964366913, 0.017961226403713226, -0.05637253448367119, -0.0301358699798584, -0.035652827471494675, -0.021590804681181908, -0.0003265000123064965, 0.03096548654139042, -0.00954579096287489, -0.028559595346450806, 0.019112322479486465, -0.05500366538763046, -0.033350639045238495, 0.022192278876900673, 0.04195792227983475, 0.03007364831864834, 0.02208857610821724, 0.05010892078280449, 0.009478384628891945, -0.030592158436775208, -0.001353314146399498, -0.06205541640520096, -0.012402786873281002, -0.0038084646221250296, 0.03355804458260536, -0.046748965978622437, -0.02916106767952442, -0.016063475981354713, 0.014051652513444424, 0.007554707583039999, 0.04811783507466316, 0.007699890993535519, -0.03627504035830498, -0.030841045081615448, -0.021590804681181908, -0.02943069487810135, 0.08433065563440323, 0.00043749381438829005, -0.039282407611608505, -0.0693560540676117, 0.023395223543047905, 0.009079130366444588, -0.016187919303774834, 0.03455358371138573, -0.007736186496913433, -0.009208758361637592, 0.014881270937621593, -0.006082136183977127, 0.006014729384332895, -0.0030073646921664476, 0.02476409450173378, -0.04168829694390297, 0.029907723888754845, -0.03930314630270004, -0.027087023481726646, 0.03415951505303383, 0.0032329170498996973, -0.009644308127462864, 0.0027299614157527685, -0.015254599042236805, -0.013481290079653263, -0.02617444470524788, 0.013201294466853142, 0.0067406450398266315, 0.00967541802674532, -0.00029587544850073755, -0.006051025353372097, -0.02304263599216938, -0.0099191190674901, -0.006792496424168348, -0.0005492977797985077, 0.03133881464600563, -0.004651045426726341, -0.013543511740863323, 0.020667854696512222, -0.03308101370930672, 0.026983320713043213, -0.02424558252096176, 0.01308722235262394, 0.0053069619461894035, 0.034491363912820816, -0.030716601759195328, 0.006165097933262587, -0.0021466363687068224, -0.01671680063009262, 0.015741998329758644, -0.029949204996228218, -0.037042438983917236, 0.015140525996685028, 0.008539878763258457, -0.0035155056975781918, 0.03133881464600563, -0.04479936510324478, -0.029949204996228218, -0.015150896273553371, 0.04654156416654587, 0.0169864259660244, -0.029264770448207855, -0.04691489040851593, 0.01430053822696209, -0.04224829003214836, 0.025116682052612305, -0.025738894939422607, 0.05790732800960541, -0.06031322106719017, 0.03432543948292732, 0.05272221565246582, -0.0042543839663267136, -0.0019962680526077747, 8.13009319244884e-05, -0.042103108018636703, -0.024141879752278328, -0.01423831656575203, -0.07209379225969315, 0.07213527709245682, 0.0025290383491665125, -0.01826196350157261, 0.049818553030490875, 0.03447062149643898, -0.020501932129263878, -0.013139072805643082, 0.05388368293642998, -0.006009544711560011, 0.007523597218096256, 0.02743961103260517, -0.0669916421175003, -0.02042934112250805, -0.023540407419204712, 0.005615476053208113, 0.02764701656997204, -0.05711919069290161, 0.01877010427415371, -0.0025005200877785683, -0.04245569556951523, -0.017795303836464882, 0.008399881422519684, 0.08569952845573425, 0.010515406727790833, -0.0315462201833725, -0.018531588837504387, -0.019993791356682777, -0.06578870117664337, 0.0034066184889525175, -0.019879719242453575, -0.01686198264360428, 0.043762341141700745, 0.014196835458278656, -0.032064732164144516, -0.035072095692157745, 0.014497572556138039, -0.0010499851778149605, 0.0221507977694273, -0.016841242089867592, -0.05446441471576691, 0.08258845657110214, 0.0707664042711258, -0.03484395146369934, 0.005563624668866396, -0.00937986746430397, -0.03975943848490715, -0.030799563974142075, 0.016353841871023178, -0.05852954089641571, -0.04137719050049782, -0.06491760164499283, 0.02476409450173378, -0.05533551052212715, 0.05790732800960541, 0.011967238038778305, 0.000396985124098137, -0.0023345965892076492, 0.008866541087627411, 0.02273152954876423, -0.000693508714903146, 0.021611545234918594, -0.013128702528774738, -0.020211566239595413, -0.023644110187888145, -0.04255939647555351, -0.007731001358479261, -0.053842201828956604, -0.01008504256606102, -0.027812939137220383, -0.04645860195159912, -0.055625878274440765, -0.0014531275955960155, 0.04363790154457092, 0.04903041571378708, 0.045794907957315445, 0.011469467543065548, 0.0028414411935955286, -0.030592158436775208, -0.008176920935511589, 0.0016929389676079154, -0.037187620997428894, -0.0006005007307976484, 0.013875358738005161, -0.08225661516189575, -0.010551702231168747, -0.0342009961605072, -0.0211345162242651, 0.031048448756337166, -0.05280517786741257, 0.01864566095173359, 0.030343273654580116, 0.06317540258169174, 0.008503583259880543, -0.026153704151511192, -0.03710465878248215, 0.006253244820982218, -0.012776114977896214, -0.014456091448664665, -0.07914554327726364, 0.0372498445212841, 0.033537302166223526, -0.03675207123160362, -0.03386915102601051, 0.0045291949063539505, -0.014248686842620373, -0.03160843998193741, -0.02169450744986534, -0.06379761546850204, -0.04546305909752846, 0.02826922945678234, -0.03610911965370178, -0.03554912656545639, -0.02826922945678234, 0.025324085727334023, 0.016996797174215317, -0.046126753091812134, 0.06462723016738892, 0.06869236379861832, 0.011365764774382114, 0.039925359189510345, 0.004767710343003273, -0.07205231487751007, 0.04421863332390785, -0.00043133649160154164, -0.04052683338522911, -0.05653845891356468, -0.02304263599216938, 0.038266126066446304, 0.023975957185029984, 0.0006773052155040205, 0.022503385320305824, 0.03127659484744072, 0.04596082866191864, -0.0398423969745636, 0.008114700205624104, 0.023395223543047905, 0.0428912453353405, 0.006253244820982218, 0.06081099063158035, -0.014113874174654484, -0.0058021401055157185, 0.00781914871186018, -0.026858879253268242, -0.004119571298360825, -0.05923471599817276, -0.0006740645039826632, 0.026630733162164688, 0.017587898299098015, -0.011179100722074509, 0.028455892577767372, 0.0037436506245285273, -0.024535948410630226, 0.007056937087327242, -0.024743353947997093, -0.016239769756793976, 0.04450899735093117, -0.03374470770359039, -0.028559595346450806, -0.012506489641964436, -0.06176505237817764, 0.03351656347513199, -0.07512190192937851, 0.035839490592479706, 0.04488232731819153, -0.017909375950694084, -0.056828822940588, 0.02445298619568348, -0.03957277163863182, 0.01308722235262394, 0.028580335900187492, -0.0008458213414996862, 0.019195282831788063, -0.03011512942612171, -0.009436903521418571, -0.00648138951510191, 0.04405270889401436, 0.05346887186169624, 0.008000627160072327, -0.05911027267575264, 0.044135671108961105, -0.012973149307072163, -0.040941640734672546, 0.020584894344210625, -0.02667221426963806, 0.01728716306388378, -9.689677244750783e-05, -0.005226592533290386, -0.014943491667509079, -0.05176815390586853, -0.008166550658643246, 0.00979986134916544, -0.0028440337628126144, 0.01225760392844677, 0.01293166819959879, 0.04135645180940628, 0.04844968393445015, -0.07740334421396255, 0.006859902758151293, 0.06881680339574814, -0.005516958888620138, 0.014259057119488716, -0.03760243207216263, 0.09150685369968414, 0.002939958358183503, 0.034242477267980576, 0.05637253448367119, -0.013958320952951908, 0.007378413807600737, 0.012247233651578426, 0.015182007104158401, 0.027087023481726646, -0.034242477267980576, -0.011822055093944073, 0.031940288841724396, 0.006382872350513935, -0.0005094372318126261, -0.05998137220740318, 0.025241123512387276, -0.004969929810613394, -0.022544866427779198, 0.03677281364798546, 0.049362264573574066, -0.004205125384032726, 0.011386505328118801, -0.011293173767626286, 0.0076532247476279736, -0.010743551887571812, 0.009203573688864708, 0.0311521515250206, -0.031172892078757286, -0.010753922164440155, -0.025697413831949234, -0.033184714615345, 0.002486261073499918, -0.00013076204049866647, -0.0623043030500412, -0.01101317722350359, -0.019050100818276405, 0.011002806946635246, -0.0198382381349802, 0.01863529160618782, -0.019672313705086708, 0.017836784943938255, -0.0449238084256649, -0.020730076357722282, 0.015047194436192513, 0.01152131799608469, 0.01743234507739544, -0.04811783507466316, -0.01209168042987585, 0.018811585381627083, -0.016965685412287712, 0.010774661786854267, 0.028704779222607613, -0.008275438100099564, 0.05404960364103317, -0.012807225808501244, -0.04268383979797363, 0.004451418295502663, 0.03339212015271187, 0.023519666865468025, 0.0003593930450733751, 0.04255939647555351, -0.026340367272496223, 0.012952408753335476, -0.005151408724486828, 0.007435450330376625, -0.02986624278128147, -0.0030099572613835335, -0.03102770820260048, 0.009758380241692066, -0.023955216631293297, -0.04849116504192352, -0.004863634705543518, 0.009644308127462864, 0.01218501292169094, 0.032769907265901566, -0.018863435834646225, 0.025199642404913902, 0.03374470770359039, -0.05247332900762558, 0.034304700791835785, -0.01884269528090954, 0.07172046601772308, -0.011210211552679539, -0.048408202826976776, 0.011697611771523952, -0.03127659484744072, -0.013885729014873505, 0.02826922945678234, 0.023540407419204712, 0.01768123172223568, 0.03668985143303871, 0.01509904582053423, 0.04691489040851593, 2.4973604013212025e-05, 0.003181066131219268, 0.02374781109392643, 0.03735354542732239, -0.03370322659611702, 0.03919944539666176, 0.021362660452723503, -0.01594940386712551, -0.031359557062387466, -0.029596617445349693, -0.0180027075111866, 0.008845800533890724, 0.018749363720417023, 0.015970144420862198, 0.028124045580625534, -0.005459922831505537, 0.014933121390640736, 0.02362336963415146, 0.005942137911915779, -0.028684038668870926, -0.036358002573251724, -0.01805455982685089, 0.04162607714533806, 0.008488028310239315, -0.011925756931304932, -0.015534594655036926, 0.009670233353972435, 0.009265794418752193, -0.026692954823374748, -0.0067406450398266315, -0.012745005078613758, 0.0005642049945890903, 6.51784721412696e-05, 0.030011426657438278, -0.017131609842181206, 0.010105783119797707, -0.007362858857959509, 0.0388261154294014, -0.01850047893822193, 0.004954374395310879, -0.03573578968644142, 0.001536089344881475, -0.010795402340590954, -0.024038178846240044, 0.0020027493592351675, 0.008768023923039436, 0.08433065563440323, -0.015586446039378643, 0.04154311493039131, -0.011023547500371933, -0.07586855441331863, -0.013139072805643082, -0.007243601139634848, 0.014487202279269695, -0.010764291509985924, -0.025904817506670952, 0.005218815058469772, 0.011023547500371933, -0.035777270793914795, 0.033682484179735184, -0.010121338069438934, 0.0012204457307234406, -0.033226195722818375, 0.0103702237829566, 0.007886555045843124, 0.0038888338021934032, -0.029140327125787735, -0.038452789187431335, 0.014559793286025524, -0.005262888502329588, -0.018998248502612114, -0.004238829016685486, -0.03509283438324928, 0.027460351586341858, 0.0018044188618659973, 0.011376135051250458, -0.015990884974598885, 0.023478185757994652, -0.017639750614762306, -0.0078087784349918365, 0.05363479629158974, 0.02227523922920227, 0.04193718358874321, -0.007922850549221039, -0.013657583855092525, -0.03262472152709961, 0.022295979782938957, 0.013014630414545536, 0.010961325839161873, -0.046334158629179, 0.03870167210698128, 0.0024266322143375874, 0.019900457933545113, 0.049362264573574066, 0.04396974667906761, -0.017276791855692863, -0.021020442247390747, -0.02092711068689823, -0.050274841487407684, 0.01985897868871689, 0.004938818980008364, 0.01672716997563839, 0.021653026342391968, 0.022565606981515884, -0.0726330429315567, 0.01825159415602684, 0.03332989662885666, -0.028995145112276077, -0.005234370473772287, -0.07508041709661484, -0.014943491667509079, 0.021528583019971848, -0.045546021312475204, -0.03770613297820091, 0.02911958657205105, -0.028414411470294, 0.010121338069438934, 0.014093133620917797, -0.026983320713043213, -0.02949291467666626, -0.01831381395459175, 0.05222444608807564, -0.008793949149549007, -0.012444267980754375, -0.004148089326918125, -0.023084117099642754, 0.0006280466332100332, -0.02098933234810829, -0.011894646100699902, 0.041397932916879654, -0.009696158580482006, 0.0511874221265316, -0.026091482490301132, 0.010930215939879417, -0.04952818900346756, -0.030799563974142075, -0.029845502227544785, -0.014352389611303806, -0.01436275988817215, -0.005942137911915779, -0.031131410971283913, -0.044840846210718155, -0.008980613201856613, -0.0390542633831501, -0.00043911414104513824, 0.02903662621974945, -0.012402786873281002, -0.024971498176455498, -0.009851712733507156, 0.0691901296377182, -0.009250239469110966, -0.04463344067335129, -0.0052369628101587296, -0.027418870478868484, -0.020377488806843758, 0.00013311153452377766, -0.021487103775143623, 0.03121437318623066, 0.04019498452544212, -0.02029452659189701, 0.030156610533595085, 4.492413063417189e-05, 0.0021660805214196444, 0.015928663313388824, -0.05102149769663811, 0.011251692660152912, -0.0033392119221389294, 0.036917995661497116, -0.02936847321689129, 0.0005778158665634692, -0.011573169380426407, 0.014933121390640736, 0.005947323050349951, 0.01583533175289631, -0.02648555114865303, 0.027999604120850563, 0.02405891753733158, 0.0018977508880198002, 0.010857624001801014, 0.0019133061869069934, 0.00244996533729136, 0.0048895603977143764, -0.027107764035463333, -0.0032225470058619976, 0.014424980618059635, 0.03349582105875015, -0.014995343051850796, -0.006605832371860743, 0.0017240496817976236, 0.046251196414232254, -0.0019029360264539719, 0.007119158282876015, -0.0554184727370739, -0.006771755870431662, 0.0360054150223732, 0.013232405297458172, -0.023084117099642754, -0.022295979782938957, -0.0017331235576421022, -0.009416162967681885, -0.02437002584338188, 0.030467716977000237, 0.038266126066446304, -0.011085769161581993, -0.02802034467458725, -0.005874731577932835, 0.02451520785689354, -0.04645860195159912, -0.005796954967081547, -0.015420522540807724, 0.013522771187126637, 0.003331434214487672, 0.013782027177512646, 0.003289953339844942, -0.0032095841597765684, 0.04396974667906761, 0.008876911364495754, 0.05015040189027786, 0.03990462049841881, 0.06209689751267433, 0.010587997734546661, -0.01761901006102562, 0.052763696759939194, -0.05404960364103317, -0.03376544639468193, 0.0374157652258873, -0.01202945876866579, -0.01743234507739544, 0.05251481011509895, -0.022627826780080795, -0.03722910210490227, -0.010225039906799793, -0.0029710689559578896, -0.006704349536448717, -0.016426434740424156, 0.036233559250831604, 0.0006439260905608535, -0.006486574653536081, -0.01212279126048088, 0.04434307664632797, -0.017069388180971146, -0.020978961139917374, 0.027169985696673393, -0.03619207814335823, 0.005314739421010017, 0.08835430443286896, 0.021735988557338715, 0.03899203985929489, 0.0006426298059523106, 0.04038165137171745, 0.001011744956485927, -0.020574523136019707, -0.011905016377568245, -0.03250028192996979, 0.03729132190346718, -0.015928663313388824, 0.007445820607244968, 0.0027351463213562965, 0.020916741341352463, -0.04013276472687721, -0.002794775180518627, -0.02048119157552719, 0.019506391137838364, -0.02463965117931366, -0.007150269113481045, -0.03633726388216019, 0.008368770591914654, 0.028621817007660866, -0.011313913390040398, 0.07628336548805237, 0.015306449495255947, 0.021341919898986816, -0.017712341621518135, 0.024017438292503357, -0.008887281641364098, 0.013699064962565899, 0.03919944539666176, 0.04110756516456604, -0.019879719242453575, 0.0370216965675354, -0.020004160702228546, 0.001300166710279882, 0.025510748848319054, 0.0011096139205619693, 0.01825159415602684, 0.033537302166223526, 0.059483602643013, -0.016903463751077652, -0.01997305080294609, -0.018552329391241074, -0.028642557561397552, -0.005651771556586027, 0.025427788496017456, -0.012392416596412659, -0.016561247408390045, 0.014559793286025524, -0.09432755410671234, 0.028165526688098907, -0.0400705449283123, 0.021051554009318352, -0.01005393173545599, -0.013771656900644302, 0.02943069487810135, -0.0546303354203701, 0.04844968393445015, -0.0035180982667952776, -0.0376439094543457, 0.013139072805643082, -0.014611644670367241, 0.032769907265901566, 0.0457119457423687, -0.021217476576566696, 0.011479837819933891, -0.00387846352532506, 0.012267974205315113, -0.0231670793145895, -0.031110670417547226, -0.016374582424759865, -0.04255939647555351, -0.02081303857266903, 0.023519666865468025, 0.018780475482344627, 0.01570051908493042, 0.017847154289484024, -0.042227551341056824, 0.015928663313388824, 0.027605535462498665, -0.0005544828600250185, -0.024992238730192184, 0.01333610713481903, -0.06234578415751457, 0.015451633371412754, 0.027294429019093513, -0.0859484151005745, -0.005548069719225168, -0.010344297625124454, -0.010774661786854267, -0.0017577528487890959, 0.005096965003758669, 0.030778823420405388, 0.03210621327161789, -0.04629267752170563, -0.05944212153553963, -0.036358002573251724, 0.025303345173597336, 0.0029710689559578896, -0.011604280211031437, 0.01209168042987585, -0.014259057119488716, -0.005885101854801178, 0.0013844248605892062, -0.013232405297458172, 0.009265794418752193, 0.009773935191333294, -0.08059737831354141, 0.00035582829150371253, -0.03540394455194473, -0.01503682415932417, -0.00778803788125515, -0.03689725324511528, 0.007679150439798832, 0.029389213770627975, 0.007985072210431099, 0.012133161537349224, 0.05500366538763046, 0.008856170810759068, -0.07346266508102417, 0.02675517648458481, -0.0024175583384931087, 0.03160843998193741, 0.02099970169365406, 0.06670127809047699, 0.007269526831805706, -0.012973149307072163, 0.01231982558965683, 0.0008808208513073623, -0.06101839616894722, 0.006040655076503754, -0.015088675543665886, -0.015472372993826866, -0.012776114977896214, 0.003632170846685767, -0.010836883448064327, 0.007596188690513372, 0.021881170570850372, 0.017795303836464882, -0.022067835554480553, 0.03140103816986084, 0.015866441652178764, 0.01095095556229353, -0.024847054854035378, 0.028621817007660866, -0.03727058321237564, -0.02349892631173134, -0.04212384670972824, 0.06313391774892807, 0.007378413807600737, 0.006268800236284733, -0.018407147377729416, 0.04562898352742195, -0.008062848821282387, 0.029140327125787735, 0.02049156092107296, -0.0011264655040577054, -0.016934575513005257, -0.0011977608082816005, -0.04359642043709755, 0.00325625017285347, -0.06043766066431999, 0.04965262860059738, -0.00963393785059452, -0.0009488754440099001, -0.054796259850263596, -0.019547870382666588, 0.0024162621702998877, -0.029472175985574722, 0.01908121071755886, -0.025137420743703842, -0.02586333639919758, 0.010079856961965561, -0.03326767683029175, -0.05239037051796913, -0.00024758907966315746, 0.018925657495856285, 0.03349582105875015, 0.03486469015479088, -0.014819049276411533, 0.024784833192825317, -0.0001574977650307119, 0.03863945230841637, 0.026402588933706284, -0.03548690304160118, 0.016063475981354713, 0.01946491003036499, -0.0031888436060398817, 0.011407245881855488, -0.04322309046983719, 0.032209914177656174, -0.052182964980602264]\n"
     ]
    }
   ],
   "source": [
    "# 문서 컬렉션\n",
    "documents = [\n",
    "    \"인공지능은 컴퓨터 과학의 한 분야입니다.\",\n",
    "    \"머신러닝은 인공지능의 하위 분야입니다.\",\n",
    "    \"딥러닝은 머신러닝의 한 종류입니다.\",\n",
    "    \"자연어 처리는 컴퓨터가 인간의 언어를 이해하고 생성하는 기술입니다.\",\n",
    "    \"컴퓨터 비전은 컴퓨터가 디지털 이미지나 비디오를 이해하는 방법을 연구합니다.\",\n",
    "]\n",
    "\n",
    "# 문서 임베딩\n",
    "document_embeddings_openai = embeddings_openai.embed_documents(documents)\n",
    "\n",
    "# 임베딩 결과 출력\n",
    "print(f\"임베딩 벡터의 개수: {len(document_embeddings_openai)}\")\n",
    "print(f\"임베딩 벡터의 차원: {len(document_embeddings_openai[0])}\")\n",
    "print(document_embeddings_openai[0])"
   ]
  },
  {
   "cell_type": "markdown",
   "id": "6adef264",
   "metadata": {},
   "source": [
    "`(3) embed_query 사용`\n"
   ]
  },
  {
   "cell_type": "code",
   "execution_count": 28,
   "id": "668fd5b5",
   "metadata": {},
   "outputs": [
    {
     "name": "stdout",
     "output_type": "stream",
     "text": [
      "쿼리 임베딩 벡터의 차원: 1024\n",
      "[-0.026147780939936638, 0.025751270353794098, 0.0005744609516113997, 0.006575495004653931, 0.014142271131277084, -0.051987163722515106, -0.0304213035851717, 0.04147959128022194, -0.003053695196285844, 0.01718219928443432, -0.002487839199602604, 0.0010470402194187045, -0.005683342460542917, -0.08538231253623962, 0.010535110719501972, -0.01785406656563282, -0.06947775930166245, -0.025993581861257553, 0.025971554219722748, -0.08027170598506927, -0.033945854753255844, 0.02696283534169197, -0.04277927055954933, 0.004782929550856352, 0.012985777109861374, -0.06106289103627205, 0.012402023188769817, 1.484339554735925e-05, -0.012490136548876762, -0.039541084319353104, 0.029297851026058197, -0.02194034680724144, -0.0016590183367952704, -0.06828822195529938, 0.057846736162900925, -0.004042222164571285, -0.0031941267661750317, -0.009731072001159191, -0.005388712044805288, 0.026412123814225197, -0.0138779291883111, 0.044034890830516815, 0.003857733914628625, 0.040796708315610886, -0.05956495553255081, 0.04000368341803551, -0.03308674693107605, 0.005520882550626993, -0.015618178062140942, 0.044827915728092194, -0.052603960037231445, 0.04015788063406944, -0.008844426833093166, -0.01090408768504858, -0.0034144113305956125, 0.07498487830162048, 0.013294175267219543, 0.03650115802884102, -0.006916936486959457, 0.05471869558095932, -0.00029394225566647947, -0.004204682074487209, 0.019208816811442375, 0.04537862539291382, -0.07220929116010666, -0.02385682240128517, -0.003205140819773078, 0.04108307883143425, -0.043726492673158646, -0.02478201687335968, 0.04806609824299812, 0.002374943345785141, -0.08362003415822983, -0.006112897768616676, -0.022755399346351624, 0.01612483337521553, -0.024231305345892906, 0.05031300336122513, -0.0009809548500925303, 0.014296470209956169, 0.0226452574133873, 0.010661774314939976, 0.0014277196023613214, -0.051326312124729156, -0.011333642527461052, -0.019594315439462662, -0.023922907188534737, -0.06278111040592194, -0.06062231957912445, -3.80765377485659e-05, -0.021786145865917206, 0.07159249484539032, -0.029231766238808632, 0.03636898845434189, -0.023019740357995033, 0.0457310825586319, 0.09110970795154572, -0.010221205651760101, 0.012655350379645824, 0.027601659297943115, -0.03696375712752342, 0.004466270096600056, 0.01940707303583622, 0.03958514332771301, 0.02806425839662552, -0.0670986920595169, -0.019792571663856506, 0.033152833580970764, 0.032844431698322296, 0.01234695129096508, 0.02495824545621872, 0.01132262870669365, -0.09789447486400604, 0.042977526783943176, -0.02407710626721382, -0.0022592938039451838, 0.008343279361724854, -0.023151911795139313, -0.014847181737422943, -0.0439688041806221, -0.03387977182865143, -0.013106933794915676, 0.03187518194317818, -0.0024919696152210236, -0.035597991198301315, -0.03396788612008095, -0.0030041311401873827, -0.0359724760055542, -0.027689773589372635, -0.011675084009766579, -0.01584947668015957, 0.02958422154188156, -0.03535567969083786, 0.008778341114521027, 0.026191838085651398, -0.08322352170944214, 0.025993581861257553, 0.04467371478676796, -0.013933001086115837, -0.05537954717874527, 0.014825153164565563, -0.0019990827422589064, -0.027689773589372635, -0.002497476525604725, -0.031236356124281883, -0.04859478399157524, -0.002234511775895953, -0.017865080386400223, -0.0008880223031155765, -0.006189997307956219, -0.06670217961072922, -0.009169346652925014, -0.04982837662100792, -0.03458468243479729, -0.04925563558936119, 0.041589733213186264, -0.013811844401061535, 0.04200827330350876, -0.0008680589962750673, -0.004807711113244295, -0.04026802256703377, 0.001883433316834271, -0.00888297613710165, -0.0034199184738099575, -0.06692246347665787, 0.06978616118431091, -0.027469489723443985, 0.0037751272320747375, 0.019561272114515305, -0.0069059222005307674, -0.06286922097206116, -0.0031115198507905006, -0.02119137905538082, 0.009312530979514122, -0.0010084904497489333, -0.0248701311647892, 0.02141166292130947, 0.001155117410235107, -0.008095459081232548, -0.0586397610604763, -0.0590803287923336, -0.04282332584261894, -0.04229464381933212, 0.021334562450647354, -0.040179912000894547, 0.01700597070157528, -0.030443331226706505, -0.014935296028852463, 0.0021243696101009846, 0.021786145865917206, 0.019418086856603622, 0.05035705864429474, 0.03982745483517647, 0.03222763538360596, 0.0068838936276733875, -0.024275362491607666, -0.0026089956518262625, -0.012402023188769817, 0.03401194140315056, 0.018184494227170944, 0.0501808300614357, -0.05696559697389603, 0.027117034420371056, -0.005113356281071901, 0.0069775148294866085, 0.024319419637322426, 0.06181185692548752, -0.011289585381746292, -0.04846261069178581, -0.0068123009987175465, 0.026852691546082497, -0.02268931269645691, 0.08238644152879715, -0.05493897944688797, -0.019605329260230064, -0.020145026966929436, 0.02513447217643261, 0.03200735151767731, -0.044739801436662674, 0.03317486122250557, -0.03903442993760109, 0.004455255810171366, -0.02696283534169197, 0.004400184843689203, -0.026390094310045242, 0.010177148506045341, 0.01394401490688324, -0.040972936898469925, 0.026984862983226776, -0.043329980224370956, -0.03531162068247795, -0.02700689248740673, 0.006955486256629229, -0.011217992752790451, -0.028769169002771378, -0.021753104403614998, -0.012181738391518593, -0.0012707667192444205, 0.017909137532114983, 0.012842591851949692, 0.015276736579835415, 0.03810923546552658, -0.014164299704134464, 0.003056448884308338, 0.005278569646179676, 0.012908677570521832, 0.027689773589372635, 0.031060127541422844, -0.00741808395832777, -0.01936301589012146, 0.00856907106935978, -0.0435282364487648, 0.041016992181539536, -0.007302434183657169, 0.0037586060352623463, -0.0035107857547700405, 0.029011482372879982, 0.03469482436776161, 0.0021505283657461405, 0.025156501680612564, -0.014626896940171719, 0.027601659297943115, -0.02784397266805172, -0.02931988053023815, 0.005914641544222832, 0.002665443578734994, 0.029165681451559067, 0.036170732229948044, -0.008370814844965935, -0.046127595007419586, -0.04824232682585716, 0.01269940659403801, 0.019649386405944824, -0.024539703503251076, -0.025156501680612564, 0.014263427816331387, 0.00545204384252429, 0.0036787528079003096, -0.03398991376161575, 0.043770547956228256, -0.05035705864429474, -0.01245709415525198, 0.047052789479494095, -0.022953655570745468, 0.014439655467867851, 0.006790272891521454, -0.01241303700953722, -0.07309042662382126, -0.06604132056236267, -0.03471685200929642, 0.0866159051656723, -0.0025773297529667616, 0.010254248045384884, 0.033240944147109985, 0.03251400589942932, -0.008910511620342731, 0.03253603354096413, 0.05674531310796738, -0.010529603809118271, 0.016091790050268173, 0.10106657445430756, -0.042162470519542694, -0.07802480459213257, -0.05427812412381172, -0.0333070307970047, 0.06943370401859283, -0.053396984934806824, 0.012941719964146614, 0.0034061504993587732, -0.03343920037150383, 0.031170271337032318, 0.03982745483517647, 0.0435282364487648, -0.028857281431555748, -0.009808171540498734, -0.03445251286029816, 0.007115192711353302, -0.022579170763492584, 0.0506214015185833, 0.0038770087994635105, -0.0021656728349626064, -0.008783848024904728, -0.0051519060507416725, -0.02113630622625351, -0.043594323098659515, -0.010628731921315193, 0.011994495987892151, -0.0027108772192150354, -0.029914649203419685, -0.019065631553530693, 0.04577513784170151, 0.05092979967594147, -0.033329058438539505, -0.01389995776116848, -0.015276736579835415, -0.010557139292359352, -0.036611299961805344, 0.016312073916196823, -0.05348509922623634, -0.04828638210892677, -0.05656908452510834, 0.03099404275417328, -0.06784765422344208, 0.032756321132183075, 0.045907311141490936, -0.00888297613710165, -0.03632492944598198, -0.0007221204577945173, 0.0003515948774293065, 0.036214787513017654, 0.04476182907819748, -0.03128041326999664, -0.00864066369831562, -0.06225242838263512, -0.03925471380352974, 0.0010787061182782054, -0.007605325896292925, 0.0005207665381021798, -0.02464984729886055, -0.035950444638729095, -0.09842316061258316, -0.03233777731657028, 0.03484902158379555, 0.04969620332121849, 1.2987970876565669e-06, 0.004986692685633898, 0.01820652186870575, -0.02390087954699993, -0.007968795485794544, -0.02976044826209545, -0.007379534188657999, -0.01816246472299099, 0.030399274080991745, -0.05370538309216499, -0.008205601014196873, -0.003552089212462306, -0.011818268336355686, 0.03055347315967083, -0.022843513637781143, 0.032932545989751816, 0.020100969821214676, 0.042977526783943176, -0.022997712716460228, -0.0741918534040451, -0.025508956983685493, 0.02198440209031105, 0.01078843791037798, -0.0430656373500824, -0.051414426416158676, 0.05652502924203873, 0.0457310825586319, -0.04165581613779068, -0.028725111857056618, -0.011895367875695229, -0.07339882850646973, 0.002772832289338112, -0.03343920037150383, -0.03824140504002571, -0.01838275045156479, 0.004006426315754652, -0.01722625643014908, -0.002234511775895953, -0.0107664093375206, -0.04161176085472107, -0.0022648009471595287, -0.05423406884074211, 0.03696375712752342, 0.04934374988079071, -0.0015626439126208425, 0.06815605610609055, 0.057846736162900925, -0.03194126486778259, 0.05189904943108559, -0.003439193358644843, -0.014935296028852463, -0.04095090553164482, 0.009097754023969173, 0.0015392386121675372, 0.013360260985791683, 0.00741808395832777, 0.03183112293481827, -0.010705831460654736, -0.01665351539850235, -0.0626048818230629, -0.0057824705727398396, 0.010689309798181057, 0.035730160772800446, 0.01990271359682083, 0.08414871990680695, -0.047273073345422745, 0.029826534911990166, 0.04449748992919922, -0.0270950049161911, -0.025597069412469864, -0.05938872694969177, 0.01276549231261015, 0.031060127541422844, -0.01556310709565878, 0.020816894248127937, 0.04273521155118942, -0.01763378269970417, -0.029870592057704926, 0.0068838936276733875, -0.035906389355659485, -0.06295733898878098, 0.030399274080991745, -0.05101791396737099, 0.005284076556563377, -0.023768708109855652, -0.09401746839284897, -0.01054612547159195, -0.03158881142735481, 0.040179912000894547, 0.06683434545993805, -2.9450156944221817e-05, -0.06075449287891388, 0.01615787483751774, -0.014803124591708183, 0.018008265644311905, 0.019285917282104492, -0.04099496454000473, -0.019208816811442375, -0.00848095677793026, 0.051546595990657806, -0.006167968735098839, -0.0058044991455972195, 0.008789355866611004, 0.01367967389523983, -0.03993759676814079, -0.003637449350208044, -0.09269575774669647, -0.05582011863589287, 0.05696559697389603, -0.02936393767595291, 0.014131257310509682, 0.047096848487854004, 0.024583760648965836, -0.03469482436776161, -0.03980542719364166, 0.01586049050092697, 0.015265722759068012, -0.021026164293289185, 0.02126847766339779, 0.00047326768981292844, 0.052515849471092224, 0.042250584810972214, -0.07740800827741623, -0.01389995776116848, 0.053264815360307693, -0.0170940849930048, -0.02678660675883293, -0.03454062342643738, 0.07912622392177582, -0.0015089494409039617, 0.06273705512285233, 0.0255309846252203, 0.01003947015851736, -0.04934374988079071, -0.0027563110925257206, 0.0026434152387082577, 0.0032849940471351147, -0.029385965317487717, -0.03033318929374218, 0.05559983104467392, -0.012523178942501545, -0.018801290541887283, 0.003700781147927046, 0.023966964334249496, -0.023482337594032288, -0.029121624305844307, -0.0055181290954351425, 0.019252873957157135, 0.008778341114521027, 0.006944471970200539, 0.004818725399672985, 0.022799456492066383, 0.0007696193060837686, 0.04284535348415375, 0.03689767047762871, -0.016972927376627922, 0.003320790361613035, 0.01590454764664173, -0.014648925513029099, -0.0023501613177359104, -0.003761359490454197, -0.04793392866849899, -0.04317577928304672, -0.007946766912937164, -0.008866455405950546, -0.03033318929374218, 0.006746215745806694, -0.006129418965429068, 0.011085822246968746, -0.00856907106935978, -0.03099404275417328, 0.009406152181327343, 0.03209546580910683, 0.02141166292130947, -0.022887568920850754, 0.03211749345064163, 0.019869670271873474, 0.013999085873365402, 0.007467648014426231, -0.005732906516641378, 0.0011564941378310323, 0.01007802039384842, -0.00934557430446148, -0.052251506596803665, -0.019021574407815933, 0.06432310491800308, 0.046039480715990067, 0.010397433303296566, 0.03015696071088314, -0.0435282364487648, 0.04059845209121704, 0.01594860479235649, -0.0037641129456460476, -0.007963288575410843, -0.001543368911370635, -0.008932540193200111, -0.003502525156363845, -0.016455259174108505, -0.03401194140315056, -0.02286554127931595, -0.008222122676670551, -0.017887109890580177, 0.0266544371843338, -0.032403863966464996, 0.024187248200178146, 0.023262053728103638, -0.05960901081562042, 0.014615883119404316, -0.0007324462640099227, 0.052471790462732315, -0.02438550442457199, -0.027513546869158745, 0.0248701311647892, -0.046480048447847366, 0.0034502074122428894, 0.05423406884074211, 0.005055531393736601, 0.0028306571766734123, -0.005606242921203375, 0.009378616698086262, 0.04231667146086693, 0.0047030760906636715, -0.01688481494784355, 0.038219377398490906, 0.023636536672711372, -0.0014690229436382651, 0.03398991376161575, -0.0006185178644955158, 0.008392843417823315, -0.05392567068338394, -0.005699864123016596, -0.0009541076724417508, 0.015133552253246307, -0.0010649383766576648, -0.021477747708559036, 0.046435993164777756, 0.008706748485565186, 0.012831578031182289, 0.011399728246033192, 0.007539240177720785, -0.024231305345892906, -0.024363476783037186, -0.0037751272320747375, 0.028857281431555748, 0.026081696152687073, -0.043726492673158646, -0.012985777109861374, -0.002801744733005762, 0.00023542916460428387, -0.02491418831050396, -0.0506214015185833, -0.010347869247198105, -0.009092247113585472, 0.020530523732304573, 0.0537494421005249, -0.02557504177093506, -0.02403304912149906, -0.01584947668015957, 0.05449840798974037, -0.012534193694591522, -0.014208356849849224, -0.023724650964140892, -0.007930245250463486, -0.0024547965731471777, -0.039364855736494064, -0.0045296018943190575, 0.002801744733005762, 0.07978708297014236, -0.028218457475304604, 0.010535110719501972, 0.00807893741875887, -0.057406164705753326, -0.013756773434579372, -0.017016984522342682, 0.032844431698322296, -0.01781000941991806, -0.035597991198301315, 0.01803029514849186, 0.021488763391971588, -0.03495916724205017, 0.017655810341238976, -0.018173478543758392, -0.03361542895436287, -0.014076185412704945, 0.015794405713677406, -0.017127128317952156, -0.014494726434350014, -0.04595136642456055, -0.03815329074859619, -0.008624142035841942, 0.02456173300743103, -0.003136301878839731, -0.004915100056678057, -0.018889404833316803, 0.032756321132183075, -0.021125292405486107, 0.009450209327042103, -0.017171183601021767, 0.02011198364198208, 0.00812850147485733, -0.009731072001159191, 0.038748059421777725, 0.05533549189567566, 0.025156501680612564, 0.03698578476905823, -0.013646630570292473, -0.05621663108468056, -0.016642501577734947, -0.010375404730439186, 0.013558517210185528, -0.019440116360783577, 0.01999082788825035, -0.03584030270576477, 0.006118404679000378, 0.017479583621025085, 0.011465813033282757, -0.004562644753605127, 0.0068123009987175465, -0.026301980018615723, -0.01834970712661743, 0.029407992959022522, 0.04244884103536606, 0.047140903770923615, 0.021951360628008842, -0.003395136445760727, -0.06855256855487823, 0.0021739336661994457, 0.029297851026058197, 0.002774209249764681, 0.004212942905724049, -0.04445343092083931, 0.032844431698322296, 0.0007792567485012114, 0.006322167813777924, -0.03753649443387985, 0.039364855736494064, -0.014659940265119076, 0.044739801436662674, 0.018261592835187912, -0.03780083730816841, -0.009576872922480106, -0.012313908897340298, 0.028042228892445564, -0.01352547388523817, 0.02043139562010765, 0.011719140224158764, -0.02980450540781021, 0.0037338240072131157, 0.012379994615912437, -0.017259297892451286, 0.026522265747189522, 0.026081696152687073, 0.04432126134634018, 0.0012914184480905533, -0.007043600082397461, -0.02976044826209545, -0.015607163310050964, -0.007401562295854092, 0.002158788964152336, -0.014263427816331387, 0.002618633210659027, -0.022887568920850754, -0.06026986613869667, -0.009510787203907967, -0.02656632289290428, -0.027249203994870186, -0.004579165950417519, -0.03423222526907921, -0.026279952377080917, 0.005385958589613438, 0.06476367264986038, -0.020993122830986977, -0.046788450330495834, 0.002023864770308137, -0.05877193063497543, 0.004502066411077976, 0.03645709902048111, -0.00772648211568594, 0.035950444638729095, -0.031170271337032318, -0.026676464825868607, 0.020750809460878372, -0.013437360525131226, 0.0381973497569561, 0.03299863263964653, -0.021598905324935913, -0.0025126212276518345, 0.0001689135388005525, 0.0208719652146101, 0.0018793030176311731, 0.012963748537003994, 0.025024330243468285, 0.01745755411684513, -0.036346957087516785, 0.0295401643961668, 0.010215697810053825, 0.017391469329595566, -0.007798074744641781, 0.012049567885696888, 0.029385965317487717, -0.001656264765188098, 0.0009162462665699422, 0.017435526475310326, 0.011014229618012905, 0.016620472073554993, 0.03269023448228836, -0.0022055995650589466, -0.019131718203425407, 0.026125753298401833, 0.01990271359682083, 0.046435993164777756, 0.007671411149203777, -0.006410281639546156, -0.04103901982307434, -0.01567324995994568, 0.03438642621040344, -0.008310236036777496, -0.0033923827577382326, -0.004446995444595814, 0.0021725569386035204, -0.004102800507098436, 0.0031170269940048456, 0.02251308597624302, 0.009119782596826553, -0.006658101920038462, -0.019429100677371025, -0.012192752212285995, 0.030619559809565544, -0.0034474539570510387, -0.03103809989988804, -0.006916936486959457, 0.017710881307721138, 0.008910511620342731, 0.02381276525557041, 0.012732449918985367, -0.02478201687335968, 0.02434144727885723, 0.025685183703899384, 0.01918678916990757, 0.05643691495060921, 0.028438741341233253, 0.0077209752053022385, -0.020321253687143326, 0.039056457579135895, -0.02273336984217167, -0.04026802256703377, 0.02535475790500641, 0.009587886743247509, -0.028130343183875084, 0.024099135771393776, -0.027866002172231674, -0.027072977274656296, -0.00939513836055994, -0.004904085770249367, -0.009934835135936737, -0.01505645178258419, 0.046303823590278625, -0.0030812309123575687, 0.03224966675043106, -0.007704454008489847, 0.046964675188064575, 0.02073979564011097, -0.033901799470186234, -0.014681968837976456, -0.030883900821208954, 0.004670033697038889, 0.07247363030910492, 0.025861412286758423, 0.03299863263964653, 0.00016934378072619438, 0.030751729384064674, 0.013338232412934303, -0.021918317303061485, -0.029209736734628677, -0.03656724467873573, 0.015023409388959408, -0.032447922974824905, 0.012093624100089073, -0.01593759097158909, 0.06458744406700134, -0.02522258646786213, 0.02224874496459961, -0.011052779853343964, 0.002661313395947218, 0.027976144105196, -0.01518862321972847, -0.026191838085651398, -0.005275816190987825, 0.06344196200370789, 0.00697200745344162, 0.04152364656329155, 0.0055071148090064526, 0.014296470209956169, -0.017116112634539604, -0.0035107857547700405, -0.03090592846274376, -0.00700505031272769, 0.04229464381933212, 0.04533457010984421, 0.011829283088445663, 0.024892158806324005, -0.008849933743476868, -0.0157723780721426, -0.005810006055980921, -0.012379994615912437, -0.0069059222005307674, 0.03716201335191727, 0.03828546404838562, -0.02678660675883293, -0.030046818777918816, 0.02810831554234028, -0.007671411149203777, 0.0007489676354452968, 0.07824508845806122, -0.010270769707858562, -0.023790735751390457, 0.014935296028852463, -0.05405784025788307, 0.004358881618827581, -0.03850574791431427, -0.04269115626811981, -0.02145572006702423, 0.005931162741035223, 0.033901799470186234, -0.023504367098212242, 0.029011482372879982, 0.00394309451803565, -0.018371734768152237, 0.021059207618236542, -0.03260212019085884, 0.023746680468320847, 0.04121524840593338, 0.019307944923639297, 0.03090592846274376, -0.005267555359750986, -0.007968795485794544, -8.55323814903386e-05, -0.045048199594020844, -0.011157414875924587, -0.020398354157805443, -0.013415331952273846, 0.038968347012996674, 0.030487388372421265, 0.0506214015185833, 0.022149616852402687, -0.02678660675883293, -0.012930706143379211, 0.021026164293289185, 0.026720521971583366, -0.030443331226706505, -0.0061624618247151375, -0.03028913214802742, -0.01269940659403801, 0.01239100843667984, -0.04890318214893341, -0.06802388280630112, 0.0230858251452446, 0.027205146849155426, 0.01125654298812151, 0.014318498782813549, 0.006636073347181082, 0.01732538267970085, -0.03410005569458008, -0.03339514508843422, -0.014021114446222782, 0.012941719964146614, -0.019561272114515305, -0.027381375432014465, -0.018184494227170944, 0.01392198633402586, 0.022215701639652252, 0.004579165950417519, -0.033329058438539505, 0.002885728143155575, -0.0005885729333385825, -0.08137313276529312, 0.0029435530304908752, -0.0302010178565979, -0.014869210310280323, -0.011267556808888912, -0.0408627912402153, -0.0024424055591225624, 0.021819189190864563, 0.0310821570456028, 0.001543368911370635, 0.04244884103536606, 0.04229464381933212, -0.07573384791612625, 0.03147866949439049, 0.00783662497997284, 0.01750161126255989, -0.010760902427136898, 0.07031484693288803, 0.012578250840306282, -0.011675084009766579, -0.0011950439075008035, 0.01276549231261015, -0.025883439928293228, 0.005402479786425829, -0.029253793880343437, 0.009912806563079357, -0.006768244318664074, 0.007858652621507645, 0.025024330243468285, 0.0013368522049859166, 0.026324009522795677, -0.02976044826209545, 0.006955486256629229, 0.036831583827733994, 0.011972467415034771, 0.01212666742503643, 0.00888297613710165, 0.0319853238761425, -0.01581643335521221, -0.007214320357888937, -0.0038990373723208904, 0.03949702903628349, -0.003965122625231743, -0.00023887111456133425, -0.021775132045149803, 0.03343920037150383, 0.03480496630072594, 0.021841218695044518, 0.02735934779047966, -0.009312530979514122, 0.013426345773041248, 0.0022813223768025637, -0.072826087474823, 0.029452050104737282, -0.02473795972764492, 0.06115100532770157, -0.023306110873818398, -0.0035162928979843855, -0.03451859578490257, 0.014935296028852463, -0.026940805837512016, 0.013073890469968319, 0.05665719881653786, -0.003788894973695278, -0.016994956880807877, -0.023107854649424553, -0.04240478575229645, -0.02744746021926403, -0.022667285054922104, -0.01521065179258585, 0.02268931269645691, 0.03806518018245697, 0.028042228892445564, 0.028526855632662773, 0.0004515834152698517, 0.030575502663850784, 0.0319632962346077, -0.05101791396737099, -0.012181738391518593, 0.03705186769366264, 0.0004144104022998363, 0.019153745844960213, 0.0036732456646859646, 0.04555485397577286, -0.04020193964242935]\n"
     ]
    }
   ],
   "source": [
    "embedded_query_openai = embeddings_openai.embed_query(\"인공지능이란 무엇인가요?\")\n",
    "\n",
    "# 쿼리 임베딩 결과 출력\n",
    "print(f\"쿼리 임베딩 벡터의 차원: {len(embedded_query_openai)}\")\n",
    "print(embedded_query_openai)"
   ]
  },
  {
   "cell_type": "markdown",
   "id": "da63d0f4",
   "metadata": {},
   "source": [
    "`(4) 유사도 기반 검색`\n"
   ]
  },
  {
   "cell_type": "code",
   "execution_count": 29,
   "id": "7029f9f1",
   "metadata": {},
   "outputs": [
    {
     "name": "stdout",
     "output_type": "stream",
     "text": [
      "쿼리: 인공지능이란 무엇인가요?\n",
      "가장 유사한 문서: 인공지능은 컴퓨터 과학의 한 분야입니다.\n",
      "유사도: 0.7149\n",
      "\n",
      "쿼리: 딥러닝과 머신러닝의 관계는 어떻게 되나요?\n",
      "가장 유사한 문서: 딥러닝은 머신러닝의 한 종류입니다.\n",
      "유사도: 0.6758\n",
      "\n",
      "쿼리: 컴퓨터가 이미지를 이해하는 방법은?\n",
      "가장 유사한 문서: 컴퓨터 비전은 컴퓨터가 디지털 이미지나 비디오를 이해하는 방법을 연구합니다.\n",
      "유사도: 0.7049\n",
      "\n"
     ]
    }
   ],
   "source": [
    "from langchain_community.utils.math import cosine_similarity\n",
    "import numpy as np\n",
    "\n",
    "\n",
    "# 쿼리와 가장 유사한 문서 찾기 함수\n",
    "def find_most_similar(\n",
    "    query: str,\n",
    "    doc_embeddings: np.ndarray,\n",
    "    embeddings_model=OpenAIEmbeddings(model=\"text-embedding-3-small\"),\n",
    ") -> tuple[str, float]:\n",
    "\n",
    "    # 쿼리 임베딩: OpenAI 임베딩 사용\n",
    "    query_embedding = embeddings_model.embed_query(query)\n",
    "\n",
    "    # 코사인 유사도 계산\n",
    "    similarities = cosine_similarity([query_embedding], doc_embeddings)[0]\n",
    "\n",
    "    # 가장 유사한 문서 인덱스 찾기\n",
    "    most_similar_idx = np.argmax(similarities)\n",
    "\n",
    "    # 가장 유사한 문서와 유사도 반환: 문서, 유사도\n",
    "    return documents[most_similar_idx], similarities[most_similar_idx]\n",
    "\n",
    "\n",
    "# 예제 쿼리\n",
    "queries = [\n",
    "    \"인공지능이란 무엇인가요?\",\n",
    "    \"딥러닝과 머신러닝의 관계는 어떻게 되나요?\",\n",
    "    \"컴퓨터가 이미지를 이해하는 방법은?\",\n",
    "]\n",
    "\n",
    "# 각 쿼리에 대해 가장 유사한 문서 찾기\n",
    "for query in queries:\n",
    "    most_similar_doc, similarity = find_most_similar(\n",
    "        query, document_embeddings_openai, embeddings_model=embeddings_openai\n",
    "    )\n",
    "    print(f\"쿼리: {query}\")\n",
    "    print(f\"가장 유사한 문서: {most_similar_doc}\")\n",
    "    print(f\"유사도: {similarity:.4f}\")\n",
    "    print()"
   ]
  },
  {
   "cell_type": "markdown",
   "id": "87c841a4",
   "metadata": {},
   "source": [
    "### 2. **Huggingface**\n",
    "\n",
    "- LangChain에서 오픈소스 기반의 대표적인 임베딩 모델\n",
    "\n",
    "- 주요 특징:\n",
    "\n",
    "  1. 로컬 환경에서 실행 가능\n",
    "  2. 다양한 사전학습 모델 지원\n",
    "  3. 커스텀 모델 학습 및 적용 가능\n",
    "  4. 무료 사용 가능 (API 비용 없음)\n",
    "\n",
    "- 사용시 주의사항:\n",
    "\n",
    "  1. 로컬 컴퓨팅 자원 필요 (CPU/GPU)\n",
    "  2. 초기 모델 다운로드 시간 소요\n",
    "  3. 메모리 사용량 고려 필요\n",
    "  4. transformers 라이브러리 설치 필요\n",
    "\n",
    "- 대표적인 임베딩 모델:\n",
    "\n",
    "  ```\n",
    "  모델                            차원      언어             특징\n",
    "  all-MiniLM-L6-v2               384     다국어     빠른 속도, 적은 메모리\n",
    "  all-mpnet-base-v2              768     다국어     높은 성능, 중간 크기\n",
    "  multilingual-e5-large         1024     다국어     최고 성능, 큰 메모리\n",
    "  ```\n",
    "\n",
    "- 임베딩 벡터 특성:\n",
    "  1. 모델별로 다양한 차원 제공 (128 ~ 1024)\n",
    "  2. sentence-transformers 기반 구현\n",
    "  3. BERT 계열 모델 구조 사용\n",
    "  4. 코사인 유사도 기반 검색 최적화\n"
   ]
  },
  {
   "cell_type": "markdown",
   "id": "484e59a6",
   "metadata": {},
   "source": [
    "`(1) embedding 모델`\n",
    "\n",
    "- langchain_huggingface 설치 필요\n"
   ]
  },
  {
   "cell_type": "code",
   "execution_count": 30,
   "id": "d6bae91c",
   "metadata": {},
   "outputs": [
    {
     "data": {
      "text/plain": [
       "HuggingFaceEmbeddings(model_name='BAAI/bge-m3', cache_folder=None, model_kwargs={}, encode_kwargs={}, query_encode_kwargs={}, multi_process=False, show_progress=False)"
      ]
     },
     "execution_count": 30,
     "metadata": {},
     "output_type": "execute_result"
    }
   ],
   "source": [
    "from langchain_huggingface.embeddings import HuggingFaceEmbeddings\n",
    "\n",
    "# Hugging Face의 임베딩 모델 생성\n",
    "embeddings_bgem3 = HuggingFaceEmbeddings(\n",
    "    model_name=\"BAAI/bge-m3\",  # 사용할 모델 이름 - BAAI BGE-m3 모델 (한국어 성능 우수)\n",
    "    # model_kwargs={'device': 'cuda'}  # GPU 사용시\n",
    "    # model_kwargs={'device': 'mps'}   # Mac M1 사용시\n",
    ")\n",
    "\n",
    "# 임베딩 객체 출력\n",
    "embeddings_bgem3"
   ]
  },
  {
   "cell_type": "markdown",
   "id": "63a5304f",
   "metadata": {},
   "source": [
    "`(2) embed_documents 사용`\n"
   ]
  },
  {
   "cell_type": "code",
   "execution_count": 31,
   "id": "e3645498",
   "metadata": {},
   "outputs": [
    {
     "name": "stdout",
     "output_type": "stream",
     "text": [
      "임베딩 벡터의 개수: 5\n",
      "임베딩 벡터의 차원: 1024\n",
      "[-0.03941445052623749, 0.008764867670834064, -0.012681610882282257, 0.002453203545883298, -0.00894474983215332, -0.007383695337921381, -0.005377365741878748, -0.009055882692337036, 0.03291523456573486, 0.006045476533472538, -0.027012886479496956, -0.027740905061364174, 0.0004441401397343725, 0.030136561021208763, 0.017242860049009323, 0.017090292647480965, 0.025524897500872612, -0.021856093779206276, -0.011341276578605175, -0.05702260136604309, -0.0003016749687958509, 0.01354310940951109, -0.007450083736330271, 0.01857442781329155, 0.002894638106226921, 0.0086306631565094, -0.0007444588700309396, -0.028904125094413757, 0.020727813243865967, -0.020500589162111282, 0.008069892413914204, -0.026754193007946014, 0.003963039256632328, -0.016303934156894684, -0.07406219840049744, -0.03365037217736244, -0.023871472105383873, -0.03455003350973129, -0.03478594869375229, 0.0054829963482916355, -0.05003359541296959, -0.002803554991260171, -0.02314687892794609, -0.0749114602804184, -0.011434364132583141, -0.02899264357984066, -0.034183017909526825, -0.025524696335196495, -0.061569128185510635, 0.013557911850512028, 0.02440119907259941, -0.03127628564834595, 0.05056964233517647, 0.012972594238817692, -0.06420665234327316, 0.02719489112496376, 0.006821540649980307, 0.0104055255651474, -0.06427168846130371, -0.016028206795454025, -0.020655417814850807, 0.030117657035589218, -0.006331701297312975, -0.013117486611008644, -0.0005491374176926911, 0.046959467232227325, 0.007765454705804586, 0.029756568372249603, -0.03474409133195877, -0.03635728731751442, 0.021413926035165787, 0.017580488696694374, -0.03352218493819237, 0.01369046326726675, -0.05232350900769234, 0.048478398472070694, -0.01338276732712984, -0.017212603241205215, -0.03435641527175903, 0.021086981520056725, -0.02280253916978836, -0.006211868021637201, -0.012333803810179234, -0.045899953693151474, -0.04362533614039421, -0.03322097286581993, -0.03090290166437626, 0.06267788261175156, -0.013041122816503048, 0.0030605702195316553, -0.03402102738618851, -0.011811492964625359, 0.06983613967895508, -0.06787187606096268, -0.0412171296775341, -0.04542520269751549, -0.05954751372337341, 0.026572179049253464, 0.021793361753225327, 0.016649404540657997, -0.004795440472662449, 0.05578603595495224, 0.005842198617756367, -0.004925672430545092, 0.005203370004892349, 0.012360340915620327, 0.015873590484261513, 0.013678347691893578, -0.004320620559155941, -0.016777485609054565, 0.02467341721057892, 0.07882758229970932, -0.003314934205263853, 0.027733050286769867, -0.014849909581243992, -0.0362965390086174, -0.007080197799950838, -0.005244849249720573, 0.031237946823239326, 0.028104566037654877, 0.02144520729780197, 0.026932435110211372, -0.018261317163705826, -0.03545692563056946, 0.02549435757100582, -0.014402545988559723, 0.04316097870469093, -0.006512579508125782, -0.002386910142377019, -0.025424890220165253, 0.007254288997501135, 0.001666962169110775, -0.06067401543259621, 0.002136940835043788, -0.0793343186378479, -0.03168249502778053, -0.026456231251358986, -0.034573253244161606, 0.0011898858938366175, -0.026784731075167656, 0.03188099339604378, 0.008707327768206596, -0.03449935093522072, -0.026013841852545738, 0.02824806421995163, 0.028849057853221893, 0.011804268695414066, 0.006611344404518604, -0.04028216004371643, 0.006594957783818245, -0.04195797070860863, 0.001875912887044251, -0.01684918999671936, -0.00032439205097034574, 0.008593734353780746, 0.05727250501513481, 0.0345127172768116, 0.018291309475898743, -0.0362715907394886, 0.019243363291025162, -0.011026417836546898, -0.05107647925615311, -0.011925872415304184, 0.034413959830999374, 0.02501547709107399, 0.005875383038073778, 0.0022539165802299976, 0.05663302540779114, -0.02504448965191841, -0.05167197436094284, -0.04070145636796951, -0.0038236607797443867, -0.08939450234174728, 0.013491128571331501, 0.03287689760327339, 0.020798640325665474, 0.04125237464904785, 0.031184004619717598, 0.01035955362021923, -0.032930511981248856, -0.024386415258049965, -0.015635915100574493, -0.01784442737698555, 0.01631949096918106, -0.0033740319777280092, -0.008289550431072712, 0.007997725158929825, 0.017579950392246246, 0.005814941134303808, -0.0015096307033672929, 0.03361957147717476, -0.02357892505824566, 0.018168536946177483, -0.013307614251971245, -0.010974681936204433, -0.06073546037077904, 0.03531361743807793, 0.03325324133038521, 0.0035984208807349205, -0.00952876452356577, -0.03346243500709534, 0.026455916464328766, 0.004845184739679098, -0.0052327970042824745, -0.028605110943317413, 0.03523759916424751, -0.0023234128020703793, -0.033424701541662216, 0.02069602720439434, -0.0166467372328043, 0.050313934683799744, 0.00538290711119771, 0.006805273704230785, -0.04224151000380516, -0.05043681710958481, -0.0236665029078722, -0.0003812677168752998, 0.017486941069364548, -0.021624596789479256, -0.0511527918279171, -0.005384444259107113, -0.007931975647807121, 0.01259658858180046, 0.04038446024060249, 0.02364312671124935, 0.011450341902673244, -0.012604201212525368, -0.02401760406792164, 0.0593751035630703, 0.022747060284018517, -0.014662856236100197, 0.02844359539449215, 0.0028610466979444027, -0.0274338461458683, 0.0026597953401505947, -0.012619078159332275, -0.01932600513100624, 0.0012929788790643215, 0.024065805599093437, 0.005560099612921476, 0.0004692685906775296, -0.012332878075540066, 0.008361481130123138, 0.007104414515197277, -0.014163892716169357, -0.025789648294448853, -0.009067066945135593, 0.011334899812936783, -0.03867325931787491, 0.012458671815693378, -0.01484669279307127, -0.053380172699689865, 0.0007011156994849443, -0.037628188729286194, 0.024404345080256462, -0.022411486133933067, -0.003127620555460453, 0.005926246754825115, 0.029243437573313713, 0.012872275896370411, -0.025251492857933044, -0.017893923446536064, -0.032658811658620834, 0.01578877493739128, 0.0368376225233078, -0.019260192289948463, 0.004153439775109291, -0.008615199476480484, 0.02560020424425602, 0.031416237354278564, 0.013882135041058064, 0.016615934669971466, 0.02648588828742504, 0.01651475392282009, 0.03710551559925079, 0.01717045158147812, 0.016321685165166855, -0.022120635956525803, 0.027622047811746597, 0.024099627509713173, -0.024875948205590248, -0.03490517660975456, 0.01085947547107935, 0.03753617778420448, 0.03244507685303688, -0.002951034577563405, -0.021300796419382095, -0.0008491670014336705, -0.049433011561632156, -0.0502716526389122, -0.05571754649281502, -0.03578628972172737, 0.0516538992524147, -0.026500346139073372, -0.02994459867477417, 0.04084893688559532, -0.0027764702681452036, -0.15416254103183746, 0.05287329852581024, -0.04403993487358093, 0.024527784436941147, 0.0007717472617514431, -0.02312583662569523, 0.028217779472470284, 0.02060615085065365, -0.06491443514823914, 0.05870116502046585, -0.015259619802236557, -0.05291959270834923, -0.026743700727820396, -0.016040164977312088, 0.03513457626104355, 0.036927301436662674, 0.018241016194224358, -0.0001441195054212585, -0.025382108986377716, -0.004293600097298622, -0.040960364043712616, -0.050586022436618805, 0.01501429732888937, -0.0358155332505703, 0.02978992462158203, -0.04509026184678078, -0.02097088284790516, -0.02369893714785576, -0.029049711301922798, -0.03439382463693619, -0.018698520958423615, -0.00941397249698639, -0.02136843465268612, 0.041909847408533096, 0.022590262815356255, 0.008137846365571022, 0.0034019234590232372, -0.03497292846441269, 0.05352340638637543, 0.006330602802336216, -0.009400768205523491, 0.0340353362262249, 0.013987448997795582, 0.00509557593613863, -0.0004018492472823709, -0.022481204941868782, 0.03870444744825363, 0.0006443458260037005, -0.013815914280712605, 0.009313322603702545, -0.024370459839701653, -0.05039580166339874, 0.04627165198326111, -0.021217284724116325, -0.033464591950178146, 0.006026166025549173, 0.010226242244243622, 0.0693257749080658, 0.02263229340314865, 0.012568912468850613, -0.04025677591562271, -0.03471682220697403, 0.019841749221086502, 0.014833953231573105, 0.01384139247238636, -0.046720895916223526, 0.055473264306783676, 0.011165855452418327, 0.021457137539982796, -0.02226230874657631, 0.03648185357451439, -0.0014091995544731617, 0.05106929689645767, -0.01689680479466915, -0.00025811814703047276, 0.04926151782274246, 0.00779405701905489, -0.07784522324800491, -0.05160043016076088, -0.08172135055065155, 0.0001815028372220695, -0.0027509115170687437, -0.00911609549075365, -0.004651390016078949, -0.04209814593195915, -0.002211005659773946, -0.010076196864247322, -0.027880776673555374, 0.05060309171676636, 0.20529000461101532, 0.026444371789693832, -0.0002254993887618184, -0.026649249717593193, 0.03717314079403877, -0.008842229843139648, -0.014338348060846329, -0.01930874213576317, 0.01748104766011238, -0.010157172568142414, 0.009985258802771568, -0.02210446260869503, -0.001215783879160881, 0.006270245183259249, 0.013725180178880692, 0.025201871991157532, -0.0338592454791069, -0.0011371378786861897, 0.08596234768629074, 0.021859385073184967, -0.007644921075552702, -0.0030850092880427837, 0.04453148692846298, -0.0013037091121077538, -0.0288956630975008, -0.02633531577885151, 0.0028093201108276844, 0.01079726405441761, -0.019451351836323738, -0.036453697830438614, 0.00508820079267025, 0.029914095997810364, -0.01068191509693861, 0.0066849649883806705, 0.02388142980635166, 0.01771291345357895, 0.0014703799970448017, -0.01895173080265522, 0.009166165255010128, 0.0076647670939564705, -0.02050994150340557, -0.015714963898062706, -0.0014613025123253465, 0.007429533638060093, 0.009566866792738438, 0.010711225681006908, 0.006898309104144573, -0.009391154162585735, -0.019545534625649452, -0.03545309230685234, -0.06176719442009926, -0.022272856906056404, -0.043118398636579514, 0.018352776765823364, -0.0023402292281389236, -0.004222738090902567, -0.04327486827969551, 0.025858180597424507, 0.017618432641029358, 0.00878942757844925, 0.039438921958208084, 0.008824596181511879, 0.03327031433582306, 0.025980571284890175, -0.009331362321972847, -0.005428999662399292, -0.03740309923887253, -0.05824074521660805, 0.05887572467327118, -0.0037428440991789103, 0.013187001459300518, 0.014792920090258121, -0.046682585030794144, -0.02210737019777298, 0.0064716702327132225, 0.0035058418288826942, 0.03154466301202774, 0.026691218838095665, 0.028576407581567764, 0.028033744543790817, -0.029319947585463524, 0.010856646113097668, -0.027783183380961418, 0.03786865249276161, 0.0077422186732292175, -0.051455266773700714, -0.014120884239673615, 0.05561646446585655, 0.017498552799224854, -0.024795707315206528, 0.01381833665072918, 0.008258537389338017, -0.00909510813653469, 0.044248390942811966, -0.013298439793288708, 0.022851193323731422, 0.007554663345217705, -0.005556178744882345, -0.026851441711187363, 0.04283799231052399, -0.030624572187662125, -0.04370550438761711, -0.009680391289293766, -0.006718826945871115, 0.016627749428153038, 0.020827841013669968, 0.020590972155332565, 0.05548372492194176, 0.009113767184317112, 0.048021454364061356, 0.0028951577842235565, 0.026987779885530472, -0.05199022963643074, -0.04606880247592926, 0.014079607091844082, -0.01025676541030407, 0.02094569429755211, 0.020687095820903778, 0.006968600209802389, 0.014875832945108414, -0.03136388212442398, 0.001248744549229741, 0.018802408128976822, 0.03199203312397003, 0.000287856935756281, -0.02722770906984806, 0.04708469286561012, 0.033834073692560196, -0.01576898992061615, 0.019647089764475822, 0.06061580032110214, 0.001848181476816535, 0.004004721995443106, 0.04876019060611725, 0.022826801985502243, 0.014284416101872921, -0.014066209085285664, 0.021967440843582153, 0.059862177819013596, 0.00028341737925074995, 0.014908602461218834, 0.007023279555141926, 0.024416375905275345, 0.00801575556397438, 0.01087253913283348, 0.0016236278461292386, -0.013646871782839298, 0.048476070165634155, -0.023516230285167694, -0.006223456468433142, 0.0007701621507294476, -0.022264229133725166, 0.058263808488845825, -0.042533282190561295, -0.008776973001658916, -0.029511036351323128, -0.021039282903075218, -0.005618699360638857, 0.03724321350455284, -0.022321166470646858, 0.02959318272769451, 0.022220874205231667, 0.060007695108652115, 0.0543372817337513, -0.013108935207128525, 0.046754226088523865, -0.004019578453153372, -0.02003682218492031, -0.009979202412068844, -0.05236510932445526, 0.012971555814146996, -0.023964006453752518, -0.04701245203614235, 0.01768026314675808, -0.06316708773374557, -0.012216237373650074, -0.051538754254579544, 0.016716154292225838, 0.0028964951634407043, 0.0023543699644505978, 0.046984318643808365, 0.005236110184341669, 0.0286058709025383, 0.018033556640148163, 0.0026883617974817753, 0.012599202804267406, 0.043125808238983154, -0.012468750588595867, 0.016190804541110992, -0.035035233944654465, -0.013990483246743679, 0.0850161537528038, -0.0006754017085768282, -0.03510754555463791, 0.01890823431313038, -0.043884120881557465, 0.01817837730050087, -0.014595232903957367, 0.05074281617999077, -0.014598777517676353, -0.012248411774635315, -0.053821712732315063, 0.00917732808738947, -0.013291004113852978, -0.026121487841010094, 0.019020933657884598, -0.009157833643257618, 0.015958454459905624, -0.012059276923537254, 0.023945899680256844, 0.010822107084095478, 0.0012781574623659253, -0.04741381108760834, 0.028183547779917717, -0.03028205595910549, 0.03450251370668411, -0.03545203432440758, 0.010610676370561123, 0.02175796777009964, -0.07106904685497284, -0.011429190635681152, -0.0007577334181405604, 0.0009730088640935719, -0.06687965244054794, 0.0017512999475002289, 0.030838068574666977, -0.01364524383097887, -0.02012292668223381, -0.0196966752409935, 0.04643264785408974, -0.004844079725444317, -0.08160027861595154, 0.04044304043054581, 0.004950473550707102, 0.031064769253134727, 0.0052509186789393425, -0.00610312120988965, 0.014033714309334755, -0.02118191123008728, -0.019575390964746475, 0.025881558656692505, -0.026794644072651863, 0.06484146416187286, 0.01743645779788494, 0.025304069742560387, 0.012567223981022835, 0.006157856900244951, -0.015259130857884884, -0.002980077639222145, 0.004574261140078306, -0.01168545987457037, -0.04778236150741577, 0.04852066934108734, 0.02730189450085163, 0.01990864984691143, -0.046112317591905594, 0.04947085678577423, -0.015534104779362679, -0.022958848625421524, 0.007057514972984791, 0.011417134664952755, 0.028111206367611885, -0.0009655295871198177, 0.0052147069945931435, 0.0058796703815460205, 0.040908802300691605, 0.04670417308807373, 0.013859497383236885, -0.04856494814157486, -0.03641865774989128, 0.03055660054087639, -0.0033170930109918118, -0.03998246043920517, -0.0323239304125309, 0.032081663608551025, -0.002212329301983118, -0.037438198924064636, 0.04703686386346817, 0.04756614565849304, -0.003721176413819194, -0.00484991492703557, 0.05456386134028435, 0.00876217894256115, 0.014281706884503365, 0.01304144412279129, -0.0057755121961236, 0.011362372897565365, 0.005727226380258799, 0.028392244130373, -0.03743186593055725, 0.017423409968614578, 0.009146065451204777, -0.04311312735080719, 0.010060473345220089, -0.013028779998421669, 0.026313522830605507, -0.008787086233496666, 0.048813145607709885, -0.02394179068505764, -0.008417521603405476, -0.030199911445379257, -0.011565573513507843, -0.008227531798183918, -0.0007780012674629688, 0.036086179316043854, 0.019429698586463928, 0.01580185443162918, -0.06475584208965302, 0.03227159380912781, -0.01971474476158619, 0.012444721534848213, 0.0005196327110752463, 0.037241194397211075, 0.04861577972769737, -0.030769051983952522, -0.011096968315541744, 0.030283838510513306, -0.049534671008586884, 0.05492839589715004, -0.0020628205966204405, 0.04958370327949524, 0.0007331368396990001, -0.006119845900684595, -0.023130156099796295, 0.009980842471122742, 0.02388335019350052, -0.019458580762147903, -0.032001424580812454, 0.02911379560828209, -0.05370789393782616, -0.012846685945987701, 0.03300856426358223, -0.0024578168522566557, 0.025622421875596046, 0.0028969645500183105, -0.016086366027593613, -0.01989271678030491, -0.03626827150583267, 0.05153733491897583, 0.025978298857808113, -0.023754620924592018, -0.0021326879505068064, 0.056630536913871765, -0.021224915981292725, 0.026157818734645844, -0.030654877424240112, -0.009088541381061077, -0.0013654616195708513, 0.007371792569756508, 0.014015528373420238, -0.038815710693597794, -0.005175889004021883, -0.020652420818805695, -0.08542812615633011, 0.032869815826416016, -0.02112164907157421, -0.0017047012224793434, -0.023852869868278503, 0.01019336935132742, 0.0031528575345873833, -0.046267617493867874, 0.004378558602184057, 0.012766247615218163, 0.03188915550708771, -0.006445381790399551, 0.061730459332466125, 0.02729329839348793, -0.04018533229827881, 0.012747298926115036, -0.043413933366537094, -0.03434225916862488, 0.024028968065977097, 0.045110832899808884, -0.0642278715968132, -0.002670848509296775, 0.01576581597328186, -0.046336013823747635, 0.015471884980797768, -0.012263954617083073, 0.004063988570123911, 0.0028699967078864574, -0.05909788981080055, -0.04977875575423241, -0.03188014030456543, 0.004282364156097174, -0.04063797369599342, -0.010036945343017578, -0.020495139062404633, 0.04349435865879059, 0.009183084592223167, -0.02145693264901638, -0.03666561841964722, 0.03871415555477142, -0.028577027842402458, -0.12108994275331497, 0.011257979087531567, -0.021855859085917473, 0.03847646340727806, -0.02077888511121273, 0.026198504492640495, -0.005205580033361912, 0.007620599586516619, 0.023885345086455345, -0.06817089766263962, -0.010705290362238884, 0.03838725388050079, 0.020878396928310394, -0.013643755577504635, -0.001299050753004849, 0.018895788118243217, -0.01062721572816372, 0.019094303250312805, 0.007303009741008282, 0.025121107697486877, -0.003089873818680644, 0.019350560382008553, 0.045457515865564346, -0.006982727907598019, 0.016584400087594986, -0.004083533771336079, 0.006178648676723242, 0.010033605620265007, -0.06160513311624527, 0.008099183440208435, 0.05615949630737305, -0.057078372687101364, 0.005859647411853075, 0.002649553120136261, -0.052220419049263, -0.029950210824608803, -0.04529864713549614, 0.004038635641336441, -0.027648018673062325, 0.03871118649840355, -0.03272446617484093, 0.02715749479830265, 0.03960350900888443, -0.011242448352277279, 0.015820497646927834, 0.08895585685968399, -0.031501587480306625, -0.016731763258576393, -0.014683905988931656, -0.02074110321700573, 0.029698286205530167, -0.026172656565904617, -0.012390896677970886, 0.05219876393675804, -0.012780040502548218, 0.016312656924128532, -0.050875190645456314, 0.009121485985815525, -0.00313632027246058, 0.07734204828739166, -0.041934784501791, 0.0007514365133829415, -0.03058452717959881, 0.013006364926695824, -0.0074104019440710545, 0.030986033380031586, -0.05732092633843422, -0.010988336987793446, -0.015135074034333229, 0.006888874340802431, 0.008642609231173992, 0.06573329865932465, 0.033710915595293045, -0.03401574119925499, 0.029345441609621048, 0.011673962697386742, 0.05105678737163544, 0.0070651136338710785, 0.019810913130640984, -0.03461390733718872, 0.016095615923404694, 0.01248474046587944, -0.04676216095685959, -0.027515798807144165, 0.010376639664173126, -0.02294723503291607, -0.03412250056862831, -0.003230014117434621, -0.008177150972187519, -0.023371756076812744, -0.04848465323448181, -0.011113792657852173, -0.019519340246915817, -0.003848863299936056, -0.047343507409095764, 0.013848789036273956, 0.0020970883779227734, 0.012429004535079002, -0.016072360798716545, -0.012233722023665905, -0.007150513119995594, -0.005227208137512207, 0.009924709796905518, -0.002352415816858411, -0.020415939390659332, 0.03459922596812248, 0.06643096357584, -0.010721652768552303, 0.054809872061014175, -0.03403066471219063, 0.009117682464420795, -0.014219500124454498, -0.051660142838954926, 0.039497654885053635, -0.002909438917413354, -0.012116189114749432, 0.016222812235355377, 0.0620235949754715, 0.015340396203100681, 0.03206440433859825, 0.046687860041856766, -0.026615357026457787, 0.0022646214347332716, -0.018055330961942673, 0.06148133426904678, 0.0034601003862917423, 0.000789548852480948, 0.04581804201006889, 0.049780040979385376, 4.5016543026576983e-07, 0.015820646658539772, -0.028666410595178604, 0.0513312891125679, -0.019402451813220978, 0.0501457080245018, 0.0012630122946575284, 0.06666199862957001, 0.03221099078655243, -0.07578133791685104, -0.02677564136683941, -0.02279249206185341, -0.01389915868639946, -0.0027472826186567545, -0.01722530834376812, -0.05203040689229965, -0.0063860067166388035, 0.02829091064631939, -0.059221621602773666, -0.006042562425136566, -0.010329854674637318, -0.020534342154860497, -0.025234166532754898, 0.006485000252723694, 0.05987749621272087, -0.06461495161056519, 0.039172276854515076, -0.039359234273433685, 0.011597109027206898, -0.0050013428553938866, -0.021776609122753143, 0.02479618974030018, -0.021055860444903374, -0.014341406524181366, 0.005037359893321991, -0.026903092861175537, -0.015666211023926735, -0.020005522295832634, -0.01751844212412834, -0.0021191316191107035, 0.031801626086235046, 0.03315677493810654, 0.06110074743628502, -0.02178020030260086, -0.007200463674962521, 0.02345706894993782, 0.0045004114508628845, -0.033949095755815506, 0.030627746134996414, 0.0505833737552166, 0.019436290487647057, 0.030365247279405594, -0.00849819090217352, 0.038616131991147995, 0.024106798693537712, -0.029866766184568405, -0.02248375304043293, -0.029365157708525658, 0.05913858115673065, 0.02399423159658909, -0.05173461511731148, -0.021445652469992638, -0.008028711192309856, -0.04587537422776222, 0.018533948808908463, -0.01298090722411871, 0.06204555183649063, 0.025514408946037292, 0.030436046421527863, -0.013861756771802902, 0.011499200016260147, -0.0768980160355568, -0.015685729682445526, 0.03136920556426048, -0.01009242795407772, -0.00492860609665513, 0.005839568097144365, -0.05361056327819824, -0.0019884761422872543, -0.023305796086788177, -0.012968518771231174, 0.008794055320322514, 0.018897265195846558, 0.0008403664105571806, -0.0075892792083323, 0.04887891933321953, -0.05043143406510353, 0.012651997618377209, -0.0050495704635977745, -0.0155519163236022, 0.00367421074770391, 0.0029689816292375326, 0.007681491319090128, -0.026818856596946716, -0.010751407593488693, 0.01396102923899889, -0.031508371233940125, 0.010267539881169796, 0.05015924572944641, -0.03511190041899681, -0.0008258200832642615, -0.02818342298269272, -0.02412126027047634, 0.0028528282418847084, 0.020421721041202545, -0.013471666723489761, -0.014262329787015915, 0.022602224722504616, 0.038974639028310776, -0.00824047066271305, -0.015732215717434883, 0.05449068546295166, 0.00834171287715435, 0.03494139015674591, -0.017748042941093445]\n"
     ]
    }
   ],
   "source": [
    "# 문서 임베딩\n",
    "document_embeddings_bgem3 = embeddings_bgem3.embed_documents(documents)\n",
    "\n",
    "# 임베딩 결과 출력\n",
    "print(f\"임베딩 벡터의 개수: {len(document_embeddings_bgem3)}\")\n",
    "print(f\"임베딩 벡터의 차원: {len(document_embeddings_bgem3[0])}\")\n",
    "print(document_embeddings_bgem3[0])"
   ]
  },
  {
   "cell_type": "markdown",
   "id": "447c8889",
   "metadata": {},
   "source": [
    "`(3) embed_query 사용`\n"
   ]
  },
  {
   "cell_type": "code",
   "execution_count": 32,
   "id": "7cbc1b43",
   "metadata": {},
   "outputs": [
    {
     "name": "stdout",
     "output_type": "stream",
     "text": [
      "쿼리 임베딩 벡터의 차원: 1024\n",
      "[-0.037039123475551605, -0.004837991204112768, 0.002937293378636241, -0.015514614060521126, -0.0009441909496672451, -0.041501596570014954, -0.006574478466063738, 0.011289610527455807, 0.02161403000354767, 0.004928704351186752, -0.020340578630566597, 0.016905196011066437, -0.012874152511358261, 0.005518927704542875, 0.014988312497735023, 0.024228768423199654, 0.007369134575128555, -0.028049901127815247, -0.014939001761376858, -0.05185187608003616, -0.006705061998218298, -0.009251521900296211, -0.016980797052383423, 0.006491500418633223, 0.052931781858205795, 0.04813731461763382, -0.008069497533142567, -0.023171763867139816, 0.01814303547143936, -0.011328127235174179, -0.004240373149514198, -0.00635470962151885, -0.002271746750921011, 0.01432944368571043, -0.035636838525533676, -0.008155819028615952, -0.011798230931162834, -0.04542408138513565, -0.040732864290475845, 0.0022139030043035746, -0.012132258154451847, 0.017896121367812157, -0.019144656136631966, -0.04192440211772919, 0.0009190759737975895, -0.03915587440133095, -0.024359628558158875, -0.024489058181643486, -0.022189177572727203, -0.004594773985445499, 0.031455013900995255, -0.04872862994670868, 0.01798146590590477, 0.0249920841306448, 0.002237538807094097, 0.048493195325136185, -0.008275475353002548, 0.02803465910255909, -0.07396607846021652, -0.020461754873394966, -0.026336669921875, -0.007573057897388935, -0.03894694149494171, -0.017513755708932877, 0.019220862537622452, 0.0637216791510582, 0.020348936319351196, -0.011644059792160988, -0.01854124292731285, -0.04083118960261345, 0.002421597484499216, 0.04151126742362976, -0.057807158678770065, 0.05268526449799538, -0.04598039388656616, 0.011361484415829182, 0.020731983706355095, 0.006215646397322416, -0.034680869430303574, 0.017564866691827774, 0.04858105257153511, -0.011552060954272747, -0.029530879110097885, -0.01328027993440628, -0.0061004143208265305, -0.00190250005107373, -0.01976134441792965, 0.06854035705327988, -0.010715009644627571, 0.0023071118630468845, -0.042589638382196426, -0.001590083003975451, 0.05118926614522934, -0.10599071532487869, -0.018659507855772972, -0.08233024179935455, -0.03328851982951164, 0.010936757549643517, 0.014399342238903046, 0.0320371650159359, -0.005423126742243767, 0.04439565911889076, 0.016004206612706184, -0.026697099208831787, 0.029552793130278587, 0.005722426809370518, 0.0007927489350549877, 0.009445477277040482, -0.037956081330776215, -0.006559086497873068, 0.038131747394800186, 0.03867703676223755, 0.01900191232562065, 0.032001249492168427, -0.04679049178957939, -0.05345741659402847, 0.008922789245843887, 0.0013820527819916606, 0.023152265697717667, 0.040909115225076675, -0.007746899034827948, 0.020619843155145645, -0.03608466684818268, -0.042336609214544296, -0.00893730204552412, -0.016762113198637962, 0.033050961792469025, 0.034577786922454834, -0.006106724496930838, -0.014311699196696281, 0.02695603109896183, -0.01739502139389515, -0.07625307887792587, -0.006047271192073822, -0.05990395322442055, -0.02036604844033718, 0.00690590450540185, -0.0312081016600132, 0.02491195872426033, -0.03327041491866112, 0.0343724749982357, 0.006274079438298941, -0.03359515219926834, -0.028891736641526222, 0.018341276794672012, 0.006629306823015213, 0.004403312690556049, -0.007898855023086071, -0.010449203662574291, 0.024499058723449707, -0.01784862019121647, -0.023140735924243927, -0.026498032733798027, -0.00970399845391512, 0.008640210144221783, 0.046334799379110336, 0.010182308964431286, 0.023935405537486076, -0.052029117941856384, 0.034543342888355255, 0.042555976659059525, -0.0006984470528550446, 0.006904140580445528, 0.02455480583012104, -0.009249888360500336, 0.00375000131316483, 0.0019923208747059107, 0.022435255348682404, -0.007651497144252062, -0.026824617758393288, -0.037184249609708786, 0.010140053927898407, -0.03330320492386818, 0.03516094386577606, 0.014152996242046356, 0.001517971744760871, 0.06473015993833542, 0.03341676667332649, -0.009922732599079609, -0.008217395283281803, -0.05553996190428734, -0.017524655908346176, -0.011371004395186901, 0.0038229909259825945, -0.003737528109923005, 0.011147843673825264, 0.015892621129751205, 0.011535941623151302, 0.01930191181600094, 6.5928979893215e-05, -0.01662611775100231, -0.02188459224998951, 0.013342291116714478, -0.004614574834704399, -0.0013086313847452402, -0.029976166784763336, 0.03368759527802467, 0.04602939635515213, -0.004229733254760504, -0.04002342000603676, -0.027000155299901962, 0.028471942991018295, 0.016615090891718864, 0.0074339513666927814, -0.04309450834989548, 0.013872237876057625, 0.004785218741744757, -0.04215671867132187, 0.011164241470396519, -0.03745198994874954, 0.018990466371178627, 0.04842603951692581, 0.049872253090143204, -0.023933248594403267, -0.05517074093222618, -0.008649075403809547, -0.019167348742485046, 0.04419615864753723, -0.007545452564954758, -0.01242662314325571, -0.013597340323030949, 0.019231392070651054, 0.0015145166544243693, 0.02555161900818348, 0.03561320900917053, -0.0017695315182209015, 0.037005651742219925, -0.01934419758617878, 0.02111251838505268, 0.010621186345815659, 0.0018154532881453633, 0.058873772621154785, 0.0162171833217144, -0.03262634575366974, 0.0010106679983437061, -0.014767293818295002, -0.037835847586393356, -0.02151407115161419, 0.006840208545327187, 0.01949603669345379, -0.024711281061172485, 0.002176497131586075, -0.032640207558870316, 0.02691698633134365, -0.011721797287464142, -0.01311167236417532, -0.016775257885456085, -0.025881528854370117, -0.012007090263068676, 0.025429416447877884, -0.001238986267708242, -0.038785431534051895, 0.005284701008349657, -0.012242455966770649, 0.05315488204360008, 0.014017338864505291, -0.01020788960158825, 0.005708552431315184, 0.007218072656542063, 0.03655289113521576, 0.010486885905265808, -0.02365611493587494, 0.0005250406102277339, 0.03281537815928459, 0.0539558082818985, 0.010052734054625034, 0.0018818125827237964, -0.03236310929059982, 0.01933571882545948, 0.03375539183616638, -0.014729133807122707, -0.020189423114061356, -0.020224420353770256, 0.0033614139538258314, 0.03844420984387398, -0.01458846963942051, -0.008461087010800838, -0.015727438032627106, 0.025323055684566498, 0.009637243114411831, -0.021265948191285133, -0.05622909218072891, -0.014719415456056595, 0.04648503661155701, 0.02474283054471016, -0.02521609701216221, -0.031498707830905914, 0.0021102833561599255, -0.0018524363404139876, -0.03766107186675072, -0.010685303248465061, -0.021195508539676666, 0.05994449183344841, -0.017540927976369858, -0.029294462874531746, -0.016515031456947327, -0.03334275633096695, -0.1345064640045166, 0.014861912466585636, -0.030510181561112404, 0.023870935663580894, -0.008990784175693989, -0.030506964772939682, 0.019909881055355072, -0.012342064641416073, 0.0009846208849921823, 0.029325369745492935, 0.008167718537151814, -0.04651207476854324, -0.049962811172008514, -0.03237045928835869, 0.03154980018734932, 0.005826599430292845, 0.017247986048460007, -0.012478492222726345, -0.03253526985645294, -0.04868706315755844, -0.016888249665498734, -0.06612596660852432, 0.008022107183933258, -0.051493532955646515, 0.056620385497808456, -0.011946983635425568, 0.014184625819325447, -0.003226294880732894, -0.04714842140674591, -0.057101305574178696, -0.013619945384562016, -0.04022352397441864, -0.009091481566429138, 0.053464729338884354, 0.051880281418561935, 0.0058720773085951805, -0.003309080610051751, -0.024142464622855186, 0.04166967049241066, -0.006590448319911957, 0.0012395876692607999, 0.004078471567481756, 0.02711060829460621, 0.04170547053217888, 0.004624213092029095, 0.017327412962913513, 0.03122676908969879, -0.01880442537367344, 0.02211291529238224, -0.0014157555997371674, -0.0316413938999176, -0.003841651836410165, 0.04987509548664093, -0.04317934811115265, 0.019453613087534904, -0.004618047270923853, 0.03876296803355217, 0.0749245285987854, 0.04673222079873085, -0.01282190065830946, -0.049266450107097626, 0.03639501333236694, -0.016499236226081848, 0.023837504908442497, -0.01405634731054306, -0.008350412361323833, 0.0763549655675888, 0.0216106865555048, -0.006471710745245218, -0.029888402670621872, 0.042987581342458725, -0.006319603882730007, 0.0034829657524824142, -0.011994467116892338, 0.01896720379590988, 0.03665362671017647, 0.011891369707882404, -0.05531254783272743, -0.043616123497486115, -0.07883050292730331, 0.026639578863978386, -0.016894184052944183, -0.0008406933629885316, -0.0007740960572846234, -0.02035103179514408, -0.019341707229614258, -0.0019194061169400811, 0.0029372547287493944, 0.01631167344748974, 0.24095183610916138, -0.020462950691580772, 0.016002869233489037, -0.02317243069410324, -0.00974917970597744, -0.0055515579879283905, -0.022992296144366264, -0.021734090521931648, 0.010987704619765282, -0.02273484319448471, 0.005074255168437958, -0.016033999621868134, 0.00748205604031682, 0.0038968855515122414, 0.024994485080242157, 0.06091337651014328, -0.034541577100753784, 0.008022163063287735, 0.06798815727233887, 0.011886132881045341, 0.0013998639769852161, 0.012132993899285793, 0.033472321927547455, 0.012255764566361904, -0.02356661856174469, -0.006584821734577417, 0.016387883573770523, 0.032310158014297485, -0.012116351164877415, -0.02072175405919552, -0.0006229509017430246, 0.006029605865478516, 0.015111151151359081, -0.00542251393198967, 0.002463559852913022, 0.00805119052529335, -0.01281439047306776, -0.02607821486890316, 0.01674751192331314, -0.0022051616106182337, -0.029849650338292122, -0.021296124905347824, 0.03523918613791466, -0.0066303107887506485, 0.009591863490641117, 0.018282264471054077, 0.017618738114833832, 0.01873532310128212, -0.06494813412427902, -0.019880017265677452, -0.03368113562464714, -0.002116331597790122, -0.05129687488079071, 0.0022100480273365974, -0.01108013279736042, -0.02089052088558674, -0.015042435377836227, 0.03895006701350212, 0.01661725901067257, -0.017477521672844887, 0.06690280139446259, -0.004562917165458202, 0.023438800126314163, -0.027877969667315483, 0.008510115556418896, -0.016472838819026947, -0.0329514741897583, -0.08128269016742706, -0.011990657076239586, 0.0058660986833274364, 5.373934254748747e-05, -0.0034926149528473616, -0.03506447374820709, -0.005048452876508236, 0.023774076253175735, 0.029240330681204796, 0.030662555247545242, 0.038219328969717026, 0.007099452894181013, 0.010195697657763958, 0.0158676840364933, 0.003633909858763218, -0.0426153764128685, 0.01466070394963026, 0.00944962352514267, -0.0394296832382679, -0.028074204921722412, 0.04945937916636467, 0.028142331168055534, -0.0447281077504158, 0.04677305370569229, -0.018533222377300262, -0.040078409016132355, 0.031544484198093414, 0.01186834555119276, -0.012655260972678661, 0.0657903403043747, 0.013060864992439747, 0.010287107899785042, 0.04188521206378937, -0.03937184065580368, -0.022850612178444862, 0.00016454444266855717, 0.0556056946516037, 0.049515459686517715, -0.00817536935210228, 0.010815403424203396, 0.06870774179697037, 0.007081443443894386, 0.09678665548563004, -0.017001144587993622, -0.005990344099700451, -0.03747908025979996, -0.0028822661843150854, 0.02453654818236828, 0.0067351385951042175, 0.028513984754681587, -0.02395448461174965, 0.008569274097681046, 0.014626262709498405, -0.04774687811732292, 0.027444014325737953, -0.000999676645733416, -0.023877499625086784, 0.024636898189783096, -0.03217219561338425, 0.03437191992998123, -0.010820277966558933, -0.013791010715067387, 0.015677308663725853, 0.0397120863199234, 0.007031152956187725, 0.03324788063764572, 0.0676274374127388, 0.04346626251935959, 0.01006978191435337, -0.006054616998881102, 0.033415403217077255, 0.023479754105210304, 0.022209635004401207, -0.010580621659755707, -0.006418743170797825, -0.000964256701990962, 0.020537370815873146, 0.004917801357805729, 0.006863143295049667, 0.026144690811634064, 0.03087618388235569, -0.03568340837955475, -0.03693291172385216, -0.03490952029824257, -0.01622273214161396, -0.007834140211343765, -0.08086275309324265, -0.002636223565787077, -0.026474688202142715, -0.0013029561378061771, -0.03466774523258209, -0.0015012803487479687, -0.03400755301117897, 0.02987048402428627, -0.02357438951730728, 0.05143371969461441, 0.10243328660726547, 0.016947399824857712, 0.0738985612988472, 0.04954981058835983, 0.011109049431979656, 0.008857868611812592, -0.06901865452528, 0.046070829033851624, -0.03176076337695122, -0.043508127331733704, 0.006947516463696957, -0.028536859899759293, -0.02870977483689785, -0.028362322598695755, 0.0007430787081830204, 0.009753094986081123, -0.05102904886007309, 0.01608182117342949, 0.019987262785434723, 0.02581094391644001, 0.05375564843416214, -0.005319280084222555, 0.003931448794901371, 0.053991980850696564, -0.0051290239207446575, 0.01410908717662096, -0.015200198628008366, -0.0002676559961400926, 0.07187125086784363, 0.011996839195489883, -0.006194999907165766, 0.020591972395777702, -0.039722688496112823, 0.007841470651328564, -0.020624704658985138, 0.04603109136223793, 0.028482520952820778, 0.033692117780447006, -0.05101742222905159, -0.0006113619892857969, -0.0005768104456365108, 0.020632075145840645, 0.00931626558303833, -0.023178743198513985, -0.0013654817594215274, -0.01855292357504368, 0.044818952679634094, 0.026425613090395927, -0.0054453713819384575, -0.03083128295838833, -0.007227368652820587, -0.03326850011944771, 0.018092410638928413, -0.042531631886959076, 0.03340943902730942, 0.022858308628201485, -0.056652747094631195, -0.033027391880750656, 0.030000634491443634, 0.01242824550718069, -0.07073479890823364, 0.00037813305971212685, 0.052930302917957306, -0.028434891253709793, -0.021334771066904068, 0.02561727538704872, 0.037739235907793045, 0.008760223165154457, -0.06261827051639557, 0.02034136652946472, 0.03599682077765465, 0.012768251821398735, -0.015243896283209324, -0.021516690030694008, -0.016208594664931297, -0.014530639164149761, -0.030245481058955193, 0.03425876051187515, -0.01340131089091301, 0.06385199725627899, 0.02114606834948063, 0.017921501770615578, -0.019347283989191055, 0.01133694127202034, -0.008723491802811623, -0.015219803899526596, 0.028517618775367737, -0.032641053199768066, -0.010743845254182816, 0.041790079325437546, 0.002668234519660473, 0.009615384042263031, -0.01281389407813549, 0.03967619314789772, 0.001359692309051752, -0.011945161037147045, -0.002205200493335724, 0.002957327989861369, 0.02780294604599476, -0.030607186257839203, 0.0018586445366963744, -0.00244968943297863, 0.021612202748656273, 0.0075338007882237434, 0.00335278850980103, -0.05431552231311798, -0.04692956805229187, 0.03315075859427452, 0.01905076391994953, -0.02316315844655037, -0.04460866004228592, -0.028425132855772972, 0.025952912867069244, -0.04476160556077957, 0.018117744475603104, 0.006036265753209591, 0.04835161566734314, -0.018086077645421028, 0.07059591263532639, -0.012845815159380436, 0.03550199419260025, -0.028405683115124702, -0.0042905863374471664, 0.009981371462345123, -0.02503240294754505, 0.00034162006340920925, -0.07229295372962952, -0.007575966417789459, -0.01706046052277088, -0.05374092608690262, 0.017092812806367874, -0.006584619637578726, 0.058475811034440994, -0.019886890426278114, 0.03939032554626465, -0.024408867582678795, -0.02269762009382248, -0.03535723686218262, 0.0014931238256394863, -0.0142778055742383, 0.01902516558766365, -0.0010354126570746303, 0.024349723011255264, 0.012797103263437748, -0.031896770000457764, 0.024282272905111313, -0.0005900473915971816, -0.018702266737818718, 0.0062789311632514, 0.02822841890156269, 0.029838625341653824, -0.045945342630147934, -0.016823964193463326, 0.047541458159685135, -0.07021928578615189, 0.02510424144566059, 0.023485662415623665, 0.05767753720283508, 0.02342899516224861, 0.0015275705372914672, -0.04584287479519844, 0.030835388228297234, 0.0004904603702016175, -0.0209508053958416, -0.030310746282339096, 0.026045260950922966, -0.07034263759851456, -0.01583988033235073, 0.04656243696808815, -0.0070927864871919155, -0.003866099053993821, -0.00879648420959711, 0.0005151146906428039, -0.030279234051704407, -0.024433644488453865, 0.03805074095726013, -0.01650290936231613, 0.042450033128261566, 0.005689399782568216, 0.04680785909295082, -0.01727033033967018, -0.016238773241639137, -0.05630577728152275, 0.008184346370398998, 0.020044377073645592, -0.0024435340892523527, 0.03499758243560791, 0.009682789444923401, 0.04170861467719078, -0.047173209488391876, -0.05711451917886734, 0.03945716470479965, 0.01671980693936348, -0.03055378794670105, -0.025327617302536964, 0.02032642811536789, 0.010175016708672047, -0.040363576263189316, 0.031642794609069824, 0.014100966043770313, 0.0356171615421772, 0.013648366555571556, 0.013169455341994762, 0.0028140631038695574, -0.024342939257621765, 0.013845612294971943, -0.014623390510678291, -0.010815788060426712, 0.014875129796564579, 0.05588505044579506, -0.03753671422600746, -0.024807611480355263, 0.016538484022021294, -0.016592441126704216, -0.019737500697374344, -0.010183054022490978, -0.023496877402067184, -0.011645345017313957, -0.06232384964823723, -0.03916677460074425, -0.03645595163106918, -0.011060030199587345, -0.023356175050139427, 2.159148243663367e-05, -0.044603753834962845, 0.04020139202475548, -0.055025871843099594, -0.034017112106084824, -0.03588028997182846, -0.012097512371838093, -0.006962580140680075, -0.12520676851272583, 0.02568046562373638, -0.0006912063108757138, -0.005511797498911619, -0.040344443172216415, 0.012482860125601292, -0.02308870293200016, -0.0004981461679562926, 0.014127637259662151, -0.023778701201081276, -0.022780029103159904, 0.05018452927470207, -0.04474737495183945, -0.014800110831856728, -0.004711471498012543, 0.028020374476909637, -0.016769656911492348, 0.016406236216425896, -0.01632559671998024, -0.0217816811054945, -0.042400214821100235, -0.012077473104000092, 0.028010839596390724, -0.02755485475063324, 0.05169367417693138, 0.02230638638138771, 0.025189917534589767, 0.043324120342731476, -0.0388321578502655, -0.014297828078269958, 0.017593571916222572, -0.06939604133367538, 0.041472721844911575, -0.0013704282464459538, -0.051027245819568634, -0.027104686945676804, -0.025515036657452583, -0.019199684262275696, -0.004185936413705349, 0.0009279082296416163, -0.004753049463033676, 0.017131246626377106, 0.0052074287086725235, -0.02561449073255062, -0.03588829189538956, 0.0458889901638031, -0.027583841234445572, -0.027078988030552864, -0.024635184556245804, 0.004591132048517466, 0.026804663240909576, -0.019332122057676315, 0.001126498100347817, 0.019270429387688637, -0.00684039480984211, 0.024125097319483757, -0.05452210456132889, 0.025098679587244987, -0.002562633017078042, 0.09898557513952255, -0.002052202122285962, -0.0008181370794773102, -0.027206934988498688, 0.028830425813794136, -0.02365422435104847, 0.01934932731091976, -0.035168662667274475, 0.00542127201333642, 0.02439751848578453, 0.006299017462879419, -0.011892050504684448, 0.0053064278326928616, 0.011678394861519337, -0.017512740567326546, 0.03408223018050194, 0.011782774701714516, 0.03477012366056442, 0.01595100201666355, -0.017956139519810677, -0.028450578451156616, 0.03562707453966141, 0.006755811162292957, -0.04474261403083801, -0.012436765246093273, -0.01788581721484661, 0.006770850624889135, -0.03011416457593441, 0.014468454755842686, 0.01238388940691948, -0.010364174842834473, -0.07452560216188431, -0.013963386416435242, 0.004212408326566219, 0.010386237874627113, -0.05068020895123482, 0.005435174331068993, -0.021549981087446213, 0.004790769889950752, -0.03258197382092476, -0.016719186678528786, -0.017220983281731606, -0.0008278167806565762, 0.017261845991015434, 0.026830071583390236, -0.015174465253949165, 0.008098185993731022, 0.0670638307929039, -0.018373612314462662, 0.006587129086256027, -0.004388136323541403, 0.01556369662284851, -0.007881865836679935, 0.004045040346682072, 0.035040318965911865, 0.0011945985024794936, -0.010163339786231518, 0.029281727969646454, 0.03393738344311714, 0.0009082634351216257, 0.026278486475348473, -0.010453017428517342, -0.009190737269818783, -0.02163030207157135, -0.012689609080553055, 0.04191263020038605, 0.05326980724930763, 0.0040600174106657505, 0.01584009826183319, 0.09813228249549866, -0.0013113967142999172, 0.026166265830397606, -0.06436088681221008, 0.015403511002659798, -0.009460688568651676, 0.029180660843849182, -0.035122279077768326, 0.030463209375739098, 0.04443252459168434, -0.03815362602472305, -0.06943001598119736, -0.012108906172215939, 0.023328490555286407, -0.02252822555601597, -0.0024424821604043245, -0.0498543307185173, -0.03089968115091324, 0.017584770917892456, -0.010001719929277897, -0.05021364986896515, -0.05402825027704239, -0.007201656233519316, -0.01813683845102787, 0.0014227429637685418, 0.025819558650255203, -0.0021002006251364946, 0.037133410573005676, -0.023976335301995277, 0.008912057615816593, -0.027604226022958755, 0.028801899403333664, 0.010518449358642101, -0.01337382197380066, -0.029343420639634132, -0.004075953736901283, -0.03959452360868454, -0.024744557216763496, -0.009986333549022675, -0.012933139689266682, -0.0171048566699028, 0.021259352564811707, 0.005327804479748011, 0.06360168009996414, -0.035000041127204895, 0.04053354263305664, 0.03943653032183647, -0.011726207099854946, -0.0027182300109416246, 0.0628650039434433, 0.012967749498784542, -0.018978098407387733, 0.025848932564258575, -0.029939105734229088, 0.014617024920880795, 0.020571177825331688, -0.029358798637986183, -0.04000374674797058, -0.012205005623400211, 0.06588023900985718, 0.03213939443230629, -0.0048506297171115875, -0.006377001293003559, 0.006935077253729105, 0.012511450797319412, -0.009101977571845055, 0.03476706147193909, 0.038523633033037186, 0.03456319868564606, 0.03191705793142319, -0.027388501912355423, 0.027580346912145615, -0.05587901547551155, -0.014389998279511929, 0.04932107776403427, -0.015086092986166477, -0.012660959735512733, -0.003120935056358576, -0.040989093482494354, -0.010736668482422829, -0.018655024468898773, 0.0017576967366039753, -0.015417583286762238, -0.024930963292717934, 0.016272157430648804, 0.00830402597784996, 0.012492232955992222, -0.026104329153895378, 0.028651556000113487, -0.006774320732802153, -0.02106936275959015, -0.012413241900503635, -0.004087935201823711, -0.011877220124006271, -0.010481787845492363, -0.022585246711969376, 0.013596597127616405, -0.05835200473666191, 0.007541242055594921, 0.048690635710954666, -0.024091772735118866, 0.006596383173018694, 0.026851382106542587, -0.05219601094722748, -0.045458000153303146, 0.045182228088378906, 0.015354667790234089, -0.01658996194601059, 0.05032368376851082, 0.012740335427224636, -0.008616270497441292, -0.037519317120313644, 0.05184701085090637, -0.01824270375072956, 0.001251744688488543, -0.025500066578388214]\n"
     ]
    }
   ],
   "source": [
    "embedded_query = embeddings_bgem3.embed_query(\"인공지능이란 무엇인가요?\")\n",
    "\n",
    "# 쿼리 임베딩 결과 출력\n",
    "print(f\"쿼리 임베딩 벡터의 차원: {len(embedded_query)}\")\n",
    "print(embedded_query)"
   ]
  },
  {
   "cell_type": "markdown",
   "id": "62990788",
   "metadata": {},
   "source": [
    "`(4) 유사도 기반 검색`\n"
   ]
  },
  {
   "cell_type": "code",
   "execution_count": 33,
   "id": "8476a423",
   "metadata": {},
   "outputs": [
    {
     "name": "stdout",
     "output_type": "stream",
     "text": [
      "쿼리: 인공지능이란 무엇인가요?\n",
      "가장 유사한 문서: 인공지능은 컴퓨터 과학의 한 분야입니다.\n",
      "유사도: 0.7269\n",
      "\n",
      "쿼리: 딥러닝과 머신러닝의 관계는 어떻게 되나요?\n",
      "가장 유사한 문서: 딥러닝은 머신러닝의 한 종류입니다.\n",
      "유사도: 0.7057\n",
      "\n",
      "쿼리: 컴퓨터가 이미지를 이해하는 방법은?\n",
      "가장 유사한 문서: 컴퓨터 비전은 컴퓨터가 디지털 이미지나 비디오를 이해하는 방법을 연구합니다.\n",
      "유사도: 0.6843\n",
      "\n"
     ]
    }
   ],
   "source": [
    "# 예제 쿼리\n",
    "queries = [\n",
    "    \"인공지능이란 무엇인가요?\",\n",
    "    \"딥러닝과 머신러닝의 관계는 어떻게 되나요?\",\n",
    "    \"컴퓨터가 이미지를 이해하는 방법은?\",\n",
    "]\n",
    "\n",
    "# 각 쿼리에 대해 가장 유사한 문서 찾기\n",
    "for query in queries:\n",
    "    most_similar_doc, similarity = find_most_similar(\n",
    "        query, document_embeddings_bgem3, embeddings_model=embeddings_bgem3\n",
    "    )\n",
    "    print(f\"쿼리: {query}\")\n",
    "    print(f\"가장 유사한 문서: {most_similar_doc}\")\n",
    "    print(f\"유사도: {similarity:.4f}\")\n",
    "    print()"
   ]
  },
  {
   "cell_type": "markdown",
   "id": "36aeea6b",
   "metadata": {},
   "source": [
    "### 3. **Ollama**\n",
    "\n",
    "- LangChain에서 로컬 실행에 최적화된 경량 임베딩 모델\n",
    "\n",
    "- 주요 특징:\n",
    "\n",
    "  1. 완전한 로컬 실행 환경 제공\n",
    "  2. 빠른 추론 속도\n",
    "  3. 간단한 설치 및 실행 과정\n",
    "  4. Docker 기반 손쉬운 배포\n",
    "\n",
    "- 사용시 주의사항:\n",
    "\n",
    "  1. Ollama 서버 실행 필요\n",
    "  2. 모델별 시스템 요구사항 확인\n",
    "  3. API 엔드포인트 설정 필요\n",
    "  4. 동시 요청 처리량 고려\n",
    "\n",
    "- 대표적인 임베딩 모델:\n",
    "\n",
    "  ```\n",
    "  모델                차원       언어        특징\n",
    "  llama2              4096      영어       범용성 높은 기본 모델\n",
    "  nomic-embed-text    768       영어       경량화된 고성능 모델\n",
    "  codellama          2048       다국어     코드 특화 임베딩\n",
    "  ```\n",
    "\n",
    "- 임베딩 벡터 특성:\n",
    "  1. 모델별 고정 차원 사용\n",
    "  2. 최적화된 양자화 지원\n",
    "  3. 배치 처리 최적화\n"
   ]
  },
  {
   "cell_type": "markdown",
   "id": "54b36e5a",
   "metadata": {},
   "source": [
    "`(1) embedding 모델`\n",
    "\n",
    "- langchain_ollama 설치 필요\n"
   ]
  },
  {
   "cell_type": "code",
   "execution_count": 34,
   "id": "3b86cf30",
   "metadata": {},
   "outputs": [
    {
     "data": {
      "text/plain": [
       "OllamaEmbeddings(model='bge-m3', base_url=None, client_kwargs={}, async_client_kwargs={}, sync_client_kwargs={}, mirostat=None, mirostat_eta=None, mirostat_tau=None, num_ctx=None, num_gpu=None, keep_alive=None, num_thread=None, repeat_last_n=None, repeat_penalty=None, temperature=None, stop=None, tfs_z=None, top_k=None, top_p=None)"
      ]
     },
     "execution_count": 34,
     "metadata": {},
     "output_type": "execute_result"
    }
   ],
   "source": [
    "from langchain_ollama import OllamaEmbeddings\n",
    "\n",
    "# OllamaEmbeddings 모델 생성\n",
    "# embeddings_ollama = OllamaEmbeddings(\n",
    "#     model=\"nomic-embed-text\",          # 사용할 모델 이름\n",
    "#     base_url=\"http://localhost:11434\"  # Ollama 서버 주소\n",
    "# )\n",
    "embeddings_ollama = OllamaEmbeddings(model=\"bge-m3\")\n",
    "\n",
    "# 임베딩 객체 출력\n",
    "embeddings_ollama"
   ]
  },
  {
   "cell_type": "markdown",
   "id": "e70b54cb",
   "metadata": {},
   "source": [
    "`(2) embed_documents 사용`\n"
   ]
  },
  {
   "cell_type": "code",
   "execution_count": 39,
   "id": "bf52f1fa",
   "metadata": {},
   "outputs": [
    {
     "ename": "ConnectionError",
     "evalue": "Failed to connect to Ollama. Please check that Ollama is downloaded, running and accessible. https://ollama.com/download",
     "output_type": "error",
     "traceback": [
      "\u001b[31m---------------------------------------------------------------------------\u001b[39m",
      "\u001b[31mConnectionError\u001b[39m                           Traceback (most recent call last)",
      "\u001b[36mCell\u001b[39m\u001b[36m \u001b[39m\u001b[32mIn[39]\u001b[39m\u001b[32m, line 11\u001b[39m\n\u001b[32m      2\u001b[39m documents = [\n\u001b[32m      3\u001b[39m     \u001b[33m\"\u001b[39m\u001b[33m인공지능은 컴퓨터 과학의 한 분야입니다.\u001b[39m\u001b[33m\"\u001b[39m,\n\u001b[32m      4\u001b[39m     \u001b[33m\"\u001b[39m\u001b[33m머신러닝은 인공지능의 하위 분야입니다.\u001b[39m\u001b[33m\"\u001b[39m,\n\u001b[32m   (...)\u001b[39m\u001b[32m      7\u001b[39m     \u001b[33m\"\u001b[39m\u001b[33m컴퓨터 비전은 컴퓨터가 디지털 이미지나 비디오를 이해하는 방법을 연구합니다.\u001b[39m\u001b[33m\"\u001b[39m,\n\u001b[32m      8\u001b[39m ]\n\u001b[32m     10\u001b[39m \u001b[38;5;66;03m# 문서 임베딩\u001b[39;00m\n\u001b[32m---> \u001b[39m\u001b[32m11\u001b[39m document_embeddings_ollama = \u001b[43membeddings_ollama\u001b[49m\u001b[43m.\u001b[49m\u001b[43membed_documents\u001b[49m\u001b[43m(\u001b[49m\u001b[43m \u001b[49m\u001b[43mdocuments\u001b[49m\u001b[43m)\u001b[49m\n\u001b[32m     13\u001b[39m \u001b[38;5;28mprint\u001b[39m(document_embeddings_ollama)\n\u001b[32m     15\u001b[39m \u001b[38;5;66;03m# 임베딩 결과 출력\u001b[39;00m\n",
      "\u001b[36mFile \u001b[39m\u001b[32mc:\\Users\\User\\Documents\\GitHub\\kted-edu-1day\\.venv\\Lib\\site-packages\\langchain_ollama\\embeddings.py:265\u001b[39m, in \u001b[36mOllamaEmbeddings.embed_documents\u001b[39m\u001b[34m(self, texts)\u001b[39m\n\u001b[32m    263\u001b[39m \u001b[38;5;28;01mdef\u001b[39;00m\u001b[38;5;250m \u001b[39m\u001b[34membed_documents\u001b[39m(\u001b[38;5;28mself\u001b[39m, texts: \u001b[38;5;28mlist\u001b[39m[\u001b[38;5;28mstr\u001b[39m]) -> \u001b[38;5;28mlist\u001b[39m[\u001b[38;5;28mlist\u001b[39m[\u001b[38;5;28mfloat\u001b[39m]]:\n\u001b[32m    264\u001b[39m \u001b[38;5;250m    \u001b[39m\u001b[33;03m\"\"\"Embed search docs.\"\"\"\u001b[39;00m\n\u001b[32m--> \u001b[39m\u001b[32m265\u001b[39m     embedded_docs = \u001b[38;5;28;43mself\u001b[39;49m\u001b[43m.\u001b[49m\u001b[43m_client\u001b[49m\u001b[43m.\u001b[49m\u001b[43membed\u001b[49m\u001b[43m(\u001b[49m\n\u001b[32m    266\u001b[39m \u001b[43m        \u001b[49m\u001b[38;5;28;43mself\u001b[39;49m\u001b[43m.\u001b[49m\u001b[43mmodel\u001b[49m\u001b[43m,\u001b[49m\u001b[43m \u001b[49m\u001b[43mtexts\u001b[49m\u001b[43m,\u001b[49m\u001b[43m \u001b[49m\u001b[43moptions\u001b[49m\u001b[43m=\u001b[49m\u001b[38;5;28;43mself\u001b[39;49m\u001b[43m.\u001b[49m\u001b[43m_default_params\u001b[49m\u001b[43m,\u001b[49m\u001b[43m \u001b[49m\u001b[43mkeep_alive\u001b[49m\u001b[43m=\u001b[49m\u001b[38;5;28;43mself\u001b[39;49m\u001b[43m.\u001b[49m\u001b[43mkeep_alive\u001b[49m\n\u001b[32m    267\u001b[39m \u001b[43m    \u001b[49m\u001b[43m)\u001b[49m[\u001b[33m\"\u001b[39m\u001b[33membeddings\u001b[39m\u001b[33m\"\u001b[39m]\n\u001b[32m    268\u001b[39m     \u001b[38;5;28;01mreturn\u001b[39;00m embedded_docs\n",
      "\u001b[36mFile \u001b[39m\u001b[32mc:\\Users\\User\\Documents\\GitHub\\kted-edu-1day\\.venv\\Lib\\site-packages\\ollama\\_client.py:367\u001b[39m, in \u001b[36mClient.embed\u001b[39m\u001b[34m(self, model, input, truncate, options, keep_alive)\u001b[39m\n\u001b[32m    359\u001b[39m \u001b[38;5;28;01mdef\u001b[39;00m\u001b[38;5;250m \u001b[39m\u001b[34membed\u001b[39m(\n\u001b[32m    360\u001b[39m   \u001b[38;5;28mself\u001b[39m,\n\u001b[32m    361\u001b[39m   model: \u001b[38;5;28mstr\u001b[39m = \u001b[33m'\u001b[39m\u001b[33m'\u001b[39m,\n\u001b[32m   (...)\u001b[39m\u001b[32m    365\u001b[39m   keep_alive: Optional[Union[\u001b[38;5;28mfloat\u001b[39m, \u001b[38;5;28mstr\u001b[39m]] = \u001b[38;5;28;01mNone\u001b[39;00m,\n\u001b[32m    366\u001b[39m ) -> EmbedResponse:\n\u001b[32m--> \u001b[39m\u001b[32m367\u001b[39m   \u001b[38;5;28;01mreturn\u001b[39;00m \u001b[38;5;28;43mself\u001b[39;49m\u001b[43m.\u001b[49m\u001b[43m_request\u001b[49m\u001b[43m(\u001b[49m\n\u001b[32m    368\u001b[39m \u001b[43m    \u001b[49m\u001b[43mEmbedResponse\u001b[49m\u001b[43m,\u001b[49m\n\u001b[32m    369\u001b[39m \u001b[43m    \u001b[49m\u001b[33;43m'\u001b[39;49m\u001b[33;43mPOST\u001b[39;49m\u001b[33;43m'\u001b[39;49m\u001b[43m,\u001b[49m\n\u001b[32m    370\u001b[39m \u001b[43m    \u001b[49m\u001b[33;43m'\u001b[39;49m\u001b[33;43m/api/embed\u001b[39;49m\u001b[33;43m'\u001b[39;49m\u001b[43m,\u001b[49m\n\u001b[32m    371\u001b[39m \u001b[43m    \u001b[49m\u001b[43mjson\u001b[49m\u001b[43m=\u001b[49m\u001b[43mEmbedRequest\u001b[49m\u001b[43m(\u001b[49m\n\u001b[32m    372\u001b[39m \u001b[43m      \u001b[49m\u001b[43mmodel\u001b[49m\u001b[43m=\u001b[49m\u001b[43mmodel\u001b[49m\u001b[43m,\u001b[49m\n\u001b[32m    373\u001b[39m \u001b[43m      \u001b[49m\u001b[38;5;28;43minput\u001b[39;49m\u001b[43m=\u001b[49m\u001b[38;5;28;43minput\u001b[39;49m\u001b[43m,\u001b[49m\n\u001b[32m    374\u001b[39m \u001b[43m      \u001b[49m\u001b[43mtruncate\u001b[49m\u001b[43m=\u001b[49m\u001b[43mtruncate\u001b[49m\u001b[43m,\u001b[49m\n\u001b[32m    375\u001b[39m \u001b[43m      \u001b[49m\u001b[43moptions\u001b[49m\u001b[43m=\u001b[49m\u001b[43moptions\u001b[49m\u001b[43m,\u001b[49m\n\u001b[32m    376\u001b[39m \u001b[43m      \u001b[49m\u001b[43mkeep_alive\u001b[49m\u001b[43m=\u001b[49m\u001b[43mkeep_alive\u001b[49m\u001b[43m,\u001b[49m\n\u001b[32m    377\u001b[39m \u001b[43m    \u001b[49m\u001b[43m)\u001b[49m\u001b[43m.\u001b[49m\u001b[43mmodel_dump\u001b[49m\u001b[43m(\u001b[49m\u001b[43mexclude_none\u001b[49m\u001b[43m=\u001b[49m\u001b[38;5;28;43;01mTrue\u001b[39;49;00m\u001b[43m)\u001b[49m\u001b[43m,\u001b[49m\n\u001b[32m    378\u001b[39m \u001b[43m  \u001b[49m\u001b[43m)\u001b[49m\n",
      "\u001b[36mFile \u001b[39m\u001b[32mc:\\Users\\User\\Documents\\GitHub\\kted-edu-1day\\.venv\\Lib\\site-packages\\ollama\\_client.py:180\u001b[39m, in \u001b[36mClient._request\u001b[39m\u001b[34m(self, cls, stream, *args, **kwargs)\u001b[39m\n\u001b[32m    176\u001b[39m         \u001b[38;5;28;01myield\u001b[39;00m \u001b[38;5;28mcls\u001b[39m(**part)\n\u001b[32m    178\u001b[39m   \u001b[38;5;28;01mreturn\u001b[39;00m inner()\n\u001b[32m--> \u001b[39m\u001b[32m180\u001b[39m \u001b[38;5;28;01mreturn\u001b[39;00m \u001b[38;5;28mcls\u001b[39m(**\u001b[38;5;28;43mself\u001b[39;49m\u001b[43m.\u001b[49m\u001b[43m_request_raw\u001b[49m\u001b[43m(\u001b[49m\u001b[43m*\u001b[49m\u001b[43margs\u001b[49m\u001b[43m,\u001b[49m\u001b[43m \u001b[49m\u001b[43m*\u001b[49m\u001b[43m*\u001b[49m\u001b[43mkwargs\u001b[49m\u001b[43m)\u001b[49m.json())\n",
      "\u001b[36mFile \u001b[39m\u001b[32mc:\\Users\\User\\Documents\\GitHub\\kted-edu-1day\\.venv\\Lib\\site-packages\\ollama\\_client.py:126\u001b[39m, in \u001b[36mClient._request_raw\u001b[39m\u001b[34m(self, *args, **kwargs)\u001b[39m\n\u001b[32m    124\u001b[39m   \u001b[38;5;28;01mraise\u001b[39;00m ResponseError(e.response.text, e.response.status_code) \u001b[38;5;28;01mfrom\u001b[39;00m\u001b[38;5;250m \u001b[39m\u001b[38;5;28;01mNone\u001b[39;00m\n\u001b[32m    125\u001b[39m \u001b[38;5;28;01mexcept\u001b[39;00m httpx.ConnectError:\n\u001b[32m--> \u001b[39m\u001b[32m126\u001b[39m   \u001b[38;5;28;01mraise\u001b[39;00m \u001b[38;5;167;01mConnectionError\u001b[39;00m(CONNECTION_ERROR_MESSAGE) \u001b[38;5;28;01mfrom\u001b[39;00m\u001b[38;5;250m \u001b[39m\u001b[38;5;28;01mNone\u001b[39;00m\n",
      "\u001b[31mConnectionError\u001b[39m: Failed to connect to Ollama. Please check that Ollama is downloaded, running and accessible. https://ollama.com/download"
     ]
    }
   ],
   "source": [
    "\n",
    "\n",
    "# 문서 컬렉션\n",
    "documents = [\n",
    "    \"인공지능은 컴퓨터 과학의 한 분야입니다.\",\n",
    "    \"머신러닝은 인공지능의 하위 분야입니다.\",\n",
    "    \"딥러닝은 머신러닝의 한 종류입니다.\",\n",
    "    \"자연어 처리는 컴퓨터가 인간의 언어를 이해하고 생성하는 기술입니다.\",\n",
    "    \"컴퓨터 비전은 컴퓨터가 디지털 이미지나 비디오를 이해하는 방법을 연구합니다.\",\n",
    "]\n",
    "\n",
    "# 문서 임베딩\n",
    "document_embeddings_ollama = embeddings_ollama.embed_documents( documents)\n",
    "\n",
    "print(document_embeddings_ollama)\n",
    "\n",
    "# 임베딩 결과 출력\n",
    "print(f\"임베딩 벡터의 개수: {len(document_embeddings_ollama)}\")\n",
    "print(f\"임베딩 벡터의 차원: {len(document_embeddings_ollama[0])}\")\n",
    "print(document_embeddings_ollama[0])"
   ]
  },
  {
   "cell_type": "markdown",
   "id": "0e637cb4",
   "metadata": {},
   "source": [
    "`(3) embed_query 사용`\n"
   ]
  },
  {
   "cell_type": "code",
   "execution_count": null,
   "id": "54504e7f",
   "metadata": {},
   "outputs": [],
   "source": [
    "embedded_query = embeddings_ollama.embed_query(\"인공지능이란 무엇인가요?\")\n",
    "\n",
    "# 쿼리 임베딩 결과 출력\n",
    "print(f\"쿼리 임베딩 벡터의 차원: {len(embedded_query)}\")\n",
    "print(embedded_query)"
   ]
  },
  {
   "cell_type": "markdown",
   "id": "88021a49",
   "metadata": {},
   "source": [
    "`(4) 유사도 기반 검색`\n"
   ]
  },
  {
   "cell_type": "code",
   "execution_count": null,
   "id": "6a671a10",
   "metadata": {},
   "outputs": [],
   "source": [
    "# 예제 쿼리\n",
    "queries = [\n",
    "    \"인공지능이란 무엇인가요?\",\n",
    "    \"딥러닝과 머신러닝의 관계는 어떻게 되나요?\",\n",
    "    \"컴퓨터가 이미지를 이해하는 방법은?\",\n",
    "]\n",
    "\n",
    "# 각 쿼리에 대해 가장 유사한 문서 찾기\n",
    "for query in queries:\n",
    "    most_similar_doc, similarity = find_most_similar(\n",
    "        query, document_embeddings_ollama, embeddings_model=embeddings_ollama\n",
    "    )\n",
    "    print(f\"쿼리: {query}\")\n",
    "    print(f\"가장 유사한 문서: {most_similar_doc}\")\n",
    "    print(f\"유사도: {similarity:.4f}\")\n",
    "    print()"
   ]
  },
  {
   "cell_type": "markdown",
   "id": "a8edee46",
   "metadata": {},
   "source": [
    "# 벡터 저장소 (Vector Store)\n",
    "\n",
    "- 개념:\n",
    "\n",
    "  - 벡터화된 데이터를 효율적으로 저장하고 검색하기 위한 특수 데이터베이스 시스템\n",
    "  - 텍스트나 이미지 등의 비정형 데이터를 고차원 벡터 공간에 매핑하여 저장\n",
    "  - 유사도 기반 검색을 통해 의미적으로 가까운 데이터를 빠르게 검색 가능\n",
    "\n",
    "- LangChain의 벡터 저장소 종류:\n",
    "\n",
    "  - **Chroma**: 경량화된 임베딩 데이터베이스로 로컬 개발에 적합\n",
    "  - **FAISS**: Facebook AI가 개발한 고성능 유사도 검색 라이브러리\n",
    "  - **Pinecone**: 완전 관리형 벡터 데이터베이스 서비스\n",
    "  - Milvus: 분산 벡터 데이터베이스로 대규모 데이터 처리에 적합\n",
    "  - PostgreSQL: pgvector 확장을 통해 벡터 저장 및 검색 기능을 제공\n",
    "\n",
    "- 주요 기능:\n",
    "\n",
    "  - 벡터 색인화: 효율적인 검색을 위한 데이터 구조화를 수행\n",
    "  - 근접 이웃 검색: 주어진 쿼리와 가장 유사한 벡터들을 검색\n",
    "  - 메타데이터 관리: 벡터와 관련된 부가 정보를 함께 저장하고 검색\n",
    "\n",
    "- 사용 사례:\n",
    "  - 시맨틱 문서 검색: 문서의 의미를 이해하여 검색\n",
    "  - 추천 시스템: 유사한 아이템을 추천\n",
    "  - 중복 데이터 감지: 유사한 콘텐츠를 검색\n",
    "  - 질의응답 시스템: 관련 문서에서 답변을 생성하는데 필요한 근거를 검색\n"
   ]
  },
  {
   "cell_type": "markdown",
   "id": "6f8fed68",
   "metadata": {},
   "source": [
    "### **Chroma**\n",
    "\n",
    "- 사용자 편의성이 우수한 오픈소스 벡터 저장소\n",
    "- `langchain-chroma` 패키지 설치\n"
   ]
  },
  {
   "cell_type": "markdown",
   "id": "c0f7da6e",
   "metadata": {},
   "source": [
    "`(1) 벡터 저장소 초기화`\n"
   ]
  },
  {
   "cell_type": "code",
   "execution_count": null,
   "id": "ebb3bea0",
   "metadata": {},
   "outputs": [],
   "source": [
    "from langchain_community.document_loaders import PyPDFLoader\n",
    "\n",
    "# PDF 로더 초기화 (근로기준법 문서)\n",
    "pdf_loader = PyPDFLoader(\"./data/labor_law.pdf\")\n",
    "\n",
    "# 동기 로딩\n",
    "pdf_docs = pdf_loader.load()\n",
    "print(f\"PDF 문서 개수: {len(pdf_docs)}\")\n",
    "\n",
    "len(pdf_docs)"
   ]
  },
  {
   "cell_type": "code",
   "execution_count": null,
   "id": "fffc0d7a",
   "metadata": {},
   "outputs": [],
   "source": [
    "from langchain_text_splitters import RecursiveCharacterTextSplitter\n",
    "\n",
    "# TikToken 인코더를 사용하여 재귀적 텍스트 분할기 초기화 (토큰 수 기준 분할)\n",
    "text_splitter = RecursiveCharacterTextSplitter.from_tiktoken_encoder(\n",
    "    encoding_name=\"cl100k_base\",\n",
    "    chunk_size=500,\n",
    "    chunk_overlap=100,\n",
    ")\n",
    "\n",
    "# split_documents() 메서드 사용 : Document 객체를 여러 개의 작은 청크 문서로 분할\n",
    "chunks = text_splitter.split_documents(pdf_docs)\n",
    "\n",
    "print(f\"생성된 청크 수: {len(chunks)}\")\n",
    "print(f\"각 청크의 길이: {list(len(chunk.page_content) for chunk in chunks)}\")\n",
    "\n",
    "# 각 청크의 시작 부분과 끝 부분 확인\n",
    "for chunk in chunks[:5]:\n",
    "    print(f\"{chunk.page_content[:100]}...{chunk.page_content[-100:]}\")\n",
    "    print(\"=\" * 100)"
   ]
  },
  {
   "cell_type": "code",
   "execution_count": null,
   "id": "aa19c207",
   "metadata": {},
   "outputs": [],
   "source": [
    "from langchain_chroma import Chroma\n",
    "from langchain_openai import OpenAIEmbeddings\n",
    "\n",
    "# OpenAI 임베딩 모델 생성\n",
    "embeddings_openai = OpenAIEmbeddings(\n",
    "    model=\"text-embedding-3-small\",  # 사용할 모델 이름)\n",
    ")\n",
    "\n",
    "# Chroma 벡터 저장소 생성하기\n",
    "chroma_db = Chroma.from_documents(\n",
    "    documents=chunks,\n",
    "    embedding=embeddings_openai,  # OpenAI 임베딩 사용\n",
    "    collection_name=\"labor_law\",  # 컬렉션 이름\n",
    "    persist_directory=\"./chroma_db\",\n",
    "    collection_metadata={\"hnsw:space\": \"cosine\"},  # l2, ip, cosine 중에서 선택\n",
    ")"
   ]
  },
  {
   "cell_type": "code",
   "execution_count": null,
   "id": "aa705465",
   "metadata": {},
   "outputs": [],
   "source": [
    "# 문서 개수 확인\n",
    "chroma_db._collection.count()"
   ]
  },
  {
   "cell_type": "markdown",
   "id": "3368e198",
   "metadata": {},
   "source": [
    "`(2) 벡터 저장소 로드`\n"
   ]
  },
  {
   "cell_type": "code",
   "execution_count": null,
   "id": "c39e5cfb",
   "metadata": {},
   "outputs": [],
   "source": [
    "from langchain_chroma import Chroma\n",
    "\n",
    "# 저장된 벡터 저장소를 가져오기\n",
    "chroma_db = Chroma(\n",
    "    collection_name=\"labor_law\",\n",
    "    embedding_function=embeddings_openai,\n",
    "    persist_directory=\"./chroma_db\",\n",
    ")"
   ]
  },
  {
   "cell_type": "code",
   "execution_count": null,
   "id": "05e0b822",
   "metadata": {},
   "outputs": [],
   "source": [
    "# 문서 개수 확인\n",
    "chroma_db._collection.count()"
   ]
  },
  {
   "cell_type": "markdown",
   "id": "04aefca3",
   "metadata": {},
   "source": [
    "`(3) 문서 검색`\n",
    "\n",
    "- 유사도 검색\n",
    "  - 주어진 쿼리와 가장 유사한 문서를 반환\n",
    "  - k=5는 상위 5개의 결과를 반환하도록 지정\n",
    "  - filter를 사용하여 특정 출처의 문서만 검색 가능\n"
   ]
  },
  {
   "cell_type": "code",
   "execution_count": null,
   "id": "90c36347",
   "metadata": {},
   "outputs": [],
   "source": [
    "query = \"'탄력 근로에 대해서 설명해주세요\"\n",
    "results = chroma_db.similarity_search(\n",
    "    query, k=5, filter={\"source\": \"./data/labor_law.pdf\"}\n",
    ")\n",
    "\n",
    "print(\"유사도 검색 결과:\")\n",
    "for doc in results:\n",
    "    print(f\"- {doc.page_content} [출처: {doc.metadata['source']}]\")\n",
    "    print(\"=\" * 100)"
   ]
  },
  {
   "cell_type": "markdown",
   "id": "a7cfc931",
   "metadata": {},
   "source": [
    "- 유사도 점수가 포함된 검색\n",
    "  - 유사도 점수를 함께 반환\n",
    "  - 점수가 낮을수록 더 유사한 것을 의미 (거리 기준으로 점수가 산정되기 때문)\n"
   ]
  },
  {
   "cell_type": "code",
   "execution_count": null,
   "id": "66f05840",
   "metadata": {},
   "outputs": [],
   "source": [
    "query = \"'탄력 근로에 대해서 설명해주세요\"\n",
    "results = chroma_db.similarity_search_with_score(\n",
    "    query,\n",
    "    k=5,\n",
    ")\n",
    "\n",
    "print(\"점수가 포함된 유사도 검색 결과:\\n\")\n",
    "for doc, score in results:\n",
    "    print(f\"- 점수: {score:.4f}\")\n",
    "    print(f\"  내용: {doc.page_content}\")\n",
    "    print(f\" 메타데이터: {doc.metadata}\")\n",
    "    print(\"=\" * 100)"
   ]
  },
  {
   "cell_type": "markdown",
   "id": "fd1114cf",
   "metadata": {},
   "source": [
    "# 벡터 저장소 기반 RAG 검색기 (Retriever)\n"
   ]
  },
  {
   "cell_type": "markdown",
   "id": "5cbd1b80",
   "metadata": {},
   "source": [
    "`(1) Top K`\n"
   ]
  },
  {
   "cell_type": "code",
   "execution_count": null,
   "id": "978859b4",
   "metadata": {},
   "outputs": [],
   "source": [
    "retriever = chroma_db.as_retriever(\n",
    "    search_kwargs={\"k\": 2},\n",
    ")\n",
    "\n",
    "query = \"탄력 근로에 대해서 설명해주세요\"\n",
    "retrieved_docs = retriever.invoke(query)\n",
    "\n",
    "print(f\"쿼리: {query}\")\n",
    "print(\"검색 결과:\")\n",
    "for i, doc in enumerate(retrieved_docs, 1):\n",
    "    print(f\"-{i}-\\n{doc.page_content}\\n[출처: {doc.metadata['source']}]\")\n",
    "    print(\"-\" * 100)"
   ]
  },
  {
   "cell_type": "markdown",
   "id": "e25ee428",
   "metadata": {},
   "source": [
    "`(2) 임계값 지정`\n",
    "\n",
    "- Similarity score threshold (기준 스코어 이상인 문서를 대상으로 추출)\n"
   ]
  },
  {
   "cell_type": "code",
   "execution_count": null,
   "id": "2a8987f4",
   "metadata": {},
   "outputs": [],
   "source": [
    "from langchain_community.utils.math import cosine_similarity\n",
    "\n",
    "retriever = chroma_db.as_retriever(\n",
    "    search_type=\"similarity_score_threshold\",  # cosine 유사도\n",
    "    search_kwargs={\"score_threshold\": 0.3, \"k\": 5},  # 0.3 이상인 문서를 추출\n",
    ")\n",
    "\n",
    "query = \"탄력 근로에 대해서 설명해주세요\"\n",
    "\n",
    "# 쿼리와 유사한 문서 검색\n",
    "retrieved_docs = retriever.invoke(query)\n",
    "\n",
    "print(f\"쿼리: {query}\")\n",
    "print(\"검색 결과:\")\n",
    "for i, doc in enumerate(retrieved_docs, 1):\n",
    "    score = cosine_similarity(\n",
    "        [embeddings_openai.embed_query(query)],\n",
    "        [embeddings_openai.embed_query(doc.page_content)],\n",
    "    )[0][0]\n",
    "    print(f\"-{i}-\\n{doc.page_content}\\n[유사도: {score}]\")\n",
    "    print(\"-\" * 100)"
   ]
  },
  {
   "cell_type": "markdown",
   "id": "5f6d4655",
   "metadata": {},
   "source": [
    "`(3) MMR(Maximal Marginal Relevance) 검색`\n"
   ]
  },
  {
   "cell_type": "code",
   "execution_count": null,
   "id": "730ccc73",
   "metadata": {},
   "outputs": [],
   "source": [
    "# MMR - 다양성 고려 (lambda_mult 작을수록 더 다양하게 추출)\n",
    "retriever = chroma_db.as_retriever(\n",
    "    search_type=\"mmr\",\n",
    "    search_kwargs={\n",
    "        \"k\": 3,  # 검색할 문서의 수\n",
    "        \"fetch_k\": 8,  # mmr 알고리즘에 전달할 문서의 수 (fetch_k > k)\n",
    "        \"lambda_mult\": 0.5,  # 다양성을 고려하는 정도 (1은 최소 다양성, 0은 최대 다양성을 의미. 기본값은 0.5)\n",
    "    },\n",
    ")\n",
    "\n",
    "\n",
    "query = \"탄력 근로에 대해서 설명해주세요\"\n",
    "\n",
    "# 쿼리와 유사한 문서 검색\n",
    "retrieved_docs = retriever.invoke(query)\n",
    "\n",
    "print(f\"쿼리: {query}\")\n",
    "print(\"검색 결과:\")\n",
    "for i, doc in enumerate(retrieved_docs, 1):\n",
    "    score = cosine_similarity(\n",
    "        [embeddings_openai.embed_query(query)],\n",
    "        [embeddings_openai.embed_query(doc.page_content)],\n",
    "    )[0][0]\n",
    "    print(f\"-{i}-\\n{doc.page_content}\\n[유사도: {score}]\")\n",
    "    print(\"-\" * 100)"
   ]
  },
  {
   "cell_type": "markdown",
   "id": "3cc95823",
   "metadata": {},
   "source": [
    "# Naive RAG 구현\n"
   ]
  },
  {
   "cell_type": "markdown",
   "id": "5d70691e",
   "metadata": {},
   "source": [
    "`(1) 벡터 저장소 로드`\n",
    "\n",
    "- `Chroma` 벡터 저장소를 로드\n"
   ]
  },
  {
   "cell_type": "code",
   "execution_count": null,
   "id": "3b684474",
   "metadata": {},
   "outputs": [],
   "source": [
    "from langchain_chroma import Chroma\n",
    "from langchain_openai import OpenAIEmbeddings\n",
    "\n",
    "# OpenAI 임베딩 모델 생성\n",
    "embeddings_openai = OpenAIEmbeddings(\n",
    "    model=\"text-embedding-3-small\",  # 사용할 모델 이름\n",
    ")\n",
    "\n",
    "# 저장된 벡터 저장소를 가져오기\n",
    "chroma_db = Chroma(\n",
    "    collection_name=\"labor_law\",\n",
    "    embedding_function=embeddings_openai,\n",
    "    persist_directory=\"./chroma_db\",\n",
    ")\n",
    "\n",
    "# 문서 개수 확인\n",
    "print(f\"저장된 문서 수: {chroma_db._collection.count()}\")"
   ]
  },
  {
   "cell_type": "markdown",
   "id": "428b2f7d",
   "metadata": {},
   "source": [
    "`(2) 검색기(Retriever) 초기화`\n",
    "\n",
    "- mmr 검색을 사용하는 Retriever 사용\n",
    "- 다양성을 높이는 설정을 사용\n"
   ]
  },
  {
   "cell_type": "code",
   "execution_count": null,
   "id": "ad3b280f",
   "metadata": {},
   "outputs": [],
   "source": [
    "# mmr 검색기 생성\n",
    "retriever = chroma_db.as_retriever(\n",
    "    search_type=\"mmr\",\n",
    "    search_kwargs={\n",
    "        \"k\": 5,  # 검색할 문서의 수\n",
    "        \"fetch_k\": 10,  # mmr 알고리즘에 전달할 문서의 수 (fetch_k > k)\n",
    "        \"lambda_mult\": 0.3,  # 다양성을 고려하는 정도 (1은 최소 다양성, 0은 최대 다양성을 의미. 기본값은 0.5)\n",
    "    },\n",
    ")"
   ]
  },
  {
   "cell_type": "code",
   "execution_count": null,
   "id": "36743877",
   "metadata": {},
   "outputs": [],
   "source": [
    "# 검색 테스트\n",
    "query = \"탄력 근로에 대해서 설명해주세요\"\n",
    "\n",
    "# 쿼리와 유사한 문서 검색\n",
    "retrieved_docs = retriever.invoke(query)\n",
    "\n",
    "print(f\"쿼리: {query}\")\n",
    "print(\"검색 결과:\")\n",
    "for i, doc in enumerate(retrieved_docs, 1):\n",
    "    print(f\"-{i}-\\n{doc.page_content}\\n[출처: {doc.metadata['source']}]\")\n",
    "    print(\"-\" * 100)"
   ]
  },
  {
   "cell_type": "markdown",
   "id": "3024d5d9",
   "metadata": {},
   "source": [
    "`(3) RAG 프롬프트 구성`\n",
    "\n",
    "- 작성 기준:\n",
    "  - LangChain의 ChatPromptTemplate 클래스 사용\n",
    "  - 변수 처리는 {context}, {question} 형식 사용\n",
    "  - 답변은 한글로 출력되도록 프롬프트 작성\n",
    "- 아래 템플릿 코드를 기반으로 다음 내용을 참고하여 작성합니다.\n",
    "\n",
    "  1. 프롬프트 구성요소:\n",
    "\n",
    "     - 작업 지침\n",
    "     - 컨텍스트 영역\n",
    "     - 질문 영역\n",
    "     - 답변 형식 가이드\n",
    "\n",
    "  2. 작업 지침:\n",
    "\n",
    "     - 컨텍스트 기반 답변 원칙\n",
    "     - 외부 지식 사용 제한\n",
    "     - 불확실성 처리 방법\n",
    "     - 답변 불가능한 경우의 처리 방법\n",
    "\n",
    "  3. 답변 형식:\n",
    "\n",
    "     - 핵심 답변 섹션\n",
    "     - 근거 제시 섹션\n",
    "     - 추가 설명 섹션 (필요시)\n",
    "\n",
    "  4. 제약사항 반영:\n",
    "     - 답변은 사실에 기반해야 함\n",
    "     - 추측이나 가정을 최소화해야 함\n",
    "     - 명확한 근거 제시가 필요함\n",
    "     - 구조화된 형태로 작성되어야 함\n"
   ]
  },
  {
   "cell_type": "code",
   "execution_count": null,
   "id": "f14c1634",
   "metadata": {},
   "outputs": [],
   "source": [
    "# Prompt 템플릿 (기본 예시)\n",
    "from langchain_core.prompts import ChatPromptTemplate\n",
    "\n",
    "template = \"\"\"Answer the question based only on the following context.\n",
    "\n",
    "[Context]\n",
    "{context}\n",
    "\n",
    "[Question] \n",
    "{question}\n",
    "\n",
    "[Answer]\n",
    "\"\"\"\n",
    "\n",
    "prompt = ChatPromptTemplate.from_template(template)\n",
    "\n",
    "# 템플릿 출력\n",
    "prompt.pretty_print()"
   ]
  },
  {
   "cell_type": "code",
   "execution_count": null,
   "id": "367b455b",
   "metadata": {},
   "outputs": [],
   "source": [
    "# Prompt 템플릿 (커스텀 예시)\n",
    "from langchain_core.prompts import ChatPromptTemplate\n",
    "\n",
    "template = \"\"\"주어진 컨텍스트를 기반으로 질문에 답변하시오.\n",
    "\n",
    "[지침]\n",
    "- 컨텍스트에 있는 정보만을 사용하여 답변할 것\n",
    "- 외부 지식이나 정보를 사용하지 말 것\n",
    "- 컨텍스트에서 답을 찾을 수 없는 경우 \"주어진 정보만으로는 답변하기 어렵습니다.\"라고 응답할 것\n",
    "- 불확실한 경우 명확히 그 불확실성을 표현할 것\n",
    "- 답변은 논리적이고 구조화된 형태로 제공할 것\n",
    "- 답변은 한국어를 사용할 것 \n",
    "\n",
    "[컨텍스트]\n",
    "{context}\n",
    "\n",
    "[질문]\n",
    "{question}\n",
    "\n",
    "[답변 형식]\n",
    "1. 핵심 답변: (질문에 대한 직접적인 답변)\n",
    "2. 근거: (컨텍스트에서 발견된 관련 정보)\n",
    "3. 추가 설명: (필요한 경우 부연 설명 제공)\n",
    "\n",
    "[답변]\n",
    "\"\"\"\n",
    "\n",
    "prompt = ChatPromptTemplate.from_template(template)\n",
    "\n",
    "# 템플릿 출력\n",
    "prompt.pretty_print()"
   ]
  },
  {
   "cell_type": "markdown",
   "id": "ad0f5cf5",
   "metadata": {},
   "source": [
    "`(4) RAG 체인 구성`\n",
    "\n",
    "- LangChain의 LCEL 문법을 사용\n",
    "- 검색 결과를 프롬프트의 'context'로 전달하고,\n",
    "- 사용자가 입력한 질문을 그래도 프롬프트의 'question'에 전달\n",
    "- LLM 설정:\n",
    "  - ChatOpenAI 사용 ('gpt-4.1-mini' 모델)\n",
    "  - temperature: 답변의 일관성을 가져가는 설정값을 사용\n",
    "  - 기타 필요한 설정\n",
    "- 출력 파서: 문자열 부분만 출력되도록 구성\n"
   ]
  },
  {
   "cell_type": "code",
   "execution_count": null,
   "id": "2e4121f9",
   "metadata": {},
   "outputs": [],
   "source": [
    "from langchain_core.runnables import RunnablePassthrough, RunnableParallel\n",
    "from langchain_core.output_parsers import StrOutputParser\n",
    "from langchain_openai import ChatOpenAI\n",
    "\n",
    "# LLM 설정\n",
    "llm = ChatOpenAI(\n",
    "    model=\"gpt-4.1-mini\",\n",
    "    temperature=0.7,\n",
    "    top_p=0.9,\n",
    ")\n",
    "\n",
    "\n",
    "# 문서 포맷팅\n",
    "def format_docs(docs):\n",
    "    return \"\\n\\n\".join([f\"{doc.page_content}\" for doc in docs])\n",
    "\n",
    "\n",
    "# RAG 체인 생성\n",
    "rag_chain = (\n",
    "    RunnableParallel(\n",
    "        {\"context\": retriever | format_docs, \"question\": RunnablePassthrough()}\n",
    "    )\n",
    "    | prompt\n",
    "    | llm\n",
    "    | StrOutputParser()\n",
    ")\n",
    "\n",
    "# 체인 실행\n",
    "query = \"탄력 근로에 대해서 설명해주세요\"\n",
    "output = rag_chain.invoke(query)\n",
    "\n",
    "print(f\"쿼리: {query}\")\n",
    "print(\"답변:\")\n",
    "print(output)"
   ]
  },
  {
   "cell_type": "markdown",
   "id": "a614b56a",
   "metadata": {},
   "source": [
    "![LangServe Screenshot](https://raw.githubusercontent.com/tsdata/image_files/main/202505/rag_screenshot_0001.png)\n"
   ]
  },
  {
   "cell_type": "markdown",
   "id": "4bca2de1",
   "metadata": {},
   "source": [
    "`(5) LangServe 서버 구성`\n",
    "\n",
    "- app/rag.py 파일을 생성하여 RAG 체인과 관련된 코드를 작성함.\n",
    "\n",
    "  ```python\n",
    "  # app/rag.py\n",
    "  from dotenv import load_dotenv\n",
    "\n",
    "  from langchain_core.runnables import RunnablePassthrough\n",
    "  from langchain_core.output_parsers import StrOutputParser\n",
    "  from langchain_openai import ChatOpenAI, OpenAIEmbeddings\n",
    "  from langchain_chroma import Chroma\n",
    "  from langchain_core.prompts import ChatPromptTemplate\n",
    "\n",
    "  # 환경변수 로드\n",
    "  load_dotenv()\n",
    "\n",
    "\n",
    "  ######################\n",
    "  #  RAG 체인 구성\n",
    "  ######################\n",
    "\n",
    "  # OpenAI 임베딩 모델 생성\n",
    "  embeddings_openai = OpenAIEmbeddings(\n",
    "      model=\"text-embedding-3-small\",  # 사용할 모델 이름\n",
    "      )\n",
    "\n",
    "  # 저장된 벡터 저장소를 가져오기\n",
    "  chroma_db = Chroma(\n",
    "      collection_name=\"labor_law\",\n",
    "      embedding_function=embeddings_openai,\n",
    "      persist_directory=\"./chroma_db\",\n",
    "  )\n",
    "\n",
    "  print(\"Chroma DB loaded\")\n",
    "  print(chroma_db._collection.count())  # 벡터 저장소에 있는 문서 수 출력\n",
    "\n",
    "  # 검색기 초기화å\n",
    "  retriever = chroma_db.as_retriever(\n",
    "      search_type='mmr',\n",
    "      search_kwargs={\n",
    "          'k': 5,                  # 검색할 문서의 수\n",
    "          'fetch_k': 10,           # mmr 알고리즘에 전달할 문서의 수 (fetch_k > k)\n",
    "          'lambda_mult': 0.3,      # 다양성을 고려하는 정도 (1은 최소 다양성, 0은 최대 다양성을 의미. 기본값은 0.5)\n",
    "          },\n",
    "  )\n",
    "\n",
    "  # Prompt 템플릿 생성\n",
    "  template = \"\"\"주어진 컨텍스트를 기반으로 질문에 답변하시오.\n",
    "\n",
    "  [지침]\n",
    "  - 컨텍스트에 있는 정보만을 사용하여 답변할 것\n",
    "  - 외부 지식이나 정보를 사용하지 말 것\n",
    "  - 컨텍스트에서 답을 찾을 수 없는 경우 \"주어진 정보만으로는 답변하기 어렵습니다.\"라고 응답할 것\n",
    "  - 불확실한 경우 명확히 그 불확실성을 표현할 것\n",
    "  - 답변은 논리적이고 구조화된 형태로 제공할 것\n",
    "  - 답변은 한국어를 사용할 것\n",
    "\n",
    "  [컨텍스트]\n",
    "  {context}\n",
    "\n",
    "  [질문]\n",
    "  {question}\n",
    "\n",
    "  [답변 형식]\n",
    "  1. 핵심 답변: (질문에 대한 직접적인 답변)\n",
    "  2. 근거: (컨텍스트에서 발견된 관련 정보)\n",
    "  3. 추가 설명: (필요한 경우 부연 설명 제공)\n",
    "\n",
    "  [답변]\n",
    "  \"\"\"\n",
    "\n",
    "  prompt = ChatPromptTemplate.from_template(template)\n",
    "\n",
    "  # LLM 설정\n",
    "  llm = ChatOpenAI(\n",
    "      model=\"gpt-4.1-mini\",\n",
    "      temperature=0.7,\n",
    "      top_p=0.9,\n",
    "  )\n",
    "\n",
    "  # 문서 포맷팅\n",
    "  def format_docs(docs):\n",
    "      return \"\\n\\n\".join([f\"{doc.page_content}\" for doc in docs])\n",
    "\n",
    "  # RAG 체인 생성\n",
    "\n",
    "  rag_chain = (\n",
    "      {\"context\": retriever | format_docs, \"question\": RunnablePassthrough()}\n",
    "      | prompt\n",
    "      | llm\n",
    "      | StrOutputParser()\n",
    "  )\n",
    "\n",
    "  ```\n",
    "\n",
    "- server.py 파일에 새로운 엔드포인트를 추가하여 RAG 체인을 호출하도록 설정함.\n",
    "\n",
    "  ```python\n",
    "  # app/server.py\n",
    "  from fastapi import FastAPI\n",
    "  from dotenv import load_dotenv\n",
    "  from app.rag import rag_chain\n",
    "  from langchain_openai import ChatOpenAI\n",
    "  from langserve import add_routes\n",
    "\n",
    "  # 환경변수 로드\n",
    "  load_dotenv()\n",
    "\n",
    "  # FastAPI 서버를 설정\n",
    "  app = FastAPI(\n",
    "      title=\"LangChain Server\",\n",
    "      version=\"1.0\",\n",
    "      description=\"Spin up a simple api server using Langchain's Runnable interfaces\",\n",
    "  )\n",
    "\n",
    "  # 라우팅 설정\n",
    "  add_routes(\n",
    "      app,\n",
    "      ChatOpenAI(model=\"gpt-4.1-mini\"),\n",
    "      path=\"/openai\",   # OpenAI 모델에 대한 경로\n",
    "  )\n",
    "\n",
    "  add_routes(\n",
    "      app,\n",
    "      rag_chain,\n",
    "      path=\"/rag\",  # RAG 체인에 대한 경로\n",
    "  )\n",
    "\n",
    "  # FastAPI 서버 실행\n",
    "  if __name__ == \"__main__\":\n",
    "      import uvicorn\n",
    "\n",
    "      uvicorn.run(app, host=\"localhost\", port=8000)\n",
    "  ```\n"
   ]
  },
  {
   "cell_type": "markdown",
   "id": "266f4f28",
   "metadata": {},
   "source": [
    "![LangServe Screenshot](https://raw.githubusercontent.com/tsdata/image_files/main/202505/rag_screenshot_0002.png)\n"
   ]
  }
 ],
 "metadata": {
  "kernelspec": {
   "display_name": ".venv",
   "language": "python",
   "name": "python3"
  },
  "language_info": {
   "codemirror_mode": {
    "name": "ipython",
    "version": 3
   },
   "file_extension": ".py",
   "mimetype": "text/x-python",
   "name": "python",
   "nbconvert_exporter": "python",
   "pygments_lexer": "ipython3",
   "version": "3.12.11"
  }
 },
 "nbformat": 4,
 "nbformat_minor": 5
}
