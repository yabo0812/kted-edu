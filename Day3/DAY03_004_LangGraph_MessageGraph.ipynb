{
 "cells": [
  {
   "cell_type": "markdown",
   "metadata": {},
   "source": [
    "#   LangGraph 활용 - 메시지 그래프 + 리듀서 구현\n",
    "\n",
    "---"
   ]
  },
  {
   "cell_type": "markdown",
   "metadata": {},
   "source": [
    "## 환경 설정 및 준비"
   ]
  },
  {
   "cell_type": "markdown",
   "metadata": {},
   "source": [
    "`(1) Env 환경변수`"
   ]
  },
  {
   "cell_type": "code",
   "execution_count": 1,
   "metadata": {},
   "outputs": [
    {
     "data": {
      "text/plain": [
       "True"
      ]
     },
     "execution_count": 1,
     "metadata": {},
     "output_type": "execute_result"
    }
   ],
   "source": [
    "from dotenv import load_dotenv\n",
    "load_dotenv()"
   ]
  },
  {
   "cell_type": "markdown",
   "metadata": {},
   "source": [
    "`(2) 기본 라이브러리`"
   ]
  },
  {
   "cell_type": "code",
   "execution_count": 2,
   "metadata": {},
   "outputs": [],
   "source": [
    "import os\n",
    "from glob import glob\n",
    "\n",
    "from pprint import pprint\n",
    "import json"
   ]
  },
  {
   "cell_type": "markdown",
   "metadata": {},
   "source": [
    "`(3) Langsmith tracing 설정`"
   ]
  },
  {
   "cell_type": "code",
   "execution_count": 3,
   "metadata": {},
   "outputs": [
    {
     "name": "stdout",
     "output_type": "stream",
     "text": [
      "false\n"
     ]
    }
   ],
   "source": [
    "# Langsmith tracing 여부를 확인 (true: langsmith 추척 활성화, false: langsmith 추척 비활성화)\n",
    "import os\n",
    "print(os.getenv('LANGSMITH_TRACING'))"
   ]
  },
  {
   "cell_type": "markdown",
   "metadata": {},
   "source": [
    "---\n",
    "\n",
    "## **Reducer (리듀서)**\n",
    "\n",
    "- **State Reducer**는 LangGraph의 **상태 관리 핵심 메커니즘**\n",
    "\n",
    "- 각 노드의 출력을 **전체 그래프 상태에 통합**하는 방식을 정의\n",
    "\n",
    "- **Reducer의 필요성**:\n",
    "\n",
    "    - **상태 덮어쓰기 문제**: 기본적으로 각 노드의 반환값은 해당 상태 키의 이전 값을 덮어쓰는 방식으로 동작 (override)\n",
    "    \n",
    "    - **누적 업데이트 필요**: 특히 메시지 리스트와 같은 경우, 이전 상태에 새로운 값을 추가하고 싶을 때가 있음 "
   ]
  },
  {
   "cell_type": "markdown",
   "metadata": {},
   "source": [
    "`(1) Reducer를 별도로 지정하지 않은 경우 `\n",
    "\n",
    "- **기본 Reducer**는 이전 값을 **자동으로 덮어쓰는** 방식으로 작동\n",
    "- Reducer 설정이 없는 경우 **자동으로 기본값**이 적용\n",
    "- 이는 단순한 상태 업데이트에는 적합하나 **데이터 누적이 필요한 경우 부적절**\n",
    "- 기본 Reducer는 **간단한 상태 관리**에 적합하지만 복잡한 데이터 처리에는 한계가 있음"
   ]
  },
  {
   "cell_type": "code",
   "execution_count": 4,
   "metadata": {},
   "outputs": [
    {
     "data": {
      "image/png": "[encoded data removed]",
      "text/plain": [
       "<IPython.core.display.Image object>"
      ]
     },
     "metadata": {},
     "output_type": "display_data"
    }
   ],
   "source": [
    "from typing import TypedDict, List\n",
    "from langgraph.graph import StateGraph, START, END\n",
    "from IPython.display import Image, display\n",
    "\n",
    "# 상태 정의 \n",
    "class DocumentState(TypedDict):\n",
    "    query: str\n",
    "    documents: List[str]\n",
    "\n",
    "# Node 1: query 업데이트\n",
    "def node_1(state: DocumentState) -> DocumentState:\n",
    "    print(\"---Node 1 (query update)---\")\n",
    "    query = state[\"query\"]\n",
    "    return {\"query\": query}\n",
    "\n",
    "# Node 2: 검색된 문서 추가 \n",
    "def node_2(state: DocumentState) -> DocumentState:\n",
    "    print(\"---Node 2 (add documents)---\")\n",
    "    return {\"documents\": [\"doc1.pdf\", \"doc2.pdf\", \"doc3.pdf\"]}\n",
    "\n",
    "# Node 3: 추가적인 문서 검색 결과 추가\n",
    "def node_3(state: DocumentState) -> DocumentState:\n",
    "    print(\"---Node 3 (add more documents)---\")\n",
    "    return {\"documents\": [\"doc2.pdf\", \"doc4.pdf\", \"doc5.pdf\"]}\n",
    "\n",
    "\n",
    "# 그래프 빌드\n",
    "builder = StateGraph(DocumentState)\n",
    "builder.add_node(\"node_1\", node_1)\n",
    "builder.add_node(\"node_2\", node_2)\n",
    "builder.add_node(\"node_3\", node_3)\n",
    "\n",
    "# 논리 구성\n",
    "builder.add_edge(START, \"node_1\")\n",
    "builder.add_edge(\"node_1\", \"node_2\")\n",
    "builder.add_edge(\"node_2\", \"node_3\")\n",
    "builder.add_edge(\"node_3\", END)\n",
    "\n",
    "# 그래프 실행\n",
    "graph = builder.compile()\n",
    "\n",
    "# 그래프 시각화\n",
    "display(Image(graph.get_graph().draw_mermaid_png()))\n"
   ]
  },
  {
   "cell_type": "code",
   "execution_count": 5,
   "metadata": {},
   "outputs": [
    {
     "name": "stdout",
     "output_type": "stream",
     "text": [
      "---Node 1 (query update)---\n",
      "---Node 2 (add documents)---\n",
      "---Node 3 (add more documents)---\n",
      "----------------------------------------------------------------------------------------------------\n",
      "최종 상태:\n",
      "쿼리: 채식주의자를 위한 비건 음식을 추천해주세요.\n",
      "검색된 문서: ['doc2.pdf', 'doc4.pdf', 'doc5.pdf']\n"
     ]
    }
   ],
   "source": [
    "# 초기 상태\n",
    "initial_state = {\"query\": \"채식주의자를 위한 비건 음식을 추천해주세요.\", \"documents\": None}\n",
    "\n",
    "# 그래프 실행 \n",
    "final_state = graph.invoke(initial_state)\n",
    "\n",
    "# 최종 상태 출력\n",
    "print(\"-\"*100)\n",
    "print(\"최종 상태:\")\n",
    "print(\"쿼리:\", final_state['query'])\n",
    "print(\"검색된 문서:\", final_state['documents'])"
   ]
  },
  {
   "cell_type": "markdown",
   "metadata": {},
   "source": [
    "`(2) Reducer를 별도로 지정하는 경우 `\n",
    "\n",
    "- **Annotated**를 통해 **사용자 정의 Reducer**를 지정할 수 있음 \n",
    "- **operator.add**를 사용하면 리스트 형태의 데이터를 **누적 관리**할 수 있음 \n",
    "- 여기서는 기존 리스트에 새로운 메시지를 추가하는 방식으로 작동"
   ]
  },
  {
   "cell_type": "code",
   "execution_count": 6,
   "metadata": {},
   "outputs": [
    {
     "data": {
      "image/png": "[encoded data removed]",
      "text/plain": [
       "<IPython.core.display.Image object>"
      ]
     },
     "metadata": {},
     "output_type": "display_data"
    }
   ],
   "source": [
    "from operator import add\n",
    "from typing import Annotated, TypedDict\n",
    "\n",
    "class ReducerState(TypedDict):\n",
    "    query: str\n",
    "    documents: Annotated[List[str], add]\n",
    "\n",
    "# Node 1: query 업데이트\n",
    "def node_1(state: ReducerState) -> ReducerState:\n",
    "    print(\"---Node 1 (query update)---\")\n",
    "    query = state[\"query\"]\n",
    "    return {\"query\": query}\n",
    "\n",
    "# Node 2: 검색된 문서 추가 \n",
    "def node_2(state: ReducerState) -> ReducerState:\n",
    "    print(\"---Node 2 (add documents)---\")\n",
    "    return {\"documents\": [\"doc1.pdf\", \"doc2.pdf\", \"doc3.pdf\"]}\n",
    "\n",
    "# Node 3: 추가적인 문서 검색 결과 추가\n",
    "def node_3(state: ReducerState) -> ReducerState:\n",
    "    print(\"---Node 3 (add more documents)---\")\n",
    "    return {\"documents\": [\"doc2.pdf\", \"doc4.pdf\", \"doc5.pdf\"]}\n",
    "\n",
    "# 그래프 빌드\n",
    "builder = StateGraph(ReducerState)\n",
    "builder.add_node(\"node_1\", node_1)\n",
    "builder.add_node(\"node_2\", node_2)\n",
    "builder.add_node(\"node_3\", node_3)\n",
    "\n",
    "# 논리 구성\n",
    "builder.add_edge(START, \"node_1\")\n",
    "builder.add_edge(\"node_1\", \"node_2\")\n",
    "builder.add_edge(\"node_2\", \"node_3\")\n",
    "builder.add_edge(\"node_3\", END)\n",
    "\n",
    "# 그래프 실행\n",
    "graph = builder.compile()\n",
    "\n",
    "# 그래프 시각화\n",
    "display(Image(graph.get_graph().draw_mermaid_png()))"
   ]
  },
  {
   "cell_type": "code",
   "execution_count": 7,
   "metadata": {},
   "outputs": [
    {
     "name": "stdout",
     "output_type": "stream",
     "text": [
      "---Node 1 (query update)---\n",
      "---Node 2 (add documents)---\n",
      "---Node 3 (add more documents)---\n",
      "----------------------------------------------------------------------------------------------------\n",
      "최종 상태:\n",
      "쿼리: 채식주의자를 위한 비건 음식을 추천해주세요.\n",
      "검색된 문서: ['doc1.pdf', 'doc2.pdf', 'doc3.pdf', 'doc2.pdf', 'doc4.pdf', 'doc5.pdf']\n"
     ]
    }
   ],
   "source": [
    "# 초기 상태\n",
    "initial_state = {\"query\": \"채식주의자를 위한 비건 음식을 추천해주세요.\", \"documents\": []}\n",
    "\n",
    "# 그래프 실행 \n",
    "final_state = graph.invoke(initial_state)\n",
    "\n",
    "# 최종 상태 출력\n",
    "print(\"-\"*100)\n",
    "print(\"최종 상태:\")\n",
    "print(\"쿼리:\", final_state['query'])\n",
    "print(\"검색된 문서:\", final_state['documents'])"
   ]
  },
  {
   "cell_type": "markdown",
   "metadata": {},
   "source": [
    "`(3) Custom Reducer 사용 `\n",
    "\n",
    "- **Custom Reducer**는 **복잡한 상태 관리**가 필요할 때 사용됨 \n",
    "- **중복 제거**나 **최대/최소값 유지**와 같은 특수한 로직을 구현할 수 있음 \n",
    "- 비즈니스 요구사항에 맞는 **맞춤형 상태 관리**가 가능\n",
    "- 상황에 따라 **조건부 병합**과 같은 고급 기능을 구현할 수 있음 "
   ]
  },
  {
   "cell_type": "code",
   "execution_count": 8,
   "metadata": {},
   "outputs": [],
   "source": [
    "from typing import TypedDict, List, Annotated\n",
    "\n",
    "# Custom reducer: 중복된 문서를 제거하며 리스트 병합\n",
    "def reduce_unique_documents(left: list | None, right: list | None) -> list:\n",
    "    \"\"\"Combine two lists of documents, removing duplicates.\"\"\"\n",
    "    if not left:\n",
    "        left = []\n",
    "    if not right:\n",
    "        right = []\n",
    "    # 중복 제거: set을 사용하여 중복된 문서를 제거하고 다시 list로 변환\n",
    "    return list(set(left + right))\n",
    "\n",
    "# 상태 정의 (documents 필드 포함)\n",
    "class CustomReducerState(TypedDict):\n",
    "    query: str\n",
    "    documents: Annotated[List[str], reduce_unique_documents]  # Custom Reducer 적용"
   ]
  },
  {
   "cell_type": "code",
   "execution_count": 9,
   "metadata": {},
   "outputs": [
    {
     "data": {
      "image/png": "[encoded data removed]",
      "text/plain": [
       "<IPython.core.display.Image object>"
      ]
     },
     "metadata": {},
     "output_type": "display_data"
    }
   ],
   "source": [
    "# Node 1: query 업데이트\n",
    "def node_1(state: CustomReducerState) -> CustomReducerState:\n",
    "    print(\"---Node 1 (query update)---\")\n",
    "    query = state[\"query\"]\n",
    "    return {\"query\": query}\n",
    "\n",
    "# Node 2: 검색된 문서 추가 \n",
    "def node_2(state: CustomReducerState) -> CustomReducerState:\n",
    "    print(\"---Node 2 (add documents)---\")\n",
    "    return {\"documents\": [\"doc1.pdf\", \"doc2.pdf\", \"doc3.pdf\"]}\n",
    "\n",
    "# Node 3: 추가적인 문서 검색 결과 추가\n",
    "def node_3(state: CustomReducerState) -> CustomReducerState:\n",
    "    print(\"---Node 3 (add more documents)---\")\n",
    "    return {\"documents\": [\"doc2.pdf\", \"doc4.pdf\", \"doc5.pdf\"]}\n",
    "\n",
    "# 그래프 빌드\n",
    "builder = StateGraph(CustomReducerState)\n",
    "builder.add_node(\"node_1\", node_1)\n",
    "builder.add_node(\"node_2\", node_2)\n",
    "builder.add_node(\"node_3\", node_3)\n",
    "\n",
    "# 논리 구성\n",
    "builder.add_edge(START, \"node_1\")\n",
    "builder.add_edge(\"node_1\", \"node_2\")\n",
    "builder.add_edge(\"node_2\", \"node_3\")\n",
    "builder.add_edge(\"node_3\", END)\n",
    "\n",
    "# 그래프 실행\n",
    "graph = builder.compile()\n",
    "\n",
    "# 그래프 시각화\n",
    "display(Image(graph.get_graph().draw_mermaid_png()))"
   ]
  },
  {
   "cell_type": "code",
   "execution_count": 10,
   "metadata": {},
   "outputs": [
    {
     "name": "stdout",
     "output_type": "stream",
     "text": [
      "---Node 1 (query update)---\n",
      "---Node 2 (add documents)---\n",
      "---Node 3 (add more documents)---\n",
      "----------------------------------------------------------------------------------------------------\n",
      "최종 상태:\n",
      "쿼리: 채식주의자를 위한 비건 음식을 추천해주세요.\n",
      "검색된 문서: ['doc2.pdf', 'doc3.pdf', 'doc4.pdf', 'doc5.pdf', 'doc1.pdf']\n"
     ]
    }
   ],
   "source": [
    "# 초기 상태\n",
    "initial_state = {\"query\": \"채식주의자를 위한 비건 음식을 추천해주세요.\", \"documents\": []}\n",
    "\n",
    "# 그래프 실행 \n",
    "final_state = graph.invoke(initial_state)\n",
    "\n",
    "# 최종 상태 출력\n",
    "print(\"-\"*100)\n",
    "print(\"최종 상태:\")\n",
    "print(\"쿼리:\", final_state['query'])\n",
    "print(\"검색된 문서:\", final_state['documents'])"
   ]
  },
  {
   "cell_type": "markdown",
   "metadata": {},
   "source": [
    "---\n",
    "\n",
    "## **Message 사용**\n",
    "\n",
    "- **LangGraph**는 **메시지 목록** 기반의 채팅 모델 인터페이스를 활용\n",
    "\n",
    "- `HumanMessage`와 `AIMessage` 등 다양한 메시지 타입을 지원\n",
    "\n",
    "- 그래프 상태에서 대화 기록은 **메시지 객체 리스트**로 저장되며, 이를 통해 효율적인 대화 관리를 가능\n",
    "\n",
    "- **reducer 함수**를 통해 상태 업데이트 시 메시지 목록이 어떻게 갱신될지 정의할 수 있음 "
   ]
  },
  {
   "cell_type": "markdown",
   "metadata": {},
   "source": [
    "`(1) operator.add`\n",
    "\n",
    "- 메시지 목록에 새로운 메시지를 간단히 추가하는 기본적인 reducer 함수\n",
    "    1. `messages` 키가 메시지 리스트를 저장\n",
    "    2. `add` reducer가 새 메시지를 기존 리스트에 추가\n",
    "    3. 모든 종류의 메시지(`HumanMessage`, `AIMessage` 등)가 허용됨\n",
    "\n",
    "- 주의사항:\n",
    "    - `operator.add`는 단순히 리스트를 연결\n",
    "    - 중복 메시지도 추가됨\n",
    "    - 메시지 삭제나 수정은 불가능"
   ]
  },
  {
   "cell_type": "code",
   "execution_count": 11,
   "metadata": {},
   "outputs": [],
   "source": [
    "from langchain_core.messages import AnyMessage\n",
    "from langgraph.graph.message import add_messages\n",
    "from typing import Annotated\n",
    "from typing_extensions import TypedDict\n",
    "from langchain_openai import ChatOpenAI\n",
    "from operator import add\n",
    "\n",
    "# 상태 정의\n",
    "class GraphState(TypedDict):\n",
    "    messages: Annotated[list[AnyMessage], add]\n",
    "\n",
    "# LLM 인스턴스 생성\n",
    "llm = ChatOpenAI(model=\"gpt-4.1-mini\")\n",
    "\n",
    "# chatbot 노드 함수 정의\n",
    "def chatbot(state: GraphState) -> GraphState:\n",
    "    # LLM을 사용하여 챗봇 메시지 생성\n",
    "    return {\"messages\": [llm.invoke(state[\"messages\"])]}"
   ]
  },
  {
   "cell_type": "code",
   "execution_count": 12,
   "metadata": {},
   "outputs": [
    {
     "name": "stdout",
     "output_type": "stream",
     "text": [
      "[('user', '안녕하세요!')]\n",
      "----------------------------------------------------------------------------------------------------\n",
      "[('user', '안녕하세요!'),\n",
      " AIMessage(content='안녕하세요! 어떻게 도와드릴까요?', additional_kwargs={'refusal': None}, response_metadata={'token_usage': {'completion_tokens': 10, 'prompt_tokens': 10, 'total_tokens': 20, 'completion_tokens_details': {'accepted_prediction_tokens': 0, 'audio_tokens': 0, 'reasoning_tokens': 0, 'rejected_prediction_tokens': 0}, 'prompt_tokens_details': {'audio_tokens': 0, 'cached_tokens': 0}}, 'model_name': 'gpt-4.1-mini-2025-04-14', 'system_fingerprint': 'fp_6f2eabb9a5', 'id': 'chatcmpl-BlZrRBgMkhGEYWBu5bZQbjLbjm5nu', 'service_tier': 'default', 'finish_reason': 'stop', 'logprobs': None}, id='run--a52dd678-1f19-4a91-8592-f563b77cc632-0', usage_metadata={'input_tokens': 10, 'output_tokens': 10, 'total_tokens': 20, 'input_token_details': {'audio': 0, 'cache_read': 0}, 'output_token_details': {'audio': 0, 'reasoning': 0}})]\n",
      "----------------------------------------------------------------------------------------------------\n"
     ]
    }
   ],
   "source": [
    "# Workflow Graph\n",
    "builder = StateGraph(GraphState)\n",
    "\n",
    "builder.add_node(\"chatbot\", chatbot)\n",
    "\n",
    "builder.add_edge(START, \"chatbot\")\n",
    "builder.add_edge(\"chatbot\", END)\n",
    "\n",
    "# 그래프 컴파일\n",
    "graph = builder.compile()\n",
    "\n",
    "# 초기 상태\n",
    "initial_state = {\"messages\": [(\"user\", \"안녕하세요!\")]}\n",
    "\n",
    "# 그래프 실행\n",
    "for event in graph.stream(initial_state, stream_mode=\"values\"):\n",
    "    pprint(event['messages'])\n",
    "    print(\"-\"*100)"
   ]
  },
  {
   "cell_type": "markdown",
   "metadata": {},
   "source": [
    "`(2) add_messages`\n",
    "\n",
    "- 메시지 ID를 기반으로 기존 메시지를 업데이트하거나 새 메시지를 추가하는 고급 관리 기능을 제공\n",
    "    - 새 메시지는 기존 목록에 추가\n",
    "    - 기존 메시지 업데이트도 올바르게 처리 (메시지 ID를 추적)\n",
    "\n",
    "- 기존 메시지의 중복 추가를 방지"
   ]
  },
  {
   "cell_type": "code",
   "execution_count": 13,
   "metadata": {},
   "outputs": [
    {
     "name": "stdout",
     "output_type": "stream",
     "text": [
      "[HumanMessage(content='안녕하세요!', additional_kwargs={}, response_metadata={}, id='5b513fd9-fae4-4a3b-96ed-3d23a8b1b639')]\n",
      "----------------------------------------------------------------------------------------------------\n",
      "[HumanMessage(content='안녕하세요!', additional_kwargs={}, response_metadata={}, id='5b513fd9-fae4-4a3b-96ed-3d23a8b1b639'),\n",
      " AIMessage(content='안녕하세요! 어떻게 도와드릴까요?', additional_kwargs={'refusal': None}, response_metadata={'token_usage': {'completion_tokens': 10, 'prompt_tokens': 10, 'total_tokens': 20, 'completion_tokens_details': {'accepted_prediction_tokens': 0, 'audio_tokens': 0, 'reasoning_tokens': 0, 'rejected_prediction_tokens': 0}, 'prompt_tokens_details': {'audio_tokens': 0, 'cached_tokens': 0}}, 'model_name': 'gpt-4.1-mini-2025-04-14', 'system_fingerprint': 'fp_6f2eabb9a5', 'id': 'chatcmpl-BlZrUVjped8spElihGG9ZS0NyOCfe', 'service_tier': 'default', 'finish_reason': 'stop', 'logprobs': None}, id='run--acd280f5-6c78-45fa-aa05-b74bc20add0d-0', usage_metadata={'input_tokens': 10, 'output_tokens': 10, 'total_tokens': 20, 'input_token_details': {'audio': 0, 'cache_read': 0}, 'output_token_details': {'audio': 0, 'reasoning': 0}})]\n",
      "----------------------------------------------------------------------------------------------------\n"
     ]
    }
   ],
   "source": [
    "from typing import Annotated\n",
    "from langchain_core.messages import AnyMessage\n",
    "from langgraph.graph.message import add_messages\n",
    "\n",
    "# add_messages 사용 상태 정의\n",
    "class GraphState(TypedDict):\n",
    "    messages: Annotated[list[AnyMessage], add_messages]\n",
    "\n",
    "# LLM 인스턴스 생성\n",
    "llm = ChatOpenAI(model=\"gpt-4.1-mini\")\n",
    "\n",
    "# chatbot 노드 함수 정의\n",
    "def chatbot(state: GraphState) -> GraphState:\n",
    "    # LLM을 사용하여 챗봇 메시지 생성\n",
    "    return {\"messages\": [llm.invoke(state[\"messages\"])]}\n",
    "\n",
    "# Workflow Graph\n",
    "builder = StateGraph(GraphState)\n",
    "\n",
    "builder.add_node(\"chatbot\", chatbot)\n",
    "\n",
    "builder.add_edge(START, \"chatbot\")\n",
    "builder.add_edge(\"chatbot\", END)\n",
    "\n",
    "# 그래프 컴파일\n",
    "graph = builder.compile()\n",
    "\n",
    "# 초기 상태\n",
    "initial_state = {\"messages\": [(\"user\", \"안녕하세요!\")]}\n",
    "\n",
    "# 그래프 실행\n",
    "for event in graph.stream(initial_state, stream_mode=\"values\"):\n",
    "    pprint(event['messages'])\n",
    "    print(\"-\"*100)"
   ]
  },
  {
   "cell_type": "markdown",
   "metadata": {},
   "source": [
    "`(3) MessagesState`\n",
    "\n",
    "- **`MessagesState`** 는 메시지 관리를 위해 미리 정의된 상태 타입\n",
    "\n",
    "- 이 상태는 **`add_messages` reducer**를 기본으로 사용하여 메시지 업데이트를 자동으로 처리\n",
    "\n",
    "- `AnyMessage` 객체 리스트를 포함하는 **단일 `messages` 키**로 구성되어 있어 구조가 단순함 "
   ]
  },
  {
   "cell_type": "code",
   "execution_count": 14,
   "metadata": {},
   "outputs": [
    {
     "name": "stdout",
     "output_type": "stream",
     "text": [
      "[HumanMessage(content='안녕하세요!', additional_kwargs={}, response_metadata={}, id='58e35b4f-11e0-4b6d-8369-01ba6f79a293')]\n",
      "----------------------------------------------------------------------------------------------------\n",
      "[HumanMessage(content='안녕하세요!', additional_kwargs={}, response_metadata={}, id='58e35b4f-11e0-4b6d-8369-01ba6f79a293'),\n",
      " AIMessage(content='안녕하세요! 어떻게 도와드릴까요?', additional_kwargs={'refusal': None}, response_metadata={'token_usage': {'completion_tokens': 10, 'prompt_tokens': 10, 'total_tokens': 20, 'completion_tokens_details': {'accepted_prediction_tokens': 0, 'audio_tokens': 0, 'reasoning_tokens': 0, 'rejected_prediction_tokens': 0}, 'prompt_tokens_details': {'audio_tokens': 0, 'cached_tokens': 0}}, 'model_name': 'gpt-4.1-mini-2025-04-14', 'system_fingerprint': 'fp_6f2eabb9a5', 'id': 'chatcmpl-BlZrWVdUoJADtkRuTX1mC5rCR6wu4', 'service_tier': 'default', 'finish_reason': 'stop', 'logprobs': None}, id='run--3e78b35e-f075-46d9-904f-74ad907620be-0', usage_metadata={'input_tokens': 10, 'output_tokens': 10, 'total_tokens': 20, 'input_token_details': {'audio': 0, 'cache_read': 0}, 'output_token_details': {'audio': 0, 'reasoning': 0}})]\n",
      "----------------------------------------------------------------------------------------------------\n"
     ]
    }
   ],
   "source": [
    "from langgraph.graph import MessagesState\n",
    "\n",
    "# messages 키를 가진 상태 생성 (messages 키는 기본 제공)\n",
    "class GraphState(MessagesState):  # MessagesState 상속\n",
    "    ... \n",
    "    # 추가적인 필드 정의 가능\n",
    "    # custom_field: str\n",
    "\n",
    "# LLM 인스턴스 생성\n",
    "llm = ChatOpenAI(model=\"gpt-4.1-mini\")\n",
    "\n",
    "# chatbot 노드 함수 정의\n",
    "def chatbot(state: GraphState) -> GraphState:\n",
    "    # LLM을 사용하여 챗봇 메시지 생성\n",
    "    return {\"messages\": [llm.invoke(state[\"messages\"])]}\n",
    "\n",
    "# Workflow Graph\n",
    "builder = StateGraph(GraphState)\n",
    "\n",
    "builder.add_node(\"chatbot\", chatbot)\n",
    "\n",
    "builder.add_edge(START, \"chatbot\")\n",
    "builder.add_edge(\"chatbot\", END)\n",
    "\n",
    "# 그래프 컴파일\n",
    "graph = builder.compile()\n",
    "\n",
    "# 초기 상태\n",
    "initial_state = {\"messages\": [(\"user\", \"안녕하세요!\")]}\n",
    "\n",
    "# 그래프 실행\n",
    "for event in graph.stream(initial_state, stream_mode=\"values\"):\n",
    "    pprint(event['messages'])\n",
    "    print(\"-\"*100)"
   ]
  },
  {
   "cell_type": "markdown",
   "metadata": {},
   "source": [
    "`(4) MessagesState 커스텀 필드 추가`\n",
    "\n",
    "- **MessagesState**를 상속받아 추가 필드를 포함하는 새로운 상태 타입을 정의할 수 있음 \n",
    "\n",
    "- 기존 `messages` 키의 **`add_messages` reducer** 기능을 그대로 유지"
   ]
  },
  {
   "cell_type": "code",
   "execution_count": 15,
   "metadata": {},
   "outputs": [
    {
     "data": {
      "image/png": "[encoded data removed]",
      "text/plain": [
       "<IPython.core.display.Image object>"
      ]
     },
     "metadata": {},
     "output_type": "display_data"
    }
   ],
   "source": [
    "from typing import Optional\n",
    "from langgraph.graph import StateGraph, START, END, MessagesState\n",
    "from langchain_openai import ChatOpenAI\n",
    "\n",
    "# MessagesState를 상속하여 커스텀 필드 추가\n",
    "class GraphState(MessagesState):\n",
    "    # 사용자의 감정 상태를 추적하는 필드 추가\n",
    "    emotion: Optional[str] \n",
    "\n",
    "# LLM 인스턴스 생성\n",
    "llm = ChatOpenAI(model=\"gpt-4.1-mini\")\n",
    "\n",
    "# 감정 분석을 위한 프롬프트 템플릿\n",
    "EMOTION_PROMPT = \"\"\"\n",
    "사용자의 메시지를 분석하여 감정 상태를 파악해주세요.\n",
    "가능한 감정 상태: 행복, 슬픔, 화남, 중립\n",
    "\n",
    "사용자 메시지: {message}\n",
    "\n",
    "감정 상태만 한 단어로 답변해주세요.\n",
    "\"\"\"\n",
    "\n",
    "# 감정 분석 노드\n",
    "def analyze_emotion(state: GraphState) -> GraphState:\n",
    "    # 가장 최근 사용자 메시지 가져오기\n",
    "    last_message = state[\"messages\"][-1].content\n",
    "    \n",
    "    # 감정 분석 실행\n",
    "    emotion_analysis = llm.invoke(EMOTION_PROMPT.format(message=last_message))\n",
    "    \n",
    "    # 상태 업데이트\n",
    "    return {\n",
    "        \"emotion\": emotion_analysis.content.strip()\n",
    "    }\n",
    "\n",
    "# 챗봇 응답 노드\n",
    "def chatbot(state: GraphState) -> GraphState:\n",
    "    # 현재 감정 상태를 고려한 시스템 메시지 생성\n",
    "    system_message = f\"\"\"\n",
    "    사용자의 현재 감정 상태는 {state['emotion']}입니다.\n",
    "    이를 고려하여 공감적이고 적절한 응답을 해주세요.\n",
    "    \"\"\"\n",
    "    \n",
    "    # 기존 메시지에 시스템 메시지 추가\n",
    "    messages = [{\"role\": \"system\", \"content\": system_message}] + state[\"messages\"]\n",
    "    \n",
    "    # LLM 응답 생성\n",
    "    response = llm.invoke(messages)\n",
    "    \n",
    "    return {\"messages\": [response]}\n",
    "\n",
    "# Workflow Graph 구성\n",
    "builder = StateGraph(GraphState)\n",
    "\n",
    "# 노드 추가\n",
    "builder.add_node(\"analyze_emotion\", analyze_emotion)\n",
    "builder.add_node(\"chatbot\", chatbot)\n",
    "\n",
    "# 엣지 추가\n",
    "builder.add_edge(START, \"analyze_emotion\")\n",
    "builder.add_edge(\"analyze_emotion\", \"chatbot\")\n",
    "builder.add_edge(\"chatbot\", END)\n",
    "\n",
    "# 그래프 컴파일\n",
    "graph = builder.compile()\n",
    "\n",
    "# 그래프 시각화\n",
    "display(Image(graph.get_graph().draw_mermaid_png()))"
   ]
  },
  {
   "cell_type": "code",
   "execution_count": 16,
   "metadata": {},
   "outputs": [
    {
     "name": "stdout",
     "output_type": "stream",
     "text": [
      "메시지:\n",
      "human: 오늘 정말 힘든 하루였어요...\n",
      "----------------------------------------------------------------------------------------------------\n",
      "감정 상태: 슬픔\n",
      "메시지:\n",
      "human: 오늘 정말 힘든 하루였어요...\n",
      "----------------------------------------------------------------------------------------------------\n",
      "감정 상태: 슬픔\n",
      "메시지:\n",
      "human: 오늘 정말 힘든 하루였어요...\n",
      "ai: 정말 많이 힘드셨겠어요. 이렇게 힘든 날에는 마음이 무거워지고 지치기 마련인데, 그만큼 잘 견뎌내신 거예요. 혹시 오늘 어떤 일이 있었는지 이야기해도 괜찮다면 들어드릴게요. 당신의 감정을 나누는 것만으로도 조금은 마음이 가벼워질 수 있기를 바래요.\n",
      "----------------------------------------------------------------------------------------------------\n"
     ]
    }
   ],
   "source": [
    "# 초기 상태\n",
    "initial_state = {\n",
    "    \"messages\": [{\"role\": \"user\", \"content\": \"오늘 정말 힘든 하루였어요...\"}]\n",
    "}\n",
    "\n",
    "# 그래프 실행\n",
    "for event in graph.stream(initial_state, stream_mode=\"values\"):\n",
    "    if \"emotion\" in event:\n",
    "        print(f\"감정 상태: {event['emotion']}\")\n",
    "    if \"messages\" in event:\n",
    "        print(\"메시지:\")\n",
    "        for msg in event[\"messages\"]:\n",
    "            print(f\"{msg.type}: {msg.content}\")\n",
    "    print(\"-\"*100)"
   ]
  },
  {
   "cell_type": "markdown",
   "metadata": {},
   "source": [
    "---\n",
    "## **[예제]**\n",
    "\n",
    "- 문제: 주어진 텍스트에 대해 검색-요약-팩트체크의 3단계 파이프라인을 구현하는 LangGraph 워크플로우를 작성하세요.\n",
    "\n",
    "- 입력/출력:\n",
    "  * 입력: 검색할 주제나 질문\n",
    "  * 출력: 관련 정보 검색 결과, 요약본, 팩트체크 결과\n",
    "\n",
    "- 제약사항:\n",
    "  * LangGraph의 StateGraph를 사용하여 구현\n",
    "  * 최소 3개의 노드(검색, 요약, 팩트체크) 구현\n",
    "  * MessagesState를 상속한 커스텀 상태 클래스 사용\n",
    "  * 각 단계의 신뢰도 점수 포함"
   ]
  },
  {
   "cell_type": "code",
   "execution_count": 17,
   "metadata": {},
   "outputs": [],
   "source": [
    "from typing import Optional, List, Dict, Any\n",
    "from langgraph.graph import StateGraph, START, END, MessagesState\n",
    "from langchain_openai import ChatOpenAI\n",
    "from langchain_community.tools import TavilySearchResults\n",
    "\n",
    "class ResearchState(MessagesState):\n",
    "    search_results: Optional[List[Dict[str, Any]]]  # 검색 결과를 저장하는 필드\n",
    "    summary: Optional[str]\n",
    "    fact_check: Optional[Dict[str, Any]]\n",
    "\n",
    "# LLM 인스턴스 생성\n",
    "llm = ChatOpenAI(model=\"gpt-4.1-mini\")\n",
    "\n",
    "# 검색 노드\n",
    "def search_info(state: ResearchState) -> ResearchState:\n",
    "    search_tool = TavilySearchResults(\n",
    "        max_results=5,  # 반환할 결과의 수\n",
    "        search_depth=\"advanced\",  # 검색 깊이: basic 또는 advanced\n",
    "        include_answer=True,  # 결과에 직접적인 답변 포함\n",
    "        include_raw_content=True,  # 페이지의 원시 콘텐츠 포함\n",
    "        include_images=True,  # 결과에 이미지 포함\n",
    "    )\n",
    "\n",
    "    # 사용자의 마지막 메시지에서 쿼리 추출\n",
    "    query = state[\"messages\"][-1].content\n",
    "    \n",
    "    # 검색 실행\n",
    "    results = search_tool.invoke(query)\n",
    "    \n",
    "    return {\n",
    "        \"search_results\": results  \n",
    "    }\n",
    "\n",
    "# 요약 노드\n",
    "def generate_summary(state: ResearchState) -> ResearchState:\n",
    "    if not state[\"search_results\"]:\n",
    "        return {\"summary\": \"검색 결과가 없습니다.\"}\n",
    "    \n",
    "    summary_prompt = \"\"\"\n",
    "    다음 검색 결과들을 요약해주세요:\n",
    "    {search_results}\n",
    "    \n",
    "    핵심 포인트 3-4개로 간단히 요약:\n",
    "    \"\"\"\n",
    "    \n",
    "    # 검색 결과를 문자열로 변환하여 프롬프트에 포함\n",
    "    formatted_results = []\n",
    "    for item in state[\"search_results\"]:\n",
    "        if \"raw_content\" in item:\n",
    "            formatted_results.append(f\"제목: {item.get('title', 'No title')}\\n내용: {item['raw_content']}\\n링크: {item.get('url', 'No URL')}\\n\")\n",
    "        else:\n",
    "            formatted_results.append(f\"제목: {item.get('title', 'No title')}\\n내용: {item.get('content', 'No content')}\\n링크: {item.get('url', 'No URL')}\\n\")\n",
    "    \n",
    "    search_text = \"\\n\\n\".join(formatted_results)\n",
    "    \n",
    "    summary = llm.invoke(summary_prompt.format(\n",
    "        search_results=search_text\n",
    "    ))\n",
    "    \n",
    "    return {\"summary\": summary.content}"
   ]
  },
  {
   "cell_type": "code",
   "execution_count": 18,
   "metadata": {},
   "outputs": [],
   "source": [
    "from pydantic import BaseModel, Field\n",
    "from typing import Dict\n",
    "\n",
    "\n",
    "class FactCheckResult(BaseModel):\n",
    "    \"\"\"팩트체크 결과를 위한 스키마\"\"\"\n",
    "    confidence: str = Field(\n",
    "        description=\"문장에 대한 팩트체크 신뢰도 점수 (0-1 사이의 값)\"\n",
    "    )\n",
    "\n",
    "# 팩트체크 노드\n",
    "def check_fact(state: ResearchState) -> ResearchState:\n",
    "    \"\"\"요약 내용에 대한 팩트체크를 수행하는 노드\"\"\"\n",
    "    \n",
    "    if not state[\"summary\"]:\n",
    "        return {\"fact_check\": {\"scores\": {}}}\n",
    "    \n",
    "    fact_check_prompt = \"\"\"다음 요약 내용의 각 문장에 대해 신뢰도를 평가해주세요.\n",
    "\n",
    "요약 내용:\n",
    "{summary}\n",
    "\n",
    "각 문장의 신뢰도를 0과 1 사이의 숫자로 평가하여 JSON 형식으로 반환해주세요.\n",
    "신뢰도가 높을수록 1에 가깝고, 낮을수록 0에 가깝습니다.\n",
    "\n",
    "예시 응답 형식:\n",
    "{{\n",
    "    \"scores\": {{\n",
    "        \"1\": 0.9,  # 첫 번째 문장의 신뢰도\n",
    "        \"2\": 0.7,  # 두 번째 문장의 신뢰도\n",
    "        \"3\": 0.85  # 세 번째 문장의 신뢰도\n",
    "    }}\n",
    "}}\n",
    "\n",
    "요약의 각 문장을 평가하여 위와 같은 형식으로 신뢰도 점수를 반환해주세요.\"\"\"\n",
    "    \n",
    "    fact_checker = llm.with_structured_output(FactCheckResult)\n",
    "    \n",
    "    try:\n",
    "        result = fact_checker.invoke(\n",
    "            fact_check_prompt.format(summary=state[\"summary\"])\n",
    "        )\n",
    "        return {\"fact_check\": result.model_dump()}\n",
    "        \n",
    "    except Exception as e:\n",
    "        print(f\"팩트체크 중 오류 발생: {str(e)}\")\n",
    "        return {\"fact_check\": {\"scores\": {}}}"
   ]
  },
  {
   "cell_type": "code",
   "execution_count": 19,
   "metadata": {},
   "outputs": [
    {
     "data": {
      "image/png": "[encoded data removed]",
      "text/plain": [
       "<IPython.core.display.Image object>"
      ]
     },
     "metadata": {},
     "output_type": "display_data"
    }
   ],
   "source": [
    "# 그래프 구성\n",
    "builder = StateGraph(ResearchState)\n",
    "\n",
    "builder.add_node(\"search_info\", search_info)\n",
    "builder.add_node(\"generate_summary\", generate_summary)\n",
    "builder.add_node(\"check_fact\", check_fact)\n",
    "\n",
    "builder.add_edge(START, \"search_info\")\n",
    "builder.add_edge(\"search_info\", \"generate_summary\")\n",
    "builder.add_edge(\"generate_summary\", \"check_fact\")\n",
    "builder.add_edge(\"check_fact\", END)\n",
    "\n",
    "# 그래프 컴파일\n",
    "graph = builder.compile()\n",
    "\n",
    "# 그래프 시각화\n",
    "display(Image(graph.get_graph().draw_mermaid_png()))"
   ]
  },
  {
   "cell_type": "code",
   "execution_count": 20,
   "metadata": {},
   "outputs": [
    {
     "name": "stdout",
     "output_type": "stream",
     "text": [
      "검색 결과 수: 5\n",
      "검색 결과: [{'title': 'AI는 친환경? 알고보면 탄소 뿜는 AI! - 롱롱의 토론 - 캠페인즈', 'url': 'https://campaigns.do/discussions/535', 'content': '다만, 아직까지 AI를 기술과 산업, 인권 및 사회적인 부분으로 보는 논의가 더 많아요. 환경에도 큰 영향을 미치는 만큼, 환경적인 시각으로 AI를 바라보는 시각도 늘어나야하지 않을까요?\\n\\n(이데일리 2023.05.20)\\n\\n(디지털 타임스 2023.05.18)\\n\\n13\\n\\n’은 법과 멀어진 대중들이 법을 제대로 이해하고, 제대로 된 법이 무엇인지 토론할 수 있는 장을 제공하고자 합니다.\\n\\n Follow \\n\\n저는 대학에서 AI를 공부하고 있는데, AI를 매우 자주 사용할 뿐 아니라 직접 훈련까지 시키는 입장으로서 상당히 충격적인 내용이었습니다. 인공지능의 환경적 영향은 전혀 생각 못하고 있었네요... 확실히 인공지능 분야에서도 지속가능성을 매우 중요한 부분으로 인식할 필요가 있어보입니다. 새로운 고민들을 갖게 하는 글이었네요. 좋은 글 감사합니다.\\n\\n2023.05.30\\n\\n5\\n\\nImage 23Image 24: 생생이 사용자의 뱃지 : 6411의 목소리 [...] 2019년 한 연구에서는 AI 언어처리 모델을 구축한 후 GPU(그래픽처리장치)가 27년 동안 계산해야 하는 분량을 6개월간 학습하는 실험을 진행했는데요. 그 결과 약 35톤의 탄소가 배출된 것으로 추정됐습니다. 35톤은 사람이 평생 내뿜는 탄소 배출량의 두 배에 달한다고 해요. 그것도 6개월 만에 35톤이라니, 어마무시하네요.\\n\\n더 큰 문제는 AI가 진화할수록 에너지 소비량과 탄소배출량의 양이 늘어난다는 것입니다. AI에 사용되는 리소스는 매년 3~4배씩 증가할 전망이라고 해요. 인간보다 AI가 생산하는 데이터량이 더 많아지는 2030년 이후에는 AI가 지구 환경에 재앙이 될 수 있다는 경고도 나오고 있어요.\\n\\nImage 7\\n\\nUnsplash의Towfiqu barbhuiya\\n\\n### 탄소배출량 줄이기에 나선 빅테크 기업들 [...] 또한 AI 컨설팅 회사인 알파벤처의 함마드 칸 CEO는 “AI 모델을 학습시킬 때 사용하는 프로세서와 칩에 대량의 실리콘·플라스틱·구리가 필요하다”며 “이 과정에서 대량의 탄소 배출과 쓰레기가 나온다”고 지적했습니다.\\n\\n(농민신문 2023.05.01)\\n\\nImage 6\\n\\nUnsplash의Matthias Heyde\\n\\n### 2030년 이후 AI가 환경오염 주범 될수도?\\n\\n오픈AI가 공개한 GPT-2, GPT-3는 고성능 AI입니다. 이 모델들은 기존 AI 모델보다 더 많은 데이터를 학습합니다. 그말인즉슨, 이들은 더 많은 탄소를 만들어낸다는 것입니다. 오픈AI가 2020년 6월 공개한 범용 AI인 GPT-3는 학습 과정에서 기존 GPT-2 모델보다 100배 많은 컴퓨팅 리소스를 사용합니다. 해당모델이 학습과정에서 소비하는 에너지와 탄소 배출량은 덴마크 가정 126가구가 연간으로 소비하고 배출하는 양과 맞먹는 것으로 알려졌습니다.', 'score': 0.86303437, 'raw_content': 'AI는 친환경? 알고보면 탄소 뿜는 AI! - 롱롱의 토론 | 내 손 안의 광장, 빠띠\\n\\n===============\\n\\n[![Image 1](https://campaigns.do/assets/logo-ko-v1-e2908485.png)](https://campaigns.do/)[![Image 2: 후원하기](https://campaigns.do/assets/header/support@2x-c55c7591.png)](https://campaigns.do/donate)\\n\\n*   [](https://talks.campaigns.do/)\\n*   [](https://data.campaigns.do/)\\n*   [](https://pass.campaigns.do/)\\n\\n[](https://campaigns.do/search)[로그인](https://campaigns.do/users/sign_in)\\n\\n*   [Feed](https://campaigns.do/feeds)\\n*   [Today](https://campaigns.do/)\\n*   [월간이슈](https://campaigns.do/issues)\\n*   [Member](https://campaigns.do/partizen)\\n*   [시민활동](https://campaigns.do/articles)\\n\\n[토론 시작하기](https://campaigns.do/discussions/new)\\n\\n[Discussion](https://campaigns.do/discussions)\\nAI는 친환경? 알고보면 탄소 뿜는 AI!\\n=======================\\n\\n2023.05.25\\n\\n 14,160\\n\\n 5\\n\\n[인공지능 543](https://campaigns.do/tags/%EC%9D%B8%EA%B3%B5%EC%A7%80%EB%8A%A5)\\n\\n[![Image 3](https://parti-campaigns.s3.ap-northeast-2.amazonaws.com/uploads/user/3/sm_70a98ec6b4.jpg)](https://campaigns.do/users/3105)\\n\\n[롱롱](https://campaigns.do/users/3105)\\n\\n Follow \\n\\n![Image 4](https://parti-campaigns.s3.amazonaws.com/uploads/redactor2_assets/images/6826/content_314c2eac74.jpg)\\n\\nUnsplash의Steve Johnson\\n\\n일반적인 산업에 비해, 첨단기술이 집약된 AI는 친환경적일 것 같은 느낌이 들어요. 근데 이 느낌은 진짜일까요? 미리 결론을 내면, 정답은 ‘아니다’입니다. AI라는 기술이 친환경적 환경 조성에 부분적인 역할을 하고 있는 것은 사실입니다. 하지만, AI를 훈련하며 막대한 전력이 소모되고 이 과정에서 많은 양의 탄소가 배출된다고 해요. 외에도 이메일을 한 번 보내는데 1g, 인터넷 검색 한 번에 약 0.2g의 이산화탄소가 배출되고, 스트리밍 영상을 1시간 동안 보면 자동차가 1㎞를 달릴 때와 비슷한 탄소가 발생한다고 합니다. AI를 비롯, 이런 작업을 보이지 않는 곳에서 처리하는 데이터센터는 대부분 화석연료를 써서 작동하고 열을 식히기 위해 많은 양의 물을 소비해요. 데이터센터가 배출하는 탄소는 전 세계 탄소 배출의 3.6%를 차지하고 있습니다. 이러한 이유 때문에 AI는 환경오염의 원인으로 지목받고 있기도 합니다.\\n\\n![Image 5](https://parti-campaigns.s3.amazonaws.com/uploads/redactor2_assets/images/6825/content_dc0e7b9b8f.jpg)\\n\\nUnsplash의Bianca Berg\\n\\n### 한 번의 AI 훈련에, 뉴욕-샌프란시스코 왕복 비행 탄소 배출\\n\\n2019년 엠마 스트루벨 미국 매사추세츠대 교수 연구진은 AI와 관련한 논문을 발표했습니다. 해당 논문은 AI 모델을 한 번 훈련 시킬 때마다 배출되는 이산화탄소 총량을 계산했는데요. 구글의 AI모델 버트(BERT)의 경우, 배출하는 이산화탄소가 1438파운드(652kg)입니다. 해당 배출량은 뉴욕에서 샌프란시스코를 왕복으로 오갈 때 뿜어내는 이산화탄소 배출량입니다. 또 미국에서 자동차 5대가 평생 동안 배출하는 이산화탄소 총량과 맞먹는 양이기도 합니다.\\n\\n스웨덴의 우메아대 버지니아 디그넘 교수는 ‘AI의 환경 발자국’이라는 제목의 논문을 발표했는데요. 이를 통해 AI를 사용할수록 더 많은 탄소가 배출된다고 지적했습니다. 음성인식 어플리케이션, 넷플릭스 같은 OTT 플랫폼에서 시청할 콘텐츠를 추천하는 알고리즘조차 상당한 양의 탄소를 배출한다고 밝혔습니다.\\n\\n또한 AI 컨설팅 회사인 알파벤처의 함마드 칸 CEO는 “AI 모델을 학습시킬 때 사용하는 프로세서와 칩에 대량의 실리콘·플라스틱·구리가 필요하다”며 “이 과정에서 대량의 탄소 배출과 쓰레기가 나온다”고 지적했습니다.\\n\\n[(농민신문 2023.05.01)](https://www.nongmin.com/article/20230430500037)\\n\\n![Image 6](https://parti-campaigns.s3.amazonaws.com/uploads/redactor2_assets/images/6828/content_9e8be544e0.jpg)\\n\\nUnsplash의Matthias Heyde\\n\\n****\\n\\n### 2030년 이후 AI가 환경오염 주범 될수도?\\n\\n오픈AI가 공개한 GPT-2, GPT-3는 고성능 AI입니다. 이 모델들은 기존 AI 모델보다 더 많은 데이터를 학습합니다. 그말인즉슨, 이들은 더 많은 탄소를 만들어낸다는 것입니다. 오픈AI가 2020년 6월 공개한 범용 AI인 GPT-3는 학습 과정에서 기존 GPT-2 모델보다 100배 많은 컴퓨팅 리소스를 사용합니다. 해당모델이 학습과정에서 소비하는 에너지와 탄소 배출량은 덴마크 가정 126가구가 연간으로 소비하고 배출하는 양과 맞먹는 것으로 알려졌습니다.\\n\\n2019년 한 연구에서는 AI 언어처리 모델을 구축한 후 GPU(그래픽처리장치)가 27년 동안 계산해야 하는 분량을 6개월간 학습하는 실험을 진행했는데요. 그 결과 약 35톤의 탄소가 배출된 것으로 추정됐습니다. 35톤은 사람이 평생 내뿜는 탄소 배출량의 두 배에 달한다고 해요. 그것도 6개월 만에 35톤이라니, 어마무시하네요.\\n\\n더 큰 문제는 AI가 진화할수록 에너지 소비량과 탄소배출량의 양이 늘어난다는 것입니다. AI에 사용되는 리소스는 매년 3~4배씩 증가할 전망이라고 해요. 인간보다 AI가 생산하는 데이터량이 더 많아지는 2030년 이후에는 AI가 지구 환경에 재앙이 될 수 있다는 경고도 나오고 있어요.\\n\\n![Image 7](https://parti-campaigns.s3.amazonaws.com/uploads/redactor2_assets/images/6827/content_4830048e49.jpg)\\n\\nUnsplash의Towfiqu barbhuiya\\n\\n****\\n\\n### 탄소배출량 줄이기에 나선 빅테크 기업들\\n\\n큰 규모의 데이터센터를 운영하는 빅테크 기업들에게 탄소배출량 줄이기는 절대적인 과제 중 하나입니다. 아마존, 구글, 마이크로소프트, 페이스북 등의 기업은 이 구조를 바꾸기 위해 탄소중립을 선언하고 기술투자와 에너지 전환에 집중하고 있기도 합니다. 아마존은 미국, 캐나다, 영국 등 9개 장소에서 풍력과 태양광 사업을 추진하고 있습니다. 사무실, 유통매장, 데이터센터에 재생에너지를 활용합니다. 2025년까지 100% 재생에너지 조달이 목표입니다. 구글 역시 2030년까지 클라우드 사업 탄소 제로화를 목표로 대형 대터리 시설, 원자력, 그린수소, 탄소포집 기술 등을 적극적으로 도입하고 있어요. 페이스북은 미국 18개 주와 5개국에서 6GW(기가와트) 상당의 풍력과 태양광 사업계약을 맺고 있고 이를 통해 사업과 데이터 센터 운영에 필요한 전력은 모두 재생에너지에서 얻는다고 합니다.\\n\\n[(디지털타임스 2022. 02. 17)](https://www.dt.co.kr/contents.html?article_no=2022021802109931650001&ref=naver)\\n\\n****\\n\\n![Image 8](https://parti-campaigns.s3.amazonaws.com/uploads/redactor2_assets/images/6829/content_53d3cbcc75.jpg)\\n\\n Unsplash의Volodymyr Hryshchenko\\n\\n****\\n\\n### AI에 대한 법안 논의는 얼마나?...환경보다 산업기술 및 인권적 논의 대다수\\n\\n유럽과 미국 등지에서 AI와 관련된 법안들이 논의되거나 제정을 앞두고 있어요. 한국도 국회 과학기술정보통신방송위원회에서 ‘AI기본법안’을 두고 다양한 논의가 이어지고 있어요.\\n\\n유럽은 사용자 시각의 강력한 규제를 시행하고 있고, 미국은 기업 시각의 자율 규제를 진행하는 움직임을 보이고 있습니다. 유럽연합(EU)은 AI 규제에 가장 빠른 속도를 내고 있습니다. AI 프로그램을 4등급으로 평가, 분류한 ‘인공지능법(AI Act)’ 초안이 지난 11일 유럽의회 상임위원회를 통과해 다음 달 본회의 표결을 앞두고 있습니다. 미국은 AI를 규제하면서도 오픈AI와 구글 등 자국의 빅테크가 기술 경쟁에서 뒤처지지 않도록 하는 법안을 마련하고 있습니다.\\n\\n다만, 아직까지 AI를 기술과 산업, 인권 및 사회적인 부분으로 보는 논의가 더 많아요. 환경에도 큰 영향을 미치는 만큼, 환경적인 시각으로 AI를 바라보는 시각도 늘어나야하지 않을까요?\\n\\n[(이데일리 2023.05.20)](https://www.edaily.co.kr/news/read?newsId=01334966635610888&mediaCodeNo=257&OutLnkChk=Y)\\n\\n[(디지털 타임스 2023.05.18)](https://www.dt.co.kr/contents.html?article_no=2023051902100131081001&ref=naver)\\n\\n13\\n\\n[](https://facebook.com/sharer/sharer.php?u=https://campaigns.do/discussions/535)[](https://twitter.com/share?url=https://campaigns.do/discussions/535&text=Unsplash%EC%9D%98Steve%20Johnson%EC%9D%BC%EB%B0%98%EC%A0%81%EC%9D%B8%20%EC%82%B0%EC%97%85%EC%97%90%20%EB%B9%84%ED%95%B4,%20%EC%B2%A8%EB%8B%A8%EA%B8%B0%EC%88%A0%EC%9D%B4%20%EC%A7%91%EC%95%BD%EB%90%9C%20AI%EB%8A%94%20%EC%B9%9C%ED%99%98%EA%B2%BD%EC%A0%81%EC%9D%BC%20%EA%B2%83%20%EA%B0%99%EC%9D%80%20%EB%8A%90%EB%82%8C%EC%9D%B4%20%EB%93%A4%EC%96%B4%EC%9A%94.%20%EA%B7%BC%EB%8D%B0%20%EC%9D%B4%20%EB%8A%90%EB%82%8C%EC%9D%80%20%EC%A7%84%EC%A7%9C%EC%9D%BC%EA%B9%8C%EC%9A%94?%C2%A0%20%EB%AF%B8%EB%A6%AC%20%EA%B2%B0%EB%A1%A0%EC%9D%84%20%EB%82%B4%EB%A9%B4,%20%EC%A0%95%EB%8B%B5%EC%9D%80%20%E2%80%98%EC%95%84%EB%8B%88%EB%8B%A4%E2%80%99%EC%9E%85%EB%8B%88%EB%8B%A4.%20AI%EB%9D%BC%EB%8A%94%20%EA%B8%B0%EC%88%A0%EC%9D%B4%20%EC%B9%9C%ED%99%98%EA%B2%BD%EC%A0%81%20%ED%99%98%EA%B2%BD%20%EC%A1%B0%EC%84%B1%EC%97%90%20%EB%B6%80...)\\n\\n#### Issue\\n\\n[![Image 9](https://parti-campaigns.s3.ap-northeast-2.amazonaws.com/uploads/issue/image/171/md_451e038bb5.png)](https://campaigns.do/issues/171)\\n\\n[인공지능](https://campaigns.do/issues/171)\\n---------------------------------------\\n\\n 구독자 410명 \\n\\n Follow \\n\\n롱롱 님의\\n\\n활동을 응원해주세요\\n\\n[![Image 10](https://parti-campaigns.s3.ap-northeast-2.amazonaws.com/uploads/user/3/sm_70a98ec6b4.jpg)](https://campaigns.do/users/3105)\\n\\n[롱롱](https://campaigns.do/users/3105)[](https://campaigns.do/users/3105)\\n\\n[응원하기](https://campaigns.do/users/sign_in)\\n\\n롱롱 님의\\n\\n활동을 응원해주세요\\n\\n[![Image 11](https://parti-campaigns.s3.ap-northeast-2.amazonaws.com/uploads/user/3/sm_70a98ec6b4.jpg)](https://campaigns.do/users/3105)\\n\\n[롱롱](https://campaigns.do/users/3105)[](https://campaigns.do/users/3105)\\n\\n[응원하기](https://campaigns.do/users/sign_in)\\n\\n#### Comment\\n\\n5\\n\\n![Image 12](https://campaigns.do/assets/default-user-014380e0.png)\\n\\n[코멘트를 남겨주세요.](https://campaigns.do/comments/new?commentable_id=535&commentable_type=Discussion)\\n\\n[![Image 13](https://parti-campaigns.s3.ap-northeast-2.amazonaws.com/uploads/user/1/sm_77762d6eda.jpeg)](https://campaigns.do/users/bodhisattva03)[![Image 14: 생생이 사용자의 뱃지 : 6411의 목소리](https://parti-campaigns.s3.ap-northeast-2.amazonaws.com/uploads/reward/mini_image/14/xs_779a1accff.png)](https://campaigns.do/users/1739/achievements/2338)\\n\\n[생생이 ![Image 15: 시티즌패스](https://campaigns.do/assets/common/citizenpass-user-2f43e88c.png)](https://campaigns.do/users/bodhisattva03)[빠띠 열성 코멘터](https://campaigns.do/users/bodhisattva03)\\n\\n Follow \\n\\n말씀처럼 환경의 관점에서 AI를 바라봐야 하겠네요. AI뿐만 아니라 모든 디지털 기술 혁신을 기후위기와 연관하여 볼 필요가 있겠습니다. SF에서나 보아오던 기술은 엄청 발전했지만, 환경은 점점더 인간이 살 수 없는 곳으로 변해가는 디스토피아는 그저 상상만은 아니었던 것 같다는 생각이 점점 들고 있는 요즘입니다.\\n\\n2023.06.05\\n\\n1\\n\\n[![Image 16](https://parti-campaigns.s3.ap-northeast-2.amazonaws.com/uploads/user/2/sm_8026110d7e.jpg)](https://campaigns.do/users/hyovisa)[![Image 17: 효비 사용자의 뱃지 : 2024 캠페인즈 후원회원](https://parti-campaigns.s3.ap-northeast-2.amazonaws.com/uploads/reward/mini_image/11/xs_348c3b0870.png)](https://campaigns.do/users/2766/achievements/2878)\\n\\n[효비 ![Image 18: 시티즌패스](https://campaigns.do/assets/common/citizenpass-user-2f43e88c.png)](https://campaigns.do/users/hyovisa)[현명한 소비자 아니고, 선명한 효비자 / 흩어진 나의 조각을 모아 빛나는 선물을 만드는 창작자](https://campaigns.do/users/hyovisa)\\n\\n Follow \\n\\n탄소 배출량이 어마어마 하네요. 이 글 읽지 않았으면 AI가 학습하는 과정에서 탄소가 얼마나 발생하는지 알지 못 했을 것 같아요. 기후위기에 적어도 관심있는 사람으로서 저도 인공지능 이슈를 환경과 관련하여 고민하는 데 노력해야겠다는 생각이 듭니다...\\n\\n2023.06.02\\n\\n3\\n\\n[![Image 19](https://parti-campaigns.s3.ap-northeast-2.amazonaws.com/uploads/user/2/sm_9c540235dd.jpg)](https://campaigns.do/users/wave1scoop)\\n\\n[파도_한_스쿱](https://campaigns.do/users/wave1scoop)[사회적 가치를 다양한 관점에서 다루는 소셜 섹터 팟캐스트](https://campaigns.do/users/wave1scoop)\\n\\n Follow \\n\\n특히 AI 발전과 관련된 부분은 우리가 직접 볼 수 없기 때문에 직접 와닿지 않고, 큰 문제라고 여겨지지 않는 경향이 있는 것 같아요. 관련 기업에서 사회적 책임을 다 해야 할 것 같네요.\\n\\n2023.05.30\\n\\n4\\n\\n[![Image 20](https://parti-campaigns.s3.ap-northeast-2.amazonaws.com/uploads/user/2/sm_074bcbbc21.png)](https://campaigns.do/users/law)[![Image 21: 제법 사용자의 뱃지 : 더 나은 공론장 함께 만들기](https://parti-campaigns.s3.ap-northeast-2.amazonaws.com/uploads/reward/mini_image/2/xs_4e80dba0ea.png)](https://campaigns.do/users/2628/achievements/762)\\n\\n[제법 ![Image 22: 시티즌패스](https://campaigns.do/assets/common/citizenpass-user-2f43e88c.png)](https://campaigns.do/users/law)[‘제법(齊法)’은 법과 멀어진 대중들이 법을 제대로 이해하고, 제대로 된 법이 무엇인지 토론할 수 있는 장을 제공하고자 합니다.](https://campaigns.do/users/law)\\n\\n Follow \\n\\n저는 대학에서 AI를 공부하고 있는데, AI를 매우 자주 사용할 뿐 아니라 직접 훈련까지 시키는 입장으로서 상당히 충격적인 내용이었습니다. 인공지능의 환경적 영향은 전혀 생각 못하고 있었네요... 확실히 인공지능 분야에서도 지속가능성을 매우 중요한 부분으로 인식할 필요가 있어보입니다. 새로운 고민들을 갖게 하는 글이었네요. 좋은 글 감사합니다.\\n\\n2023.05.30\\n\\n5\\n\\n[![Image 23](https://parti-campaigns.s3.ap-northeast-2.amazonaws.com/uploads/user/2/sm_0dfac3a0da.jpeg)](https://campaigns.do/users/blankend)[![Image 24: 생생이 사용자의 뱃지 : 6411의 목소리](https://parti-campaigns.s3.ap-northeast-2.amazonaws.com/uploads/reward/mini_image/14/xs_779a1accff.png)](https://campaigns.do/users/2297/achievements/2329)\\n\\n[오늘은 ![Image 25: 시티즌패스](https://campaigns.do/assets/common/citizenpass-user-2f43e88c.png)](https://campaigns.do/users/blankend)[모르면 물어보고, 찾아보고, 확인해서 정리합니다.](https://campaigns.do/users/blankend)\\n\\n Follow \\n\\nAI와 관련된 주된 논의가 개발을 중심으로 이뤄지고 있는데 놓치면 안 되는 중요한 지점이네요. 어떤 산업이건 이제 \\'지속 가능성\\'을 배제하고 발전을 이루는 건 불가능해졌습니다. 환경을 훼손하지 않으면서, 탄소 배출 없이 AI를 개발하는 것은 불가능한 일일까요?\\n\\n2023.05.26\\n\\n2\\n\\n#### [#인공지능](https://campaigns.do/tags/%EC%9D%B8%EA%B3%B5%EC%A7%80%EB%8A%A5)\\n\\n543\\n\\n연관 토픽 :[#AI](https://campaigns.do/tags/AI)\\n\\n2025.06.22\\n\\n01:02\\n\\n2025.06.22 01:02\\n\\n[Campaign](https://campaigns.do/campaigns)[#### 인공지능 검색엔진의 디지털 시민권 침해 문제의 인식](https://campaigns.do/campaigns/1614)\\n\\n 세계와시민 \\n\\n[1](https://campaigns.do/campaigns/1614)·\\n\\n![Image 26](https://parti-campaigns.s3.ap-northeast-2.amazonaws.com/uploads/campaign/cover_image/1614/md_a876f9f6fa.png)\\n\\n2025.06.20\\n\\n14:32\\n\\n2025.06.20 14:32\\n\\n[Discussion](https://campaigns.do/discussions)[#### 소버린 AI도 국민추천 받으면 안 되나요](https://campaigns.do/discussions/2773)\\n\\n AI_윤리_레터 \\n\\n[2](https://campaigns.do/discussions/2773)·\\n\\n7\\n\\n[![Image 27](https://parti-campaigns.s3.ap-northeast-2.amazonaws.com/uploads/user/6/sm_fa0ce384d7.jpg)](https://campaigns.do/users/6726)[![Image 28: 생생이 사용자의 뱃지 : 6411의 목소리](https://parti-campaigns.s3.ap-northeast-2.amazonaws.com/uploads/reward/mini_image/14/xs_779a1accff.png)](https://campaigns.do/users/6726/achievements/2325)\\n\\n[goodbookkr ![Image 29: 시티즌패스](https://campaigns.do/assets/common/citizenpass-user-2f43e88c.png)](https://campaigns.do/users/6726)\\n\\n[국민이 직접 추천하고 참여하는 소버린 AI야말로 진정한 ‘우리 AI’, 미래 디지털 주권의 시작입니다!](https://campaigns.do/discussions/2773)\\n\\n2025.06.18\\n\\n19:48\\n\\n2025.06.18 19:48\\n\\n[Discussion](https://campaigns.do/discussions)[#### 소버린 AI를 공부해야 할 시간](https://campaigns.do/discussions/2765)\\n\\n AI_윤리_레터 \\n\\n[1](https://campaigns.do/discussions/2765)·\\n\\n5\\n\\n2025.06.18\\n\\n08:55\\n\\n2025.06.18 08:55\\n\\n[Discussion](https://campaigns.do/discussions)[#### 기술은 정말 사람을 위해 존재할까?](https://campaigns.do/discussions/2764)\\n\\n 스피커스 \\n\\n[1](https://campaigns.do/discussions/2764)·\\n\\n6\\n\\n2025.06.17\\n\\n17:58\\n\\n2025.06.17 17:58\\n\\n[Survey](https://campaigns.do/surveys)[#### [이슈광장] 당신은 휴머노이드 돌봄 로봇의 도움을 받으시겠습니까?](https://campaigns.do/surveys/526)\\n\\n 함께걸음 \\n\\n[8](https://campaigns.do/surveys/526)·\\n\\n5\\n\\n![Image 30](https://parti-campaigns.s3.ap-northeast-2.amazonaws.com/uploads/survey/cover_image/526/md_29fef42063.png)\\n\\n[![Image 31](https://parti-campaigns.s3.ap-northeast-2.amazonaws.com/uploads/user/1/sm_92fffe5bd5.JPG)](https://campaigns.do/users/jaykim)[![Image 32: 생생이 사용자의 뱃지 : 6411의 목소리](https://parti-campaigns.s3.ap-northeast-2.amazonaws.com/uploads/reward/mini_image/14/xs_779a1accff.png)](https://campaigns.do/users/1754/achievements/2328)\\n\\n[jay_kim ![Image 33: 시티즌패스](https://campaigns.do/assets/common/citizenpass-user-2f43e88c.png)](https://campaigns.do/users/jaykim)\\n\\n[나를 돌보느라 가족이나 주위 사람들이 힘든 것보다 낫지 않을까요. 더 살뜰하게 돌볼 수 있는 로봇이면 좋겠어요.](https://campaigns.do/surveys/526)\\n\\n2025.06.16\\n\\n18:48\\n\\n2025.06.16 18:48\\n\\n[#### 하정우 AI 수석, 주식 문제는?](https://campaigns.do/articles/17600)\\n\\n 헬로디디 \\n\\n[1](https://campaigns.do/articles/17600)·\\n\\n4\\n\\n![Image 34](https://parti-campaigns.s3.ap-northeast-2.amazonaws.com/uploads/article/image/17600/md_e5144f85e1.jpeg)\\n\\n2025.06.16\\n\\n11:02\\n\\n2025.06.16 11:02\\n\\n[#### 글로벌 AI 따라잡기? 새 정부 전략에 빠진 것들 - 소셜 코리아](https://campaigns.do/articles/17581)\\n\\n 소셜 코리아 \\n\\n2\\n\\n![Image 35](https://parti-campaigns.s3.ap-northeast-2.amazonaws.com/uploads/article/image/17581/md_edbb978c3d.jpeg)\\n\\n2025.06.16\\n\\n03:08\\n\\n2025.06.16 03:08\\n\\n[#### \"뒤처지기 싫다면, 당장 AI 배우세요\"…英 기술 장관, AI 교육 필요성 역설](https://campaigns.do/articles/17582)\\n\\n AI포스트(AIPOST) \\n\\n1\\n\\n![Image 36](https://parti-campaigns.s3.ap-northeast-2.amazonaws.com/uploads/article/image/17582/md_5a0d951e4f.png)\\n\\n2025.06.15\\n\\n15:08\\n\\n2025.06.15 15:08\\n\\n[Discussion](https://campaigns.do/discussions)[#### AI가 대체 뭐길래](https://campaigns.do/discussions/2752)\\n\\n AI_윤리_레터 \\n\\n[2](https://campaigns.do/discussions/2752)·\\n\\n7\\n\\n[![Image 37](https://parti-campaigns.s3.ap-northeast-2.amazonaws.com/uploads/user/1/sm_77762d6eda.jpeg)](https://campaigns.do/users/bodhisattva03)[![Image 38: 생생이 사용자의 뱃지 : 6411의 목소리](https://parti-campaigns.s3.ap-northeast-2.amazonaws.com/uploads/reward/mini_image/14/xs_779a1accff.png)](https://campaigns.do/users/1739/achievements/2338)\\n\\n[생생이 ![Image 39: 시티즌패스](https://campaigns.do/assets/common/citizenpass-user-2f43e88c.png)](https://campaigns.do/users/bodhisattva03)\\n\\n[저는 개인적으로는 AI 기술 발전 과정에서 \\'발현적 속성(Emergent property)\\'이 작동하여 많든 사람들이 우려하는 \\'초지능의 탄생\\'이 일어날 수도 있고 그때가 되면 완전히 다른 존재론적 위험이 발생 할 수도 있다고는 생각합니다. 하지만 일어나지 않은 일을 당연한 것으로 생각하거나 과하게 가정하거나 하는 식의 \\'AI 예외주의\\'라면 글에서의 관점과 같이 반대할 것 같습니다. 그것은 AI만의 일이 아니라 다른 기술과 영역에서도 일어나는 일이기 때문입니다.(\\'발현적 속성\\' 개념은 물리학, 생물학에서도 쓰이는 용어로 모든 것은 고정되어 있다는 기계론적 세계관에 대한 반대 속에서 설명력을 높이는 개념입니다.) 새로운 속성이 발현 될 것인지는 글에서와 같이 얼마나 또 어떻게 다른가를 질문하면서 기술의 발전을 살펴 볼 때 실질적으로 확인할 수 있게 될 것 같습니다.](https://campaigns.do/discussions/2752)\\n\\n2025.06.11\\n\\n18:42\\n\\n2025.06.11 18:42\\n\\n[#### 의료AI, 여성 간질환 44% 놓쳐...젠더 편향 어떻게 막을까](https://campaigns.do/articles/17447)\\n\\n 여성신문 \\n\\n[3](https://campaigns.do/articles/17447)·\\n\\n4\\n\\n![Image 40](https://parti-campaigns.s3.ap-northeast-2.amazonaws.com/uploads/article/image/17447/md_0c6e5529b6.jpeg)\\n\\n[![Image 41](https://parti-campaigns.s3.ap-northeast-2.amazonaws.com/uploads/user/3/sm_70a98ec6b4.jpg) 롱롱 Follow](https://campaigns.do/users/3105)[응원하기](https://campaigns.do/users/3105)\\n\\n빠띠를 후원 하고 \\n\\n내 손 안의 광장을 함께 만들어 주세요.\\n\\n[후원하기](https://campaigns.do/donate)\\n\\n[이용약관](https://campaigns.parti.coop/posts/dzt22ly)[개인정보처리방침](https://campaigns.parti.coop/posts/ZktaaP3)[운영원칙](https://campaigns.parti.coop/posts/M9tq2D)[협업 & 문의](https://parti.coop/surveys/questionnaires/20fcab7fea9e/feedback)[자주 묻는 질문](https://campaigns.parti.coop/boards/faq)\\n\\n[](https://campaigns.do/)\\n\\n[사회적협동조합 빠띠](https://parti.coop/) | 이사장: 권오현 | 등록번호: 278-82-00201 \\n\\n | 전화: 070-7610-6414 \\n\\n 서울시 서대문구 수색로 43 2층 사회적경제마을자치센터 \\n\\n © 2025 [Parti Coop](https://parti.coop/). All rights reserved \\n\\n[](https://www.facebook.com/campaigns.do)[](https://www.youtube.com/@parti_square)[](https://www.instagram.com/campaigns.do)[](https://blog.naver.com/partiunion)[](https://twitter.com/campaigns_do)\\n\\n빠띠를 후원 하고 \\n\\n내 손 안의 광장을 함께 만들어 주세요.\\n\\n[후원하기](https://campaigns.do/donate)\\n\\n[](https://www.facebook.com/campaigns.do)[](https://www.youtube.com/@parti_square)[](https://www.instagram.com/campaigns.do)[](https://blog.naver.com/partiunion)[](https://twitter.com/campaigns_do)\\n\\n[![Image 42: 빠띠](https://campaigns.do/assets/logo-gray-ko-1b0198f0.png)](https://campaigns.do/)\\n\\n[이용약관](https://campaigns.parti.coop/posts/dzt22ly)[개인정보처리방침](https://campaigns.parti.coop/posts/ZktaaP3)\\n\\n[운영원칙](https://campaigns.parti.coop/posts/M9tq2D)[협업 & 문의](https://parti.coop/surveys/questionnaires/20fcab7fea9e/feedback)[자주 묻는 질문](https://campaigns.parti.coop/boards/faq)\\n\\n[사회적협동조합 빠띠](https://parti.coop/) | 이사장: 권오현 | 등록번호: 278-82-00201 | 전화 070-7610-6414 | 서울시 서대문구 수색로 43 2층 사회적경제마을자치센터 © 2025 [Parti co-op](https://parti.coop/). All rights reserved \\n\\n*   [Feed](https://campaigns.do/feeds)\\n*   [Today](https://campaigns.do/)\\n*   [Issue](https://campaigns.do/issues)\\n*   [Member](https://campaigns.do/partizen)\\n*   [Article Campaign 모임 리빙랩](https://campaigns.do/quick)\\n*   [](https://campaigns.do/discussions/new)\\n\\n![Image 43](https://t.co/i/adsct?bci=3&dv=UTC%26en-US%26Google%20Inc.%26Linux%20x86_64%26255%26800%26600%264%2624%26800%26600%260%26na&eci=2&event_id=2572ffaf-3cfb-4a59-b9e6-f68e7ebc1a7d&events=%5B%5B%22pageview%22%2C%7B%7D%5D%5D&integration=advertiser&p_id=Twitter&p_user_id=0&pl_id=75523f0f-5096-4c8d-8db8-e91215bea4c0&tw_document_href=https%3A%2F%2Fcampaigns.do%2Fdiscussions%2F535&tw_iframe_status=0&tw_order_quantity=0&tw_sale_amount=0&txn_id=o8o3y&type=javascript&version=2.3.33)![Image 44](https://analytics.twitter.com/i/adsct?bci=3&dv=UTC%26en-US%26Google%20Inc.%26Linux%20x86_64%26255%26800%26600%264%2624%26800%26600%260%26na&eci=2&event_id=2572ffaf-3cfb-4a59-b9e6-f68e7ebc1a7d&events=%5B%5B%22pageview%22%2C%7B%7D%5D%5D&integration=advertiser&p_id=Twitter&p_user_id=0&pl_id=75523f0f-5096-4c8d-8db8-e91215bea4c0&tw_document_href=https%3A%2F%2Fcampaigns.do%2Fdiscussions%2F535&tw_iframe_status=0&tw_order_quantity=0&tw_sale_amount=0&txn_id=o8o3y&type=javascript&version=2.3.33)\\n'}, {'title': '환경윤리와 인공지능 - 인공지능 기술의 환경적 영향, 지속가능성을 ...', 'url': 'https://flashcards.world/flashcards/sets/a9087251-6aa5-4ba0-9e82-0467b9750f26/', 'content': 'AI의 환경적 영향을 평가하는 지표는 무엇인가요? 탄소 발자국, 에너지 소비, 자원 사용 등이 주요 지표입니다. AI의 환경 보호를 위한 활용 사례는 무엇인가요? AI는', 'score': 0.8036831}, {'title': '인공지능 기술의 환경적 영향 - Turn around to AI', 'url': 'https://richcharming.com/entry/%EC%9D%B8%EA%B3%B5%EC%A7%80%EB%8A%A5-%EA%B8%B0%EC%88%A0%EC%9D%98-%ED%99%98%EA%B2%BD%EC%A0%81-%EC%98%81%ED%96%A5', 'content': '인공지능 기술의 에너지 소비 · 데이터 센터의 환경적 부담 · 전자 폐기물 문제 · 자원 채굴과 공급망 문제 · 지속 가능한 인공지능을 위한 노력 · 인공지능과', 'score': 0.78074646}, {'title': '인공지능, 우리 환경에 어떤 영향을 미칠까요? - Naver Blog', 'url': 'https://blog.naver.com/techping/223649806726', 'content': '위성 영상 분석, 센서 데이터 처리, 기후 모델링 등을 통해 지구 온난화, 해수면 상승, 빙하 감소, 생물 다양성 감소 등 환경 변화 의 심각성을 더욱', 'score': 0.776708}, {'title': '[PDF] 인공 지능 및 기후 변화', 'url': 'https://kr.boell.org/sites/default/files/2022-02/KR-%20AI%20and%20Climate%20Change%20E-paper.pdf', 'content': '9/17 인공 지능및 기후 변화 배출량이 증가하거나 영향이 불확실한 AI 응용 AI의 광범위한 적용 가능성을 감안할 때, 기후 변화 완화 및 적응 전략에 부정적인 영향을 미치는 방향으로도 활용될 수 있다. 예를 들어, 석유 및 가스 탐사와 채굴을 용이하게 하도록 AI가 폭넓게 적용된다. AI 의존도가 높은 자율주행차는 투입 조건에 따라 운송 부문에서 배출량이 늘어날 수 있고, 마케팅이나 제조 분야의 AI 기반 혁신은 상품과 서비스의 소비를 늘리고 관련 배출량을 증가시킬 수 있다. 기후에 대한 AI의 이러한 적용의 영향은 연구가 잘 되어 있지 않지만, 잠재적인 영향은 클 수 있다.\\n11. 군집 주행은 매우 가깝게 함께 운전하는 트럭을 말하고, 이것은 AI 기술로 촉진되고 공기 저항을 줄여 연비를 더욱 좋게 만든다. [...] 최근 기계 학습의 획기적인 발전으로 인공 지능(AI)이 유엔의 지속가능발전목표 달성을 도울 수 있다는 희망이 높아졌다. 반면에, AI 또는 AI 기반 기술은 적용 유형과 배포 상황에 따라 글로벌 자원 소비 및 배출의 동인이 될 수도 있다는 우려가 있다.\\n많은 요인들이 실제 결과를 형성하는 데 역할을 할 것이다. 예를 들어, 위성 이미지 분석을 위한 원격 감지 알고리즘은, 농업 생산성에 대한 정보를 수집하거나 건물 에너지 소비를 예측하는 데 사용할 수 있지만, 석유 및 가스 탐사를 촉진하는 데도 사용할 수 있다. 자율주행 자동차는 운전을 더 효율적으로 만들 수 있는 반면에 사람들이 운전하는 양을 증가시킬 수도 있다. [...] • 영향 평가 기준: AI의 기후 영향에 관해서 이용할 수 있는 데이터의 측면에서 근본적인 비대칭성이 존재한다. 특히 AI 모델의 에너지 소비는 비교적 쉽게 추정할 수 있지만 사용 사례의 영향에 대한 데이터는 거의 없다. 그럼에도 불구하고, 이 분야의 정책은 — 특히 AI 부문이 빠르게 진화하는 속도를 감안할 때 — 에너지 사용과 적용 별 영향을 모두 해결함에 있어서 주도적이어야 한다.\\n12 /17 인공 지능및 기후 변화 • 형평성: 형평성은 모든 수준의 통치에서 기후 변화 완화와 적응 전략과 관련하여 중심적으로 고려해야 할 사항이다. AI 기반 접근법은 - 예를 들어, 정보 격차를 확대하거나 알고리즘 편향과 같은 문제를 통해 — 불평등을 악화시킬 수 있다.', 'score': 0.74004334, 'raw_content': \"인공 지능 및 기후 변화 AI를 기후 변화 목표에 맞추기 위한 기회, 고려사항 및 정책 활용 Lynn H. Kaack, Priya L. Donti, Emma Strubell, David Rolnick E-PAPER Asia Global Dialogue 저자 Lynn H. Kaack 은취리히연방공과대학교(ETH Z+rich)의 에너지정치그룹에서박사후연구원이자 강사이고 ‘ Climate Change AI ’ 의장이며 오스트리아 로봇 공학 및 인공 지능 위원회(ACRAI) 회원이다. Kaack의 연구는 에너지 분야 전반의 기후 완화 정책을 알리기 위해 통계와 기계 학습(machine learning, ML)의 방법을 적용한다. Kaack 박사는 카네기 멜론 대학교(CMU)에서 공학 및 공공정책 박사 그리고 기계 학습 석사 학위를 취득했다.\\nPriya L. Donti 는카네기 멜론 대학의 컴퓨터 과학 및 공공 정책 박사 과정 학생이며, ‘ Climate Change AI ‘ 의장이자 미국 에너지부(DOE) 계산과학 펠로우이다. Donti의 연구는 기계 학습, 전력 시스템 및 기후 변화 완화의 만남에 있다. 특히, 그녀는 (전력 시스템 물리학과 같은) 도메인 지식을 기계 학습 모델에 통합하는 방법을 탐구한다.\\nEmma Strubell 은카네기 멜론 대학의 언어 기술 연구소의 조교수이다. 자연어 이해와 기계 학습의 접점인 ‘ 그린 AI(Green AI) ’에 대한 Strubell의 연구는 가장 권위 있는 시상식에서 최고의 논문상을 수상했으며 뉴욕타임스 및 월스트리트 저널을 포함한 뉴스 매체에서 인용되었다.\\nDavid Rolnick 은맥길 대학교와 밀라 퀘벡 AI 연구소의 컴퓨터 과학 대학의 조교수이다. Rolnick 는 ‘ Climate Change AI ‘의 의장과 디지털 시대의 지속가능성(단체 )의 과학적 공동 책임자로 재직하고 있다. Dr. Rolnick는 미국 국립과학재단(NSF) 전 수리학 박사후 연구원, NSF 전 대학원생 리서치 펠로우 및 풀브라이트 장학금 수혜자이다. 그는 매사추세츠 공과대학교(MIT)에서 응용수학 박사 학위를 받았다.\\n목차 서문 4 요약 5 １．AI란 무엇인가? 5 ２．인공 지능과 기후 변화 6 기후 변화 완화 및 적응을 위한 AI 응용 6 배출량이 증가하거나 영향이 불확실한 AI 응용 10 AI의 에너지 사용 11 ３．정책 수단 11 ４．정책 관련 고려사항 12 ５．결론 13 권장 읽을거리 14 참고문헌 15 인공 지능및 기후 변화 서문 지속가능한 경제 변혁을 위한 디지털 기술 사용은 유럽과 독일의 정책 입안 논의의 핵심 포인트가 되었다.\\n최근 기계 학습의 획기적인 발전으로 인공 지능(AI)이 유엔의 지속가능발전목표 달성을 도울 수 있다는 희망이 높아졌다. 반면에, AI 또는 AI 기반 기술은 적용 유형과 배포 상황에 따라 글로벌 자원 소비 및 배출의 동인이 될 수도 있다는 우려가 있다.\\n많은 요인들이 실제 결과를 형성하는 데 역할을 할 것이다. 예를 들어, 위성 이미지 분석을 위한 원격 감지 알고리즘은, 농업 생산성에 대한 정보를 수집하거나 건물 에너지 소비를 예측하는 데 사용할 수 있지만, 석유 및 가스 탐사를 촉진하는 데도 사용할 수 있다. 자율주행 자동차는 운전을 더 효율적으로 만들 수 있는 반면에 사람들이 운전하는 양을 증가시킬 수도 있다.\\n본 보고서의 저자들은 북미 및 유럽의 주요 연구 기관의 기계 학습 및 정책 전문가들이다. 그들은 기후에 유익한 기계 학습 기술의 사용을 식별 및 촉진하고 지구에 해를 끼칠 수 있는 기술에 대한 경고에 전념한다. 본 보고서는 AI 적용이 기후 모델링, 배터리 개발, 전기 네트워크 및 식품 보안에 가져올 수 있는 구체적인 혜택과 AI가 기후 변화 해결 노력에 해를 끼칠 수도 있는 방법에 대한 개요를 제공한다.\\n저자들은 지구를 괴롭히는 문제들에 대한 만병통치약으로 기술을 선전하는 것을 피하면서, 우리에게 보다 지속가능한 미래를 인도하는 데 있어 인공 지능의 역할이, 궁극적으로 인간의 결정에 달려 있다는 사실을 상기시킨다. AI의 사용이 자원 소비와 배출량을 증가시키기보다는 감소시킬 수 있는지 아닌지는 스마트 정책, 규제 프레임워크 및 인센티브에 따라 달라질 것이다.\\nPriya Donti, Lynn Kaack, David Rolnick, Emma Strubell 등 저자들이 해당 분야의 최신 발전을 업데이트하고 이러한 기술의 광범위한 사회적 영향을 평가하는 방법에 대한 아이디어를 제공해 준 것에 감사를 표시한다. 우리는 이 보고서가 기존 정책을 평가하기 위한 공통의 기준선을 만드는 것은 물론 향후 정책 옵션에 대한 논의의 출발점이 되기를 바란다.\\nVérane Meyer 디지털 정책부서 책임자 Heinrich-B*ll-Stiftung, 베를린 Zora Siebert 유럽연합 정책 프로그램 책임자 Heinrich-B*ll-Stiftung, 브뤼셀 Sabine Muscat 프로그램 책임자, 기술 및 디지털 정책 Heinrich-B*ll-Stiftung, 워싱턴 D.C.\\n4/17 요약 사회 전반에 인공 지능(AI) 기술의 보급이 증가함에 따라 AI가 기후 진행을 어떻게 가속화하거나 방해할 수 있는 지, 다양한 이해관계자가 그러한 발전을 어떻게 안내할 수 있는지 이해하는 것이 중요하다. 한편, AI는 에너지, 제조업, 농업, 임업 및 재난 관리와 같은 다양한 분야에서 기후 변화 완화와 적응 전략을 촉진할 수 있다. 반면에, AI는 또한 AI 자체와 관련된 에너지 사용뿐만 아니라 고배출 부문에 이익을 주거나 소비자 수요를 증가시키는 사용을 통해 온실가스 배출량 증가를 초래할 수 있다. 여기서는 기후 변화와 AI의 다면 관계에 대한 간략한 개요를 제공하고 AI 사용을 기후 변화 완화 및 적응 경로와 일치시키기 위한 정책 수단을 권장한다.\\n1. AI란 무엇인가?\\n인공 지능(AI)은 컴퓨터가 복잡한 작업을 수행하도록 하는 모든 알고리즘을 말한다. 최근 데이터에서 패턴을 자동으로 추출하는 일련의 기술인 기계 학습(machine learning, ML)이라는 AI의 하위 영역이 발전하고 있다. 특히 성공적인 AI 분야에는 컴퓨터 비전(이미지 내용 해석), 자연어 처리(단어와 텍스트 분석), 시계열 분석(예: 예측) 및 제어(복합 시스템 운영)가 포함된다. 현재 이러한 각 기능에 대해 많은 AI 도구를 즉시 사용할 수 있다. AI의 최첨단 연구 영역에는 해석 가능성(예측이 정확한 이유 설명), 불확실성 정량화(예측 신뢰도 보정) 그리고 몇 가지 학습(사용 가능한 데이터가 거의 없을 때 통찰력 부여)과 같은 교차 주제가 포함된다.\\nAI 방식은 의사들의 의료 영상 라벨링(labeling) 보조, 자율주행차 장애물 감지, 광고용 소비자 패턴 예측 등 응용 분야에 광범위하게 활용되고 있다. 엔지니어링과 과학을 아우르는 다른 기본 도구와 마찬가지로 AI는 다양한 적용을 가속화하고 활성화하는 데 사용할 수 있다.\\n5/17 인공 지능및 기후 변화 2. 인공 지능 및 기후 변화 광범위한 적용 가능성을 감안할 때 AI와 ML은, 사회가 그것들을 사용하는 방법에 대해 크게 의존하는 것에, 영향을 미친다. 따라서 기후 변화 해결의 중요성으로 인해 AI가 기후 진행에 미치는 잠재적 영향을 평가해야 한다.\\n기후 변화 완화 및 적응을 위한 AI 응용 AI는 완화 및 적응을 위한 연구, 엔지니어링 및 정책 등에 유용한 방법을 제공해 기후 변화 대응에 적용될 수 있다. 여기서는 AI가 도움이 될 수 있는 몇 가지 중요한 방법을 소개하고, 각 영역에 대해 한 가지 특정 예를 자세히 살펴본다.\\n• 정보 수집: 어떤 정책 관련 정보를 다른 분야에 사용할 수 없는 경우, AI는 대량의 원시 데이터[예: 지리 공간 이미지, 텍스트 문서 또는 센서 데이터]를 분석하여, 한정되었던 정보의 활용을 확장할 수 있다. 예를 들어, AI를 위성 이미지에 적용하여 온실 가스 배출원을 정확히 찾아내고 건물 효율성 특성에 대한 정보를 수집하고 삼림 벌채를 추적할 수 있다. 1. NASA Harvest: https://nasaharvest.org/ 2. Copernicus Land Monitoring Service: https://www.copernicus.eu/en/services/land 3. GEOGLAM: http://earthobservations.org/geoglam.php 4. Indigo Atlas Insights: https://www.indigoag.com/atlas-insight 예: AI를 사용하여 식품 보안 개선 기후 변화는 더 빈번하고 심각한 폭풍, 가뭄, 홍수 그리고 질병과 해충의 확산으로 농업에 점점 더 많은 영향을 미치고 있다. 고해상도 인공위성과 공중영상이 널리 보급됨에 따라, 농작물 상태와 수확량을 규모에 맞게 모니터링하고 위기를 미연에 방지하기 위한 조기 경보 시스템을 고안하는 것이 가능해졌다. AI는 이러한 과정을 자동화하는 데 사용되어 분석할 수 있는 이미지의 수를 크게 늘리고 사람이 알아차리지 못할 수 있는 이미지의 미묘한 신호를 포착한다. 예를 들어, AI를 사용하면 전문가가 몇 개의 이미지에서 작물 지역에 표시를 하고 알고리즘이 이를 자동으로 넓은 영역에 추론하도록 학습할 수 있다. 이 분야의 주요 참여자들은 정부 프로그램 [예: ‘미국항공우주국 수확’(NASA Harvest¹) 과 ‘유럽연합 코페르니쿠스 지구관측 서비스’(Copernicus Land Monitoring Service²)], 비정부 기구[예: '지구관측 글로벌 농업 모니터링 그룹'(GEOGLAM³)], 그리고 많은 수의 민간 기업[예: ‘인디고 아틀라스 통찰력’ (Indigo Atlas Insights⁴)]을 포함한다.\\n6/17 인공 지능및 기후 변화 • 예측: AI는 이력 데이터의 패턴을 분석함으로써 풍력 생산, 교통 수요 및 재해 재난 같은, 수량에 대한 예측을 제공하는 데 도움을 줄 수 있다. 이러한 예측은 다시 전력 시스템 최적화, 인프라 계획 및 재해 관리와 같은 맥락에서 매우 필요한 예측을 제공할 수 있다.\\n• 운영 효율성 개선: AI는 이러한 시스템이 최적화되는 방식을 개선함으로써 실제 시스템의 효율성을 향상시키는데 도움을 줄 수 있다. 이러한 예로는 산업 냉난방 시스템 관리, 화물 운송 통합, 식품 산업의 폐기물 감소 등을 들 수 있다.\\n5. Open Climate Fix: https://openclimatefix.org/ 6. 강화 학습이라는 것은 알고리즘이 일부 환경과 상호 작용하여 원하는 결과의 기회를 최대화하는 전략을 학습하려고 하는 기계 학습 영역을 말한다.\\n7. 모델 예측 제어는 프로세스의 미래 상태도 고려하여 프로세스를 제어하는 방법이다. 그것은 여러 산업에 걸쳐 광범위하게 적용되고 있다.\\n예: 태양광 PV 실시간 예측 전력 시스템 운영자들은 대량의 태양과 바람을 사용하는 그리드를 관리하기 위해 전력 생산에 대한 단기 예측(또는 “실시간 예측”)에 점점 더 의존하고 있다. 과거 데이터를 사용함으로써, AI가 전력 생산과 국지적인 날씨와 같은 요인 간의 상관관계를 학습한 다음 이러한 통찰력을 적용하여 향후 전력 생산을 예측할 수 있다. 예를 들어, 비영리 단체인 ‘ 오픈클라이밋픽스’(Open Climate Fix)5는 위성 사진에서 구름 커버를 식별하고 몇 시간 전에 태양 에너지를 더 정확하게 예측하기 위해 다른 날씨 및 위치 데이터와 결합하는 오픈 소스 실시간 예측 모델을 개발하고 있다. 또 다른 예로, 미국 에너지부와 국립대기연구센터는 협력하여 최대 72시간 전에 확률적 다중 시간 규모 태양광 발전 예측을 개발했다[Haupt et al. 2016].\\n예: 난방, 환기 및 냉방(HVAC) 시스템 제어 난방, 환기 및 냉방(HVAC) 시스템은 건물에서 소비되는 에너지의 절반 이상을 담당하며, 현재 시스템은 실제 건물 열역학, 사용 패턴 및 장비 제약 측면에서 개선의 여지가 크다. AI 기반 제어 전략은 효율을 높이기 위해 HVAC 시스템의 작동을 개선하는 데 도움이 될 수 있다. 예를 들어, 강화 학습6[Wang and Hong 2020] 및 AI와 모델 예측 제어7[Drgoňa et al. 2020, Drgoňa et al. 2018]와 같은 기술은 상업용 및 주거용 건물에서 최적의 HVAC 제어 전략을 찾는 데 사용되었다. AI 기반 제어 전략은 산업적 맥락에서도 사용할 수 있다. 예를 들어, 영국 AI 회사인 딥마인드(DeepMind)는 구글 데이터 센터에서 HVAC에 대한 이러한 접근 방식을 개발함으로써 효율성이 크게 향상되었다[Gamble and Gao 2018].\\n7/17 인공 지능및 기후 변화 • 예측 유지관리: AI는 결함을 조기에 발견함으로써 인프라 안전을 높이고, 비용을 절감하고, 시스템의 에너지 효율을 높이는 데 도움을 줄 수 있다. 예를 들어, AI는 천연가스 파이프라인의 누출을 감지하고, 태양광 패널 출력의 이상을 식별하고, 인프라나 산업 장비의 결함을 예측하는 데 사용되어 왔다.\\n• 과학 실험 촉진: AI는 — 예컨대, 성공 가능성이 더 높은 미래 실험을 제안하기 위해 과거 실험에서 학습함으로써 — 과학적 발견 프로세스를 가속화하는 데에 도움이 될 수 있다. 이와 같이, AI는 배터리나 차세대 태양 전지 같은 청정 기술 개발을 가속화하는 데 도움을 줄 수 있다.\\n8. Deutsche Bahn: https://www.deutschebahn.com/en/Digitalization/technolo-gy/New-Technology/artificial _ intelligence-3520346 예: 철도 시스템 유지관리 철도 시스템은 승객과 화물 운송에서 탄소를 제거하는 데 중요한 역할을 한다. 고탄소 교통수단에 대한 철도 시스템의 경쟁력을 높이기 위해서는 많은 종류의 접근법이 필요하겠지만, 예측 정비 기술은 효율성을 향상시키고, 비용이 많이 드는 수리의 필요성을 줄이는 과정에 역할을 할 수 있다. AI는 센서 데이터를 규모에 맞게 분석해 예측 정비 시스템을 알려 현재 또는 미래의 이상 징후를 탐지할 수 있다. 예를 들어, 독일철도주식회사(Deutsche Bahn)8은 기계적인 결함을 예측하고 철도 장비의 상태를 모니터링하기 위해 음향 센서와 비디오 장비의 데이터를 분석하는 AI 기술을 개발하고 있다. 다른 연구에서는 철도 유지 관리 결정을 안내하기 위해 선로 특성에 대한 사전 지식과 진동 데이터 및 비디오 이미지의 대규모 분석을 결합하는 방안을 검토했다[Jamshidi et al. 2018].\\n8/17 인공 지능및 기후 변화 • 대략적인 시간 집약적 시뮬레이션: AI는 기후 물리학이나 공학 시스템을 모델링하는 데 사용되는 전산 집약적 시뮬레이션의 속도를 가속화시키는 데 도움을 줄 수 있다. 예를 들어, AI는 기후 모델 및 전력 시스템 최적화 모델의 부분들을 대략적으로 파악하는 데 도움을 줄 수 있으며, 이미 도시 계획 프로그램의 속도를 높여 실시간 의사 결정을 지원하고 있다.\\n9. 예를 들어, Aionics, Accure 및 Twaice와 같은 플레이어를 참조합니다.\\n10. 기상, 기후 및 연안 해양학 전문 AI에 대한 국립과학재단 AI 연구소(AI2ES): https://www.ai2es-.org/ 예: 전기저장기술의 연구 및 개발 배터리—전기 저장은 운송 및 전기 산업에서 탈탄소화 전략의 핵심 구성 요소로 간주되고 있으며, 이 기술은 성능과 비용 개선에 여전히 상당히 필요하다[Beuse et al. 2020]. AI가 배터리 산업의 연구개발(R&D)에 성공적으로 활용되기 시작했다. 예를 들어, 연구원들은 AI를 사용한 데이터 분석을 통해 배터리의 용량 저하를 평가할 수 있다는 것을 입증했지만 이는 아직 잘 이해되지 않고 있다[Severson et al. 2019]. 또한 AI는 — 예컨대, 다음에 시도할 잠재적 재료를 추천하기 위해 재료의 대규모 데이터베이스를 분석함으로써 — 새로운 배터리 재료의 발견을 가속화하는 데에도 사용할 수 있다[Jain, et al. 2013]. 이러한 AI 주도적 접근 방식이 배터리 업계에 적용되기 시작하고 있다.9 예: 현지화된 기후 모델 기후 과학자들은 기후 변화와 관련된 요인(대기 및 해양 물리학 등)에 대해 매우 정확하게 파악하고 있지만 물리학 기반 기후 모델을 실행하는 것은 대규모 슈퍼컴퓨터가 필요한 일부 시뮬레이션과 함께 매우 시간과 계산 집약적일 수 있다. AI가 물리학 기반 모델을 대체할 수는 없지만, 경우에 따라 특히 이러한 모델의 시간 집약적인 부분에 대한 빠른 근사치를 제공할 수 있다. 예를 들어, AI는 보다 정확한 모델의 예측을 관찰함으로써 클라우드 물리학(기후 시뮬레이션의 중요한 구성 요소)의 대략적인 모델을 학습할 수 있는데, 이는 전체 기후 모델이 보다 효율적으로 실행되는 데 도움이 될 수 있다. 물리학 기반 모델과 AI의 조합은 지구의 특정한 위치에서 기후 변화에 대한 세밀한 예측을 가능하게 할 수 있지만, 만약 완전한 물리적 시뮬레이션만 사용한다면 예측에 시간이 엄청나게 많이 걸릴 것이다. AI의 도움을 통해, 지역 수준에서 더 많은 정보에 입각한 의사 결정을 내릴 수 있으며(예: 재난에 탄력적인 인프라의 계획), 정확한 기후 모델에 대해 슈퍼컴퓨터를 실행하는 데 필요한 에너지를 절약할 수 있다. 기후 과학자들은 점점 더 AI를 그들의 전산 파이프라인에 통합하고 있다(예컨대, [Reichstein et al. 2019] 및 AI2ES 이니셔티브10 참조).\\n9/17 인공 지능및 기후 변화 배출량이 증가하거나 영향이 불확실한 AI 응용 AI의 광범위한 적용 가능성을 감안할 때, 기후 변화 완화 및 적응 전략에 부정적인 영향을 미치는 방향으로도 활용될 수 있다. 예를 들어, 석유 및 가스 탐사와 채굴을 용이하게 하도록 AI가 폭넓게 적용된다. AI 의존도가 높은 자율주행차는 투입 조건에 따라 운송 부문에서 배출량이 늘어날 수 있고, 마케팅이나 제조 분야의 AI 기반 혁신은 상품과 서비스의 소비를 늘리고 관련 배출량을 증가시킬 수 있다. 기후에 대한 AI의 이러한 적용의 영향은 연구가 잘 되어 있지 않지만, 잠재적인 영향은 클 수 있다.\\n11. 군집 주행은 매우 가깝게 함께 운전하는 트럭을 말하고, 이것은 AI 기술로 촉진되고 공기 저항을 줄여 연비를 더욱 좋게 만든다.\\n예: 석유 및 가스 탐사와 채굴 AI는 화석연료 산업 내에서 광범위하게 사용되어 왔다. 예를 들어, 최근 보고서에서 석유 및 가스 회사가 채굴 현장을 확인 및 모델링하고, 화석 연료 운송 및 저장 기능을 확대하기 위해 파이프라인을 최적화하고, 정제 공정을 개선하고, 화석 연료 파생 제품의 마케팅 및 판매를 촉진하기 위해서 대규모 기술 기업이 AI를 사용하고 있는 방법을 상세히 기술하였다[Green-peace 2020]. 일부 보고서는 AI를 비롯한 디지털 기술이 오는 2025년까지 석유 및 가스 부문에서 무려 4천 250억달러의 가치를 창출할 수 있을 것으로 추정한다[Spelman et al. 2017]. 이는 배출량 증가에 직접적인 영향을 미치며, 화석 연료 기술의 경쟁력을 높여 저탄소 기술로의 전환을 늦출 수 있다[Victor 2019].\\n예: 자율주행 차량 AI는 자율주행차(AV) 기술의 핵심 요소로서 자율주행 승용차, 트럭, 배달 로봇, 드론 등의 개발을 가능하게 한다. AV는 승객과 화물 운송에 근본적인 변화를 가져올 수 있으며 차량 설계, 교통 흐름 및 운송 수요에 영향을 미칠 수 있다. 자율주행 차량은 주행 시 소비되는 에너지를 줄일 수 있는 측면이 있지만(예: 군집 주행,11 친환경 주행 그리고 AV와 저탄소 운송 통합), AV는 — 예컨대, 개별적 교통수단을 사용하는 장벽을 낮추고, 운행 거리를 늘리고, 승객과 화물을 철도와 같은 저탄소 옵션으로부터 멀리 옮김으로써 — 실제로 더 높은 에너지 소비로 이어질 수 있다[Wadud et al. 2016].\\n10/17 인공 지능및 기후 변화 AI의 에너지 사용 AI 알고리즘을 실행하면 에너지를 직접 사용하지만 그 양은 알고리즘마다 크게 다르다. 가장 널리 사용되는 AI 시스템은 매우 적은 전력을 사용하며 표준형 노트북이나 스마트폰에서 실행할 수 있다. 주로 연구에 국한된 일부 시스템은 더 많은 양의 에너지를 사용하며, 이는 자동차가 폐차 될 때까지 배출하는 탄소의 양 정도로 추정된다[Strubell et al. 2019]. AI의 총 전력 소비량에 대한 수치는 존재하지 않지만, 국제 에너지 기구(International Energy Agency)는 현재 데이터 센터가 전 세계 전력의 1% 정도를 소비하고 있으며[IEA 2019], 이 중 AI가 차지하는 비율은 제한적이라고 보고한다. 전기 사용 외에도, 사용되는 하드웨어와 관련된 내장 배출물을 고려하는 것도 중요할 수 있다. 단일 AI 모델의 에너지 소비 측정은 AI 기반 적용의 기후 영향을 추정하는 것에 비해 상대적으로 쉽지만, AI 기반 적용이 온실가스(GHG) 배출에 훨씬 더 큰 (긍정적 및 부정적) 효과를 미칠 것으로 예상한다. 이 영역의 동향을 계속 모니터링해야 한다.\\n3. 정책 수단 AI를 기후 변화 완화 및 적응에 잘 활용하려면, 정책 입안자들이 다음 세 가지 주요 영역에서 조치를 취해야 한다고 생각한다. (a) 기후 변화 해결을 명시적으로 목표로 하는 적용에서 AI의 연구, 개발 및 배치를 촉진하고, (b) 경제의 여러 부문에서 새롭게 등장하거나 이미 사용 중인 AI 기반 기술의 영향을 규제하고, 그리고 (c) AI와 기후 변화의 접점에서 규제 및 혁신을 위한 공공 부문 역량을 늘린다. 우리는 아래 영역에서 잠재적인 정책 수단을 제안한다. 전반적으로, 우리는 정책 결정이 인센티브 제공이나 진행 과정 통제를 통한 목표 달성에 중요한 것임을 강조한다.\\n기후에 도움이 되는 AI 연구, 개발 및 배치를 촉진한다.\\n• 컴퓨터 과학과 기후 관련 분야(예: 엔지니어링, 경제 또는 도시 계획)의 접점에서 학제간 교류 및 응용 연구를 가속화한다.\\n• 연구, 개발 및 실증(RD&D) 프로그램을 통해 기후 변화 완화와 적응을 위한 AI 적용의 기술적 준비 상태를 발전시키기 위한 경로를 개발한다.\\n• 기후 변화 완화 및 적응과 관련된 부문 및 산업(예: 전기 부문)에서 AI 기술 배치에 대한 장애물을 줄인다.\\n11 /17 인공 지능및 기후 변화 AI 기반 기술의 배출 영향 규제 • 기후 영향에 대한 고려사항을 AI 기반 신흥 기술(예: 자율주행 차량 또는 공유 경제 애플리케이션)의 규제에 통합하여 이러한 기술을 기후 변화 완화 및 적응 경로와 더 잘 일치시킨다.\\n• AI가 산업 내 효율성 향상을 위해 적용될 때 온실가스 배출량 감소 및 반발 효과 회피를 위한 경제적 인센티브 및 규제 요건(예: 탄소세 또는 상한 거래 프로그램)을 만든다.\\n• 해당되는 경우, 수명 주기 영향과 외부 효과를 포함하여 온실가스 배출 또는 AI의 에너지 소비 영향에 대한 투명성을 제고하고 보고를 의무화한다.\\n공공부문에서 AI 및 데이터 공유 촉진 • 유익한 경우에는 공공기관 내에서 자체 AI 구현 역량을 개발 또는 강화한다.\\n• 관련 프로젝트의 범위 지정, 설계 및 배치 과정 전반에 걸쳐 AI 기술에 관여하거나 영향을 받는 이해 관계자(예: 시민 사회, 산업 등)의 피드백을 통합하는 프로세스를 개발한다.\\n4. 정책 관련 고려사항 AI 시스템은 위험과 의도하지 않은 결과를 초래할 수 있다. 예를 들어, 유럽 집행위원회의 ‘AI에 대한 고급 전문가 그룹’(High — Level Expert Group on AI)은 신뢰할 만한 AI에 대해 7가지 요구사항을 정의했다[AI HLEG 2019]. 이러한 고려사항은 다른 곳과 마찬가지로 AI의 기후 변화 관련 응용 분야에도 적용된다. 기후 전략과 관련하여, 다음의 문제들이 특히 관련되어 있다.\\n• 영향 평가 기준: AI의 기후 영향에 관해서 이용할 수 있는 데이터의 측면에서 근본적인 비대칭성이 존재한다. 특히 AI 모델의 에너지 소비는 비교적 쉽게 추정할 수 있지만 사용 사례의 영향에 대한 데이터는 거의 없다. 그럼에도 불구하고, 이 분야의 정책은 — 특히 AI 부문이 빠르게 진화하는 속도를 감안할 때 — 에너지 사용과 적용 별 영향을 모두 해결함에 있어서 주도적이어야 한다.\\n12 /17 인공 지능및 기후 변화 • 형평성: 형평성은 모든 수준의 통치에서 기후 변화 완화와 적응 전략과 관련하여 중심적으로 고려해야 할 사항이다. AI 기반 접근법은 - 예를 들어, 정보 격차를 확대하거나 알고리즘 편향과 같은 문제를 통해 — 불평등을 악화시킬 수 있다.\\n• 권력 이동: AI의 사용으로 인해 관련 데이터를 통제하는 사람, 이러한 데이터의 AI 기반 분석을 위한 용량과 지적 자본의 (불균등한) 분포, 그리고 이러한 분석에 대한 접근과 유지 관리의 조건에 의해서 공공 및 민간 기업 사이에서 권력 구조가 이동될 수 있다. 많은 기후 전략이 공공 부문에서 실행되기 때문에 AI를 사용하려는 공공 기관은 자체 역량 구축과 관련된 결정을 내릴 때 이러한 요소들을 고려해야 한다.\\n• 중요 인프라: 에너지 분야는 기후 변화 완화의 중심이며, 그 중 많은 부분이 중요한 인프라로 간주된다. 중요 인프라에 대해 AI를 적용하려면 안전과 보안에 대한 고려사항을 통합해야 한다.\\n5. 결론 우리가 앞으로 AI를 채택하기로 한 것은 기후 변화 목표를 향한 사회적 진전에 중대한 영향을 미칠 것이다. 광범위하면서도 강력한 엔지니어링 도구인 AI는 — 기후 변화 완화 및 적응에 도움이 되는 적용과 방해하는 적용을 모두 포함하여 — 다양한 적용을 가속화하는 데 사용할 수 있다. 정책은 AI가 기후 변화 전략과 현재 및 미래의 사회 복지에 부합하는 방향으로 적용되도록 하는 중요한 역할을 할 수 있다.\\n13 /17 인공 지능및 기후 변화 권장 읽을거리 기후 변화 완화 및 적응을 위한 AI 응용 • Rolnick, D., Donti, P.L., Kaack, L.H., Kochanski, K. et al., 2019. Tackling climate change with machine learning. arXiv preprint arXiv:1906.05433 • IEA (2017), Digitalisation and Energy, IEA, Paris • Deutsche Energie-Agentur, 2020. Artiﬁcial Intelligence ‒ from Hype to Reality for the Energy Industry 온실가스 배출량 증가시키는 AI 응용 • Costas Samaras, various articles on the climate and energy impacts of autonomous vehicles • Donaghy, T., Henderson, C., and Jardim, E., 2020, Oil in the Cloud: How Tech Compa-nies are Helping Big Oil Proﬁt from Climate Destruction, Greenpeace Reports AI의 에너지 사용 • IEA (2019), Data centres and energy ‒ from global headlines to local headaches?, IEA, Paris • Strubell, E., Ganesh, A. and McCallum, A., 2019. Energy and policy considerations for deep learning in NLP. arXiv preprint arXiv:1906.02243 • Schwartz, R., Dodge, J., Smith, N.A. and Etzioni, O., 2019. Green AI. arXiv preprint arXiv:1907.10597 정책 관련 고려사항 • High-Level Expert Group on Artiﬁcial Intelligence (AI HLEG), EU Guidelines for Trustworthy AI (2019) 14 /17 인공 지능및 기후 변화 참고문헌 Beuse, M., Steffen, B. and Schmidt, T.S., 2020. Projecting the Competition between Energy-Stor-age Technologies in the Electricity Sector. Joule, 4(10), pp.2162-2184.\\nDrgoňa, J., Arroyo, J., Figueroa, I.C., Blum, D., Arendt, K., Kim, D., Ollé, E.P., Oravec, J., Wetter, M., Vrabie, D.L. and Helsen, L., 2020. All you need to know about model predictive control for build-ings. Annual Reviews in Control.\\nDrgoňa, J., Picard, D., Kvasnica, M. and Helsen, L., 2018. Approximate model predictive building control via machine learning. Applied Energy, 218, pp.199-216.\\nGamble, C. and Gao, J., 2018. Safety-first AI for autonomous data centre cooling and industrial control. Available at: https://deepmind.com/blog/article/safety-first-ai-autono-mous-data-centre-cooling-and-industrial-control Greenpeace, 2020. Oil in the Cloud: How Tech Companies are Helping Big Oil Profit from Climate Destruction. Available at: https://www.greenpeace.org/usa/reports/oil-in-the-cloud Haupt, S.E., Kosovic, B., Jensen, T., Lee, J., Jimenez, P., Lazo, J., Cowie, J., McCandless, T., Pearson, J., Weiner, G. and Alessandrini, S., 2016. The SunCast solar-power forecasting system: the results of the public-private-academic partnership to advance solar power forecasting. National Center for Atmospheric Research (NCAR), Boulder (CO): Research Applications Laboratory, Weather Systems and Assessment Program (US).\\nHigh-Level Expert Group on Artificial Intelligence (AI HLEG), EU Guidelines for Trustworthy AI (2019). Available at: https://ec.europa.eu/futurium/en/ai-alliance-consultation/guidelines IEA (2019), Data centres and energy – from global headlines to local headaches?, IEA, Paris. Available at: https://www.iea.org/commentaries/data-centres-and-ener-gy-from-global-headlines-to-local-headaches Jamshidi, A., Hajizadeh, S., Su, Z., Naeimi, M., Núnez, A., Dollevoet, R., De Schutter, B. and Li, Z., 2018. A decision support approach for condition-based maintenance of rails based on big data analysis. Transportation Research Part C: Emerging Technologies, 95, pp.185-206.\\nA. Jain, S.P. Ong, G. Hautier, W. Chen, W.D. Richards, S. Dacek, S. Cholia, D. Gunter, D. Skinner, G. Ceder, K.A. Persson. The Materials Project: A materials genome approach to accelerating materials innovation. APL Materials, 2013, 1(1), 011002.\\n15/17 인공 지능및 기후 변화 Reichstein, M., Camps-Valls, G., Stevens, B., Jung, M., Denzler, J. and Carvalhais, N., 2019. Deep learning and process understanding for data-driven Earth system science. Nature, 566(7743), pp.195-204.\\nSeverson, K.A., Attia, P.M., Jin, N. et al. Data-driven prediction of battery cycle life before capacity degradation. Nat Energy 4, 383‒391 (2019).\\nSpelman, M., Ashraf, M. and Weinelt, B., 2017. Digital Transformation Initiative‒Oil and Gas Industry. In World Economic Forum: Geneva.\\nStrubell, E., Ganesh, A. and McCallum, A., 2019. Energy and policy considerations for deep learning in NLP. arXiv preprint arXiv:1906.02243.\\nVictor, D.G., 2019. How artiﬁcial intelligence will aﬀect the future of energy and climate. Available at: https://www.brookings.edu/research/how-artiﬁcial-intelli-gence-will-aﬀect-the-future-of-energy-and-climate Wadud, Z., MacKenzie, D. and Leiby, P., 2016. Help or hindrance? The travel, energy and carbon impacts of highly automated vehicles. Transportation Research Part A: Policy and Practice, 86, pp.1-18.\\nWang, Z. and Hong, T., 2020. Reinforcement learning for building controls: The opportunities and challenges. Applied Energy, 269, p.115036.\\n16 /17 인공 지능및 기후 변화 인공 지능 및 기후 변화 AI를 기후 변화 목표에 맞추기 위한 기회, 고려사항 및 정책 활용 한국어판 출판사:\\u3000Heinrich-B*ll-Stiftung Asia Ltd Unit E, 22/F, Derrick Industrial Building, 49 Wong Chuk Hang Road, Hong Kong, China.\\ninfo@hk.boell.org 편집자: 권성호, 하려령, Bonnie Au, Lucia Siu 한국어 번역: DataSource International Limited 조판: Avery Choi 발행: https://hk.boell.org/ 발표 일시: 2021년 12월 수권: Creative Commons(CC BY-NC-SA 4.0), https://creativecommons.org/licenses/by-nc-sa/4.0/ 이 보고서에 표현된 것은 저자들의 생각과 의견이며 반드시 Heinrich-B*ll-Stiftung 또는 Climate Change AI 의의견을 반영하는 것은 아니다.\"}]\n",
      "----------------------------------------------------------------------------------------------------\n",
      "요약: 다음은 제공해주신 자료들을 종합한 요약입니다.\n",
      "\n",
      "---\n",
      "\n",
      "### AI 및 인공지능 기술의 환경적 영향과 지속가능성 관련 핵심 요약\n",
      "\n",
      "1. **AI는 친환경 기술이 아니며 상당한 탄소 배출을 유발한다**  \n",
      "   - AI 모델 학습에는 막대한 전력 소비가 뒤따르며, 이로 인한 탄소 배출량은 뉴욕-샌프란시스코 왕복 비행기 배출량 수준에 달하는 등 매우 크다.  \n",
      "   - 데이터센터가 전 세계 탄소 배출의 약 3.6%를 차지하며, 대부분의 데이터센터가 화석연료에 의존하고 있어 환경 부담이 높다.  \n",
      "   - 이메일 전송, 인터넷 검색, 영상 스트리밍까지도 보이지 않는 곳에서 이산화탄소를 배출한다.\n",
      "\n",
      "2. **AI 발전에 따른 에너지 소비와 탄소 배출은 계속 증가할 전망**  \n",
      "   - 고성능 AI 모델일수록 데이터 학습에 더 많은 컴퓨팅 자원과 에너지를 요구하며, 에너지 소비와 탄소 배출이 급격히 늘어난다.  \n",
      "   - AI 기술과 데이터 사용량이 매년 3~4배씩 증가해 2030년 이후에는 AI가 상당한 환경 오염 주범이 될 수 있다는 우려가 제기된다.\n",
      "\n",
      "3. **AI가 환경 문제 해결에 기여하는 긍정적 활용 사례도 존재**  \n",
      "   - 위성영상 분석, 기후 모델링, 농작물 모니터링, 재생에너지 예측, 전력 효율화 등 다양한 분야에서 AI는 기후 변화 완화 및 적응에 도움을 줄 수 있다.  \n",
      "   - AI 기반 예측 유지보수, 에너지 관리 최적화, 배터리 연구 가속화 등도 지속가능성 향상에 기여하고 있다.\n",
      "\n",
      "4. **빅테크 기업의 탄소 배출 저감 노력과 정책적 대응이 진행 중**  \n",
      "   - 아마존, 구글, 마이크로소프트 등은 데이터센터 재생에너지 전환과 관련 기술 도입을 통해 2025~2030년까지 탄소 중립 목표를 추진하고 있다.  \n",
      "   - 유럽연합과 미국 등에서는 AI 규제 및 법안이 인권, 산업, 안전 등 다양한 이슈 중심으로 논의되고 있으나, 환경적 영향에 대한 논의는 상대적으로 미비하여 확대가 필요하다.\n",
      "\n",
      "---\n",
      "\n",
      "종합하면, AI 기술은 현재와 향후 기후 변화 및 환경 오염에 큰 영향을 미치는 양날의 검으로, 에너지 소비와 탄소 배출을 줄이기 위한 기술적, 정책적 노력이 필수적이며, AI의 지속가능한 활용 방향에 대한 사회적 논의와 제도적 대응이 요구됩니다.\n",
      "팩트체크 결과: {'confidence': '0.95'}\n"
     ]
    }
   ],
   "source": [
    "result = graph.invoke({\n",
    "    \"messages\": [{\"role\": \"user\", \"content\": \"인공지능의 환경적 영향은?\"}]\n",
    "})\n",
    "\n",
    "print(f\"검색 결과 수: {len(result['search_results'])}\")\n",
    "print(\"검색 결과:\", result[\"search_results\"])\n",
    "print(\"-\" * 100)\n",
    "print(f\"요약: {result['summary']}\")\n",
    "print(f\"팩트체크 결과: {result['fact_check']}\")"
   ]
  },
  {
   "cell_type": "markdown",
   "metadata": {},
   "source": [
    "---\n",
    "\n",
    "## **병렬 처리**\n",
    "\n",
    "- **분기(branching)** 기능을 통해 LangGraph에서 노드의 병렬 실행이 가능\n",
    "\n",
    "- 병렬 처리는 **독립적인 작업**들을 동시에 실행함으로써 전체 처리 시간을 단축\n",
    "\n",
    "- 다양한 데이터 소스에서 **정보 수집 및 처리**가 필요한 경우 병렬 실행이 특히 효과적"
   ]
  },
  {
   "cell_type": "markdown",
   "metadata": {},
   "source": [
    "`(1) 표준 엣지를 사용한 분기 (Fan-out/Fan-in)`\n",
    "\n",
    "- **Fan-out** 구조는 하나의 노드에서 여러 병렬 노드로 데이터를 분산시키는 방식을 구현\n",
    "\n",
    "- **Fan-in** 구조는 병렬로 처리된 여러 노드의 결과를 단일 노드에서 취합하는 역할\n",
    "\n",
    "- 가장 기본적이고 직관적인 병렬 처리 구조"
   ]
  },
  {
   "cell_type": "code",
   "execution_count": 21,
   "metadata": {},
   "outputs": [
    {
     "data": {
      "image/png": "[encoded data removed]",
      "text/plain": [
       "<IPython.core.display.Image object>"
      ]
     },
     "metadata": {},
     "output_type": "display_data"
    }
   ],
   "source": [
    "# 여러 검색 엔진에서 정보 가져오기\n",
    "\n",
    "import operator\n",
    "from typing import Annotated, Any, TypedDict\n",
    "from langgraph.graph import StateGraph, START, END\n",
    "\n",
    "# 상태 정의: 검색 결과를 누적할 리스트를 포함\n",
    "class SearchState(TypedDict):\n",
    "    search_results: Annotated[list, operator.add]\n",
    "\n",
    "# 각 검색 엔진에 대한 노드 정의\n",
    "def search_engine_a(state: SearchState):\n",
    "    print(\"Searching with Engine A...\")\n",
    "    return {\"search_results\": [\"Result A1\", \"Result A2\"]}\n",
    "\n",
    "def search_engine_b(state: SearchState):\n",
    "    print(\"Searching with Engine B...\")\n",
    "    return {\"search_results\": [\"Result B1\"]}\n",
    "\n",
    "def combine_results(state: SearchState):\n",
    "    print(\"Combining search results...\")\n",
    "    return {\"search_results\": [\"Combined Result\"]}\n",
    "\n",
    "# 그래프 구성\n",
    "search_builder = StateGraph(SearchState)\n",
    "search_builder.add_node(\"engine_a\", search_engine_a)\n",
    "search_builder.add_node(\"engine_b\", search_engine_b)\n",
    "search_builder.add_node(\"combine\", combine_results)\n",
    "\n",
    "# 엣지 연결: START -> engine_a, engine_b (병렬 실행) -> combine -> END\n",
    "search_builder.add_edge(START, \"engine_a\")\n",
    "search_builder.add_edge(START, \"engine_b\")\n",
    "search_builder.add_edge(\"engine_a\", \"combine\")\n",
    "search_builder.add_edge(\"engine_b\", \"combine\")\n",
    "search_builder.add_edge(\"combine\", END)\n",
    "\n",
    "# 그래프 컴파일\n",
    "search_graph = search_builder.compile()\n",
    "\n",
    "# 그래프 시각화\n",
    "display(Image(search_graph.get_graph().draw_mermaid_png()))"
   ]
  },
  {
   "cell_type": "code",
   "execution_count": 22,
   "metadata": {},
   "outputs": [
    {
     "name": "stdout",
     "output_type": "stream",
     "text": [
      "Searching with Engine A...Searching with Engine B...\n",
      "\n",
      "Combining search results...\n"
     ]
    },
    {
     "data": {
      "text/plain": [
       "{'search_results': ['Result A1', 'Result A2', 'Result B1', 'Combined Result']}"
      ]
     },
     "execution_count": 22,
     "metadata": {},
     "output_type": "execute_result"
    }
   ],
   "source": [
    "# 그래프 실행\n",
    "search_graph.invoke({\"search_results\": []})"
   ]
  },
  {
   "cell_type": "markdown",
   "metadata": {},
   "source": [
    "`(2) 조건부 엣지를 사용한 분기 (Conditional Branching)`\n",
    "\n",
    "- **Fan-out** 구조는 하나의 노드에서 여러 병렬 노드로 데이터를 분산시키는 방식을 구현\n",
    "\n",
    "- **Fan-in** 구조는 병렬로 처리된 여러 노드의 결과를 단일 노드에서 취합하는 역할\n",
    "\n",
    "- 가장 기본적이고 직관적인 병렬 처리 구조"
   ]
  },
  {
   "cell_type": "markdown",
   "metadata": {},
   "source": [
    "**구현 예시**\n",
    "\n",
    "- 초기 그리팅 후 조건부로 서비스를 실행\n",
    "- 선택된 서비스들을 병렬로 실행\n",
    "- 모든 서비스 실행 후 최종 처리를 수행\n",
    "- 전체 과정의 상태를 추적"
   ]
  },
  {
   "cell_type": "code",
   "execution_count": 23,
   "metadata": {},
   "outputs": [
    {
     "data": {
      "image/png": "[encoded data removed]",
      "text/plain": [
       "<IPython.core.display.Image object>"
      ]
     },
     "metadata": {},
     "output_type": "display_data"
    }
   ],
   "source": [
    "import operator\n",
    "from typing import Annotated, Sequence, TypedDict\n",
    "from langgraph.graph import StateGraph, START, END\n",
    "\n",
    "# 상태 정의: aggregate 리스트와 라우팅을 위한 user_intent 필드 포함\n",
    "class ChatState(TypedDict):\n",
    "    messages: Annotated[list, operator.add]  # aggregate 대신 messages 사용\n",
    "    user_intent: str  # 라우팅 조건\n",
    "\n",
    "# 서비스 노드 정의\n",
    "def greet_service(state: ChatState):\n",
    "    print(f'Adding \"greet\" to {state[\"messages\"]}')\n",
    "    return {\"messages\": [\"Hello!\"]} \n",
    "\n",
    "def weather_service(state: ChatState):\n",
    "    print(f'Adding \"weather\" to {state[\"messages\"]}')\n",
    "    return {\"messages\": [\"The weather is sunny.\"]}\n",
    "\n",
    "def news_service(state: ChatState):\n",
    "    print(f'Adding \"news\" to {state[\"messages\"]}')\n",
    "    return {\"messages\": [\"Here's the latest news.\"]}\n",
    "\n",
    "def help_service(state: ChatState):\n",
    "    print(f'Adding \"help\" to {state[\"messages\"]}')\n",
    "    return {\"messages\": [\"How can I help you?\"]}\n",
    "\n",
    "def process_response(state: ChatState):\n",
    "    print(f'Adding \"process\" to {state[\"messages\"]}')\n",
    "    return {\"messages\": [\"Processing complete.\"]}\n",
    "\n",
    "# 라우팅 함수: user_intent 값에 따라 서비스 노드 결정\n",
    "def route_services(state: ChatState) -> Sequence[str]:\n",
    "    if state[\"user_intent\"] == \"weather_news\":\n",
    "        # 날씨와 뉴스 서비스를 병렬 실행\n",
    "        return [\"weather_service\", \"news_service\"]\n",
    "    \n",
    "    # 기본적으로 인사와 뉴스 서비스를 병렬 실행\n",
    "    return [\"help_service\", \"news_service\"]\n",
    "\n",
    "# 그래프 구성\n",
    "chat_builder = StateGraph(ChatState)\n",
    "\n",
    "# 노드 추가\n",
    "chat_builder.add_node(\"greet\", greet_service)\n",
    "chat_builder.add_node(\"weather_service\", weather_service)\n",
    "chat_builder.add_node(\"news_service\", news_service)\n",
    "chat_builder.add_node(\"help_service\", help_service)\n",
    "chat_builder.add_node(\"process\", process_response)\n",
    "\n",
    "# 엣지 추가\n",
    "chat_builder.add_edge(START, \"greet\")\n",
    "\n",
    "# 중간 노드 정의\n",
    "intermediates = [\"weather_service\", \"news_service\", \"help_service\"]\n",
    "\n",
    "# greet 노드에서 조건부 엣지 추가\n",
    "chat_builder.add_conditional_edges(\n",
    "    \"greet\",\n",
    "    route_services,\n",
    "    intermediates,\n",
    ")\n",
    "\n",
    "# 중간 노드들을 process 노드에 연결\n",
    "for node in intermediates:\n",
    "    chat_builder.add_edge(node, \"process\")\n",
    "\n",
    "chat_builder.add_edge(\"process\", END)\n",
    "\n",
    "# 그래프 컴파일\n",
    "chat_graph = chat_builder.compile()\n",
    "\n",
    "# 그래프 시각화\n",
    "display(Image(chat_graph.get_graph().draw_mermaid_png()))"
   ]
  },
  {
   "cell_type": "code",
   "execution_count": 24,
   "metadata": {},
   "outputs": [
    {
     "name": "stdout",
     "output_type": "stream",
     "text": [
      "Adding \"greet\" to []\n",
      "Adding \"news\" to ['Hello!']\n",
      "Adding \"weather\" to ['Hello!']\n",
      "Adding \"process\" to ['Hello!', \"Here's the latest news.\", 'The weather is sunny.']\n"
     ]
    },
    {
     "data": {
      "text/plain": [
       "{'messages': ['Hello!',\n",
       "  \"Here's the latest news.\",\n",
       "  'The weather is sunny.',\n",
       "  'Processing complete.'],\n",
       " 'user_intent': 'weather_news'}"
      ]
     },
     "execution_count": 24,
     "metadata": {},
     "output_type": "execute_result"
    }
   ],
   "source": [
    "# \"weather_news\" 의도를 가지고 실행\n",
    "chat_graph.invoke({\"messages\": [], \"user_intent\": \"weather_news\"})"
   ]
  },
  {
   "cell_type": "code",
   "execution_count": 25,
   "metadata": {},
   "outputs": [
    {
     "name": "stdout",
     "output_type": "stream",
     "text": [
      "Adding \"greet\" to []\n",
      "Adding \"help\" to ['Hello!']\n",
      "Adding \"news\" to ['Hello!']\n",
      "Adding \"process\" to ['Hello!', 'How can I help you?', \"Here's the latest news.\"]\n"
     ]
    },
    {
     "data": {
      "text/plain": [
       "{'messages': ['Hello!',\n",
       "  'How can I help you?',\n",
       "  \"Here's the latest news.\",\n",
       "  'Processing complete.'],\n",
       " 'user_intent': 'news'}"
      ]
     },
     "execution_count": 25,
     "metadata": {},
     "output_type": "execute_result"
    }
   ],
   "source": [
    "# 다른 의도를 가지고 실행\n",
    "chat_graph.invoke({\"messages\": [], \"user_intent\": \"news\"})"
   ]
  },
  {
   "cell_type": "markdown",
   "metadata": {},
   "source": [
    "`(3) 다단계 분기 (Multi-step Parallel Paths)`\n",
    "\n",
    "- **다단계 분기**는 각각의 병렬 경로에서 여러 단계의 독립적인 처리를 지원 \n",
    "\n",
    "- 각 분기는 **서로 다른 데이터 처리 파이프라인**을 포함할 수 있어, 복잡한 워크플로우 구현이 가능\n",
    "\n",
    "- 최종적으로 각 분기의 결과는 하나의 노드에서 **통합되어 처리**될 수 있음 "
   ]
  },
  {
   "cell_type": "code",
   "execution_count": 26,
   "metadata": {},
   "outputs": [
    {
     "data": {
      "image/png": "[encoded data removed]",
      "text/plain": [
       "<IPython.core.display.Image object>"
      ]
     },
     "metadata": {},
     "output_type": "display_data"
    }
   ],
   "source": [
    "# 데이터 전처리와 모델 예측을 병렬로 수행하기\n",
    "\n",
    "import operator\n",
    "from typing import Annotated, TypedDict\n",
    "from langgraph.graph import StateGraph, START, END\n",
    "\n",
    "class ModelState(TypedDict):\n",
    "    data: Annotated[list, operator.add]\n",
    "\n",
    "def fetch_data_a(state: ModelState):\n",
    "    return {\"data\": [\"Data A1\"]}\n",
    "\n",
    "def preprocess_data_a(state: ModelState):\n",
    "    return {\"data\": [\"Preprocessed A1\"]}\n",
    "\n",
    "def fetch_data_b(state: ModelState):\n",
    "    return {\"data\": [\"Data B1\"]}\n",
    "\n",
    "def make_prediction(state: ModelState):\n",
    "    return {\"data\": [\"Prediction from A and B\"]}\n",
    "\n",
    "model_builder = StateGraph(ModelState)\n",
    "model_builder.add_node(\"fetch_a\", fetch_data_a)\n",
    "model_builder.add_node(\"preprocess_a\", preprocess_data_a)\n",
    "model_builder.add_node(\"fetch_b\", fetch_data_b)\n",
    "model_builder.add_node(\"predict\", make_prediction)\n",
    "\n",
    "model_builder.add_edge(START, \"fetch_a\")\n",
    "model_builder.add_edge(START, \"fetch_b\")\n",
    "model_builder.add_edge(\"fetch_a\", \"preprocess_a\")\n",
    "model_builder.add_edge([\"preprocess_a\", \"fetch_b\"], \"predict\")\n",
    "model_builder.add_edge(\"predict\", END)\n",
    "\n",
    "model_graph = model_builder.compile()\n",
    "\n",
    "display(Image(model_graph.get_graph().draw_mermaid_png()))"
   ]
  },
  {
   "cell_type": "code",
   "execution_count": 27,
   "metadata": {},
   "outputs": [
    {
     "data": {
      "text/plain": [
       "{'data': ['Data A1', 'Data B1', 'Preprocessed A1', 'Prediction from A and B']}"
      ]
     },
     "execution_count": 27,
     "metadata": {},
     "output_type": "execute_result"
    }
   ],
   "source": [
    "# 그래프 실행\n",
    "model_graph.invoke({\"data\": []})"
   ]
  },
  {
   "cell_type": "markdown",
   "metadata": {},
   "source": [
    "`(4) 동적 엣지 생성 및 개별 상태 전달하기 (Map-Reduce 패턴)`\n",
    "\n",
    "- **기본 동작의 한계**\n",
    "\n",
    "    - 기본적으로 LangGraph의 노드와 엣지는 미리 정의되며, 모든 노드는 동일한 공유 상태(shared state)를 사용함. 하지만 다음과 같은 경우에는 문제가 발생할 수 있음. \n",
    "\n",
    "    -  **동적 엣지:** 실행 시점에 따라 연결해야 할 노드의 수가 달라지는 경우 (예: 입력 데이터에 따라 다른 개수의 하위 작업을 생성해야 하는 경우)\n",
    "    -  **개별 상태:** 각 노드가 독립적인 상태를 가지고 작업해야 하는 경우 (예: 각 하위 작업이 서로 다른 데이터를 처리해야 하는 경우)\n",
    "\n",
    "- **Map-Reduce 패턴**\n",
    "\n",
    "    1.  **Map:**  하나의 노드(mapper)가 여러 개의 객체(또는 작업)를 생성\n",
    "    2.  **Reduce:** 다른 노드(reducer)가 mapper가 생성한 객체들을 처리하고 결과를 결합\n",
    "\n",
    "-  **`Send` 객체**\n",
    "\n",
    "    - LangGraph에서는 `Send` 객체를 사용하여 map 단계를 구현할 수 있음 \n",
    "    - `Send` 객체는 조건부 엣지(`add_conditional_edges`)의 `condition_function`에서 반환될 수 있으며, 다음과 같은 두 가지 인수를 받아서 구현\n",
    "\n",
    "        1.  **`node_name` (str):**  실행할 노드의 이름\n",
    "        2.  **`state` (dict):** 해당 노드에 전달할 개별 상태"
   ]
  },
  {
   "cell_type": "code",
   "execution_count": 29,
   "metadata": {},
   "outputs": [
    {
     "data": {
      "image/png": "[encoded data removed]",
      "text/plain": [
       "<IPython.core.display.Image object>"
      ]
     },
     "metadata": {},
     "output_type": "display_data"
    }
   ],
   "source": [
    "import operator\n",
    "from typing import Annotated, List, TypedDict\n",
    "from langgraph.graph import StateGraph, START, END\n",
    "from langgraph.types import Send\n",
    "from IPython.display import Image, display\n",
    "\n",
    "# 글로벌 상태 정의\n",
    "class WebScrapingState(TypedDict):\n",
    "    urls: List[str]  # 스크래핑할 URL 목록 (글로벌)\n",
    "    scraped_data: Annotated[List[dict], operator.add]  # 스크래핑된 데이터 (글로벌, 누적)\n",
    "\n",
    "# 노드 정의\n",
    "def define_urls(state: WebScrapingState):\n",
    "    \"\"\"URL 목록을 정의합니다. (글로벌 상태 사용)\"\"\"\n",
    "    print(\"Using provided URLs...\")\n",
    "    return {\"urls\": state[\"urls\"]}  # 글로벌 상태(urls) 사용\n",
    "\n",
    "def scrape_website(state: dict):  # 로컬 상태를 받음\n",
    "    \"\"\"각 웹사이트를 스크래핑합니다. (로컬 상태 사용)\"\"\"\n",
    "    print(f\"Scraping {state['url']}...\")  # 로컬 상태(url) 사용\n",
    "    # 실제 스크래핑 로직 (여기서는 시뮬레이션)\n",
    "    return {\"scraped_data\": [f\"Data from {state['url']}\"]} # 글로벌 상태(scraped_data) 사용\n",
    "\n",
    "def route_to_scraping(state: WebScrapingState):\n",
    "    \"\"\"스크래핑 노드로 라우팅합니다. (글로벌 상태 사용, 로컬 상태 생성)\"\"\"\n",
    "    # 글로벌 상태(urls)를 사용하여 로컬 상태({\"url\": url})를 생성하고 Send로 전달\n",
    "    return [Send(\"scrape_website\", {\"url\": url}) for url in state[\"urls\"]]\n",
    "\n",
    "\n",
    "# 그래프 구성\n",
    "graph = StateGraph(WebScrapingState)  \n",
    "graph.add_node(\"define_urls\", define_urls)\n",
    "graph.add_node(\"scrape_website\", scrape_website)\n",
    "\n",
    "graph.set_entry_point(\"define_urls\")\n",
    "\n",
    "graph.add_conditional_edges(\n",
    "    \"define_urls\",\n",
    "    route_to_scraping,\n",
    "    [\"scrape_website\"]  # 스크래핑 노드로 라우팅\n",
    ")\n",
    "\n",
    "graph.add_edge(\"scrape_website\", END)\n",
    "\n",
    "# 그래프 컴파일\n",
    "compiled_graph = graph.compile()\n",
    "\n",
    "# 그래프 시각화\n",
    "display(Image(compiled_graph.get_graph().draw_mermaid_png()))  "
   ]
  },
  {
   "cell_type": "code",
   "execution_count": 30,
   "metadata": {},
   "outputs": [
    {
     "name": "stdout",
     "output_type": "stream",
     "text": [
      "Using provided URLs...\n",
      "Scraping https://example.com...\n",
      "Scraping https://example.net...\n",
      "Scraping https://example.org...\n"
     ]
    }
   ],
   "source": [
    "# 그래프 실행 (외부에서 URL 목록 입력)\n",
    "initial_state = {\"urls\": [\"https://example.com\", \"https://example.net\", \"https://example.org\"]}\n",
    "result = compiled_graph.invoke(initial_state)"
   ]
  },
  {
   "cell_type": "markdown",
   "metadata": {},
   "source": [
    "```mermaid\n",
    "graph LR\n",
    "    define_urls[define_urls]\n",
    "    scrape_website[scrape_website]\n",
    "    _start((START)) --> define_urls\n",
    "    define_urls --\"Send(scrape_website)\"--> scrape_website\n",
    "    scrape_website --> _end((END))\n",
    "\n",
    "```"
   ]
  },
  {
   "cell_type": "code",
   "execution_count": 31,
   "metadata": {},
   "outputs": [
    {
     "name": "stdout",
     "output_type": "stream",
     "text": [
      "{'scraped_data': ['Data from https://example.com',\n",
      "                  'Data from https://example.net',\n",
      "                  'Data from https://example.org'],\n",
      " 'urls': ['https://example.com', 'https://example.net', 'https://example.org']}\n"
     ]
    }
   ],
   "source": [
    "pprint(result)"
   ]
  },
  {
   "cell_type": "markdown",
   "metadata": {},
   "source": [
    "---\n",
    "## **[예제]**\n",
    "\n",
    "- LangGraph의 `Send` API를 사용하여 여러 단계를 거치는 리서치 어시스턴트를 구축합니다. 사용자가 질문을 하면, 어시스턴트는 다음 단계를 수행합니다.\n",
    "\n",
    "    1.  **검색 (Search):** Tavily 검색을 통해 관련 정보를 찾습니다.\n",
    "    2.  **요약 (Summary):** 검색 결과를 요약합니다.\n",
    "    3. **팩트체크 (병렬처리):** 요약된 정보의 각 문장에 대해 신뢰도를 평가합니다. (Send API 사용)\n"
   ]
  },
  {
   "cell_type": "markdown",
   "metadata": {},
   "source": [
    "`(1) 기본 설정 및 상태 정의`"
   ]
  },
  {
   "cell_type": "code",
   "execution_count": 32,
   "metadata": {},
   "outputs": [],
   "source": [
    "from typing import Annotated, List, TypedDict, Optional\n",
    "from pydantic import BaseModel\n",
    "from langgraph.graph import StateGraph, START, END\n",
    "from langgraph.types import Send\n",
    "import operator\n",
    "from IPython.display import Image, display\n",
    "\n",
    "# 팩트 체크 결과를 위한 Pydantic 모델\n",
    "class FactCheckResult(BaseModel):\n",
    "    sentence: str\n",
    "    score: float\n",
    "\n",
    "# 전체 상태 정의 (글로벌 상태)\n",
    "class OverallState(TypedDict):\n",
    "    query: str  # 검색 쿼리\n",
    "    search_results: Optional[List[Dict[str, Any]]] \n",
    "    summary: Optional[str]  # 요약문\n",
    "    fact_check: Annotated[List[FactCheckResult], operator.add]  # 팩트체크 결과 (누적)\n",
    "\n",
    "# 로컬 상태 (단일 문장 팩트체크용)\n",
    "class SentenceState(TypedDict):\n",
    "    sentence: str  # 팩트체크할 문장"
   ]
  },
  {
   "cell_type": "markdown",
   "metadata": {},
   "source": [
    "`(2) 검색 노드 (Search Node)`\n",
    "\n",
    "- Tavily 검색 도구를 사용하여 사용자 쿼리에 대한 검색을 수행\n",
    "- `fact_check`는 빈 리스트로 초기화"
   ]
  },
  {
   "cell_type": "code",
   "execution_count": 33,
   "metadata": {},
   "outputs": [],
   "source": [
    "def search_info(state: OverallState) -> OverallState:\n",
    "    search_tool = TavilySearchResults(\n",
    "        max_results=5,  # 반환할 결과의 수\n",
    "        search_depth=\"advanced\",  # 검색 깊이: basic 또는 advanced\n",
    "        include_answer=True,  # 결과에 직접적인 답변 포함\n",
    "        include_raw_content=True,  # 페이지의 원시 콘텐츠 포함\n",
    "        include_images=True,  # 결과에 이미지 포함\n",
    "    )\n",
    "    \n",
    "    # 사용자의 쿼리 추출\n",
    "    query = state[\"query\"]\n",
    "\n",
    "    # 검색 실행\n",
    "    results = search_tool.invoke({\"query\": query})\n",
    "\n",
    "    return {\n",
    "        \"search_results\": results\n",
    "    }"
   ]
  },
  {
   "cell_type": "markdown",
   "metadata": {},
   "source": [
    "`(3) 요약 노드 (Summary Node)`\n",
    "\n",
    "*   검색 결과가 없으면 \"검색 결과가 없습니다.\"를 반환합니다.\n",
    "*   LLM을 사용하여 검색 결과를 3-4개의 핵심 포인트로 요약합니다."
   ]
  },
  {
   "cell_type": "code",
   "execution_count": 34,
   "metadata": {},
   "outputs": [],
   "source": [
    "def generate_summary(state: OverallState) -> OverallState:\n",
    "    if not state[\"search_results\"]:\n",
    "        return {\"summary\": \"검색 결과가 없습니다.\"}\n",
    "\n",
    "    summary_prompt = \"\"\"\n",
    "    다음 검색 결과들을 요약해주세요:\n",
    "    {search_results}\n",
    "\n",
    "    핵심 포인트 3-4개로 간단히 요약:\n",
    "    \"\"\"\n",
    "\n",
    "    # 검색 결과를 문자열로 변환하여 프롬프트에 포함\n",
    "    formatted_results = []\n",
    "    for item in state[\"search_results\"]:\n",
    "        if \"raw_content\" in item:\n",
    "            formatted_results.append(f\"제목: {item.get('title', 'No title')}\\n내용: {item['raw_content']}\\n링크: {item.get('url', 'No URL')}\\n\")\n",
    "        else:\n",
    "            formatted_results.append(f\"제목: {item.get('title', 'No title')}\\n내용: {item.get('content', 'No content')}\\n링크: {item.get('url', 'No URL')}\\n\")\n",
    "    search_text = \"\\n\\n\".join(formatted_results)\n",
    "    summary_prompt = summary_prompt.format(search_results=search_text)\n",
    "\n",
    "    summary = llm.invoke(summary_prompt)\n",
    "\n",
    "    return {\"summary\": summary.content}"
   ]
  },
  {
   "cell_type": "markdown",
   "metadata": {},
   "source": [
    "`(4)  팩트 체크 노드 (Fact-Check Node)`\n",
    "\n",
    "- `Send` API를 사용하여 요약된 문장들을 병렬로 팩트 체크하는 노드를 정의\n",
    "\n",
    "-  **fact_check_sentences 노드**: \n",
    "    - 요약이 없으면 빈 결과를 반환. \n",
    "    - 요약된 텍스트를 문장 단위로 분리하고, 각 문장에 대해 `Send(\"fact_check_sentence\", {\"sentence\": s})`를 호출하여 **fact_check_sentence 노드**로 작업을 보냄\n",
    "    - `Send`는 각 문장에 대한 별도의 실행 경로를 생성하여 병렬 처리\n"
   ]
  },
  {
   "cell_type": "code",
   "execution_count": 35,
   "metadata": {},
   "outputs": [],
   "source": [
    "from langgraph.types import Send\n",
    "\n",
    "def fact_check_sentences(state: OverallState):\n",
    "    if not state[\"summary\"]:\n",
    "        return {\"fact_check\": []}\n",
    "\n",
    "    # 요약된 문장들을 분리 (간단하게 개항문자로 분리)\n",
    "    sentences = state[\"summary\"].split(\"\\n\\n\")\n",
    "    sentences = [s.strip() for s in sentences if s.strip()]  # 빈 문자열 제거\n",
    "\n",
    "    print(f\"Fact-checking {len(sentences)} sentences...\")\n",
    "\n",
    "    # 각 문장에 대해 팩트 체크 작업을 생성 (Send 사용)\n",
    "    return [\n",
    "        Send(\"fact_check_sentence\", {\"sentence\": s}) for s in sentences\n",
    "    ]"
   ]
  },
  {
   "cell_type": "markdown",
   "metadata": {},
   "source": [
    "- **fact_check_single_sentence 함수** : \n",
    "\n",
    "    - **fact_check_sentences 노드**가 `Send` 한 것을 받아서 처리\n",
    "    - 전달 받은 단일 문장에 대한 팩트 체크를 수행\n",
    "    - LLM을 호출하여 신뢰도 점수를 얻고, `FactCheckResult` 형태로 결과를 반환\n"
   ]
  },
  {
   "cell_type": "code",
   "execution_count": 40,
   "metadata": {},
   "outputs": [],
   "source": [
    "def fact_check_single_sentence(state: SentenceState) -> OverallState:\n",
    "    \"\"\"개별 문장에 대한 팩트체크 수행\"\"\"\n",
    "    sentence = state[\"sentence\"]\n",
    "    print(f\"Fact-checking sentence: {sentence}\")\n",
    "\n",
    "    prompt = f\"\"\"\n",
    "    다음 문장의 사실 여부를 평가하고 신뢰도 점수를 0과 1 사이로 제공해주세요. 숫자만 출력하세요:\n",
    "    문장: {sentence}\n",
    "    신뢰도 점수:\n",
    "    \"\"\"\n",
    "    response = llm.invoke(prompt)\n",
    "\n",
    "    # 팩트체크 결과 생성\n",
    "    print(f\"Fact-check result: {response.content}\")\n",
    "    \n",
    "    try:\n",
    "        score = float(response.content)\n",
    "        score = max(0.0, min(1.0, score))  # 0과 1 사이로 제한\n",
    "    except ValueError:\n",
    "        score = 0.5  # 기본값\n",
    "    \n",
    "    return {\n",
    "        \"fact_check\": [FactCheckResult(sentence=sentence, score=score)]\n",
    "    } #type: ignore"
   ]
  },
  {
   "cell_type": "markdown",
   "metadata": {},
   "source": [
    "`(5) 그래프 구성`\n",
    "\n",
    "- **add_edge**: 노드 간의 일반적인 흐름을 정의 (검색 -> 요약)\n",
    "\n",
    "- **add_conditional_edges**:  `START` 노드에서 사용자 쿼리가 있으면 `fact_check_sentences`로, 그렇지 않으면 `END`로 분기\n",
    "\n",
    "- `builder.add_edge(\"fact_check_sentence\", END)` : 팩트 체크 결과를 반환하는 노드를 `END`에 연결.\n"
   ]
  },
  {
   "cell_type": "code",
   "execution_count": 41,
   "metadata": {},
   "outputs": [
    {
     "data": {
      "image/png": "[encoded data removed]",
      "text/plain": [
       "<IPython.core.display.Image object>"
      ]
     },
     "metadata": {},
     "output_type": "display_data"
    }
   ],
   "source": [
    "# 그래프 구성\n",
    "builder = StateGraph(OverallState)\n",
    "\n",
    "# 노드 추가\n",
    "builder.add_node(\"search\", search_info)\n",
    "builder.add_node(\"generate_summary\", generate_summary)\n",
    "builder.add_node(\"fact_check_sentence\", fact_check_single_sentence)\n",
    "\n",
    "# 엣지 추가\n",
    "builder.add_edge(START, \"search\")\n",
    "builder.add_edge(\"search\", \"generate_summary\")\n",
    "builder.add_conditional_edges(\n",
    "    \"generate_summary\",\n",
    "    fact_check_sentences,\n",
    "    [\"fact_check_sentence\"]   # 팩트체크 문장 노드로 라우팅\n",
    ")\n",
    "\n",
    "builder.add_edge(\"fact_check_sentence\", END)\n",
    "\n",
    "# 그래프 컴파일\n",
    "graph = builder.compile()\n",
    "\n",
    "# 그래프 시각화\n",
    "display(Image(graph.get_graph().draw_mermaid_png()))"
   ]
  },
  {
   "cell_type": "markdown",
   "metadata": {},
   "source": [
    "`(6) 그래프 실행`"
   ]
  },
  {
   "cell_type": "code",
   "execution_count": 42,
   "metadata": {},
   "outputs": [
    {
     "name": "stdout",
     "output_type": "stream",
     "text": [
      "Fact-checking 6 sentences...\n",
      "Fact-checking sentence: 기후변화의 원인에 대한 핵심 요약은 다음과 같습니다:\n",
      "Fact-checking sentence: 1. **자연적 원인**  \n",
      "   - 태양 에너지 변화(흑점활동 등 주기적 변화)  \n",
      "   - 지구 공전 궤도와 자전축의 변화(밀란코비치 이론)  \n",
      "   - 대규모 화산활동으로 인한 성층권 에어로졸 증가 등이 포함됨\n",
      "Fact-checking sentence: 2. **인위적 원인**  \n",
      "   - 산업혁명 이후 인간 활동에 의한 온실가스(이산화탄소, 메탄, 아산화질소 등) 농도 급증  \n",
      "   - 토지 이용의 변화(산림 훼손, 경작지 확대 등)로 인한 간접적 온실가스 배출 및 지표면 변화\n",
      "Fact-checking sentence: 3. **기후시스템 내 자연 변동성**  \n",
      "   - 엘니뇨, 북극진동, 몬순 등 대기·해양 순환 변화도 기후변화에 영향을 줌\n",
      "Fact-checking sentence: 4. **온실가스 농도 증가가 현재 기후변화의 주요 원인으로 평가받음**  \n",
      "   - 온실가스 증가에 따른 지구 평균온도 상승 현상이 뚜렷하게 관측되고 있음\n",
      "Fact-checking sentence: 즉, 기후변화는 자연적인 요인과 인간 활동에 의한 인위적인 요인이 복합적으로 작용하는 현상이며, 최근 급격한 온난화는 주로 인위적 온실가스 배출에 기인한다는 점이 특히 강조됩니다.\n",
      "Fact-check result: 1\n",
      "Fact-check result: 1\n",
      "Fact-check result: 0.9\n",
      "Fact-check result: 1\n",
      "Fact-check result: 1\n",
      "Fact-check result: 1\n"
     ]
    }
   ],
   "source": [
    "# 사용자 질문\n",
    "inputs = {\"query\": \"기후 변화의 주요 원인은 무엇인가요?\"}\n",
    "\n",
    "# 그래프 실행\n",
    "result = graph.invoke(inputs)"
   ]
  },
  {
   "cell_type": "code",
   "execution_count": 43,
   "metadata": {},
   "outputs": [
    {
     "name": "stdout",
     "output_type": "stream",
     "text": [
      "{'fact_check': [FactCheckResult(sentence='기후변화의 원인에 대한 핵심 요약은 다음과 같습니다:', score=0.9),\n",
      "                FactCheckResult(sentence='1. **자연적 원인**  \\n   - 태양 에너지 변화(흑점활동 등 주기적 변화)  \\n   - 지구 공전 궤도와 자전축의 변화(밀란코비치 이론)  \\n   - 대규모 화산활동으로 인한 성층권 에어로졸 증가 등이 포함됨', score=1.0),\n",
      "                FactCheckResult(sentence='2. **인위적 원인**  \\n   - 산업혁명 이후 인간 활동에 의한 온실가스(이산화탄소, 메탄, 아산화질소 등) 농도 급증  \\n   - 토지 이용의 변화(산림 훼손, 경작지 확대 등)로 인한 간접적 온실가스 배출 및 지표면 변화', score=1.0),\n",
      "                FactCheckResult(sentence='3. **기후시스템 내 자연 변동성**  \\n   - 엘니뇨, 북극진동, 몬순 등 대기·해양 순환 변화도 기후변화에 영향을 줌', score=1.0),\n",
      "                FactCheckResult(sentence='4. **온실가스 농도 증가가 현재 기후변화의 주요 원인으로 평가받음**  \\n   - 온실가스 증가에 따른 지구 평균온도 상승 현상이 뚜렷하게 관측되고 있음', score=1.0),\n",
      "                FactCheckResult(sentence='즉, 기후변화는 자연적인 요인과 인간 활동에 의한 인위적인 요인이 복합적으로 작용하는 현상이며, 최근 급격한 온난화는 주로 인위적 온실가스 배출에 기인한다는 점이 특히 강조됩니다.', score=1.0)],\n",
      " 'query': '기후 변화의 주요 원인은 무엇인가요?',\n",
      " 'search_results': [{'content': '지구의 기후를 변화시키는 주요 원인으로 태양 에너지의 변화, 화산 폭발과 같은 '\n",
      "                                '자연적 원인과 인간활동으로 인한 온실가스와 에어로졸 등 대기 구성 성',\n",
      "                     'score': 0.8978479,\n",
      "                     'title': '[기후 칼럼] 기후변화의 원인은 무엇인가 - 시사오늘',\n",
      "                     'url': 'https://www.sisaon.co.kr/news/articleView.html?idxno=125515'},\n",
      "                    {'content': '- 지구 기후가 변하는 원인은 크게 자연적인 원인과 인위적인 원인으로 구분할 수 '\n",
      "                                '있다.\\n'\n",
      "                                '\\n'\n",
      "                                ' - 자연적인 원인으로는 태양 복사에너지 변화, 지구공전궤도 변화(밀란코비치 '\n",
      "                                '이론), 화산활동 또는 조산활동 등이 원인이 되며, 내부에서는 기후시스템의 자연 '\n",
      "                                '변동성으로 인한 엘니뇨, 북극진동, 몬순(장마) 등과 대기 및 해양 순환의 변화가 '\n",
      "                                '원인이 된다.\\n'\n",
      "                                '\\n'\n",
      "                                ' - 인위적인 원인으로는 이산화탄소 등 온실가스 농도 증가와 에어로졸 농도 변화 '\n",
      "                                '등이 있으며 삼림훼손이나 토지이용도 변화 등 환경 변화도 포함된다.\\n'\n",
      "                                '\\n'\n",
      "                                '자연적인 기후변화 원인\\n'\n",
      "                                '------------\\n'\n",
      "                                '\\n'\n",
      "                                '### 태양에너지 변화\\n'\n",
      "                                '\\n'\n",
      "                                '- 태양에너지는 수백만 년 이상 장기적인 생애에 따른 에너지 변화뿐만 아니라 '\n",
      "                                '11년 주기의 흑점활동으로 인해 방출되는 에너지가 변한다.\\n'\n",
      "                                '\\n'\n",
      "                                ' - 지구에 도달하는 에너지가 감소하면 기온이 낮아지는데, 15-18세기에 걸쳐 '\n",
      "                                '나타난 소빙기는 태양 흑점활동이 적었던 시기와 관련이 있다. [...] 기후변화의 '\n",
      "                                '원인 - 기후변화감시용어집 해설\\n'\n",
      "                                '\\n'\n",
      "                                '===============\\n'\n",
      "                                '\\n'\n",
      "                                '기후변화의 원인\\n'\n",
      "                                '========\\n'\n",
      "                                '\\n'\n",
      "                                '기후변화감시용어집 해설\\n'\n",
      "                                '\\n'\n",
      "                                '둘러보기로 가기검색하러 가기\\n'\n",
      "                                '\\n'\n",
      "                                '- [x] \\n'\n",
      "                                '\\n'\n",
      "                                '목차\\n'\n",
      "                                '--\\n'\n",
      "                                '\\n'\n",
      "                                '   1 기후변화의 원인\\n'\n",
      "                                '       1.1 기후변화 원인\\n'\n",
      "                                '       1.2 자연적인 기후변화 원인\\n'\n",
      "                                '           1.2.1 태양에너지 변화\\n'\n",
      "                                '           1.2.2 지구공전궤도 및 자전축의 변화\\n'\n",
      "                                '           1.2.3 화산활동\\n'\n",
      "                                '\\n'\n",
      "                                '       1.3 인위적인 기후변화 원인\\n'\n",
      "                                '           1.3.1 온실가스 농도 증가\\n'\n",
      "                                '           1.3.2 토지 이용 변화\\n'\n",
      "                                '\\n'\n",
      "                                '기후변화의 원인\\n'\n",
      "                                '========\\n'\n",
      "                                '\\n'\n",
      "                                '긴 기간의 기후를 변하게 하는 원인은 무엇일까?\\n'\n",
      "                                '\\n'\n",
      "                                ' 대규모 화산활동, 긴 주기의 태양활동의 변화 등 자연적인 원인뿐만 아니라 '\n",
      "                                '산업혁명 이후 온실가스 배출이 많아 지면서 생기는 인위적인 원인 등이 있다.\\n'\n",
      "                                '\\n'\n",
      "                                '기후변화 원인\\n'\n",
      "                                '------- [...] - IPCC에서 발표한 5차 평가보고서에 따르면, 인간은 '\n",
      "                                '기후 시스템에 명백한 영향을 미치고 있으며, 최근 배출된 온실가스의 양은 관측 '\n",
      "                                '이래 최고 수준이다. 18세기 산업혁명 이후 인류에 의해 막대한 양의 온실가스, '\n",
      "                                '에어로졸 등이 배출되었고, 경작을 위해 산림이 훼손되는 등 토지이용에도 많은 '\n",
      "                                '변화가 있었다.\\n'\n",
      "                                '\\n'\n",
      "                                '### 온실가스 농도 증가\\n'\n",
      "                                '\\n'\n",
      "                                '- 대기 중 이산화탄소 농도가 높아질수록 전지구 평균기온이 높아진다. 이산화탄소, '\n",
      "                                '메탄, 아산화질소의 인위적 온실가스 배출이 온난화의 주원인일 가능성이 높으며, '\n",
      "                                '특히 이산화탄소의 배출량이 전체 온실가스 배출량의 많은 부분을 차지한다. '\n",
      "                                '이산화탄소 배출의 증가는 전세계 경제 성장과 인구 증가에 의한 것이나, 최근에는 '\n",
      "                                '대부분 경제 성장에 의한 것으로 보인다.\\n'\n",
      "                                '\\n'\n",
      "                                'Image 4\\n'\n",
      "                                '\\n'\n",
      "                                '<1901∼2000년 대비 전지구 기온 편차>\\n'\n",
      "                                '\\n'\n",
      "                                '[출처: NOAA]\\n'\n",
      "                                '\\n'\n",
      "                                'Image 5\\n'\n",
      "                                '\\n'\n",
      "                                '<전지구 이산화탄소 농도 변화>\\n'\n",
      "                                '\\n'\n",
      "                                '[출처: WMO]\\n'\n",
      "                                '\\n'\n",
      "                                '### 토지 이용 변화',\n",
      "                     'raw_content': '기후변화의 원인 - 기후변화감시용어집 해설\\n'\n",
      "                                    '\\n'\n",
      "                                    '===============\\n'\n",
      "                                    '\\n'\n",
      "                                    '기후변화의 원인\\n'\n",
      "                                    '========\\n'\n",
      "                                    '\\n'\n",
      "                                    '기후변화감시용어집 해설\\n'\n",
      "                                    '\\n'\n",
      "                                    '[둘러보기로 '\n",
      "                                    '가기](http://www.climate.go.kr/home/10_wiki/index.php/%EA%B8%B0%ED%9B%84%EB%B3%80%ED%99%94%EC%9D%98_%EC%9B%90%EC%9D%B8#mw-head)[검색하러 '\n",
      "                                    '가기](http://www.climate.go.kr/home/10_wiki/index.php/%EA%B8%B0%ED%9B%84%EB%B3%80%ED%99%94%EC%9D%98_%EC%9B%90%EC%9D%B8#searchInput)\\n'\n",
      "                                    '\\n'\n",
      "                                    '- [x] \\n'\n",
      "                                    '\\n'\n",
      "                                    '목차\\n'\n",
      "                                    '--\\n'\n",
      "                                    '\\n'\n",
      "                                    '*   [1 기후변화의 '\n",
      "                                    '원인](http://www.climate.go.kr/home/10_wiki/index.php/%EA%B8%B0%ED%9B%84%EB%B3%80%ED%99%94%EC%9D%98_%EC%9B%90%EC%9D%B8#.EA.B8.B0.ED.9B.84.EB.B3.80.ED.99.94.EC.9D.98_.EC.9B.90.EC.9D.B8)\\n'\n",
      "                                    '    *   [1.1 기후변화 '\n",
      "                                    '원인](http://www.climate.go.kr/home/10_wiki/index.php/%EA%B8%B0%ED%9B%84%EB%B3%80%ED%99%94%EC%9D%98_%EC%9B%90%EC%9D%B8#.EA.B8.B0.ED.9B.84.EB.B3.80.ED.99.94_.EC.9B.90.EC.9D.B8)\\n'\n",
      "                                    '    *   [1.2 자연적인 기후변화 '\n",
      "                                    '원인](http://www.climate.go.kr/home/10_wiki/index.php/%EA%B8%B0%ED%9B%84%EB%B3%80%ED%99%94%EC%9D%98_%EC%9B%90%EC%9D%B8#.EC.9E.90.EC.97.B0.EC.A0.81.EC.9D.B8_.EA.B8.B0.ED.9B.84.EB.B3.80.ED.99.94_.EC.9B.90.EC.9D.B8)\\n'\n",
      "                                    '        *   [1.2.1 태양에너지 '\n",
      "                                    '변화](http://www.climate.go.kr/home/10_wiki/index.php/%EA%B8%B0%ED%9B%84%EB%B3%80%ED%99%94%EC%9D%98_%EC%9B%90%EC%9D%B8#.ED.83.9C.EC.96.91.EC.97.90.EB.84.88.EC.A7.80_.EB.B3.80.ED.99.94)\\n'\n",
      "                                    '        *   [1.2.2 지구공전궤도 및 자전축의 '\n",
      "                                    '변화](http://www.climate.go.kr/home/10_wiki/index.php/%EA%B8%B0%ED%9B%84%EB%B3%80%ED%99%94%EC%9D%98_%EC%9B%90%EC%9D%B8#.EC.A7.80.EA.B5.AC.EA.B3.B5.EC.A0.84.EA.B6.A4.EB.8F.84_.EB.B0.8F_.EC.9E.90.EC.A0.84.EC.B6.95.EC.9D.98_.EB.B3.80.ED.99.94)\\n'\n",
      "                                    '        *   [1.2.3 '\n",
      "                                    '화산활동](http://www.climate.go.kr/home/10_wiki/index.php/%EA%B8%B0%ED%9B%84%EB%B3%80%ED%99%94%EC%9D%98_%EC%9B%90%EC%9D%B8#.ED.99.94.EC.82.B0.ED.99.9C.EB.8F.99)\\n'\n",
      "                                    '\\n'\n",
      "                                    '    *   [1.3 인위적인 기후변화 '\n",
      "                                    '원인](http://www.climate.go.kr/home/10_wiki/index.php/%EA%B8%B0%ED%9B%84%EB%B3%80%ED%99%94%EC%9D%98_%EC%9B%90%EC%9D%B8#.EC.9D.B8.EC.9C.84.EC.A0.81.EC.9D.B8_.EA.B8.B0.ED.9B.84.EB.B3.80.ED.99.94_.EC.9B.90.EC.9D.B8)\\n'\n",
      "                                    '        *   [1.3.1 온실가스 농도 '\n",
      "                                    '증가](http://www.climate.go.kr/home/10_wiki/index.php/%EA%B8%B0%ED%9B%84%EB%B3%80%ED%99%94%EC%9D%98_%EC%9B%90%EC%9D%B8#.EC.98.A8.EC.8B.A4.EA.B0.80.EC.8A.A4_.EB.86.8D.EB.8F.84_.EC.A6.9D.EA.B0.80)\\n'\n",
      "                                    '        *   [1.3.2 토지 이용 '\n",
      "                                    '변화](http://www.climate.go.kr/home/10_wiki/index.php/%EA%B8%B0%ED%9B%84%EB%B3%80%ED%99%94%EC%9D%98_%EC%9B%90%EC%9D%B8#.ED.86.A0.EC.A7.80_.EC.9D.B4.EC.9A.A9_.EB.B3.80.ED.99.94)\\n'\n",
      "                                    '\\n'\n",
      "                                    '기후변화의 원인\\n'\n",
      "                                    '========\\n'\n",
      "                                    '\\n'\n",
      "                                    '긴 기간의 기후를 변하게 하는 원인은 무엇일까?\\n'\n",
      "                                    '\\n'\n",
      "                                    ' 대규모 화산활동, 긴 주기의 태양활동의 변화 등 자연적인 원인뿐만 아니라 '\n",
      "                                    '산업혁명 이후 온실가스 배출이 많아 지면서 생기는 인위적인 원인 등이 '\n",
      "                                    '있다.\\n'\n",
      "                                    '\\n'\n",
      "                                    '기후변화 원인\\n'\n",
      "                                    '-------\\n'\n",
      "                                    '\\n'\n",
      "                                    '- 지구 기후가 변하는 원인은 크게 자연적인 원인과 인위적인 원인으로 '\n",
      "                                    '구분할 수 있다.\\n'\n",
      "                                    '\\n'\n",
      "                                    ' - 자연적인 원인으로는 태양 복사에너지 변화, 지구공전궤도 '\n",
      "                                    '변화(밀란코비치 이론), 화산활동 또는 조산활동 등이 원인이 되며, '\n",
      "                                    '내부에서는 기후시스템의 자연 변동성으로 인한 엘니뇨, 북극진동, '\n",
      "                                    '몬순(장마) 등과 대기 및 해양 순환의 변화가 원인이 된다.\\n'\n",
      "                                    '\\n'\n",
      "                                    ' - 인위적인 원인으로는 이산화탄소 등 온실가스 농도 증가와 에어로졸 농도 '\n",
      "                                    '변화 등이 있으며 삼림훼손이나 토지이용도 변화 등 환경 변화도 포함된다.\\n'\n",
      "                                    '\\n'\n",
      "                                    '자연적인 기후변화 원인\\n'\n",
      "                                    '------------\\n'\n",
      "                                    '\\n'\n",
      "                                    '### 태양에너지 변화\\n'\n",
      "                                    '\\n'\n",
      "                                    '- 태양에너지는 수백만 년 이상 장기적인 생애에 따른 에너지 변화뿐만 '\n",
      "                                    '아니라 11년 주기의 흑점활동으로 인해 방출되는 에너지가 변한다.\\n'\n",
      "                                    '\\n'\n",
      "                                    ' - 지구에 도달하는 에너지가 감소하면 기온이 낮아지는데, 15-18세기에 '\n",
      "                                    '걸쳐 나타난 소빙기는 태양 흑점활동이 적었던 시기와 관련이 있다.\\n'\n",
      "                                    '\\n'\n",
      "                                    ' - 이 시기를 흑점의 극소기라 하고, 기후와 태양 흑점과의 연관성을 '\n",
      "                                    '입증한 영국의 천문학자 이름을 따 ‘마운더 극소기(Maunder '\n",
      "                                    'Minimum)’라고 부른다.\\n'\n",
      "                                    '\\n'\n",
      "                                    ' - 태양의 복사에너지는 흑점이 많을 때 크고, 적을 때 작아진다.\\n'\n",
      "                                    '\\n'\n",
      "                                    '[![Image '\n",
      "                                    '1](http://www.climate.go.kr/home/10_wiki/images/f/fe/Cm-1-6.png)](http://www.climate.go.kr/home/10_wiki/index.php/%ED%8C%8C%EC%9D%BC:Cm-1-6.png '\n",
      "                                    '\"파일:Cm-1-6.png\")\\n'\n",
      "                                    '\\n'\n",
      "                                    '<400년간 태양 흑점수 변화>\\n'\n",
      "                                    '\\n'\n",
      "                                    '[출처: Robert A. Rohde, Global Warming Art '\n",
      "                                    'Project.]\\n'\n",
      "                                    '\\n'\n",
      "                                    '### 지구공전궤도 및 자전축의 변화\\n'\n",
      "                                    '\\n'\n",
      "                                    '- 지구공전궤도의 변화는 세르비아의 과학자 밀루틴 '\n",
      "                                    '밀란코비치(1879~1958)가 지구 기후변화를 설명하기 위해 최초로 '\n",
      "                                    '제안했다. 지구가 자전과 공전을 함에 따라 지구 공전 궤도 이심률(E)과 '\n",
      "                                    '자전축 경사(T)의 변화, 세차운동(P)에 따라 지구와 태양 사이의 거리가 '\n",
      "                                    '달라지며, 도달하는 태양에너지 양도 달라지는데 이러한 태양에너지 변화가 '\n",
      "                                    '지구 기후에 영향을 미친다는 이론이다. \\n'\n",
      "                                    '\\n'\n",
      "                                    ' - 지구공전궤도의 변화 중 이심률은 대략 10만년, 41만년, 자전축 '\n",
      "                                    '경사는 4만년, 세차운동 2만6천년 주기를 가지고 변하는데, 이에 따른 '\n",
      "                                    '태양에너지 변화와 고기후 연구로 구한 지난 백만년 동안 빙하시대의 '\n",
      "                                    '기후변화가 밀접한 관계를 보이는 것이 밝혀졌다.\\n'\n",
      "                                    '\\n'\n",
      "                                    '[![Image '\n",
      "                                    '2](http://www.climate.go.kr/home/10_wiki/images/a/ab/Cm-1-7.png)](http://www.climate.go.kr/home/10_wiki/index.php/%ED%8C%8C%EC%9D%BC:Cm-1-7.png '\n",
      "                                    '\"파일:Cm-1-7.png\")\\n'\n",
      "                                    '\\n'\n",
      "                                    '<빙하기 순환을 주도하는 지구궤도의 변화\\n'\n",
      "                                    '\\n'\n",
      "                                    '[![Image '\n",
      "                                    '3](http://www.climate.go.kr/home/10_wiki/images/8/87/Cm-1-8.png)](http://www.climate.go.kr/home/10_wiki/index.php/%ED%8C%8C%EC%9D%BC:Cm-1-8.png '\n",
      "                                    '\"파일:Cm-1-8.png\")\\n'\n",
      "                                    '\\n'\n",
      "                                    '<남극 빙하코아의 80만년간 평균기온과 이산화탄소 농도 변화>\\n'\n",
      "                                    '\\n'\n",
      "                                    '[출처: By Fabrice.Lambert, '\n",
      "                                    '[https://commons.wikimedia.org](https://commons.wikimedia.org/)]\\n'\n",
      "                                    '\\n'\n",
      "                                    '### 화산활동\\n'\n",
      "                                    '\\n'\n",
      "                                    '- 화산활동으로 많은 양의 화산재가 방출되면 일부는 성층권에 도달하게 되어 '\n",
      "                                    '수년간 머무르면서 태양복사를 반사하여 지표에 도달하는 태양에너지가 감소하여 '\n",
      "                                    '냉각화되는 현상이 나타난다.\\n'\n",
      "                                    '\\n'\n",
      "                                    ' - 1991년에 폭발한 필리핀의 피나투보 화산은 2천만 톤의 이산화황이 '\n",
      "                                    '분출되어 성층권을 통해 전지구를 순환하면서 1~3년 동안 지구 평균 기온을 '\n",
      "                                    '0.2~0.5℃ 냉각시켰다.\\n'\n",
      "                                    '\\n'\n",
      "                                    '인위적인 기후변화 원인\\n'\n",
      "                                    '------------\\n'\n",
      "                                    '\\n'\n",
      "                                    '- IPCC에서 발표한 5차 평가보고서에 따르면, 인간은 기후 시스템에 '\n",
      "                                    '명백한 영향을 미치고 있으며, 최근 배출된 온실가스의 양은 관측 이래 최고 '\n",
      "                                    '수준이다. 18세기 산업혁명 이후 인류에 의해 막대한 양의 온실가스, '\n",
      "                                    '에어로졸 등이 배출되었고, 경작을 위해 산림이 훼손되는 등 토지이용에도 '\n",
      "                                    '많은 변화가 있었다.\\n'\n",
      "                                    '\\n'\n",
      "                                    '### 온실가스 농도 증가\\n'\n",
      "                                    '\\n'\n",
      "                                    '- 대기 중 이산화탄소 농도가 높아질수록 전지구 평균기온이 높아진다. '\n",
      "                                    '이산화탄소, 메탄, 아산화질소의 인위적 온실가스 배출이 온난화의 주원인일 '\n",
      "                                    '가능성이 높으며, 특히 이산화탄소의 배출량이 전체 온실가스 배출량의 많은 '\n",
      "                                    '부분을 차지한다. 이산화탄소 배출의 증가는 전세계 경제 성장과 인구 증가에 '\n",
      "                                    '의한 것이나, 최근에는 대부분 경제 성장에 의한 것으로 보인다.\\n'\n",
      "                                    '\\n'\n",
      "                                    '[![Image '\n",
      "                                    '4](http://www.climate.go.kr/home/10_wiki/images/d/d3/Cm-1-9.png)](http://www.climate.go.kr/home/10_wiki/index.php/%ED%8C%8C%EC%9D%BC:Cm-1-9.png '\n",
      "                                    '\"파일:Cm-1-9.png\")\\n'\n",
      "                                    '\\n'\n",
      "                                    '<1901∼2000년 대비 전지구 기온 편차>\\n'\n",
      "                                    '\\n'\n",
      "                                    '[출처: NOAA]\\n'\n",
      "                                    '\\n'\n",
      "                                    '[![Image '\n",
      "                                    '5](http://www.climate.go.kr/home/10_wiki/images/2/2c/Cm-1-10.png)](http://www.climate.go.kr/home/10_wiki/index.php/%ED%8C%8C%EC%9D%BC:Cm-1-10.png '\n",
      "                                    '\"파일:Cm-1-10.png\")\\n'\n",
      "                                    '\\n'\n",
      "                                    '<전지구 이산화탄소 농도 변화>\\n'\n",
      "                                    '\\n'\n",
      "                                    '[출처: WMO]\\n'\n",
      "                                    '\\n'\n",
      "                                    '### 토지 이용 변화\\n'\n",
      "                                    '\\n'\n",
      "                                    '- 토지는 생물다양성 뿐만 아니라 식량공급, 담수와 기타 다양한 생태계 '\n",
      "                                    '서비스 등 인간의 생태와 복지의 근간을 제공한다. 토지는 온실가스 배출원인 '\n",
      "                                    '동시에 흡수원이며 지표면과 대기 간 에너지, 물, 에어로졸의 교환에 중요한 '\n",
      "                                    '역할을 한다.\\n'\n",
      "                                    '\\n'\n",
      "                                    ' - 지구상 부동지역(ice-free land) 중 1/4 정도가 인간에 '\n",
      "                                    '의해 황폐화 되었고, 기후변화로 인해 저지대 해안지역, 하천의 삼각주, '\n",
      "                                    '영구동토 지역에서 특히 심하다.\\n'\n",
      "                                    '\\n'\n",
      "                                    ' - 지난 50년(1959∼2018년) 동안 전체 배출량의 82%는 '\n",
      "                                    '화석연료 CO2 배출량에 의한 것이며, 18%는 토지이용 변화에 의해 '\n",
      "                                    '배출된 것으로 추정된다.\\n'\n",
      "                                    '\\n'\n",
      "                                    '페이지 링크\\n'\n",
      "                                    '\\n'\n",
      "                                    '이전 페이지 현재 페이지 다음 페이지\\n'\n",
      "                                    '\\n'\n",
      "                                    '← [기후와 기후변화 '\n",
      "                                    '정의](http://www.climate.go.kr/home/10_wiki/index.php/%EA%B8%B0%ED%9B%84%EC%99%80_%EA%B8%B0%ED%9B%84%EB%B3%80%ED%99%94_%EC%A0%95%EC%9D%98 '\n",
      "                                    '\"기후와 기후변화 정의\")기후변화의 '\n",
      "                                    '원인[기후시스템](http://www.climate.go.kr/home/10_wiki/index.php/%EA%B8%B0%ED%9B%84%EC%8B%9C%EC%8A%A4%ED%85%9C '\n",
      "                                    '\"기후시스템\") →\\n'\n",
      "                                    '\\n'\n",
      "                                    '원본 주소 '\n",
      "                                    '\"[http://172.29.84.13/home/10_wiki/index.php?title=기후변화의_원인&oldid=479](http://172.29.84.13/home/10_wiki/index.php?title=%EA%B8%B0%ED%9B%84%EB%B3%80%ED%99%94%EC%9D%98_%EC%9B%90%EC%9D%B8&oldid=479)\"\\n'\n",
      "                                    '\\n'\n",
      "                                    '둘러보기 메뉴\\n'\n",
      "                                    '-------\\n'\n",
      "                                    '\\n'\n",
      "                                    '### 개인 도구\\n'\n",
      "                                    '\\n'\n",
      "                                    '### 이름공간\\n'\n",
      "                                    '\\n'\n",
      "                                    '*   '\n",
      "                                    '[문서](http://www.climate.go.kr/home/10_wiki/index.php/%EA%B8%B0%ED%9B%84%EB%B3%80%ED%99%94%EC%9D%98_%EC%9B%90%EC%9D%B8 '\n",
      "                                    '\"본문 보기 [c]\")\\n'\n",
      "                                    '*   '\n",
      "                                    '[토론](http://www.climate.go.kr/home/10_wiki/index.php?title=%ED%86%A0%EB%A1%A0:%EA%B8%B0%ED%9B%84%EB%B3%80%ED%99%94%EC%9D%98_%EC%9B%90%EC%9D%B8&action=edit&redlink=1 '\n",
      "                                    '\"문서의 내용에 대한 토론 문서 (없는 문서) [t]\")\\n'\n",
      "                                    '\\n'\n",
      "                                    '- [x] \\n'\n",
      "                                    '### 변수\\n'\n",
      "                                    '\\n'\n",
      "                                    '### 보기\\n'\n",
      "                                    '\\n'\n",
      "                                    '*   '\n",
      "                                    '[읽기](http://www.climate.go.kr/home/10_wiki/index.php/%EA%B8%B0%ED%9B%84%EB%B3%80%ED%99%94%EC%9D%98_%EC%9B%90%EC%9D%B8)\\n'\n",
      "                                    '*   [원본 '\n",
      "                                    '보기](http://www.climate.go.kr/home/10_wiki/index.php?title=%EA%B8%B0%ED%9B%84%EB%B3%80%ED%99%94%EC%9D%98_%EC%9B%90%EC%9D%B8&action=edit '\n",
      "                                    '\"이 문서가 보호되어 있습니다.\\n'\n",
      "                                    '문서의 원본을 볼 수 있습니다. [e]\")\\n'\n",
      "                                    '*   [역사 '\n",
      "                                    '보기](http://www.climate.go.kr/home/10_wiki/index.php?title=%EA%B8%B0%ED%9B%84%EB%B3%80%ED%99%94%EC%9D%98_%EC%9B%90%EC%9D%B8&action=history '\n",
      "                                    '\"문서의 과거 판 [h]\")\\n'\n",
      "                                    '\\n'\n",
      "                                    '- [x] \\n'\n",
      "                                    '### 더 보기\\n'\n",
      "                                    '\\n'\n",
      "                                    '### 검색\\n'\n",
      "                                    '\\n'\n",
      "                                    '[](http://www.climate.go.kr/home/10_wiki/index.php/%EB%AA%A9%EC%B0%A8 '\n",
      "                                    '\"대문으로 가기\")\\n'\n",
      "                                    '\\n'\n",
      "                                    '### 기후변화과학 용어 설명집\\n'\n",
      "                                    '\\n'\n",
      "                                    '### 1.기후와 기후변화의 이해\\n'\n",
      "                                    '\\n'\n",
      "                                    '*   [1.1 기후와 기후변화 '\n",
      "                                    '정의](http://www.climate.go.kr/home/10_wiki/index.php/%EA%B8%B0%ED%9B%84%EC%99%80_%EA%B8%B0%ED%9B%84%EB%B3%80%ED%99%94_%EC%A0%95%EC%9D%98)\\n'\n",
      "                                    '*   [1.2 기후변화의 '\n",
      "                                    '원인](http://www.climate.go.kr/home/10_wiki/index.php/%EA%B8%B0%ED%9B%84%EB%B3%80%ED%99%94%EC%9D%98_%EC%9B%90%EC%9D%B8)\\n'\n",
      "                                    '*   [1.3 '\n",
      "                                    '기후시스템](http://www.climate.go.kr/home/10_wiki/index.php/%EA%B8%B0%ED%9B%84%EC%8B%9C%EC%8A%A4%ED%85%9C)\\n'\n",
      "                                    '\\n'\n",
      "                                    '### 2.대기권의 기후변화\\n'\n",
      "                                    '\\n'\n",
      "                                    '*   [2.1 '\n",
      "                                    '지구대기감시](http://www.climate.go.kr/home/10_wiki/index.php/%EC%A7%80%EA%B5%AC%EB%8C%80%EA%B8%B0%EA%B0%90%EC%8B%9C)\\n'\n",
      "                                    '*   [2.2 '\n",
      "                                    '온실가스](http://www.climate.go.kr/home/10_wiki/index.php/%EC%98%A8%EC%8B%A4%EA%B0%80%EC%8A%A4)\\n'\n",
      "                                    '*   [2.3 '\n",
      "                                    '반응가스](http://www.climate.go.kr/home/10_wiki/index.php/%EB%B0%98%EC%9D%91%EA%B0%80%EC%8A%A4)\\n'\n",
      "                                    '*   [2.4 '\n",
      "                                    '에어로졸](http://www.climate.go.kr/home/10_wiki/index.php/%EC%97%90%EC%96%B4%EB%A1%9C%EC%A1%B8)\\n'\n",
      "                                    '*   [2.5 '\n",
      "                                    '강수화학](http://www.climate.go.kr/home/10_wiki/index.php/%EA%B0%95%EC%88%98%ED%99%94%ED%95%99)\\n'\n",
      "                                    '*   [2.6 '\n",
      "                                    '대기복사](http://www.climate.go.kr/home/10_wiki/index.php/%EB%8C%80%EA%B8%B0%EB%B3%B5%EC%82%AC)\\n'\n",
      "                                    '*   [2.7 '\n",
      "                                    '자외선](http://www.climate.go.kr/home/10_wiki/index.php/%EC%9E%90%EC%99%B8%EC%84%A0)\\n'\n",
      "                                    '*   [2.8 성층권 '\n",
      "                                    '오존](http://www.climate.go.kr/home/10_wiki/index.php/%EC%84%B1%EC%B8%B5%EA%B6%8C_%EC%98%A4%EC%A1%B4)\\n'\n",
      "                                    '\\n'\n",
      "                                    '### 3.해양권의 기후변화\\n'\n",
      "                                    '\\n'\n",
      "                                    '*   [3.1 해양의 '\n",
      "                                    '기후변화](http://www.climate.go.kr/home/10_wiki/index.php/%ED%95%B4%EC%96%91%EC%9D%98_%EA%B8%B0%ED%9B%84%EB%B3%80%ED%99%94)\\n'\n",
      "                                    '*   [3.2 수온 '\n",
      "                                    '상승](http://www.climate.go.kr/home/10_wiki/index.php/%EC%88%98%EC%98%A8_%EC%83%81%EC%8A%B9)\\n'\n",
      "                                    '*   [3.3 해수면 '\n",
      "                                    '높이](http://www.climate.go.kr/home/10_wiki/index.php/%ED%95%B4%EC%88%98%EB%A9%B4_%EB%86%92%EC%9D%B4)\\n'\n",
      "                                    '*   [3.4 '\n",
      "                                    '해양산성화](http://www.climate.go.kr/home/10_wiki/index.php/%ED%95%B4%EC%96%91%EC%82%B0%EC%84%B1%ED%99%94)\\n'\n",
      "                                    '*   [3.5 해양 '\n",
      "                                    '염분](http://www.climate.go.kr/home/10_wiki/index.php/%ED%95%B4%EC%96%91_%EC%97%BC%EB%B6%84)\\n'\n",
      "                                    '\\n'\n",
      "                                    '### 4.빙권/지권의 기후변화\\n'\n",
      "                                    '\\n'\n",
      "                                    '*   [4.1 빙권의 '\n",
      "                                    '기후변화](http://www.climate.go.kr/home/10_wiki/index.php/%EB%B9%99%EA%B6%8C%EC%9D%98_%EA%B8%B0%ED%9B%84%EB%B3%80%ED%99%94)\\n'\n",
      "                                    '*   [4.2 지권의 '\n",
      "                                    '기후변화](http://www.climate.go.kr/home/10_wiki/index.php/%EC%A7%80%EA%B6%8C%EC%9D%98_%EA%B8%B0%ED%9B%84%EB%B3%80%ED%99%94)\\n'\n",
      "                                    '\\n'\n",
      "                                    '### 5.기후 전망\\n'\n",
      "                                    '\\n'\n",
      "                                    '*   [5.1 '\n",
      "                                    '장기예보](http://www.climate.go.kr/home/10_wiki/index.php/%EC%9E%A5%EA%B8%B0%EC%98%88%EB%B3%B4)\\n'\n",
      "                                    '*   [5.2 '\n",
      "                                    '기후감시](http://www.climate.go.kr/home/10_wiki/index.php/%EA%B8%B0%ED%9B%84%EA%B0%90%EC%8B%9C)\\n'\n",
      "                                    '\\n'\n",
      "                                    '### 6.기후변화 전망\\n'\n",
      "                                    '\\n'\n",
      "                                    '*   [6.1 기후변화 '\n",
      "                                    '시나리오란](http://www.climate.go.kr/home/10_wiki/index.php/%EA%B8%B0%ED%9B%84%EB%B3%80%ED%99%94_%EC%8B%9C%EB%82%98%EB%A6%AC%EC%98%A4%EB%9E%80)\\n'\n",
      "                                    '*   [6.2 전지구 및 한반도 기후변화 '\n",
      "                                    '전망](http://www.climate.go.kr/home/10_wiki/index.php/%EC%A0%84%EC%A7%80%EA%B5%AC_%EB%B0%8F_%ED%95%9C%EB%B0%98%EB%8F%84_%EA%B8%B0%ED%9B%84%EB%B3%80%ED%99%94_%EC%A0%84%EB%A7%9D)\\n'\n",
      "                                    '\\n'\n",
      "                                    '### 7.기후변화 영향\\n'\n",
      "                                    '\\n'\n",
      "                                    '*   [7.1 기후변화 '\n",
      "                                    '영향](http://www.climate.go.kr/home/10_wiki/index.php/%EA%B8%B0%ED%9B%84%EB%B3%80%ED%99%94_%EC%98%81%ED%96%A5)\\n'\n",
      "                                    '*   [7.2 기후변화 '\n",
      "                                    '응용정보](http://www.climate.go.kr/home/10_wiki/index.php/%EA%B8%B0%ED%9B%84%EB%B3%80%ED%99%94_%EC%9D%91%EC%9A%A9%EC%A0%95%EB%B3%B4)\\n'\n",
      "                                    '\\n'\n",
      "                                    '### 도구\\n'\n",
      "                                    '\\n'\n",
      "                                    '*   [여기를 가리키는 '\n",
      "                                    '문서](http://www.climate.go.kr/home/10_wiki/index.php/%ED%8A%B9%EC%88%98:%EA%B0%80%EB%A6%AC%ED%82%A4%EB%8A%94%EB%AC%B8%EC%84%9C/%EA%B8%B0%ED%9B%84%EB%B3%80%ED%99%94%EC%9D%98_%EC%9B%90%EC%9D%B8 '\n",
      "                                    '\"여기를 가리키는 모든 위키 문서의 목록 [j]\")\\n'\n",
      "                                    '*   [가리키는 글의 최근 '\n",
      "                                    '바뀜](http://www.climate.go.kr/home/10_wiki/index.php/%ED%8A%B9%EC%88%98:%EB%A7%81%ED%81%AC%EC%B5%9C%EA%B7%BC%EB%B0%94%EB%80%9C/%EA%B8%B0%ED%9B%84%EB%B3%80%ED%99%94%EC%9D%98_%EC%9B%90%EC%9D%B8 '\n",
      "                                    '\"이 문서에서 링크한 문서의 최근 바뀜 [k]\")\\n'\n",
      "                                    '*   [특수 문서 '\n",
      "                                    '목록](http://www.climate.go.kr/home/10_wiki/index.php/%ED%8A%B9%EC%88%98:%ED%8A%B9%EC%88%98%EB%AC%B8%EC%84%9C '\n",
      "                                    '\"모든 특수 문서의 목록 [q]\")\\n'\n",
      "                                    '*   [인쇄용 판](javascript:print(); \"이 문서의 '\n",
      "                                    '인쇄용 판 [p]\")\\n'\n",
      "                                    '*   [고유 '\n",
      "                                    '링크](http://www.climate.go.kr/home/10_wiki/index.php?title=%EA%B8%B0%ED%9B%84%EB%B3%80%ED%99%94%EC%9D%98_%EC%9B%90%EC%9D%B8&oldid=479 '\n",
      "                                    '\"문서의 이 판에 대한 고유링크\")\\n'\n",
      "                                    '*   [문서 '\n",
      "                                    '정보](http://www.climate.go.kr/home/10_wiki/index.php?title=%EA%B8%B0%ED%9B%84%EB%B3%80%ED%99%94%EC%9D%98_%EC%9B%90%EC%9D%B8&action=info '\n",
      "                                    '\"이 문서에 대한 자세한 정보\")\\n'\n",
      "                                    '\\n'\n",
      "                                    '*    이 문서는 2020년 12월 16일 (수) 11:38에 마지막으로 '\n",
      "                                    '편집되었습니다.\\n'\n",
      "                                    '\\n'\n",
      "                                    '*   '\n",
      "                                    '[개인정보처리방침](http://www.climate.go.kr/home/10_wiki/index.php/%EA%B8%B0%ED%9B%84%EB%B3%80%ED%99%94%EA%B0%90%EC%8B%9C%EC%9A%A9%EC%96%B4%EC%A7%91_%ED%95%B4%EC%84%A4:%EA%B0%9C%EC%9D%B8%EC%A0%95%EB%B3%B4%EC%B2%98%EB%A6%AC%EB%B0%A9%EC%B9%A8 '\n",
      "                                    '\"기후변화감시용어집 해설:개인정보처리방침\")\\n'\n",
      "                                    '*   [기후변화감시용어집 해설 '\n",
      "                                    '소개](http://www.climate.go.kr/home/10_wiki/index.php/%EA%B8%B0%ED%9B%84%EB%B3%80%ED%99%94%EA%B0%90%EC%8B%9C%EC%9A%A9%EC%96%B4%EC%A7%91_%ED%95%B4%EC%84%A4:%EC%86%8C%EA%B0%9C '\n",
      "                                    '\"기후변화감시용어집 해설:소개\")\\n'\n",
      "                                    '*   [면책 '\n",
      "                                    '조항](http://www.climate.go.kr/home/10_wiki/index.php/%EA%B8%B0%ED%9B%84%EB%B3%80%ED%99%94%EA%B0%90%EC%8B%9C%EC%9A%A9%EC%96%B4%EC%A7%91_%ED%95%B4%EC%84%A4:%EB%A9%B4%EC%B1%85_%EC%A1%B0%ED%95%AD '\n",
      "                                    '\"기후변화감시용어집 해설:면책 조항\")\\n'\n",
      "                                    '\\n'\n",
      "                                    '*   [![Image 6: Powered by '\n",
      "                                    'MediaWiki](http://www.climate.go.kr/home/10_wiki/resources/assets/poweredby_mediawiki_88x31.png)](https://www.mediawiki.org/)\\n',\n",
      "                     'score': 0.82186085,\n",
      "                     'title': '기후변화의 원인 - 기후변화감시용어집 해설 - 기후정보포털',\n",
      "                     'url': 'http://www.climate.go.kr/home/10_wiki/index.php/%EA%B8%B0%ED%9B%84%EB%B3%80%ED%99%94%EC%9D%98_%EC%9B%90%EC%9D%B8'},\n",
      "                    {'content': '이러한 기후변화는 화석 연료 연소로 인한 이산화탄소의 직접적인 배출로 인해 '\n",
      "                                '발생했다. 토지 이용 변화로 인한 간접적인 CO2 배출과 메탄, 아산화질소 및 '\n",
      "                                '기타 온실가스',\n",
      "                     'score': 0.71995544,\n",
      "                     'title': '기후 변화의 원인 - 위키백과',\n",
      "                     'url': 'https://ko.wikipedia.org/wiki/%EA%B8%B0%ED%9B%84_%EB%B3%80%ED%99%94%EC%9D%98_%EC%9B%90%EC%9D%B8'},\n",
      "                    {'content': '자연적인 요인으로는 화산 분화에 의한 성층권의 에어로졸 증가, 태양 활동의 변화, '\n",
      "                                '태양과 지구의 천문학적인 상대위치 변화 등이 있습니다.',\n",
      "                     'score': 0.7154444,\n",
      "                     'title': '기후변화, 이제는 막아야 할 때_1. 기후변화의 정의와 원인',\n",
      "                     'url': 'https://gscaltexmediahub.com/esg/esg-climate-change-definition-and-causes/'},\n",
      "                    {'content': '기후변화는 지속적으로 다량의 온실가스가 대기로 배출됨에 따라 지구 대기 중 '\n",
      "                                '온실가스 농도가 증가하여 지구의 지표온도가 과도하게 증가되어',\n",
      "                     'score': 0.7125728,\n",
      "                     'title': '기후변화원인 - 수원시 기후변화체험교육관',\n",
      "                     'url': 'https://swdodream.or.kr/?p=24'}],\n",
      " 'summary': '기후변화의 원인에 대한 핵심 요약은 다음과 같습니다:\\n'\n",
      "            '\\n'\n",
      "            '1. **자연적 원인**  \\n'\n",
      "            '   - 태양 에너지 변화(흑점활동 등 주기적 변화)  \\n'\n",
      "            '   - 지구 공전 궤도와 자전축의 변화(밀란코비치 이론)  \\n'\n",
      "            '   - 대규모 화산활동으로 인한 성층권 에어로졸 증가 등이 포함됨  \\n'\n",
      "            '\\n'\n",
      "            '2. **인위적 원인**  \\n'\n",
      "            '   - 산업혁명 이후 인간 활동에 의한 온실가스(이산화탄소, 메탄, 아산화질소 등) 농도 급증  \\n'\n",
      "            '   - 토지 이용의 변화(산림 훼손, 경작지 확대 등)로 인한 간접적 온실가스 배출 및 지표면 변화  \\n'\n",
      "            '\\n'\n",
      "            '3. **기후시스템 내 자연 변동성**  \\n'\n",
      "            '   - 엘니뇨, 북극진동, 몬순 등 대기·해양 순환 변화도 기후변화에 영향을 줌  \\n'\n",
      "            '\\n'\n",
      "            '4. **온실가스 농도 증가가 현재 기후변화의 주요 원인으로 평가받음**  \\n'\n",
      "            '   - 온실가스 증가에 따른 지구 평균온도 상승 현상이 뚜렷하게 관측되고 있음  \\n'\n",
      "            '\\n'\n",
      "            '즉, 기후변화는 자연적인 요인과 인간 활동에 의한 인위적인 요인이 복합적으로 작용하는 현상이며, 최근 급격한 온난화는 '\n",
      "            '주로 인위적 온실가스 배출에 기인한다는 점이 특히 강조됩니다.'}\n"
     ]
    }
   ],
   "source": [
    "pprint(result)"
   ]
  },
  {
   "cell_type": "code",
   "execution_count": null,
   "metadata": {},
   "outputs": [],
   "source": []
  }
 ],
 "metadata": {
  "kernelspec": {
   "display_name": ".venv",
   "language": "python",
   "name": "python3"
  },
  "language_info": {
   "codemirror_mode": {
    "name": "ipython",
    "version": 3
   },
   "file_extension": ".py",
   "mimetype": "text/x-python",
   "name": "python",
   "nbconvert_exporter": "python",
   "pygments_lexer": "ipython3",
   "version": "3.12.2"
  }
 },
 "nbformat": 4,
 "nbformat_minor": 2
}
