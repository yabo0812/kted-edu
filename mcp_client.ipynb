{
 "cells": [
  {
   "cell_type": "code",
   "execution_count": null,
   "id": "a5ea99cc",
   "metadata": {},
   "outputs": [],
   "source": [
    "from mcp import ClientSession, StdioServerParameters\n",
    "from mcp.client.stdio import stdio_client\n",
    "\n",
    "from langchain_mcp_adapters.tools import load_mcp_tools\n",
    "from langgraph.prebuilt import create_react_agent\n",
    "\n",
    "from dotenv import load_dotenv\n",
    "load_dotenv()\n",
    "\n",
    "server_params = StdioServerParameters(\n",
    "    command=\"python\",\n",
    "    # MCP 서버가 실행되는 경로를 지정\n",
    "    args=[\"/Users/wiggler/Edu/modulab/kt-ds/math_server.py\"],\n",
    ")\n",
    "\n",
    "async with stdio_client(server_params) as (read, write):\n",
    "    \"\"\"\n",
    "    MCP 클라이언트를 사용하여 서버와 통신\n",
    "    \"\"\"\n",
    "\n",
    "    # MCP 클라이언트 세션을 생성\n",
    "    async with ClientSession(read, write) as session:\n",
    "\n",
    "        # 세션 초기화\n",
    "        await session.initialize()\n",
    "\n",
    "        # 도구 가져오기\n",
    "        tools = await load_mcp_tools(session)\n",
    "\n",
    "        # 에이전트 생성 및 실행\n",
    "        agent = create_react_agent(\"openai:gpt-4.1-mini\", tools)\n",
    "        agent_response = await agent.ainvoke({\"messages\": \"(3 + 5) x 12 계산을 해줘\"})"
   ]
  },
  {
   "cell_type": "code",
   "execution_count": 3,
   "id": "64cd9681",
   "metadata": {},
   "outputs": [
    {
     "data": {
      "text/plain": [
       "{'messages': [HumanMessage(content='(3 + 5) x 12 계산을 해줘', additional_kwargs={}, response_metadata={}, id='38cba82b-07ed-4ea0-892e-8ba0b24e0a37'),\n",
       "  AIMessage(content='', additional_kwargs={'tool_calls': [{'id': 'call_lN5QYh8MLeAecniIhm77DtbO', 'function': {'arguments': '{\"a\": 3, \"b\": 5}', 'name': 'add'}, 'type': 'function'}, {'id': 'call_O7F3ubYgkWW5zL5g4zdzAkgb', 'function': {'arguments': '{\"a\": 8, \"b\": 12}', 'name': 'multiply'}, 'type': 'function'}], 'refusal': None}, response_metadata={'token_usage': {'completion_tokens': 50, 'prompt_tokens': 78, 'total_tokens': 128, 'completion_tokens_details': {'accepted_prediction_tokens': 0, 'audio_tokens': 0, 'reasoning_tokens': 0, 'rejected_prediction_tokens': 0}, 'prompt_tokens_details': {'audio_tokens': 0, 'cached_tokens': 0}}, 'model_name': 'gpt-4.1-mini-2025-04-14', 'system_fingerprint': 'fp_6f2eabb9a5', 'id': 'chatcmpl-BlyZKgCxSp6e7SVWOBTVVAkOG7dF8', 'service_tier': 'default', 'finish_reason': 'tool_calls', 'logprobs': None}, id='run--fe7db323-2682-4b35-9da4-08fca77d3ad9-0', tool_calls=[{'name': 'add', 'args': {'a': 3, 'b': 5}, 'id': 'call_lN5QYh8MLeAecniIhm77DtbO', 'type': 'tool_call'}, {'name': 'multiply', 'args': {'a': 8, 'b': 12}, 'id': 'call_O7F3ubYgkWW5zL5g4zdzAkgb', 'type': 'tool_call'}], usage_metadata={'input_tokens': 78, 'output_tokens': 50, 'total_tokens': 128, 'input_token_details': {'audio': 0, 'cache_read': 0}, 'output_token_details': {'audio': 0, 'reasoning': 0}}),\n",
       "  ToolMessage(content='8', name='add', id='9cffdc69-4db9-4134-965b-acfa7e4489a1', tool_call_id='call_lN5QYh8MLeAecniIhm77DtbO'),\n",
       "  ToolMessage(content='96', name='multiply', id='4177d436-7a1f-45cc-95ca-804b1a181827', tool_call_id='call_O7F3ubYgkWW5zL5g4zdzAkgb'),\n",
       "  AIMessage(content='(3 + 5) x 12 계산 결과는 96입니다.', additional_kwargs={'refusal': None}, response_metadata={'token_usage': {'completion_tokens': 17, 'prompt_tokens': 144, 'total_tokens': 161, 'completion_tokens_details': {'accepted_prediction_tokens': 0, 'audio_tokens': 0, 'reasoning_tokens': 0, 'rejected_prediction_tokens': 0}, 'prompt_tokens_details': {'audio_tokens': 0, 'cached_tokens': 0}}, 'model_name': 'gpt-4.1-mini-2025-04-14', 'system_fingerprint': 'fp_6f2eabb9a5', 'id': 'chatcmpl-BlyZM0Cnv0DcmgAkwpVaPT2pCgTs0', 'service_tier': 'default', 'finish_reason': 'stop', 'logprobs': None}, id='run--69ff0350-836b-4d2f-aeda-1e5641f9ec6c-0', usage_metadata={'input_tokens': 144, 'output_tokens': 17, 'total_tokens': 161, 'input_token_details': {'audio': 0, 'cache_read': 0}, 'output_token_details': {'audio': 0, 'reasoning': 0}})]}"
      ]
     },
     "execution_count": 3,
     "metadata": {},
     "output_type": "execute_result"
    }
   ],
   "source": [
    "agent_response"
   ]
  },
  {
   "cell_type": "code",
   "execution_count": null,
   "id": "11983eb4",
   "metadata": {},
   "outputs": [],
   "source": []
  }
 ],
 "metadata": {
  "kernelspec": {
   "display_name": ".venv",
   "language": "python",
   "name": "python3"
  },
  "language_info": {
   "codemirror_mode": {
    "name": "ipython",
    "version": 3
   },
   "file_extension": ".py",
   "mimetype": "text/x-python",
   "name": "python",
   "nbconvert_exporter": "python",
   "pygments_lexer": "ipython3",
   "version": "3.12.2"
  }
 },
 "nbformat": 4,
 "nbformat_minor": 5
}
