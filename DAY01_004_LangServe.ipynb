{
  "cells": [
    {
      "cell_type": "markdown",
      "id": "2217fa83",
      "metadata": {},
      "source": [
        "# LangServe\n",
        "\n",
        "- LangServe는 LangChain에서 제공하는 **서비스 배포 프레임워크**임.\n",
        "\n",
        "- LangChain 애플리케이션을 **REST API로 변환**하여 서비스화함.\n",
        "\n",
        "- **Runnable 객체**를 API로 배포하고 **스트리밍 응답**을 지원함.\n",
        "\n",
        "- **웹 기반 Playgroud**(API 테스트용)와 **클라이언트 SDK**를 제공함.\n"
      ]
    },
    {
      "cell_type": "markdown",
      "id": "8bfd9328",
      "metadata": {
        "id": "8bfd9328"
      },
      "source": [
        "---\n",
        "\n",
        "## 1. LangServe 설치하기\n",
        "\n",
        "- LangServe 설치(pip 사용):\n",
        "\n",
        "    ```bash\n",
        "    pip install \"langserve[all]\"\n",
        "    ```\n",
        "\n",
        "- LangServe 설치(uv 사용):\n",
        "\n",
        "    ```bash\n",
        "    uv add \"langserve[all]\"   \n",
        "    ```\n",
        "\n",
        "- langchain-cli 설치:\n",
        "\n",
        "    ```bash\n",
        "    uv add langchain-cli\n",
        "    ```"
      ]
    },
    {
      "cell_type": "markdown",
      "id": "34e33edf",
      "metadata": {},
      "source": [
        "`(1) LangServe 설치 확인`"
      ]
    },
    {
      "cell_type": "code",
      "execution_count": null,
      "id": "e350f2da",
      "metadata": {},
      "outputs": [],
      "source": [
        "import langserve\n",
        "langserve.__version__"
      ]
    },
    {
      "cell_type": "markdown",
      "id": "b630a2c6",
      "metadata": {},
      "source": [
        "`(2) 환경 변수 로드`"
      ]
    },
    {
      "cell_type": "code",
      "execution_count": null,
      "id": "15ac3ddb",
      "metadata": {
        "id": "15ac3ddb"
      },
      "outputs": [],
      "source": [
        "from dotenv import load_dotenv\n",
        "load_dotenv()\n",
        "\n",
        "# Langsmith tracing 여부를 확인 (true: langsmith 추척 활성화, false: langsmith 추척 비활성화)\n",
        "import os\n",
        "print(os.getenv('LANGSMITH_TRACING'))"
      ]
    },
    {
      "cell_type": "markdown",
      "id": "129b8eee",
      "metadata": {
        "id": "129b8eee"
      },
      "source": [
        "---\n",
        "## 2. 간단한 LangServe 서버 만들기  "
      ]
    },
    {
      "cell_type": "markdown",
      "id": "804efb36",
      "metadata": {},
      "source": [
        "`(1) 서버 파일 생성`\n",
        "- app 폴더에 별도 파일을 생성하여 LangServe 서버를 구현함. \n",
        "- server.py라는 이름으로 생성함.\n",
        "\n",
        "    ```python\n",
        "    # app/server.py\n",
        "    from fastapi import FastAPI\n",
        "    from langchain_openai import ChatOpenAI\n",
        "    from dotenv import load_dotenv\n",
        "\n",
        "    # 환경변수 로드\n",
        "    load_dotenv()\n",
        "\n",
        "    from langserve import add_routes\n",
        "\n",
        "    # FastAPI 서버를 설정\n",
        "    app = FastAPI(\n",
        "        title=\"LangChain Server\",\n",
        "        version=\"1.0\",\n",
        "        description=\"Spin up a simple api server using Langchain's Runnable interfaces\",\n",
        "    )\n",
        "\n",
        "    # 라우팅 설정\n",
        "    add_routes(\n",
        "        app,\n",
        "        ChatOpenAI(model=\"gpt-4.1-mini\"),\n",
        "        path=\"/openai\",   # OpenAI 모델에 대한 경로\n",
        "    )\n",
        "\n",
        "    if __name__ == \"__main__\":\n",
        "        import uvicorn\n",
        "\n",
        "        uvicorn.run(app, host=\"localhost\", port=8000)\n",
        "    ```    "
      ]
    },
    {
      "cell_type": "markdown",
      "id": "f3e2543b",
      "metadata": {},
      "source": [
        "`(2) 서버 실행하기`\n",
        "\n",
        "\n",
        "```bash\n",
        "uv run python app/server.py\n",
        "```\n",
        "\n",
        "![LangServe Screenshot](https://raw.githubusercontent.com/tsdata/image_files/main/202505/langserve_screenshot_0001.png)"
      ]
    },
    {
      "cell_type": "markdown",
      "id": "4504c27f",
      "metadata": {},
      "source": [
        "`(3) Playground에서 테스트`\n",
        "\n",
        "![LangServe Screenshot](https://raw.githubusercontent.com/tsdata/image_files/main/202505/langserve_screenshot_0002.png)"
      ]
    },
    {
      "cell_type": "markdown",
      "id": "bb122f53",
      "metadata": {},
      "source": [
        "`(4) LangSmith에서 트레이싱하기`\n",
        "\n",
        "![LangServe Screenshot](https://raw.githubusercontent.com/tsdata/image_files/main/202505/langserve_screenshot_0003.png)"
      ]
    },
    {
      "cell_type": "markdown",
      "id": "54a87f5e",
      "metadata": {},
      "source": [
        "---\n",
        "## 3. LangServe 클라이언트 사용  \n",
        "\n",
        "LangServe는 다음과 같은 API 엔드포인트를 자동으로 생성합니다:\n",
        "\n",
        "- `/openai/invoke`: 동기 호출\n",
        "- `/openai/stream`: 스트리밍 호출\n",
        "- `/openai/batch`: 배치 처리\n",
        "- `/openai/playground`: 웹 기반 UI 플레이그라운드"
      ]
    },
    {
      "cell_type": "markdown",
      "id": "ff1ebe03",
      "metadata": {},
      "source": [
        "`(1) API 호출하기`"
      ]
    },
    {
      "cell_type": "code",
      "execution_count": null,
      "id": "40d18e1b",
      "metadata": {},
      "outputs": [],
      "source": [
        "# - `/openai/invoke`: 동기 호출\n",
        "\n",
        "import requests\n",
        "\n",
        "url = \"http://localhost:8000/openai/invoke\"\n",
        "headers = {\n",
        "    \"Content-Type\": \"application/json\",\n",
        "}\n",
        "\n",
        "data = {\n",
        "    \"input\": \"파이썬이란 무엇인가요?\"\n",
        "}\n",
        "\n",
        "response = requests.post(url, headers=headers, json=data)\n",
        "print(response.status_code)\n",
        "print(response.json())"
      ]
    },
    {
      "cell_type": "markdown",
      "id": "f928d4ef",
      "metadata": {},
      "source": [
        "`(2) Python에서 클라이언트 SDK 사용하기`"
      ]
    },
    {
      "cell_type": "code",
      "execution_count": null,
      "id": "7fa09280",
      "metadata": {},
      "outputs": [],
      "source": [
        "from langserve.client import RemoteRunnable\n",
        "\n",
        "# 원격 실행 가능 객체를 생성\n",
        "chain = RemoteRunnable(\"http://localhost:8000/openai\")\n",
        "\n",
        "# API 호출\n",
        "response = chain.invoke(\"파이썬이란 무엇인가요?\")\n",
        "print(response)"
      ]
    }
  ],
  "metadata": {
    "colab": {
      "provenance": []
    },
    "kernelspec": {
      "display_name": ".venv",
      "language": "python",
      "name": "python3"
    },
    "language_info": {
      "codemirror_mode": {
        "name": "ipython",
        "version": 3
      },
      "file_extension": ".py",
      "mimetype": "text/x-python",
      "name": "python",
      "nbconvert_exporter": "python",
      "pygments_lexer": "ipython3",
      "version": "3.12.9"
    }
  },
  "nbformat": 4,
  "nbformat_minor": 5
}
